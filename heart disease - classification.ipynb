{
 "cells": [
  {
   "cell_type": "code",
   "execution_count": 777,
   "metadata": {},
   "outputs": [],
   "source": [
    "import numpy as np\n",
    "import pandas as pd\n",
    "import seaborn as sb\n",
    "import matplotlib.pyplot as plt\n",
    "from sklearn.model_selection import train_test_split"
   ]
  },
  {
   "cell_type": "code",
   "execution_count": 778,
   "metadata": {},
   "outputs": [
    {
     "data": {
      "text/html": [
       "<div>\n",
       "<style scoped>\n",
       "    .dataframe tbody tr th:only-of-type {\n",
       "        vertical-align: middle;\n",
       "    }\n",
       "\n",
       "    .dataframe tbody tr th {\n",
       "        vertical-align: top;\n",
       "    }\n",
       "\n",
       "    .dataframe thead th {\n",
       "        text-align: right;\n",
       "    }\n",
       "</style>\n",
       "<table border=\"1\" class=\"dataframe\">\n",
       "  <thead>\n",
       "    <tr style=\"text-align: right;\">\n",
       "      <th></th>\n",
       "      <th>age</th>\n",
       "      <th>sex</th>\n",
       "      <th>cp</th>\n",
       "      <th>trestbps</th>\n",
       "      <th>chol</th>\n",
       "      <th>fbs</th>\n",
       "      <th>restecg</th>\n",
       "      <th>thalach</th>\n",
       "      <th>exang</th>\n",
       "      <th>oldpeak</th>\n",
       "      <th>slope</th>\n",
       "      <th>ca</th>\n",
       "      <th>thal</th>\n",
       "      <th>target</th>\n",
       "    </tr>\n",
       "  </thead>\n",
       "  <tbody>\n",
       "    <tr>\n",
       "      <th>0</th>\n",
       "      <td>63</td>\n",
       "      <td>1</td>\n",
       "      <td>3</td>\n",
       "      <td>145</td>\n",
       "      <td>233</td>\n",
       "      <td>1</td>\n",
       "      <td>0</td>\n",
       "      <td>150</td>\n",
       "      <td>0</td>\n",
       "      <td>2.3</td>\n",
       "      <td>0</td>\n",
       "      <td>0</td>\n",
       "      <td>1</td>\n",
       "      <td>1</td>\n",
       "    </tr>\n",
       "    <tr>\n",
       "      <th>1</th>\n",
       "      <td>37</td>\n",
       "      <td>1</td>\n",
       "      <td>2</td>\n",
       "      <td>130</td>\n",
       "      <td>250</td>\n",
       "      <td>0</td>\n",
       "      <td>1</td>\n",
       "      <td>187</td>\n",
       "      <td>0</td>\n",
       "      <td>3.5</td>\n",
       "      <td>0</td>\n",
       "      <td>0</td>\n",
       "      <td>2</td>\n",
       "      <td>1</td>\n",
       "    </tr>\n",
       "    <tr>\n",
       "      <th>2</th>\n",
       "      <td>41</td>\n",
       "      <td>0</td>\n",
       "      <td>1</td>\n",
       "      <td>130</td>\n",
       "      <td>204</td>\n",
       "      <td>0</td>\n",
       "      <td>0</td>\n",
       "      <td>172</td>\n",
       "      <td>0</td>\n",
       "      <td>1.4</td>\n",
       "      <td>2</td>\n",
       "      <td>0</td>\n",
       "      <td>2</td>\n",
       "      <td>1</td>\n",
       "    </tr>\n",
       "    <tr>\n",
       "      <th>3</th>\n",
       "      <td>56</td>\n",
       "      <td>1</td>\n",
       "      <td>1</td>\n",
       "      <td>120</td>\n",
       "      <td>236</td>\n",
       "      <td>0</td>\n",
       "      <td>1</td>\n",
       "      <td>178</td>\n",
       "      <td>0</td>\n",
       "      <td>0.8</td>\n",
       "      <td>2</td>\n",
       "      <td>0</td>\n",
       "      <td>2</td>\n",
       "      <td>1</td>\n",
       "    </tr>\n",
       "    <tr>\n",
       "      <th>4</th>\n",
       "      <td>57</td>\n",
       "      <td>0</td>\n",
       "      <td>0</td>\n",
       "      <td>120</td>\n",
       "      <td>354</td>\n",
       "      <td>0</td>\n",
       "      <td>1</td>\n",
       "      <td>163</td>\n",
       "      <td>1</td>\n",
       "      <td>0.6</td>\n",
       "      <td>2</td>\n",
       "      <td>0</td>\n",
       "      <td>2</td>\n",
       "      <td>1</td>\n",
       "    </tr>\n",
       "  </tbody>\n",
       "</table>\n",
       "</div>"
      ],
      "text/plain": [
       "   age  sex  cp  trestbps  chol  fbs  restecg  thalach  exang  oldpeak  slope  \\\n",
       "0   63    1   3       145   233    1        0      150      0      2.3      0   \n",
       "1   37    1   2       130   250    0        1      187      0      3.5      0   \n",
       "2   41    0   1       130   204    0        0      172      0      1.4      2   \n",
       "3   56    1   1       120   236    0        1      178      0      0.8      2   \n",
       "4   57    0   0       120   354    0        1      163      1      0.6      2   \n",
       "\n",
       "   ca  thal  target  \n",
       "0   0     1       1  \n",
       "1   0     2       1  \n",
       "2   0     2       1  \n",
       "3   0     2       1  \n",
       "4   0     2       1  "
      ]
     },
     "execution_count": 778,
     "metadata": {},
     "output_type": "execute_result"
    }
   ],
   "source": [
    "data = pd.read_csv('heart.csv')\n",
    "df = pd.read_csv('heart.csv')\n",
    "data.head()"
   ]
  },
  {
   "cell_type": "markdown",
   "metadata": {},
   "source": [
    "# Data contains\n",
    "\n",
    "##### age - age in years\n",
    "##### sex - (1 = male; 0 = female)\n",
    "##### cp - chest pain type - (1 = typical angina, 2 = atypical angina, 3 = non-anginal pain, 4=asymptomatic)\n",
    "##### trestbps - resting blood pressure (in mm Hg on admission to the hospital)\n",
    "##### chol - serum cholestoral in mg/dl\n",
    "##### fbs - (fasting blood sugar > 120 mg/dl) (1 = true; 0 = false)\n",
    "##### restecg - resting electrocardiographic results - (0 = normal, 1 = ST-T wave abnormality, 2 = left ventricular hypertrophy)\n",
    "##### thalach - maximum heart rate achieved\n",
    "##### exang - exercise induced angina (1 = yes; 0 = no)\n",
    "##### oldpeak - ST depression induced by exercise relative to rest\n",
    "##### slope - the slope of the peak exercise ST segment - (1 = upsloping, 2 = flat, 3 = downsloping)\n",
    "##### ca - number of major vessels (0-3) colored by flourosopy\n",
    "##### thal - 1 = normal; 2 = fixed defect; 3 = reversable defect\n",
    "##### target - have disease or not (1=yes, 0=no)"
   ]
  },
  {
   "cell_type": "code",
   "execution_count": 779,
   "metadata": {},
   "outputs": [
    {
     "name": "stdout",
     "output_type": "stream",
     "text": [
      "<class 'pandas.core.frame.DataFrame'>\n",
      "RangeIndex: 303 entries, 0 to 302\n",
      "Data columns (total 14 columns):\n",
      " #   Column    Non-Null Count  Dtype  \n",
      "---  ------    --------------  -----  \n",
      " 0   age       303 non-null    int64  \n",
      " 1   sex       303 non-null    int64  \n",
      " 2   cp        303 non-null    int64  \n",
      " 3   trestbps  303 non-null    int64  \n",
      " 4   chol      303 non-null    int64  \n",
      " 5   fbs       303 non-null    int64  \n",
      " 6   restecg   303 non-null    int64  \n",
      " 7   thalach   303 non-null    int64  \n",
      " 8   exang     303 non-null    int64  \n",
      " 9   oldpeak   303 non-null    float64\n",
      " 10  slope     303 non-null    int64  \n",
      " 11  ca        303 non-null    int64  \n",
      " 12  thal      303 non-null    int64  \n",
      " 13  target    303 non-null    int64  \n",
      "dtypes: float64(1), int64(13)\n",
      "memory usage: 33.3 KB\n"
     ]
    }
   ],
   "source": [
    "data.info()"
   ]
  },
  {
   "cell_type": "code",
   "execution_count": 780,
   "metadata": {},
   "outputs": [],
   "source": [
    "data['sex'] = data['sex'].astype('object')\n",
    "data['cp'] = data['cp'].astype('object')\n",
    "data['fbs'] = data['fbs'].astype('object')\n",
    "data['restecg'] = data['restecg'].astype('object')\n",
    "data['exang'] = data['exang'].astype('object')\n",
    "data['slope'] = data['slope'].astype('object')\n",
    "data['ca'] = data['ca'].astype('object')\n",
    "data['thal'] = data['thal'].astype('object')\n",
    "data['target'] = data['target'].astype('object')\n",
    "\n",
    "sex1 = []\n",
    "target1 = []\n",
    "for sex_value in data['sex']:\n",
    "    if sex_value == 0:\n",
    "        sex1.append('F') \n",
    "    else:\n",
    "        sex1.append('M')\n",
    "for target_value in data['target']:\n",
    "    if target_value == 0:\n",
    "        target1.append('N')\n",
    "    else:\n",
    "        target1.append('Y')\n",
    "data['sex'] = sex1\n",
    "data['target'] = target1"
   ]
  },
  {
   "cell_type": "code",
   "execution_count": 781,
   "metadata": {},
   "outputs": [
    {
     "data": {
      "text/html": [
       "<div>\n",
       "<style scoped>\n",
       "    .dataframe tbody tr th:only-of-type {\n",
       "        vertical-align: middle;\n",
       "    }\n",
       "\n",
       "    .dataframe tbody tr th {\n",
       "        vertical-align: top;\n",
       "    }\n",
       "\n",
       "    .dataframe thead th {\n",
       "        text-align: right;\n",
       "    }\n",
       "</style>\n",
       "<table border=\"1\" class=\"dataframe\">\n",
       "  <thead>\n",
       "    <tr style=\"text-align: right;\">\n",
       "      <th></th>\n",
       "      <th>age</th>\n",
       "      <th>sex</th>\n",
       "      <th>cp</th>\n",
       "      <th>trestbps</th>\n",
       "      <th>chol</th>\n",
       "      <th>fbs</th>\n",
       "      <th>restecg</th>\n",
       "      <th>thalach</th>\n",
       "      <th>exang</th>\n",
       "      <th>oldpeak</th>\n",
       "      <th>slope</th>\n",
       "      <th>ca</th>\n",
       "      <th>thal</th>\n",
       "      <th>target</th>\n",
       "    </tr>\n",
       "  </thead>\n",
       "  <tbody>\n",
       "    <tr>\n",
       "      <th>106</th>\n",
       "      <td>69</td>\n",
       "      <td>M</td>\n",
       "      <td>3</td>\n",
       "      <td>160</td>\n",
       "      <td>234</td>\n",
       "      <td>1</td>\n",
       "      <td>0</td>\n",
       "      <td>131</td>\n",
       "      <td>0</td>\n",
       "      <td>0.1</td>\n",
       "      <td>1</td>\n",
       "      <td>1</td>\n",
       "      <td>2</td>\n",
       "      <td>Y</td>\n",
       "    </tr>\n",
       "    <tr>\n",
       "      <th>99</th>\n",
       "      <td>53</td>\n",
       "      <td>M</td>\n",
       "      <td>2</td>\n",
       "      <td>130</td>\n",
       "      <td>246</td>\n",
       "      <td>1</td>\n",
       "      <td>0</td>\n",
       "      <td>173</td>\n",
       "      <td>0</td>\n",
       "      <td>0.0</td>\n",
       "      <td>2</td>\n",
       "      <td>3</td>\n",
       "      <td>2</td>\n",
       "      <td>Y</td>\n",
       "    </tr>\n",
       "    <tr>\n",
       "      <th>301</th>\n",
       "      <td>57</td>\n",
       "      <td>M</td>\n",
       "      <td>0</td>\n",
       "      <td>130</td>\n",
       "      <td>131</td>\n",
       "      <td>0</td>\n",
       "      <td>1</td>\n",
       "      <td>115</td>\n",
       "      <td>1</td>\n",
       "      <td>1.2</td>\n",
       "      <td>1</td>\n",
       "      <td>1</td>\n",
       "      <td>3</td>\n",
       "      <td>N</td>\n",
       "    </tr>\n",
       "    <tr>\n",
       "      <th>281</th>\n",
       "      <td>52</td>\n",
       "      <td>M</td>\n",
       "      <td>0</td>\n",
       "      <td>128</td>\n",
       "      <td>204</td>\n",
       "      <td>1</td>\n",
       "      <td>1</td>\n",
       "      <td>156</td>\n",
       "      <td>1</td>\n",
       "      <td>1.0</td>\n",
       "      <td>1</td>\n",
       "      <td>0</td>\n",
       "      <td>0</td>\n",
       "      <td>N</td>\n",
       "    </tr>\n",
       "    <tr>\n",
       "      <th>287</th>\n",
       "      <td>57</td>\n",
       "      <td>M</td>\n",
       "      <td>1</td>\n",
       "      <td>154</td>\n",
       "      <td>232</td>\n",
       "      <td>0</td>\n",
       "      <td>0</td>\n",
       "      <td>164</td>\n",
       "      <td>0</td>\n",
       "      <td>0.0</td>\n",
       "      <td>2</td>\n",
       "      <td>1</td>\n",
       "      <td>2</td>\n",
       "      <td>N</td>\n",
       "    </tr>\n",
       "  </tbody>\n",
       "</table>\n",
       "</div>"
      ],
      "text/plain": [
       "     age sex cp  trestbps  chol fbs restecg  thalach exang  oldpeak slope ca  \\\n",
       "106   69   M  3       160   234   1       0      131     0      0.1     1  1   \n",
       "99    53   M  2       130   246   1       0      173     0      0.0     2  3   \n",
       "301   57   M  0       130   131   0       1      115     1      1.2     1  1   \n",
       "281   52   M  0       128   204   1       1      156     1      1.0     1  0   \n",
       "287   57   M  1       154   232   0       0      164     0      0.0     2  1   \n",
       "\n",
       "    thal target  \n",
       "106    2      Y  \n",
       "99     2      Y  \n",
       "301    3      N  \n",
       "281    0      N  \n",
       "287    2      N  "
      ]
     },
     "execution_count": 781,
     "metadata": {},
     "output_type": "execute_result"
    }
   ],
   "source": [
    "data.sample(5)"
   ]
  },
  {
   "cell_type": "code",
   "execution_count": 782,
   "metadata": {},
   "outputs": [
    {
     "data": {
      "text/plain": [
       "age           int64\n",
       "sex          object\n",
       "cp           object\n",
       "trestbps      int64\n",
       "chol          int64\n",
       "fbs          object\n",
       "restecg      object\n",
       "thalach       int64\n",
       "exang        object\n",
       "oldpeak     float64\n",
       "slope        object\n",
       "ca           object\n",
       "thal         object\n",
       "target       object\n",
       "dtype: object"
      ]
     },
     "execution_count": 782,
     "metadata": {},
     "output_type": "execute_result"
    }
   ],
   "source": [
    "data.dtypes"
   ]
  },
  {
   "cell_type": "code",
   "execution_count": 783,
   "metadata": {},
   "outputs": [
    {
     "data": {
      "text/html": [
       "<div>\n",
       "<style scoped>\n",
       "    .dataframe tbody tr th:only-of-type {\n",
       "        vertical-align: middle;\n",
       "    }\n",
       "\n",
       "    .dataframe tbody tr th {\n",
       "        vertical-align: top;\n",
       "    }\n",
       "\n",
       "    .dataframe thead th {\n",
       "        text-align: right;\n",
       "    }\n",
       "</style>\n",
       "<table border=\"1\" class=\"dataframe\">\n",
       "  <thead>\n",
       "    <tr style=\"text-align: right;\">\n",
       "      <th></th>\n",
       "      <th>age</th>\n",
       "      <th>trestbps</th>\n",
       "      <th>chol</th>\n",
       "      <th>thalach</th>\n",
       "      <th>oldpeak</th>\n",
       "    </tr>\n",
       "  </thead>\n",
       "  <tbody>\n",
       "    <tr>\n",
       "      <th>count</th>\n",
       "      <td>303.000000</td>\n",
       "      <td>303.000000</td>\n",
       "      <td>303.000000</td>\n",
       "      <td>303.000000</td>\n",
       "      <td>303.000000</td>\n",
       "    </tr>\n",
       "    <tr>\n",
       "      <th>mean</th>\n",
       "      <td>54.366337</td>\n",
       "      <td>131.623762</td>\n",
       "      <td>246.264026</td>\n",
       "      <td>149.646865</td>\n",
       "      <td>1.039604</td>\n",
       "    </tr>\n",
       "    <tr>\n",
       "      <th>std</th>\n",
       "      <td>9.082101</td>\n",
       "      <td>17.538143</td>\n",
       "      <td>51.830751</td>\n",
       "      <td>22.905161</td>\n",
       "      <td>1.161075</td>\n",
       "    </tr>\n",
       "    <tr>\n",
       "      <th>min</th>\n",
       "      <td>29.000000</td>\n",
       "      <td>94.000000</td>\n",
       "      <td>126.000000</td>\n",
       "      <td>71.000000</td>\n",
       "      <td>0.000000</td>\n",
       "    </tr>\n",
       "    <tr>\n",
       "      <th>25%</th>\n",
       "      <td>47.500000</td>\n",
       "      <td>120.000000</td>\n",
       "      <td>211.000000</td>\n",
       "      <td>133.500000</td>\n",
       "      <td>0.000000</td>\n",
       "    </tr>\n",
       "    <tr>\n",
       "      <th>50%</th>\n",
       "      <td>55.000000</td>\n",
       "      <td>130.000000</td>\n",
       "      <td>240.000000</td>\n",
       "      <td>153.000000</td>\n",
       "      <td>0.800000</td>\n",
       "    </tr>\n",
       "    <tr>\n",
       "      <th>75%</th>\n",
       "      <td>61.000000</td>\n",
       "      <td>140.000000</td>\n",
       "      <td>274.500000</td>\n",
       "      <td>166.000000</td>\n",
       "      <td>1.600000</td>\n",
       "    </tr>\n",
       "    <tr>\n",
       "      <th>max</th>\n",
       "      <td>77.000000</td>\n",
       "      <td>200.000000</td>\n",
       "      <td>564.000000</td>\n",
       "      <td>202.000000</td>\n",
       "      <td>6.200000</td>\n",
       "    </tr>\n",
       "  </tbody>\n",
       "</table>\n",
       "</div>"
      ],
      "text/plain": [
       "              age    trestbps        chol     thalach     oldpeak\n",
       "count  303.000000  303.000000  303.000000  303.000000  303.000000\n",
       "mean    54.366337  131.623762  246.264026  149.646865    1.039604\n",
       "std      9.082101   17.538143   51.830751   22.905161    1.161075\n",
       "min     29.000000   94.000000  126.000000   71.000000    0.000000\n",
       "25%     47.500000  120.000000  211.000000  133.500000    0.000000\n",
       "50%     55.000000  130.000000  240.000000  153.000000    0.800000\n",
       "75%     61.000000  140.000000  274.500000  166.000000    1.600000\n",
       "max     77.000000  200.000000  564.000000  202.000000    6.200000"
      ]
     },
     "execution_count": 783,
     "metadata": {},
     "output_type": "execute_result"
    }
   ],
   "source": [
    "data.describe()"
   ]
  },
  {
   "cell_type": "markdown",
   "metadata": {},
   "source": [
    "# data visualization"
   ]
  },
  {
   "cell_type": "code",
   "execution_count": 784,
   "metadata": {},
   "outputs": [
    {
     "data": {
      "text/plain": [
       "<matplotlib.axes._subplots.AxesSubplot at 0x24e8461a760>"
      ]
     },
     "execution_count": 784,
     "metadata": {},
     "output_type": "execute_result"
    },
    {
     "data": {
      "image/png": "[encoded data removed]",
      "text/plain": [
       "<Figure size 864x432 with 2 Axes>"
      ]
     },
     "metadata": {},
     "output_type": "display_data"
    }
   ],
   "source": [
    "f,axes = plt.subplots(1,2, figsize=(12,6))\n",
    "sb.countplot(data.sex, ax = axes[0])\n",
    "sb.countplot(data.target, ax = axes[1])"
   ]
  },
  {
   "cell_type": "markdown",
   "metadata": {},
   "source": [
    "##### There are nearly 200 males and 100 females. Nearly half have heart disease and half do not."
   ]
  },
  {
   "cell_type": "code",
   "execution_count": 785,
   "metadata": {},
   "outputs": [
    {
     "data": {
      "image/png": "[encoded data removed]",
      "text/plain": [
       "<Figure size 432x432 with 1 Axes>"
      ]
     },
     "metadata": {},
     "output_type": "display_data"
    }
   ],
   "source": [
    "pd.crosstab(data.sex,data.target).plot(kind=\"bar\",figsize=(6,6))\n",
    "plt.title('Heart Disease Frequency for Sex')\n",
    "plt.xlabel('Sex')\n",
    "plt.xticks(rotation=0)\n",
    "plt.legend([\"N\", \"Y\"])\n",
    "plt.ylabel('Frequency')\n",
    "plt.show()"
   ]
  },
  {
   "cell_type": "markdown",
   "metadata": {},
   "source": [
    "##### For females, the number of people with heart disease is much larger than that of people without. For males, it's roughly the same. We may briefly conclude that females have higher chance of getting heart disease."
   ]
  },
  {
   "cell_type": "code",
   "execution_count": 786,
   "metadata": {},
   "outputs": [
    {
     "data": {
      "text/plain": [
       "<matplotlib.legend.Legend at 0x24e83e458e0>"
      ]
     },
     "execution_count": 786,
     "metadata": {},
     "output_type": "execute_result"
    },
    {
     "data": {
      "image/png": "[encoded data removed]",
      "text/plain": [
       "<Figure size 864x432 with 2 Axes>"
      ]
     },
     "metadata": {},
     "output_type": "display_data"
    }
   ],
   "source": [
    "f,axes = plt.subplots(1,2, figsize=(12,6))\n",
    "ax1=sb.distplot(data['age'],ax=axes[0])\n",
    "ax1.title.set_text('Overall age distribution')\n",
    "ax2=sb.distplot(data[data['target'] == 'N']['age'], ax = axes[1])\n",
    "sb.distplot(data[data['target'] == 'Y']['age'], ax = axes[1])\n",
    "plt.title('Respective age distribution ')\n",
    "plt.legend([\"N\", \"Y\"])"
   ]
  },
  {
   "cell_type": "markdown",
   "metadata": {},
   "source": [
    "##### There are more people with heart disease aging from 45 to 60."
   ]
  },
  {
   "cell_type": "markdown",
   "metadata": {},
   "source": [
    "### Heart disease frequency for chest pain type"
   ]
  },
  {
   "cell_type": "code",
   "execution_count": 787,
   "metadata": {},
   "outputs": [
    {
     "data": {
      "image/png": "[encoded data removed]",
      "text/plain": [
       "<Figure size 864x432 with 1 Axes>"
      ]
     },
     "metadata": {},
     "output_type": "display_data"
    }
   ],
   "source": [
    "pd.crosstab(data.cp,data.target).plot(kind=\"bar\",figsize=(12,6))\n",
    "plt.title('Heart Disease Frequency for chest pain type')\n",
    "plt.xlabel('chest pain type')\n",
    "plt.xticks(rotation=0)\n",
    "plt.legend([\"N\", \"Y\"])\n",
    "plt.ylabel('Frequency')\n",
    "plt.show()"
   ]
  },
  {
   "cell_type": "markdown",
   "metadata": {},
   "source": [
    "##### People with cp 0 are less likely to have heart disease, but with cp 1, 2 and 3 are more likely."
   ]
  },
  {
   "cell_type": "markdown",
   "metadata": {},
   "source": [
    "### Heart disease frequency for other categorical attributes"
   ]
  },
  {
   "cell_type": "code",
   "execution_count": 788,
   "metadata": {},
   "outputs": [
    {
     "data": {
      "text/plain": [
       "<matplotlib.axes._subplots.AxesSubplot at 0x24e87639220>"
      ]
     },
     "execution_count": 788,
     "metadata": {},
     "output_type": "execute_result"
    },
    {
     "data": {
      "image/png": "[encoded data removed]",
      "text/plain": [
       "<Figure size 1296x864 with 6 Axes>"
      ]
     },
     "metadata": {},
     "output_type": "display_data"
    }
   ],
   "source": [
    "f,axes = plt.subplots(2,3, figsize=(18,12))\n",
    "pd.crosstab(data.fbs,data.target).plot(kind=\"bar\",ax=axes[0,0])\n",
    "pd.crosstab(data.restecg,data.target).plot(kind=\"bar\",ax=axes[0,1])\n",
    "pd.crosstab(data.exang,data.target).plot(kind=\"bar\",ax=axes[0,2])\n",
    "pd.crosstab(data.slope,data.target).plot(kind=\"bar\",ax=axes[1,0])\n",
    "pd.crosstab(data.ca,data.target).plot(kind=\"bar\",ax=axes[1,1])\n",
    "pd.crosstab(data.thal,data.target).plot(kind=\"bar\",ax=axes[1,2])"
   ]
  },
  {
   "cell_type": "markdown",
   "metadata": {},
   "source": [
    "##### We can observe some significant differences between the number of people with and without heart disease with respect to restecg 1, exang 0, slope 2, ca 0 and thal 2. These kinds of attributes have a high possibility of indicating a presence of heart disease."
   ]
  },
  {
   "cell_type": "markdown",
   "metadata": {},
   "source": [
    "### Heart disease frequency for numerical attributes"
   ]
  },
  {
   "cell_type": "code",
   "execution_count": 789,
   "metadata": {},
   "outputs": [
    {
     "data": {
      "image/png": "[encoded data removed]",
      "text/plain": [
       "<Figure size 864x864 with 4 Axes>"
      ]
     },
     "metadata": {},
     "output_type": "display_data"
    }
   ],
   "source": [
    "f,axes = plt.subplots(2,2, figsize=(12,12))\n",
    "sb.distplot(data[data[\"target\"]=='Y']['trestbps'],ax=axes[0,0])\n",
    "sb.distplot(data[data[\"target\"]=='N']['trestbps'],ax=axes[0,0])\n",
    "sb.distplot(data[data[\"target\"]=='Y']['thalach'],ax=axes[0,1])\n",
    "sb.distplot(data[data[\"target\"]=='N']['thalach'],ax=axes[0,1])\n",
    "sb.distplot(data[data[\"target\"]=='Y']['chol'],ax=axes[1,0])\n",
    "sb.distplot(data[data[\"target\"]=='N']['chol'],ax=axes[1,0])\n",
    "sb.distplot(data[data[\"target\"]=='Y']['oldpeak'],ax=axes[1,1])\n",
    "sb.distplot(data[data[\"target\"]=='N']['oldpeak'],ax=axes[1,1])\n",
    "\n",
    "plt.legend([\"Disease\", \"No Disease\"])\n",
    "plt.show()"
   ]
  },
  {
   "cell_type": "markdown",
   "metadata": {},
   "source": [
    "##### People with heart disease tend to have slightly lower trestbps level, significantly higher thalatch level, slightly lower chol level, and lower oldpeak level than those without heart disease."
   ]
  },
  {
   "cell_type": "code",
   "execution_count": 790,
   "metadata": {},
   "outputs": [],
   "source": [
    "accuracies={}"
   ]
  },
  {
   "cell_type": "markdown",
   "metadata": {},
   "source": [
    "# Decision Tree"
   ]
  },
  {
   "cell_type": "code",
   "execution_count": 791,
   "metadata": {},
   "outputs": [],
   "source": [
    "# Import Decision Tree Classifier model from Scikit-Learn\n",
    "from sklearn.tree import DecisionTreeClassifier\n",
    "from sklearn.tree import export_graphviz #plot tree\n",
    "import graphviz"
   ]
  },
  {
   "cell_type": "code",
   "execution_count": 792,
   "metadata": {},
   "outputs": [],
   "source": [
    "#split the data\n",
    "X_train, X_test, Y_train, Y_test = train_test_split(df.drop('target', 1), df['target'], test_size = .2)"
   ]
  },
  {
   "cell_type": "code",
   "execution_count": 793,
   "metadata": {},
   "outputs": [
    {
     "data": {
      "text/plain": [
       "DecisionTreeClassifier(max_depth=5)"
      ]
     },
     "execution_count": 793,
     "metadata": {},
     "output_type": "execute_result"
    }
   ],
   "source": [
    "# Create a Decision Tree Classifier object\n",
    "dectree = DecisionTreeClassifier(max_depth = 5)\n",
    "\n",
    "# Train the Decision Tree Classifier model\n",
    "dectree.fit(X_train, Y_train)"
   ]
  },
  {
   "cell_type": "code",
   "execution_count": 794,
   "metadata": {},
   "outputs": [
    {
     "data": {
      "image/svg+xml": [
       "<?xml version=\"1.0\" encoding=\"UTF-8\" standalone=\"no\"?>\r\n",
       "<!DOCTYPE svg PUBLIC \"-//W3C//DTD SVG 1.1//EN\"\r\n",
       " \"http://www.w3.org/Graphics/SVG/1.1/DTD/svg11.dtd\">\r\n",
       "<!-- Generated by graphviz version 2.38.0 (20140413.2041)\r\n",
       " -->\r\n",
       "<!-- Title: Tree Pages: 1 -->\r\n",
       "<svg width=\"1390pt\" height=\"671pt\"\r\n",
       " viewBox=\"0.00 0.00 1390.00 671.00\" xmlns=\"http://www.w3.org/2000/svg\" xmlns:xlink=\"http://www.w3.org/1999/xlink\">\r\n",
       "<g id=\"graph0\" class=\"graph\" transform=\"scale(1 1) rotate(0) translate(4 667)\">\r\n",
       "<title>Tree</title>\r\n",
       "<polygon fill=\"white\" stroke=\"none\" points=\"-4,4 -4,-667 1386,-667 1386,4 -4,4\"/>\r\n",
       "<!-- 0 -->\r\n",
       "<g id=\"node1\" class=\"node\"><title>0</title>\r\n",
       "<path fill=\"#e6f3fc\" stroke=\"black\" d=\"M953.5,-663C953.5,-663 840.5,-663 840.5,-663 834.5,-663 828.5,-657 828.5,-651 828.5,-651 828.5,-592 828.5,-592 828.5,-586 834.5,-580 840.5,-580 840.5,-580 953.5,-580 953.5,-580 959.5,-580 965.5,-586 965.5,-592 965.5,-592 965.5,-651 965.5,-651 965.5,-657 959.5,-663 953.5,-663\"/>\r\n",
       "<text text-anchor=\"middle\" x=\"897\" y=\"-647.8\" font-family=\"Helvetica,sans-Serif\" font-size=\"14.00\">cp &lt;= 0.5</text>\r\n",
       "<text text-anchor=\"middle\" x=\"897\" y=\"-632.8\" font-family=\"Helvetica,sans-Serif\" font-size=\"14.00\">gini = 0.5</text>\r\n",
       "<text text-anchor=\"middle\" x=\"897\" y=\"-617.8\" font-family=\"Helvetica,sans-Serif\" font-size=\"14.00\">samples = 100.0%</text>\r\n",
       "<text text-anchor=\"middle\" x=\"897\" y=\"-602.8\" font-family=\"Helvetica,sans-Serif\" font-size=\"14.00\">value = [0.47, 0.53]</text>\r\n",
       "<text text-anchor=\"middle\" x=\"897\" y=\"-587.8\" font-family=\"Helvetica,sans-Serif\" font-size=\"14.00\">class = disease</text>\r\n",
       "</g>\r\n",
       "<!-- 1 -->\r\n",
       "<g id=\"node2\" class=\"node\"><title>1</title>\r\n",
       "<path fill=\"#efb084\" stroke=\"black\" d=\"M791.5,-544C791.5,-544 726.5,-544 726.5,-544 720.5,-544 714.5,-538 714.5,-532 714.5,-532 714.5,-473 714.5,-473 714.5,-467 720.5,-461 726.5,-461 726.5,-461 791.5,-461 791.5,-461 797.5,-461 803.5,-467 803.5,-473 803.5,-473 803.5,-532 803.5,-532 803.5,-538 797.5,-544 791.5,-544\"/>\r\n",
       "<text text-anchor=\"middle\" x=\"759\" y=\"-528.8\" font-family=\"Helvetica,sans-Serif\" font-size=\"14.00\">ca &lt;= 0.5</text>\r\n",
       "<text text-anchor=\"middle\" x=\"759\" y=\"-513.8\" font-family=\"Helvetica,sans-Serif\" font-size=\"14.00\">0.4</text>\r\n",
       "<text text-anchor=\"middle\" x=\"759\" y=\"-498.8\" font-family=\"Helvetica,sans-Serif\" font-size=\"14.00\">48.3%</text>\r\n",
       "<text text-anchor=\"middle\" x=\"759\" y=\"-483.8\" font-family=\"Helvetica,sans-Serif\" font-size=\"14.00\">[0.73, 0.27]</text>\r\n",
       "<text text-anchor=\"middle\" x=\"759\" y=\"-468.8\" font-family=\"Helvetica,sans-Serif\" font-size=\"14.00\">disease</text>\r\n",
       "</g>\r\n",
       "<!-- 0&#45;&gt;1 -->\r\n",
       "<g id=\"edge1\" class=\"edge\"><title>0&#45;&gt;1</title>\r\n",
       "<path fill=\"none\" stroke=\"black\" d=\"M849.122,-579.907C836.873,-569.523 823.641,-558.305 811.188,-547.746\"/>\r\n",
       "<polygon fill=\"black\" stroke=\"black\" points=\"813.441,-545.068 803.55,-541.271 808.914,-550.407 813.441,-545.068\"/>\r\n",
       "<text text-anchor=\"middle\" x=\"805.602\" y=\"-562.486\" font-family=\"Helvetica,sans-Serif\" font-size=\"14.00\">True</text>\r\n",
       "</g>\r\n",
       "<!-- 22 -->\r\n",
       "<g id=\"node23\" class=\"node\"><title>22</title>\r\n",
       "<path fill=\"#72b9ed\" stroke=\"black\" d=\"M1125.5,-544C1125.5,-544 1030.5,-544 1030.5,-544 1024.5,-544 1018.5,-538 1018.5,-532 1018.5,-532 1018.5,-473 1018.5,-473 1018.5,-467 1024.5,-461 1030.5,-461 1030.5,-461 1125.5,-461 1125.5,-461 1131.5,-461 1137.5,-467 1137.5,-473 1137.5,-473 1137.5,-532 1137.5,-532 1137.5,-538 1131.5,-544 1125.5,-544\"/>\r\n",
       "<text text-anchor=\"middle\" x=\"1078\" y=\"-528.8\" font-family=\"Helvetica,sans-Serif\" font-size=\"14.00\">oldpeak &lt;= 1.95</text>\r\n",
       "<text text-anchor=\"middle\" x=\"1078\" y=\"-513.8\" font-family=\"Helvetica,sans-Serif\" font-size=\"14.00\">0.35</text>\r\n",
       "<text text-anchor=\"middle\" x=\"1078\" y=\"-498.8\" font-family=\"Helvetica,sans-Serif\" font-size=\"14.00\">51.7%</text>\r\n",
       "<text text-anchor=\"middle\" x=\"1078\" y=\"-483.8\" font-family=\"Helvetica,sans-Serif\" font-size=\"14.00\">[0.22, 0.78]</text>\r\n",
       "<text text-anchor=\"middle\" x=\"1078\" y=\"-468.8\" font-family=\"Helvetica,sans-Serif\" font-size=\"14.00\">disease</text>\r\n",
       "</g>\r\n",
       "<!-- 0&#45;&gt;22 -->\r\n",
       "<g id=\"edge22\" class=\"edge\"><title>0&#45;&gt;22</title>\r\n",
       "<path fill=\"none\" stroke=\"black\" d=\"M959.797,-579.907C975.969,-569.454 993.448,-558.155 1009.88,-547.536\"/>\r\n",
       "<polygon fill=\"black\" stroke=\"black\" points=\"1011.86,-550.42 1018.36,-542.052 1008.06,-544.541 1011.86,-550.42\"/>\r\n",
       "<text text-anchor=\"middle\" x=\"1013.11\" y=\"-562.795\" font-family=\"Helvetica,sans-Serif\" font-size=\"14.00\">False</text>\r\n",
       "</g>\r\n",
       "<!-- 2 -->\r\n",
       "<g id=\"node3\" class=\"node\"><title>2</title>\r\n",
       "<path fill=\"#e4f1fb\" stroke=\"black\" d=\"M517.5,-425C517.5,-425 452.5,-425 452.5,-425 446.5,-425 440.5,-419 440.5,-413 440.5,-413 440.5,-354 440.5,-354 440.5,-348 446.5,-342 452.5,-342 452.5,-342 517.5,-342 517.5,-342 523.5,-342 529.5,-348 529.5,-354 529.5,-354 529.5,-413 529.5,-413 529.5,-419 523.5,-425 517.5,-425\"/>\r\n",
       "<text text-anchor=\"middle\" x=\"485\" y=\"-409.8\" font-family=\"Helvetica,sans-Serif\" font-size=\"14.00\">thal &lt;= 2.5</text>\r\n",
       "<text text-anchor=\"middle\" x=\"485\" y=\"-394.8\" font-family=\"Helvetica,sans-Serif\" font-size=\"14.00\">0.5</text>\r\n",
       "<text text-anchor=\"middle\" x=\"485\" y=\"-379.8\" font-family=\"Helvetica,sans-Serif\" font-size=\"14.00\">22.3%</text>\r\n",
       "<text text-anchor=\"middle\" x=\"485\" y=\"-364.8\" font-family=\"Helvetica,sans-Serif\" font-size=\"14.00\">[0.46, 0.54]</text>\r\n",
       "<text text-anchor=\"middle\" x=\"485\" y=\"-349.8\" font-family=\"Helvetica,sans-Serif\" font-size=\"14.00\">disease</text>\r\n",
       "</g>\r\n",
       "<!-- 1&#45;&gt;2 -->\r\n",
       "<g id=\"edge2\" class=\"edge\"><title>1&#45;&gt;2</title>\r\n",
       "<path fill=\"none\" stroke=\"black\" d=\"M714.367,-482.442C666.401,-461.959 590.158,-429.403 538.884,-407.509\"/>\r\n",
       "<polygon fill=\"black\" stroke=\"black\" points=\"540.185,-404.259 529.614,-403.55 537.436,-410.696 540.185,-404.259\"/>\r\n",
       "</g>\r\n",
       "<!-- 15 -->\r\n",
       "<g id=\"node16\" class=\"node\"><title>15</title>\r\n",
       "<path fill=\"#e68743\" stroke=\"black\" d=\"M791.5,-425C791.5,-425 726.5,-425 726.5,-425 720.5,-425 714.5,-419 714.5,-413 714.5,-413 714.5,-354 714.5,-354 714.5,-348 720.5,-342 726.5,-342 726.5,-342 791.5,-342 791.5,-342 797.5,-342 803.5,-348 803.5,-354 803.5,-354 803.5,-413 803.5,-413 803.5,-419 797.5,-425 791.5,-425\"/>\r\n",
       "<text text-anchor=\"middle\" x=\"759\" y=\"-409.8\" font-family=\"Helvetica,sans-Serif\" font-size=\"14.00\">sex &lt;= 0.5</text>\r\n",
       "<text text-anchor=\"middle\" x=\"759\" y=\"-394.8\" font-family=\"Helvetica,sans-Serif\" font-size=\"14.00\">0.09</text>\r\n",
       "<text text-anchor=\"middle\" x=\"759\" y=\"-379.8\" font-family=\"Helvetica,sans-Serif\" font-size=\"14.00\">26.0%</text>\r\n",
       "<text text-anchor=\"middle\" x=\"759\" y=\"-364.8\" font-family=\"Helvetica,sans-Serif\" font-size=\"14.00\">[0.95, 0.05]</text>\r\n",
       "<text text-anchor=\"middle\" x=\"759\" y=\"-349.8\" font-family=\"Helvetica,sans-Serif\" font-size=\"14.00\">disease</text>\r\n",
       "</g>\r\n",
       "<!-- 1&#45;&gt;15 -->\r\n",
       "<g id=\"edge15\" class=\"edge\"><title>1&#45;&gt;15</title>\r\n",
       "<path fill=\"none\" stroke=\"black\" d=\"M759,-460.907C759,-452.649 759,-443.864 759,-435.302\"/>\r\n",
       "<polygon fill=\"black\" stroke=\"black\" points=\"762.5,-435.021 759,-425.021 755.5,-435.021 762.5,-435.021\"/>\r\n",
       "</g>\r\n",
       "<!-- 3 -->\r\n",
       "<g id=\"node4\" class=\"node\"><title>3</title>\r\n",
       "<path fill=\"#7ebfee\" stroke=\"black\" d=\"M326.5,-306C326.5,-306 251.5,-306 251.5,-306 245.5,-306 239.5,-300 239.5,-294 239.5,-294 239.5,-235 239.5,-235 239.5,-229 245.5,-223 251.5,-223 251.5,-223 326.5,-223 326.5,-223 332.5,-223 338.5,-229 338.5,-235 338.5,-235 338.5,-294 338.5,-294 338.5,-300 332.5,-306 326.5,-306\"/>\r\n",
       "<text text-anchor=\"middle\" x=\"289\" y=\"-290.8\" font-family=\"Helvetica,sans-Serif\" font-size=\"14.00\">exang &lt;= 0.5</text>\r\n",
       "<text text-anchor=\"middle\" x=\"289\" y=\"-275.8\" font-family=\"Helvetica,sans-Serif\" font-size=\"14.00\">0.38</text>\r\n",
       "<text text-anchor=\"middle\" x=\"289\" y=\"-260.8\" font-family=\"Helvetica,sans-Serif\" font-size=\"14.00\">14.5%</text>\r\n",
       "<text text-anchor=\"middle\" x=\"289\" y=\"-245.8\" font-family=\"Helvetica,sans-Serif\" font-size=\"14.00\">[0.26, 0.74]</text>\r\n",
       "<text text-anchor=\"middle\" x=\"289\" y=\"-230.8\" font-family=\"Helvetica,sans-Serif\" font-size=\"14.00\">disease</text>\r\n",
       "</g>\r\n",
       "<!-- 2&#45;&gt;3 -->\r\n",
       "<g id=\"edge3\" class=\"edge\"><title>2&#45;&gt;3</title>\r\n",
       "<path fill=\"none\" stroke=\"black\" d=\"M440.034,-355.658C412.466,-339.201 376.886,-317.962 347.184,-300.232\"/>\r\n",
       "<polygon fill=\"black\" stroke=\"black\" points=\"348.954,-297.213 338.574,-295.093 345.366,-303.223 348.954,-297.213\"/>\r\n",
       "</g>\r\n",
       "<!-- 10 -->\r\n",
       "<g id=\"node11\" class=\"node\"><title>10</title>\r\n",
       "<path fill=\"#ea995e\" stroke=\"black\" d=\"M528.5,-306C528.5,-306 441.5,-306 441.5,-306 435.5,-306 429.5,-300 429.5,-294 429.5,-294 429.5,-235 429.5,-235 429.5,-229 435.5,-223 441.5,-223 441.5,-223 528.5,-223 528.5,-223 534.5,-223 540.5,-229 540.5,-235 540.5,-235 540.5,-294 540.5,-294 540.5,-300 534.5,-306 528.5,-306\"/>\r\n",
       "<text text-anchor=\"middle\" x=\"485\" y=\"-290.8\" font-family=\"Helvetica,sans-Serif\" font-size=\"14.00\">oldpeak &lt;= 0.1</text>\r\n",
       "<text text-anchor=\"middle\" x=\"485\" y=\"-275.8\" font-family=\"Helvetica,sans-Serif\" font-size=\"14.00\">0.27</text>\r\n",
       "<text text-anchor=\"middle\" x=\"485\" y=\"-260.8\" font-family=\"Helvetica,sans-Serif\" font-size=\"14.00\">7.9%</text>\r\n",
       "<text text-anchor=\"middle\" x=\"485\" y=\"-245.8\" font-family=\"Helvetica,sans-Serif\" font-size=\"14.00\">[0.84, 0.16]</text>\r\n",
       "<text text-anchor=\"middle\" x=\"485\" y=\"-230.8\" font-family=\"Helvetica,sans-Serif\" font-size=\"14.00\">disease</text>\r\n",
       "</g>\r\n",
       "<!-- 2&#45;&gt;10 -->\r\n",
       "<g id=\"edge10\" class=\"edge\"><title>2&#45;&gt;10</title>\r\n",
       "<path fill=\"none\" stroke=\"black\" d=\"M485,-341.907C485,-333.649 485,-324.864 485,-316.302\"/>\r\n",
       "<polygon fill=\"black\" stroke=\"black\" points=\"488.5,-316.021 485,-306.021 481.5,-316.021 488.5,-316.021\"/>\r\n",
       "</g>\r\n",
       "<!-- 4 -->\r\n",
       "<g id=\"node5\" class=\"node\"><title>4</title>\r\n",
       "<path fill=\"#4ca6e7\" stroke=\"black\" d=\"M179.5,-187C179.5,-187 90.5,-187 90.5,-187 84.5,-187 78.5,-181 78.5,-175 78.5,-175 78.5,-116 78.5,-116 78.5,-110 84.5,-104 90.5,-104 90.5,-104 179.5,-104 179.5,-104 185.5,-104 191.5,-110 191.5,-116 191.5,-116 191.5,-175 191.5,-175 191.5,-181 185.5,-187 179.5,-187\"/>\r\n",
       "<text text-anchor=\"middle\" x=\"135\" y=\"-171.8\" font-family=\"Helvetica,sans-Serif\" font-size=\"14.00\">thalach &lt;= 96.5</text>\r\n",
       "<text text-anchor=\"middle\" x=\"135\" y=\"-156.8\" font-family=\"Helvetica,sans-Serif\" font-size=\"14.00\">0.16</text>\r\n",
       "<text text-anchor=\"middle\" x=\"135\" y=\"-141.8\" font-family=\"Helvetica,sans-Serif\" font-size=\"14.00\">9.5%</text>\r\n",
       "<text text-anchor=\"middle\" x=\"135\" y=\"-126.8\" font-family=\"Helvetica,sans-Serif\" font-size=\"14.00\">[0.09, 0.91]</text>\r\n",
       "<text text-anchor=\"middle\" x=\"135\" y=\"-111.8\" font-family=\"Helvetica,sans-Serif\" font-size=\"14.00\">disease</text>\r\n",
       "</g>\r\n",
       "<!-- 3&#45;&gt;4 -->\r\n",
       "<g id=\"edge4\" class=\"edge\"><title>3&#45;&gt;4</title>\r\n",
       "<path fill=\"none\" stroke=\"black\" d=\"M239.426,-225.836C225.828,-215.506 210.917,-204.177 196.728,-193.397\"/>\r\n",
       "<polygon fill=\"black\" stroke=\"black\" points=\"198.552,-190.387 188.472,-187.125 194.317,-195.961 198.552,-190.387\"/>\r\n",
       "</g>\r\n",
       "<!-- 7 -->\r\n",
       "<g id=\"node8\" class=\"node\"><title>7</title>\r\n",
       "<path fill=\"#f8dbc6\" stroke=\"black\" d=\"M331.5,-187C331.5,-187 246.5,-187 246.5,-187 240.5,-187 234.5,-181 234.5,-175 234.5,-175 234.5,-116 234.5,-116 234.5,-110 240.5,-104 246.5,-104 246.5,-104 331.5,-104 331.5,-104 337.5,-104 343.5,-110 343.5,-116 343.5,-116 343.5,-175 343.5,-175 343.5,-181 337.5,-187 331.5,-187\"/>\r\n",
       "<text text-anchor=\"middle\" x=\"289\" y=\"-171.8\" font-family=\"Helvetica,sans-Serif\" font-size=\"14.00\">restecg &lt;= 0.5</text>\r\n",
       "<text text-anchor=\"middle\" x=\"289\" y=\"-156.8\" font-family=\"Helvetica,sans-Serif\" font-size=\"14.00\">0.49</text>\r\n",
       "<text text-anchor=\"middle\" x=\"289\" y=\"-141.8\" font-family=\"Helvetica,sans-Serif\" font-size=\"14.00\">5.0%</text>\r\n",
       "<text text-anchor=\"middle\" x=\"289\" y=\"-126.8\" font-family=\"Helvetica,sans-Serif\" font-size=\"14.00\">[0.58, 0.42]</text>\r\n",
       "<text text-anchor=\"middle\" x=\"289\" y=\"-111.8\" font-family=\"Helvetica,sans-Serif\" font-size=\"14.00\">disease</text>\r\n",
       "</g>\r\n",
       "<!-- 3&#45;&gt;7 -->\r\n",
       "<g id=\"edge7\" class=\"edge\"><title>3&#45;&gt;7</title>\r\n",
       "<path fill=\"none\" stroke=\"black\" d=\"M289,-222.907C289,-214.649 289,-205.864 289,-197.302\"/>\r\n",
       "<polygon fill=\"black\" stroke=\"black\" points=\"292.5,-197.021 289,-187.021 285.5,-197.021 292.5,-197.021\"/>\r\n",
       "</g>\r\n",
       "<!-- 5 -->\r\n",
       "<g id=\"node6\" class=\"node\"><title>5</title>\r\n",
       "<path fill=\"#e58139\" stroke=\"black\" d=\"M60,-68C60,-68 12,-68 12,-68 6,-68 0,-62 0,-56 0,-56 0,-12 0,-12 0,-6 6,-0 12,-0 12,-0 60,-0 60,-0 66,-0 72,-6 72,-12 72,-12 72,-56 72,-56 72,-62 66,-68 60,-68\"/>\r\n",
       "<text text-anchor=\"middle\" x=\"36\" y=\"-52.8\" font-family=\"Helvetica,sans-Serif\" font-size=\"14.00\">0.0</text>\r\n",
       "<text text-anchor=\"middle\" x=\"36\" y=\"-37.8\" font-family=\"Helvetica,sans-Serif\" font-size=\"14.00\">0.4%</text>\r\n",
       "<text text-anchor=\"middle\" x=\"36\" y=\"-22.8\" font-family=\"Helvetica,sans-Serif\" font-size=\"14.00\">[1.0, 0.0]</text>\r\n",
       "<text text-anchor=\"middle\" x=\"36\" y=\"-7.8\" font-family=\"Helvetica,sans-Serif\" font-size=\"14.00\">disease</text>\r\n",
       "</g>\r\n",
       "<!-- 4&#45;&gt;5 -->\r\n",
       "<g id=\"edge5\" class=\"edge\"><title>4&#45;&gt;5</title>\r\n",
       "<path fill=\"none\" stroke=\"black\" d=\"M98.1361,-103.726C89.8898,-94.6054 81.1422,-84.93 72.8947,-75.8078\"/>\r\n",
       "<polygon fill=\"black\" stroke=\"black\" points=\"75.4092,-73.3701 66.1065,-68.2996 70.2168,-78.0647 75.4092,-73.3701\"/>\r\n",
       "</g>\r\n",
       "<!-- 6 -->\r\n",
       "<g id=\"node7\" class=\"node\"><title>6</title>\r\n",
       "<path fill=\"#42a2e6\" stroke=\"black\" d=\"M167.5,-68C167.5,-68 102.5,-68 102.5,-68 96.5,-68 90.5,-62 90.5,-56 90.5,-56 90.5,-12 90.5,-12 90.5,-6 96.5,-0 102.5,-0 102.5,-0 167.5,-0 167.5,-0 173.5,-0 179.5,-6 179.5,-12 179.5,-12 179.5,-56 179.5,-56 179.5,-62 173.5,-68 167.5,-68\"/>\r\n",
       "<text text-anchor=\"middle\" x=\"135\" y=\"-52.8\" font-family=\"Helvetica,sans-Serif\" font-size=\"14.00\">0.09</text>\r\n",
       "<text text-anchor=\"middle\" x=\"135\" y=\"-37.8\" font-family=\"Helvetica,sans-Serif\" font-size=\"14.00\">9.1%</text>\r\n",
       "<text text-anchor=\"middle\" x=\"135\" y=\"-22.8\" font-family=\"Helvetica,sans-Serif\" font-size=\"14.00\">[0.05, 0.95]</text>\r\n",
       "<text text-anchor=\"middle\" x=\"135\" y=\"-7.8\" font-family=\"Helvetica,sans-Serif\" font-size=\"14.00\">disease</text>\r\n",
       "</g>\r\n",
       "<!-- 4&#45;&gt;6 -->\r\n",
       "<g id=\"edge6\" class=\"edge\"><title>4&#45;&gt;6</title>\r\n",
       "<path fill=\"none\" stroke=\"black\" d=\"M135,-103.726C135,-95.5175 135,-86.8595 135,-78.56\"/>\r\n",
       "<polygon fill=\"black\" stroke=\"black\" points=\"138.5,-78.2996 135,-68.2996 131.5,-78.2996 138.5,-78.2996\"/>\r\n",
       "</g>\r\n",
       "<!-- 8 -->\r\n",
       "<g id=\"node9\" class=\"node\"><title>8</title>\r\n",
       "<path fill=\"#399de5\" stroke=\"black\" d=\"M258,-68C258,-68 210,-68 210,-68 204,-68 198,-62 198,-56 198,-56 198,-12 198,-12 198,-6 204,-0 210,-0 210,-0 258,-0 258,-0 264,-0 270,-6 270,-12 270,-12 270,-56 270,-56 270,-62 264,-68 258,-68\"/>\r\n",
       "<text text-anchor=\"middle\" x=\"234\" y=\"-52.8\" font-family=\"Helvetica,sans-Serif\" font-size=\"14.00\">0.0</text>\r\n",
       "<text text-anchor=\"middle\" x=\"234\" y=\"-37.8\" font-family=\"Helvetica,sans-Serif\" font-size=\"14.00\">1.2%</text>\r\n",
       "<text text-anchor=\"middle\" x=\"234\" y=\"-22.8\" font-family=\"Helvetica,sans-Serif\" font-size=\"14.00\">[0.0, 1.0]</text>\r\n",
       "<text text-anchor=\"middle\" x=\"234\" y=\"-7.8\" font-family=\"Helvetica,sans-Serif\" font-size=\"14.00\">disease</text>\r\n",
       "</g>\r\n",
       "<!-- 7&#45;&gt;8 -->\r\n",
       "<g id=\"edge8\" class=\"edge\"><title>7&#45;&gt;8</title>\r\n",
       "<path fill=\"none\" stroke=\"black\" d=\"M268.52,-103.726C264.214,-95.1527 259.661,-86.0891 255.325,-77.4555\"/>\r\n",
       "<polygon fill=\"black\" stroke=\"black\" points=\"258.342,-75.6647 250.726,-68.2996 252.087,-78.8067 258.342,-75.6647\"/>\r\n",
       "</g>\r\n",
       "<!-- 9 -->\r\n",
       "<g id=\"node10\" class=\"node\"><title>9</title>\r\n",
       "<path fill=\"#eca572\" stroke=\"black\" d=\"M365.5,-68C365.5,-68 300.5,-68 300.5,-68 294.5,-68 288.5,-62 288.5,-56 288.5,-56 288.5,-12 288.5,-12 288.5,-6 294.5,-0 300.5,-0 300.5,-0 365.5,-0 365.5,-0 371.5,-0 377.5,-6 377.5,-12 377.5,-12 377.5,-56 377.5,-56 377.5,-62 371.5,-68 365.5,-68\"/>\r\n",
       "<text text-anchor=\"middle\" x=\"333\" y=\"-52.8\" font-family=\"Helvetica,sans-Serif\" font-size=\"14.00\">0.35</text>\r\n",
       "<text text-anchor=\"middle\" x=\"333\" y=\"-37.8\" font-family=\"Helvetica,sans-Serif\" font-size=\"14.00\">3.7%</text>\r\n",
       "<text text-anchor=\"middle\" x=\"333\" y=\"-22.8\" font-family=\"Helvetica,sans-Serif\" font-size=\"14.00\">[0.78, 0.22]</text>\r\n",
       "<text text-anchor=\"middle\" x=\"333\" y=\"-7.8\" font-family=\"Helvetica,sans-Serif\" font-size=\"14.00\">disease</text>\r\n",
       "</g>\r\n",
       "<!-- 7&#45;&gt;9 -->\r\n",
       "<g id=\"edge9\" class=\"edge\"><title>7&#45;&gt;9</title>\r\n",
       "<path fill=\"none\" stroke=\"black\" d=\"M305.384,-103.726C308.792,-95.2439 312.394,-86.2819 315.829,-77.7312\"/>\r\n",
       "<polygon fill=\"black\" stroke=\"black\" points=\"319.138,-78.8835 319.619,-68.2996 312.643,-76.2735 319.138,-78.8835\"/>\r\n",
       "</g>\r\n",
       "<!-- 11 -->\r\n",
       "<g id=\"node12\" class=\"node\"><title>11</title>\r\n",
       "<path fill=\"#bddef6\" stroke=\"black\" d=\"M466.5,-187C466.5,-187 397.5,-187 397.5,-187 391.5,-187 385.5,-181 385.5,-175 385.5,-175 385.5,-116 385.5,-116 385.5,-110 391.5,-104 397.5,-104 397.5,-104 466.5,-104 466.5,-104 472.5,-104 478.5,-110 478.5,-116 478.5,-116 478.5,-175 478.5,-175 478.5,-181 472.5,-187 466.5,-187\"/>\r\n",
       "<text text-anchor=\"middle\" x=\"432\" y=\"-171.8\" font-family=\"Helvetica,sans-Serif\" font-size=\"14.00\">age &lt;= 42.0</text>\r\n",
       "<text text-anchor=\"middle\" x=\"432\" y=\"-156.8\" font-family=\"Helvetica,sans-Serif\" font-size=\"14.00\">0.48</text>\r\n",
       "<text text-anchor=\"middle\" x=\"432\" y=\"-141.8\" font-family=\"Helvetica,sans-Serif\" font-size=\"14.00\">2.1%</text>\r\n",
       "<text text-anchor=\"middle\" x=\"432\" y=\"-126.8\" font-family=\"Helvetica,sans-Serif\" font-size=\"14.00\">[0.4, 0.6]</text>\r\n",
       "<text text-anchor=\"middle\" x=\"432\" y=\"-111.8\" font-family=\"Helvetica,sans-Serif\" font-size=\"14.00\">disease</text>\r\n",
       "</g>\r\n",
       "<!-- 10&#45;&gt;11 -->\r\n",
       "<g id=\"edge11\" class=\"edge\"><title>10&#45;&gt;11</title>\r\n",
       "<path fill=\"none\" stroke=\"black\" d=\"M466.612,-222.907C462.707,-214.286 458.541,-205.09 454.502,-196.175\"/>\r\n",
       "<polygon fill=\"black\" stroke=\"black\" points=\"457.67,-194.686 450.356,-187.021 451.294,-197.574 457.67,-194.686\"/>\r\n",
       "</g>\r\n",
       "<!-- 14 -->\r\n",
       "<g id=\"node15\" class=\"node\"><title>14</title>\r\n",
       "<path fill=\"#e58139\" stroke=\"black\" d=\"M557,-179.5C557,-179.5 509,-179.5 509,-179.5 503,-179.5 497,-173.5 497,-167.5 497,-167.5 497,-123.5 497,-123.5 497,-117.5 503,-111.5 509,-111.5 509,-111.5 557,-111.5 557,-111.5 563,-111.5 569,-117.5 569,-123.5 569,-123.5 569,-167.5 569,-167.5 569,-173.5 563,-179.5 557,-179.5\"/>\r\n",
       "<text text-anchor=\"middle\" x=\"533\" y=\"-164.3\" font-family=\"Helvetica,sans-Serif\" font-size=\"14.00\">0.0</text>\r\n",
       "<text text-anchor=\"middle\" x=\"533\" y=\"-149.3\" font-family=\"Helvetica,sans-Serif\" font-size=\"14.00\">5.8%</text>\r\n",
       "<text text-anchor=\"middle\" x=\"533\" y=\"-134.3\" font-family=\"Helvetica,sans-Serif\" font-size=\"14.00\">[1.0, 0.0]</text>\r\n",
       "<text text-anchor=\"middle\" x=\"533\" y=\"-119.3\" font-family=\"Helvetica,sans-Serif\" font-size=\"14.00\">disease</text>\r\n",
       "</g>\r\n",
       "<!-- 10&#45;&gt;14 -->\r\n",
       "<g id=\"edge14\" class=\"edge\"><title>10&#45;&gt;14</title>\r\n",
       "<path fill=\"none\" stroke=\"black\" d=\"M501.653,-222.907C506.135,-211.983 510.995,-200.137 515.52,-189.107\"/>\r\n",
       "<polygon fill=\"black\" stroke=\"black\" points=\"518.836,-190.247 519.393,-179.667 512.359,-187.59 518.836,-190.247\"/>\r\n",
       "</g>\r\n",
       "<!-- 12 -->\r\n",
       "<g id=\"node13\" class=\"node\"><title>12</title>\r\n",
       "<path fill=\"#e58139\" stroke=\"black\" d=\"M456,-68C456,-68 408,-68 408,-68 402,-68 396,-62 396,-56 396,-56 396,-12 396,-12 396,-6 402,-0 408,-0 408,-0 456,-0 456,-0 462,-0 468,-6 468,-12 468,-12 468,-56 468,-56 468,-62 462,-68 456,-68\"/>\r\n",
       "<text text-anchor=\"middle\" x=\"432\" y=\"-52.8\" font-family=\"Helvetica,sans-Serif\" font-size=\"14.00\">0.0</text>\r\n",
       "<text text-anchor=\"middle\" x=\"432\" y=\"-37.8\" font-family=\"Helvetica,sans-Serif\" font-size=\"14.00\">0.8%</text>\r\n",
       "<text text-anchor=\"middle\" x=\"432\" y=\"-22.8\" font-family=\"Helvetica,sans-Serif\" font-size=\"14.00\">[1.0, 0.0]</text>\r\n",
       "<text text-anchor=\"middle\" x=\"432\" y=\"-7.8\" font-family=\"Helvetica,sans-Serif\" font-size=\"14.00\">disease</text>\r\n",
       "</g>\r\n",
       "<!-- 11&#45;&gt;12 -->\r\n",
       "<g id=\"edge12\" class=\"edge\"><title>11&#45;&gt;12</title>\r\n",
       "<path fill=\"none\" stroke=\"black\" d=\"M432,-103.726C432,-95.5175 432,-86.8595 432,-78.56\"/>\r\n",
       "<polygon fill=\"black\" stroke=\"black\" points=\"435.5,-78.2996 432,-68.2996 428.5,-78.2996 435.5,-78.2996\"/>\r\n",
       "</g>\r\n",
       "<!-- 13 -->\r\n",
       "<g id=\"node14\" class=\"node\"><title>13</title>\r\n",
       "<path fill=\"#399de5\" stroke=\"black\" d=\"M546,-68C546,-68 498,-68 498,-68 492,-68 486,-62 486,-56 486,-56 486,-12 486,-12 486,-6 492,-0 498,-0 498,-0 546,-0 546,-0 552,-0 558,-6 558,-12 558,-12 558,-56 558,-56 558,-62 552,-68 546,-68\"/>\r\n",
       "<text text-anchor=\"middle\" x=\"522\" y=\"-52.8\" font-family=\"Helvetica,sans-Serif\" font-size=\"14.00\">0.0</text>\r\n",
       "<text text-anchor=\"middle\" x=\"522\" y=\"-37.8\" font-family=\"Helvetica,sans-Serif\" font-size=\"14.00\">1.2%</text>\r\n",
       "<text text-anchor=\"middle\" x=\"522\" y=\"-22.8\" font-family=\"Helvetica,sans-Serif\" font-size=\"14.00\">[0.0, 1.0]</text>\r\n",
       "<text text-anchor=\"middle\" x=\"522\" y=\"-7.8\" font-family=\"Helvetica,sans-Serif\" font-size=\"14.00\">disease</text>\r\n",
       "</g>\r\n",
       "<!-- 11&#45;&gt;13 -->\r\n",
       "<g id=\"edge13\" class=\"edge\"><title>11&#45;&gt;13</title>\r\n",
       "<path fill=\"none\" stroke=\"black\" d=\"M465.513,-103.726C472.934,-94.6966 480.803,-85.1235 488.234,-76.0816\"/>\r\n",
       "<polygon fill=\"black\" stroke=\"black\" points=\"490.985,-78.2474 494.63,-68.2996 485.577,-73.8026 490.985,-78.2474\"/>\r\n",
       "</g>\r\n",
       "<!-- 16 -->\r\n",
       "<g id=\"node17\" class=\"node\"><title>16</title>\r\n",
       "<path fill=\"#eeab7b\" stroke=\"black\" d=\"M749.5,-306C749.5,-306 654.5,-306 654.5,-306 648.5,-306 642.5,-300 642.5,-294 642.5,-294 642.5,-235 642.5,-235 642.5,-229 648.5,-223 654.5,-223 654.5,-223 749.5,-223 749.5,-223 755.5,-223 761.5,-229 761.5,-235 761.5,-235 761.5,-294 761.5,-294 761.5,-300 755.5,-306 749.5,-306\"/>\r\n",
       "<text text-anchor=\"middle\" x=\"702\" y=\"-290.8\" font-family=\"Helvetica,sans-Serif\" font-size=\"14.00\">oldpeak &lt;= 0.65</text>\r\n",
       "<text text-anchor=\"middle\" x=\"702\" y=\"-275.8\" font-family=\"Helvetica,sans-Serif\" font-size=\"14.00\">0.38</text>\r\n",
       "<text text-anchor=\"middle\" x=\"702\" y=\"-260.8\" font-family=\"Helvetica,sans-Serif\" font-size=\"14.00\">5.0%</text>\r\n",
       "<text text-anchor=\"middle\" x=\"702\" y=\"-245.8\" font-family=\"Helvetica,sans-Serif\" font-size=\"14.00\">[0.75, 0.25]</text>\r\n",
       "<text text-anchor=\"middle\" x=\"702\" y=\"-230.8\" font-family=\"Helvetica,sans-Serif\" font-size=\"14.00\">disease</text>\r\n",
       "</g>\r\n",
       "<!-- 15&#45;&gt;16 -->\r\n",
       "<g id=\"edge16\" class=\"edge\"><title>15&#45;&gt;16</title>\r\n",
       "<path fill=\"none\" stroke=\"black\" d=\"M739.224,-341.907C735.024,-333.286 730.544,-324.09 726.201,-315.175\"/>\r\n",
       "<polygon fill=\"black\" stroke=\"black\" points=\"729.267,-313.478 721.741,-306.021 722.974,-316.544 729.267,-313.478\"/>\r\n",
       "</g>\r\n",
       "<!-- 21 -->\r\n",
       "<g id=\"node22\" class=\"node\"><title>21</title>\r\n",
       "<path fill=\"#e58139\" stroke=\"black\" d=\"M840,-298.5C840,-298.5 792,-298.5 792,-298.5 786,-298.5 780,-292.5 780,-286.5 780,-286.5 780,-242.5 780,-242.5 780,-236.5 786,-230.5 792,-230.5 792,-230.5 840,-230.5 840,-230.5 846,-230.5 852,-236.5 852,-242.5 852,-242.5 852,-286.5 852,-286.5 852,-292.5 846,-298.5 840,-298.5\"/>\r\n",
       "<text text-anchor=\"middle\" x=\"816\" y=\"-283.3\" font-family=\"Helvetica,sans-Serif\" font-size=\"14.00\">0.0</text>\r\n",
       "<text text-anchor=\"middle\" x=\"816\" y=\"-268.3\" font-family=\"Helvetica,sans-Serif\" font-size=\"14.00\">21.1%</text>\r\n",
       "<text text-anchor=\"middle\" x=\"816\" y=\"-253.3\" font-family=\"Helvetica,sans-Serif\" font-size=\"14.00\">[1.0, 0.0]</text>\r\n",
       "<text text-anchor=\"middle\" x=\"816\" y=\"-238.3\" font-family=\"Helvetica,sans-Serif\" font-size=\"14.00\">disease</text>\r\n",
       "</g>\r\n",
       "<!-- 15&#45;&gt;21 -->\r\n",
       "<g id=\"edge21\" class=\"edge\"><title>15&#45;&gt;21</title>\r\n",
       "<path fill=\"none\" stroke=\"black\" d=\"M778.776,-341.907C784.152,-330.873 789.986,-318.898 795.406,-307.773\"/>\r\n",
       "<polygon fill=\"black\" stroke=\"black\" points=\"798.608,-309.19 799.842,-298.667 792.316,-306.124 798.608,-309.19\"/>\r\n",
       "</g>\r\n",
       "<!-- 17 -->\r\n",
       "<g id=\"node18\" class=\"node\"><title>17</title>\r\n",
       "<path fill=\"#399de5\" stroke=\"black\" d=\"M647,-179.5C647,-179.5 599,-179.5 599,-179.5 593,-179.5 587,-173.5 587,-167.5 587,-167.5 587,-123.5 587,-123.5 587,-117.5 593,-111.5 599,-111.5 599,-111.5 647,-111.5 647,-111.5 653,-111.5 659,-117.5 659,-123.5 659,-123.5 659,-167.5 659,-167.5 659,-173.5 653,-179.5 647,-179.5\"/>\r\n",
       "<text text-anchor=\"middle\" x=\"623\" y=\"-164.3\" font-family=\"Helvetica,sans-Serif\" font-size=\"14.00\">0.0</text>\r\n",
       "<text text-anchor=\"middle\" x=\"623\" y=\"-149.3\" font-family=\"Helvetica,sans-Serif\" font-size=\"14.00\">0.8%</text>\r\n",
       "<text text-anchor=\"middle\" x=\"623\" y=\"-134.3\" font-family=\"Helvetica,sans-Serif\" font-size=\"14.00\">[0.0, 1.0]</text>\r\n",
       "<text text-anchor=\"middle\" x=\"623\" y=\"-119.3\" font-family=\"Helvetica,sans-Serif\" font-size=\"14.00\">disease</text>\r\n",
       "</g>\r\n",
       "<!-- 16&#45;&gt;17 -->\r\n",
       "<g id=\"edge17\" class=\"edge\"><title>16&#45;&gt;17</title>\r\n",
       "<path fill=\"none\" stroke=\"black\" d=\"M674.591,-222.907C666.992,-211.652 658.731,-199.418 651.093,-188.106\"/>\r\n",
       "<polygon fill=\"black\" stroke=\"black\" points=\"653.891,-185.996 645.395,-179.667 648.09,-189.913 653.891,-185.996\"/>\r\n",
       "</g>\r\n",
       "<!-- 18 -->\r\n",
       "<g id=\"node19\" class=\"node\"><title>18</title>\r\n",
       "<path fill=\"#e88f4f\" stroke=\"black\" d=\"M787,-187C787,-187 689,-187 689,-187 683,-187 677,-181 677,-175 677,-175 677,-116 677,-116 677,-110 683,-104 689,-104 689,-104 787,-104 787,-104 793,-104 799,-110 799,-116 799,-116 799,-175 799,-175 799,-181 793,-187 787,-187\"/>\r\n",
       "<text text-anchor=\"middle\" x=\"738\" y=\"-171.8\" font-family=\"Helvetica,sans-Serif\" font-size=\"14.00\">thalach &lt;= 126.0</text>\r\n",
       "<text text-anchor=\"middle\" x=\"738\" y=\"-156.8\" font-family=\"Helvetica,sans-Serif\" font-size=\"14.00\">0.18</text>\r\n",
       "<text text-anchor=\"middle\" x=\"738\" y=\"-141.8\" font-family=\"Helvetica,sans-Serif\" font-size=\"14.00\">4.1%</text>\r\n",
       "<text text-anchor=\"middle\" x=\"738\" y=\"-126.8\" font-family=\"Helvetica,sans-Serif\" font-size=\"14.00\">[0.9, 0.1]</text>\r\n",
       "<text text-anchor=\"middle\" x=\"738\" y=\"-111.8\" font-family=\"Helvetica,sans-Serif\" font-size=\"14.00\">disease</text>\r\n",
       "</g>\r\n",
       "<!-- 16&#45;&gt;18 -->\r\n",
       "<g id=\"edge18\" class=\"edge\"><title>16&#45;&gt;18</title>\r\n",
       "<path fill=\"none\" stroke=\"black\" d=\"M714.49,-222.907C717.087,-214.468 719.853,-205.477 722.542,-196.738\"/>\r\n",
       "<polygon fill=\"black\" stroke=\"black\" points=\"725.936,-197.608 725.532,-187.021 719.246,-195.549 725.936,-197.608\"/>\r\n",
       "</g>\r\n",
       "<!-- 19 -->\r\n",
       "<g id=\"node20\" class=\"node\"><title>19</title>\r\n",
       "<path fill=\"#ffffff\" stroke=\"black\" d=\"M672,-68C672,-68 624,-68 624,-68 618,-68 612,-62 612,-56 612,-56 612,-12 612,-12 612,-6 618,-0 624,-0 624,-0 672,-0 672,-0 678,-0 684,-6 684,-12 684,-12 684,-56 684,-56 684,-62 678,-68 672,-68\"/>\r\n",
       "<text text-anchor=\"middle\" x=\"648\" y=\"-52.8\" font-family=\"Helvetica,sans-Serif\" font-size=\"14.00\">0.5</text>\r\n",
       "<text text-anchor=\"middle\" x=\"648\" y=\"-37.8\" font-family=\"Helvetica,sans-Serif\" font-size=\"14.00\">0.8%</text>\r\n",
       "<text text-anchor=\"middle\" x=\"648\" y=\"-22.8\" font-family=\"Helvetica,sans-Serif\" font-size=\"14.00\">[0.5, 0.5]</text>\r\n",
       "<text text-anchor=\"middle\" x=\"648\" y=\"-7.8\" font-family=\"Helvetica,sans-Serif\" font-size=\"14.00\">disease</text>\r\n",
       "</g>\r\n",
       "<!-- 18&#45;&gt;19 -->\r\n",
       "<g id=\"edge19\" class=\"edge\"><title>18&#45;&gt;19</title>\r\n",
       "<path fill=\"none\" stroke=\"black\" d=\"M704.487,-103.726C697.066,-94.6966 689.197,-85.1235 681.766,-76.0816\"/>\r\n",
       "<polygon fill=\"black\" stroke=\"black\" points=\"684.423,-73.8026 675.37,-68.2996 679.015,-78.2474 684.423,-73.8026\"/>\r\n",
       "</g>\r\n",
       "<!-- 20 -->\r\n",
       "<g id=\"node21\" class=\"node\"><title>20</title>\r\n",
       "<path fill=\"#e58139\" stroke=\"black\" d=\"M762,-68C762,-68 714,-68 714,-68 708,-68 702,-62 702,-56 702,-56 702,-12 702,-12 702,-6 708,-0 714,-0 714,-0 762,-0 762,-0 768,-0 774,-6 774,-12 774,-12 774,-56 774,-56 774,-62 768,-68 762,-68\"/>\r\n",
       "<text text-anchor=\"middle\" x=\"738\" y=\"-52.8\" font-family=\"Helvetica,sans-Serif\" font-size=\"14.00\">0.0</text>\r\n",
       "<text text-anchor=\"middle\" x=\"738\" y=\"-37.8\" font-family=\"Helvetica,sans-Serif\" font-size=\"14.00\">3.3%</text>\r\n",
       "<text text-anchor=\"middle\" x=\"738\" y=\"-22.8\" font-family=\"Helvetica,sans-Serif\" font-size=\"14.00\">[1.0, 0.0]</text>\r\n",
       "<text text-anchor=\"middle\" x=\"738\" y=\"-7.8\" font-family=\"Helvetica,sans-Serif\" font-size=\"14.00\">disease</text>\r\n",
       "</g>\r\n",
       "<!-- 18&#45;&gt;20 -->\r\n",
       "<g id=\"edge20\" class=\"edge\"><title>18&#45;&gt;20</title>\r\n",
       "<path fill=\"none\" stroke=\"black\" d=\"M738,-103.726C738,-95.5175 738,-86.8595 738,-78.56\"/>\r\n",
       "<polygon fill=\"black\" stroke=\"black\" points=\"741.5,-78.2996 738,-68.2996 734.5,-78.2996 741.5,-78.2996\"/>\r\n",
       "</g>\r\n",
       "<!-- 23 -->\r\n",
       "<g id=\"node24\" class=\"node\"><title>23</title>\r\n",
       "<path fill=\"#64b2eb\" stroke=\"black\" d=\"M1110.5,-425C1110.5,-425 1045.5,-425 1045.5,-425 1039.5,-425 1033.5,-419 1033.5,-413 1033.5,-413 1033.5,-354 1033.5,-354 1033.5,-348 1039.5,-342 1045.5,-342 1045.5,-342 1110.5,-342 1110.5,-342 1116.5,-342 1122.5,-348 1122.5,-354 1122.5,-354 1122.5,-413 1122.5,-413 1122.5,-419 1116.5,-425 1110.5,-425\"/>\r\n",
       "<text text-anchor=\"middle\" x=\"1078\" y=\"-409.8\" font-family=\"Helvetica,sans-Serif\" font-size=\"14.00\">thal &lt;= 2.5</text>\r\n",
       "<text text-anchor=\"middle\" x=\"1078\" y=\"-394.8\" font-family=\"Helvetica,sans-Serif\" font-size=\"14.00\">0.29</text>\r\n",
       "<text text-anchor=\"middle\" x=\"1078\" y=\"-379.8\" font-family=\"Helvetica,sans-Serif\" font-size=\"14.00\">46.7%</text>\r\n",
       "<text text-anchor=\"middle\" x=\"1078\" y=\"-364.8\" font-family=\"Helvetica,sans-Serif\" font-size=\"14.00\">[0.18, 0.82]</text>\r\n",
       "<text text-anchor=\"middle\" x=\"1078\" y=\"-349.8\" font-family=\"Helvetica,sans-Serif\" font-size=\"14.00\">disease</text>\r\n",
       "</g>\r\n",
       "<!-- 22&#45;&gt;23 -->\r\n",
       "<g id=\"edge23\" class=\"edge\"><title>22&#45;&gt;23</title>\r\n",
       "<path fill=\"none\" stroke=\"black\" d=\"M1078,-460.907C1078,-452.649 1078,-443.864 1078,-435.302\"/>\r\n",
       "<polygon fill=\"black\" stroke=\"black\" points=\"1081.5,-435.021 1078,-425.021 1074.5,-435.021 1081.5,-435.021\"/>\r\n",
       "</g>\r\n",
       "<!-- 36 -->\r\n",
       "<g id=\"node37\" class=\"node\"><title>36</title>\r\n",
       "<path fill=\"#f2c09c\" stroke=\"black\" d=\"M1292,-425C1292,-425 1220,-425 1220,-425 1214,-425 1208,-419 1208,-413 1208,-413 1208,-354 1208,-354 1208,-348 1214,-342 1220,-342 1220,-342 1292,-342 1292,-342 1298,-342 1304,-348 1304,-354 1304,-354 1304,-413 1304,-413 1304,-419 1298,-425 1292,-425\"/>\r\n",
       "<text text-anchor=\"middle\" x=\"1256\" y=\"-409.8\" font-family=\"Helvetica,sans-Serif\" font-size=\"14.00\">slope &lt;= 0.5</text>\r\n",
       "<text text-anchor=\"middle\" x=\"1256\" y=\"-394.8\" font-family=\"Helvetica,sans-Serif\" font-size=\"14.00\">0.44</text>\r\n",
       "<text text-anchor=\"middle\" x=\"1256\" y=\"-379.8\" font-family=\"Helvetica,sans-Serif\" font-size=\"14.00\">5.0%</text>\r\n",
       "<text text-anchor=\"middle\" x=\"1256\" y=\"-364.8\" font-family=\"Helvetica,sans-Serif\" font-size=\"14.00\">[0.67, 0.33]</text>\r\n",
       "<text text-anchor=\"middle\" x=\"1256\" y=\"-349.8\" font-family=\"Helvetica,sans-Serif\" font-size=\"14.00\">disease</text>\r\n",
       "</g>\r\n",
       "<!-- 22&#45;&gt;36 -->\r\n",
       "<g id=\"edge36\" class=\"edge\"><title>22&#45;&gt;36</title>\r\n",
       "<path fill=\"none\" stroke=\"black\" d=\"M1137.77,-462.215C1157.65,-449.146 1179.72,-434.637 1199.36,-421.728\"/>\r\n",
       "<polygon fill=\"black\" stroke=\"black\" points=\"1201.47,-424.53 1207.91,-416.112 1197.63,-418.68 1201.47,-424.53\"/>\r\n",
       "</g>\r\n",
       "<!-- 24 -->\r\n",
       "<g id=\"node25\" class=\"node\"><title>24</title>\r\n",
       "<path fill=\"#50a9e8\" stroke=\"black\" d=\"M1049.5,-306C1049.5,-306 980.5,-306 980.5,-306 974.5,-306 968.5,-300 968.5,-294 968.5,-294 968.5,-235 968.5,-235 968.5,-229 974.5,-223 980.5,-223 980.5,-223 1049.5,-223 1049.5,-223 1055.5,-223 1061.5,-229 1061.5,-235 1061.5,-235 1061.5,-294 1061.5,-294 1061.5,-300 1055.5,-306 1049.5,-306\"/>\r\n",
       "<text text-anchor=\"middle\" x=\"1015\" y=\"-290.8\" font-family=\"Helvetica,sans-Serif\" font-size=\"14.00\">age &lt;= 55.5</text>\r\n",
       "<text text-anchor=\"middle\" x=\"1015\" y=\"-275.8\" font-family=\"Helvetica,sans-Serif\" font-size=\"14.00\">0.19</text>\r\n",
       "<text text-anchor=\"middle\" x=\"1015\" y=\"-260.8\" font-family=\"Helvetica,sans-Serif\" font-size=\"14.00\">35.1%</text>\r\n",
       "<text text-anchor=\"middle\" x=\"1015\" y=\"-245.8\" font-family=\"Helvetica,sans-Serif\" font-size=\"14.00\">[0.11, 0.89]</text>\r\n",
       "<text text-anchor=\"middle\" x=\"1015\" y=\"-230.8\" font-family=\"Helvetica,sans-Serif\" font-size=\"14.00\">disease</text>\r\n",
       "</g>\r\n",
       "<!-- 23&#45;&gt;24 -->\r\n",
       "<g id=\"edge24\" class=\"edge\"><title>23&#45;&gt;24</title>\r\n",
       "<path fill=\"none\" stroke=\"black\" d=\"M1056.14,-341.907C1051.45,-333.195 1046.44,-323.897 1041.6,-314.893\"/>\r\n",
       "<polygon fill=\"black\" stroke=\"black\" points=\"1044.64,-313.166 1036.82,-306.021 1038.48,-316.485 1044.64,-313.166\"/>\r\n",
       "</g>\r\n",
       "<!-- 31 -->\r\n",
       "<g id=\"node32\" class=\"node\"><title>31</title>\r\n",
       "<path fill=\"#b9dcf6\" stroke=\"black\" d=\"M1190,-306C1190,-306 1092,-306 1092,-306 1086,-306 1080,-300 1080,-294 1080,-294 1080,-235 1080,-235 1080,-229 1086,-223 1092,-223 1092,-223 1190,-223 1190,-223 1196,-223 1202,-229 1202,-235 1202,-235 1202,-294 1202,-294 1202,-300 1196,-306 1190,-306\"/>\r\n",
       "<text text-anchor=\"middle\" x=\"1141\" y=\"-290.8\" font-family=\"Helvetica,sans-Serif\" font-size=\"14.00\">thalach &lt;= 132.5</text>\r\n",
       "<text text-anchor=\"middle\" x=\"1141\" y=\"-275.8\" font-family=\"Helvetica,sans-Serif\" font-size=\"14.00\">0.48</text>\r\n",
       "<text text-anchor=\"middle\" x=\"1141\" y=\"-260.8\" font-family=\"Helvetica,sans-Serif\" font-size=\"14.00\">11.6%</text>\r\n",
       "<text text-anchor=\"middle\" x=\"1141\" y=\"-245.8\" font-family=\"Helvetica,sans-Serif\" font-size=\"14.00\">[0.39, 0.61]</text>\r\n",
       "<text text-anchor=\"middle\" x=\"1141\" y=\"-230.8\" font-family=\"Helvetica,sans-Serif\" font-size=\"14.00\">disease</text>\r\n",
       "</g>\r\n",
       "<!-- 23&#45;&gt;31 -->\r\n",
       "<g id=\"edge31\" class=\"edge\"><title>23&#45;&gt;31</title>\r\n",
       "<path fill=\"none\" stroke=\"black\" d=\"M1099.86,-341.907C1104.55,-333.195 1109.56,-323.897 1114.4,-314.893\"/>\r\n",
       "<polygon fill=\"black\" stroke=\"black\" points=\"1117.52,-316.485 1119.18,-306.021 1111.36,-313.166 1117.52,-316.485\"/>\r\n",
       "</g>\r\n",
       "<!-- 25 -->\r\n",
       "<g id=\"node26\" class=\"node\"><title>25</title>\r\n",
       "<path fill=\"#3d9fe5\" stroke=\"black\" d=\"M952.5,-187C952.5,-187 847.5,-187 847.5,-187 841.5,-187 835.5,-181 835.5,-175 835.5,-175 835.5,-116 835.5,-116 835.5,-110 841.5,-104 847.5,-104 847.5,-104 952.5,-104 952.5,-104 958.5,-104 964.5,-110 964.5,-116 964.5,-116 964.5,-175 964.5,-175 964.5,-181 958.5,-187 952.5,-187\"/>\r\n",
       "<text text-anchor=\"middle\" x=\"900\" y=\"-171.8\" font-family=\"Helvetica,sans-Serif\" font-size=\"14.00\">trestbps &lt;= 109.0</text>\r\n",
       "<text text-anchor=\"middle\" x=\"900\" y=\"-156.8\" font-family=\"Helvetica,sans-Serif\" font-size=\"14.00\">0.04</text>\r\n",
       "<text text-anchor=\"middle\" x=\"900\" y=\"-141.8\" font-family=\"Helvetica,sans-Serif\" font-size=\"14.00\">22.7%</text>\r\n",
       "<text text-anchor=\"middle\" x=\"900\" y=\"-126.8\" font-family=\"Helvetica,sans-Serif\" font-size=\"14.00\">[0.02, 0.98]</text>\r\n",
       "<text text-anchor=\"middle\" x=\"900\" y=\"-111.8\" font-family=\"Helvetica,sans-Serif\" font-size=\"14.00\">disease</text>\r\n",
       "</g>\r\n",
       "<!-- 24&#45;&gt;25 -->\r\n",
       "<g id=\"edge25\" class=\"edge\"><title>24&#45;&gt;25</title>\r\n",
       "<path fill=\"none\" stroke=\"black\" d=\"M975.101,-222.907C966.003,-213.651 956.254,-203.732 946.893,-194.209\"/>\r\n",
       "<polygon fill=\"black\" stroke=\"black\" points=\"949.334,-191.699 939.828,-187.021 944.342,-196.606 949.334,-191.699\"/>\r\n",
       "</g>\r\n",
       "<!-- 28 -->\r\n",
       "<g id=\"node29\" class=\"node\"><title>28</title>\r\n",
       "<path fill=\"#81c1ee\" stroke=\"black\" d=\"M1075,-187C1075,-187 995,-187 995,-187 989,-187 983,-181 983,-175 983,-175 983,-116 983,-116 983,-110 989,-104 995,-104 995,-104 1075,-104 1075,-104 1081,-104 1087,-110 1087,-116 1087,-116 1087,-175 1087,-175 1087,-181 1081,-187 1075,-187\"/>\r\n",
       "<text text-anchor=\"middle\" x=\"1035\" y=\"-171.8\" font-family=\"Helvetica,sans-Serif\" font-size=\"14.00\">chol &lt;= 318.5</text>\r\n",
       "<text text-anchor=\"middle\" x=\"1035\" y=\"-156.8\" font-family=\"Helvetica,sans-Serif\" font-size=\"14.00\">0.39</text>\r\n",
       "<text text-anchor=\"middle\" x=\"1035\" y=\"-141.8\" font-family=\"Helvetica,sans-Serif\" font-size=\"14.00\">12.4%</text>\r\n",
       "<text text-anchor=\"middle\" x=\"1035\" y=\"-126.8\" font-family=\"Helvetica,sans-Serif\" font-size=\"14.00\">[0.27, 0.73]</text>\r\n",
       "<text text-anchor=\"middle\" x=\"1035\" y=\"-111.8\" font-family=\"Helvetica,sans-Serif\" font-size=\"14.00\">disease</text>\r\n",
       "</g>\r\n",
       "<!-- 24&#45;&gt;28 -->\r\n",
       "<g id=\"edge28\" class=\"edge\"><title>24&#45;&gt;28</title>\r\n",
       "<path fill=\"none\" stroke=\"black\" d=\"M1021.94,-222.907C1023.37,-214.558 1024.89,-205.671 1026.36,-197.02\"/>\r\n",
       "<polygon fill=\"black\" stroke=\"black\" points=\"1029.84,-197.468 1028.07,-187.021 1022.94,-196.288 1029.84,-197.468\"/>\r\n",
       "</g>\r\n",
       "<!-- 26 -->\r\n",
       "<g id=\"node27\" class=\"node\"><title>26</title>\r\n",
       "<path fill=\"#5aade9\" stroke=\"black\" d=\"M869.5,-68C869.5,-68 804.5,-68 804.5,-68 798.5,-68 792.5,-62 792.5,-56 792.5,-56 792.5,-12 792.5,-12 792.5,-6 798.5,-0 804.5,-0 804.5,-0 869.5,-0 869.5,-0 875.5,-0 881.5,-6 881.5,-12 881.5,-12 881.5,-56 881.5,-56 881.5,-62 875.5,-68 869.5,-68\"/>\r\n",
       "<text text-anchor=\"middle\" x=\"837\" y=\"-52.8\" font-family=\"Helvetica,sans-Serif\" font-size=\"14.00\">0.24</text>\r\n",
       "<text text-anchor=\"middle\" x=\"837\" y=\"-37.8\" font-family=\"Helvetica,sans-Serif\" font-size=\"14.00\">2.9%</text>\r\n",
       "<text text-anchor=\"middle\" x=\"837\" y=\"-22.8\" font-family=\"Helvetica,sans-Serif\" font-size=\"14.00\">[0.14, 0.86]</text>\r\n",
       "<text text-anchor=\"middle\" x=\"837\" y=\"-7.8\" font-family=\"Helvetica,sans-Serif\" font-size=\"14.00\">disease</text>\r\n",
       "</g>\r\n",
       "<!-- 25&#45;&gt;26 -->\r\n",
       "<g id=\"edge26\" class=\"edge\"><title>25&#45;&gt;26</title>\r\n",
       "<path fill=\"none\" stroke=\"black\" d=\"M876.541,-103.726C871.556,-95.0615 866.283,-85.8962 861.268,-77.1802\"/>\r\n",
       "<polygon fill=\"black\" stroke=\"black\" points=\"864.179,-75.2219 856.159,-68.2996 858.112,-78.7128 864.179,-75.2219\"/>\r\n",
       "</g>\r\n",
       "<!-- 27 -->\r\n",
       "<g id=\"node28\" class=\"node\"><title>27</title>\r\n",
       "<path fill=\"#399de5\" stroke=\"black\" d=\"M960,-68C960,-68 912,-68 912,-68 906,-68 900,-62 900,-56 900,-56 900,-12 900,-12 900,-6 906,-0 912,-0 912,-0 960,-0 960,-0 966,-0 972,-6 972,-12 972,-12 972,-56 972,-56 972,-62 966,-68 960,-68\"/>\r\n",
       "<text text-anchor=\"middle\" x=\"936\" y=\"-52.8\" font-family=\"Helvetica,sans-Serif\" font-size=\"14.00\">0.0</text>\r\n",
       "<text text-anchor=\"middle\" x=\"936\" y=\"-37.8\" font-family=\"Helvetica,sans-Serif\" font-size=\"14.00\">19.8%</text>\r\n",
       "<text text-anchor=\"middle\" x=\"936\" y=\"-22.8\" font-family=\"Helvetica,sans-Serif\" font-size=\"14.00\">[0.0, 1.0]</text>\r\n",
       "<text text-anchor=\"middle\" x=\"936\" y=\"-7.8\" font-family=\"Helvetica,sans-Serif\" font-size=\"14.00\">disease</text>\r\n",
       "</g>\r\n",
       "<!-- 25&#45;&gt;27 -->\r\n",
       "<g id=\"edge27\" class=\"edge\"><title>25&#45;&gt;27</title>\r\n",
       "<path fill=\"none\" stroke=\"black\" d=\"M913.405,-103.726C916.164,-95.3351 919.077,-86.4745 921.861,-78.0072\"/>\r\n",
       "<polygon fill=\"black\" stroke=\"black\" points=\"925.254,-78.8925 925.052,-68.2996 918.604,-76.7062 925.254,-78.8925\"/>\r\n",
       "</g>\r\n",
       "<!-- 29 -->\r\n",
       "<g id=\"node30\" class=\"node\"><title>29</title>\r\n",
       "<path fill=\"#6fb8ec\" stroke=\"black\" d=\"M1067.5,-68C1067.5,-68 1002.5,-68 1002.5,-68 996.5,-68 990.5,-62 990.5,-56 990.5,-56 990.5,-12 990.5,-12 990.5,-6 996.5,-0 1002.5,-0 1002.5,-0 1067.5,-0 1067.5,-0 1073.5,-0 1079.5,-6 1079.5,-12 1079.5,-12 1079.5,-56 1079.5,-56 1079.5,-62 1073.5,-68 1067.5,-68\"/>\r\n",
       "<text text-anchor=\"middle\" x=\"1035\" y=\"-52.8\" font-family=\"Helvetica,sans-Serif\" font-size=\"14.00\">0.34</text>\r\n",
       "<text text-anchor=\"middle\" x=\"1035\" y=\"-37.8\" font-family=\"Helvetica,sans-Serif\" font-size=\"14.00\">11.6%</text>\r\n",
       "<text text-anchor=\"middle\" x=\"1035\" y=\"-22.8\" font-family=\"Helvetica,sans-Serif\" font-size=\"14.00\">[0.21, 0.79]</text>\r\n",
       "<text text-anchor=\"middle\" x=\"1035\" y=\"-7.8\" font-family=\"Helvetica,sans-Serif\" font-size=\"14.00\">disease</text>\r\n",
       "</g>\r\n",
       "<!-- 28&#45;&gt;29 -->\r\n",
       "<g id=\"edge29\" class=\"edge\"><title>28&#45;&gt;29</title>\r\n",
       "<path fill=\"none\" stroke=\"black\" d=\"M1035,-103.726C1035,-95.5175 1035,-86.8595 1035,-78.56\"/>\r\n",
       "<polygon fill=\"black\" stroke=\"black\" points=\"1038.5,-78.2996 1035,-68.2996 1031.5,-78.2996 1038.5,-78.2996\"/>\r\n",
       "</g>\r\n",
       "<!-- 30 -->\r\n",
       "<g id=\"node31\" class=\"node\"><title>30</title>\r\n",
       "<path fill=\"#e58139\" stroke=\"black\" d=\"M1158,-68C1158,-68 1110,-68 1110,-68 1104,-68 1098,-62 1098,-56 1098,-56 1098,-12 1098,-12 1098,-6 1104,-0 1110,-0 1110,-0 1158,-0 1158,-0 1164,-0 1170,-6 1170,-12 1170,-12 1170,-56 1170,-56 1170,-62 1164,-68 1158,-68\"/>\r\n",
       "<text text-anchor=\"middle\" x=\"1134\" y=\"-52.8\" font-family=\"Helvetica,sans-Serif\" font-size=\"14.00\">0.0</text>\r\n",
       "<text text-anchor=\"middle\" x=\"1134\" y=\"-37.8\" font-family=\"Helvetica,sans-Serif\" font-size=\"14.00\">0.8%</text>\r\n",
       "<text text-anchor=\"middle\" x=\"1134\" y=\"-22.8\" font-family=\"Helvetica,sans-Serif\" font-size=\"14.00\">[1.0, 0.0]</text>\r\n",
       "<text text-anchor=\"middle\" x=\"1134\" y=\"-7.8\" font-family=\"Helvetica,sans-Serif\" font-size=\"14.00\">disease</text>\r\n",
       "</g>\r\n",
       "<!-- 28&#45;&gt;30 -->\r\n",
       "<g id=\"edge30\" class=\"edge\"><title>28&#45;&gt;30</title>\r\n",
       "<path fill=\"none\" stroke=\"black\" d=\"M1071.86,-103.726C1080.11,-94.6054 1088.86,-84.93 1097.11,-75.8078\"/>\r\n",
       "<polygon fill=\"black\" stroke=\"black\" points=\"1099.78,-78.0647 1103.89,-68.2996 1094.59,-73.3701 1099.78,-78.0647\"/>\r\n",
       "</g>\r\n",
       "<!-- 32 -->\r\n",
       "<g id=\"node33\" class=\"node\"><title>32</title>\r\n",
       "<path fill=\"#e58139\" stroke=\"black\" d=\"M1165,-179.5C1165,-179.5 1117,-179.5 1117,-179.5 1111,-179.5 1105,-173.5 1105,-167.5 1105,-167.5 1105,-123.5 1105,-123.5 1105,-117.5 1111,-111.5 1117,-111.5 1117,-111.5 1165,-111.5 1165,-111.5 1171,-111.5 1177,-117.5 1177,-123.5 1177,-123.5 1177,-167.5 1177,-167.5 1177,-173.5 1171,-179.5 1165,-179.5\"/>\r\n",
       "<text text-anchor=\"middle\" x=\"1141\" y=\"-164.3\" font-family=\"Helvetica,sans-Serif\" font-size=\"14.00\">0.0</text>\r\n",
       "<text text-anchor=\"middle\" x=\"1141\" y=\"-149.3\" font-family=\"Helvetica,sans-Serif\" font-size=\"14.00\">1.7%</text>\r\n",
       "<text text-anchor=\"middle\" x=\"1141\" y=\"-134.3\" font-family=\"Helvetica,sans-Serif\" font-size=\"14.00\">[1.0, 0.0]</text>\r\n",
       "<text text-anchor=\"middle\" x=\"1141\" y=\"-119.3\" font-family=\"Helvetica,sans-Serif\" font-size=\"14.00\">disease</text>\r\n",
       "</g>\r\n",
       "<!-- 31&#45;&gt;32 -->\r\n",
       "<g id=\"edge32\" class=\"edge\"><title>31&#45;&gt;32</title>\r\n",
       "<path fill=\"none\" stroke=\"black\" d=\"M1141,-222.907C1141,-212.204 1141,-200.615 1141,-189.776\"/>\r\n",
       "<polygon fill=\"black\" stroke=\"black\" points=\"1144.5,-189.667 1141,-179.667 1137.5,-189.667 1144.5,-189.667\"/>\r\n",
       "</g>\r\n",
       "<!-- 33 -->\r\n",
       "<g id=\"node34\" class=\"node\"><title>33</title>\r\n",
       "<path fill=\"#8bc5f0\" stroke=\"black\" d=\"M1272.5,-187C1272.5,-187 1207.5,-187 1207.5,-187 1201.5,-187 1195.5,-181 1195.5,-175 1195.5,-175 1195.5,-116 1195.5,-116 1195.5,-110 1201.5,-104 1207.5,-104 1207.5,-104 1272.5,-104 1272.5,-104 1278.5,-104 1284.5,-110 1284.5,-116 1284.5,-116 1284.5,-175 1284.5,-175 1284.5,-181 1278.5,-187 1272.5,-187\"/>\r\n",
       "<text text-anchor=\"middle\" x=\"1240\" y=\"-171.8\" font-family=\"Helvetica,sans-Serif\" font-size=\"14.00\">fbs &lt;= 0.5</text>\r\n",
       "<text text-anchor=\"middle\" x=\"1240\" y=\"-156.8\" font-family=\"Helvetica,sans-Serif\" font-size=\"14.00\">0.41</text>\r\n",
       "<text text-anchor=\"middle\" x=\"1240\" y=\"-141.8\" font-family=\"Helvetica,sans-Serif\" font-size=\"14.00\">9.9%</text>\r\n",
       "<text text-anchor=\"middle\" x=\"1240\" y=\"-126.8\" font-family=\"Helvetica,sans-Serif\" font-size=\"14.00\">[0.29, 0.71]</text>\r\n",
       "<text text-anchor=\"middle\" x=\"1240\" y=\"-111.8\" font-family=\"Helvetica,sans-Serif\" font-size=\"14.00\">disease</text>\r\n",
       "</g>\r\n",
       "<!-- 31&#45;&gt;33 -->\r\n",
       "<g id=\"edge33\" class=\"edge\"><title>31&#45;&gt;33</title>\r\n",
       "<path fill=\"none\" stroke=\"black\" d=\"M1175.35,-222.907C1183.03,-213.832 1191.24,-204.121 1199.16,-194.769\"/>\r\n",
       "<polygon fill=\"black\" stroke=\"black\" points=\"1201.93,-196.916 1205.71,-187.021 1196.58,-192.394 1201.93,-196.916\"/>\r\n",
       "</g>\r\n",
       "<!-- 34 -->\r\n",
       "<g id=\"node35\" class=\"node\"><title>34</title>\r\n",
       "<path fill=\"#acd6f4\" stroke=\"black\" d=\"M1268.5,-68C1268.5,-68 1203.5,-68 1203.5,-68 1197.5,-68 1191.5,-62 1191.5,-56 1191.5,-56 1191.5,-12 1191.5,-12 1191.5,-6 1197.5,-0 1203.5,-0 1203.5,-0 1268.5,-0 1268.5,-0 1274.5,-0 1280.5,-6 1280.5,-12 1280.5,-12 1280.5,-56 1280.5,-56 1280.5,-62 1274.5,-68 1268.5,-68\"/>\r\n",
       "<text text-anchor=\"middle\" x=\"1236\" y=\"-52.8\" font-family=\"Helvetica,sans-Serif\" font-size=\"14.00\">0.47</text>\r\n",
       "<text text-anchor=\"middle\" x=\"1236\" y=\"-37.8\" font-family=\"Helvetica,sans-Serif\" font-size=\"14.00\">7.9%</text>\r\n",
       "<text text-anchor=\"middle\" x=\"1236\" y=\"-22.8\" font-family=\"Helvetica,sans-Serif\" font-size=\"14.00\">[0.37, 0.63]</text>\r\n",
       "<text text-anchor=\"middle\" x=\"1236\" y=\"-7.8\" font-family=\"Helvetica,sans-Serif\" font-size=\"14.00\">disease</text>\r\n",
       "</g>\r\n",
       "<!-- 33&#45;&gt;34 -->\r\n",
       "<g id=\"edge34\" class=\"edge\"><title>33&#45;&gt;34</title>\r\n",
       "<path fill=\"none\" stroke=\"black\" d=\"M1238.51,-103.726C1238.21,-95.5175 1237.89,-86.8595 1237.59,-78.56\"/>\r\n",
       "<polygon fill=\"black\" stroke=\"black\" points=\"1241.08,-78.1651 1237.22,-68.2996 1234.08,-78.4207 1241.08,-78.1651\"/>\r\n",
       "</g>\r\n",
       "<!-- 35 -->\r\n",
       "<g id=\"node36\" class=\"node\"><title>35</title>\r\n",
       "<path fill=\"#399de5\" stroke=\"black\" d=\"M1359,-68C1359,-68 1311,-68 1311,-68 1305,-68 1299,-62 1299,-56 1299,-56 1299,-12 1299,-12 1299,-6 1305,-0 1311,-0 1311,-0 1359,-0 1359,-0 1365,-0 1371,-6 1371,-12 1371,-12 1371,-56 1371,-56 1371,-62 1365,-68 1359,-68\"/>\r\n",
       "<text text-anchor=\"middle\" x=\"1335\" y=\"-52.8\" font-family=\"Helvetica,sans-Serif\" font-size=\"14.00\">0.0</text>\r\n",
       "<text text-anchor=\"middle\" x=\"1335\" y=\"-37.8\" font-family=\"Helvetica,sans-Serif\" font-size=\"14.00\">2.1%</text>\r\n",
       "<text text-anchor=\"middle\" x=\"1335\" y=\"-22.8\" font-family=\"Helvetica,sans-Serif\" font-size=\"14.00\">[0.0, 1.0]</text>\r\n",
       "<text text-anchor=\"middle\" x=\"1335\" y=\"-7.8\" font-family=\"Helvetica,sans-Serif\" font-size=\"14.00\">disease</text>\r\n",
       "</g>\r\n",
       "<!-- 33&#45;&gt;35 -->\r\n",
       "<g id=\"edge35\" class=\"edge\"><title>33&#45;&gt;35</title>\r\n",
       "<path fill=\"none\" stroke=\"black\" d=\"M1275.37,-103.726C1283.21,-94.6966 1291.51,-85.1235 1299.36,-76.0816\"/>\r\n",
       "<polygon fill=\"black\" stroke=\"black\" points=\"1302.2,-78.1467 1306.11,-68.2996 1296.91,-73.5595 1302.2,-78.1467\"/>\r\n",
       "</g>\r\n",
       "<!-- 37 -->\r\n",
       "<g id=\"node38\" class=\"node\"><title>37</title>\r\n",
       "<path fill=\"#399de5\" stroke=\"black\" d=\"M1280,-298.5C1280,-298.5 1232,-298.5 1232,-298.5 1226,-298.5 1220,-292.5 1220,-286.5 1220,-286.5 1220,-242.5 1220,-242.5 1220,-236.5 1226,-230.5 1232,-230.5 1232,-230.5 1280,-230.5 1280,-230.5 1286,-230.5 1292,-236.5 1292,-242.5 1292,-242.5 1292,-286.5 1292,-286.5 1292,-292.5 1286,-298.5 1280,-298.5\"/>\r\n",
       "<text text-anchor=\"middle\" x=\"1256\" y=\"-283.3\" font-family=\"Helvetica,sans-Serif\" font-size=\"14.00\">0.0</text>\r\n",
       "<text text-anchor=\"middle\" x=\"1256\" y=\"-268.3\" font-family=\"Helvetica,sans-Serif\" font-size=\"14.00\">1.7%</text>\r\n",
       "<text text-anchor=\"middle\" x=\"1256\" y=\"-253.3\" font-family=\"Helvetica,sans-Serif\" font-size=\"14.00\">[0.0, 1.0]</text>\r\n",
       "<text text-anchor=\"middle\" x=\"1256\" y=\"-238.3\" font-family=\"Helvetica,sans-Serif\" font-size=\"14.00\">disease</text>\r\n",
       "</g>\r\n",
       "<!-- 36&#45;&gt;37 -->\r\n",
       "<g id=\"edge37\" class=\"edge\"><title>36&#45;&gt;37</title>\r\n",
       "<path fill=\"none\" stroke=\"black\" d=\"M1256,-341.907C1256,-331.204 1256,-319.615 1256,-308.776\"/>\r\n",
       "<polygon fill=\"black\" stroke=\"black\" points=\"1259.5,-308.667 1256,-298.667 1252.5,-308.667 1259.5,-308.667\"/>\r\n",
       "</g>\r\n",
       "<!-- 38 -->\r\n",
       "<g id=\"node39\" class=\"node\"><title>38</title>\r\n",
       "<path fill=\"#e58139\" stroke=\"black\" d=\"M1370,-298.5C1370,-298.5 1322,-298.5 1322,-298.5 1316,-298.5 1310,-292.5 1310,-286.5 1310,-286.5 1310,-242.5 1310,-242.5 1310,-236.5 1316,-230.5 1322,-230.5 1322,-230.5 1370,-230.5 1370,-230.5 1376,-230.5 1382,-236.5 1382,-242.5 1382,-242.5 1382,-286.5 1382,-286.5 1382,-292.5 1376,-298.5 1370,-298.5\"/>\r\n",
       "<text text-anchor=\"middle\" x=\"1346\" y=\"-283.3\" font-family=\"Helvetica,sans-Serif\" font-size=\"14.00\">0.0</text>\r\n",
       "<text text-anchor=\"middle\" x=\"1346\" y=\"-268.3\" font-family=\"Helvetica,sans-Serif\" font-size=\"14.00\">3.3%</text>\r\n",
       "<text text-anchor=\"middle\" x=\"1346\" y=\"-253.3\" font-family=\"Helvetica,sans-Serif\" font-size=\"14.00\">[1.0, 0.0]</text>\r\n",
       "<text text-anchor=\"middle\" x=\"1346\" y=\"-238.3\" font-family=\"Helvetica,sans-Serif\" font-size=\"14.00\">disease</text>\r\n",
       "</g>\r\n",
       "<!-- 36&#45;&gt;38 -->\r\n",
       "<g id=\"edge38\" class=\"edge\"><title>36&#45;&gt;38</title>\r\n",
       "<path fill=\"none\" stroke=\"black\" d=\"M1287.23,-341.907C1295.97,-330.542 1305.48,-318.178 1314.25,-306.774\"/>\r\n",
       "<polygon fill=\"black\" stroke=\"black\" points=\"1317.16,-308.727 1320.49,-298.667 1311.62,-304.459 1317.16,-308.727\"/>\r\n",
       "</g>\r\n",
       "</g>\r\n",
       "</svg>\r\n"
      ],
      "text/plain": [
       "<graphviz.files.Source at 0x24e848f43a0>"
      ]
     },
     "execution_count": 794,
     "metadata": {},
     "output_type": "execute_result"
    }
   ],
   "source": [
    "feature_names = [i for i in X_train.columns]\n",
    "\n",
    "Y_train_str = Y_train.astype('str')\n",
    "Y_train_str[Y_train_str == '0'] = 'no disease'\n",
    "Y_train_str[Y_train_str == '1'] = 'disease'\n",
    "Y_train_str = Y_train_str.values\n",
    "\n",
    "tree=export_graphviz(dectree, out_file=None, \n",
    "                feature_names = feature_names,\n",
    "                class_names = Y_train_str,\n",
    "                rounded = True, proportion = True, \n",
    "                label='root',\n",
    "                precision = 2, filled = True)\n",
    "graphviz.Source(tree)"
   ]
  },
  {
   "cell_type": "code",
   "execution_count": 795,
   "metadata": {},
   "outputs": [
    {
     "name": "stdout",
     "output_type": "stream",
     "text": [
      "Decision Tree Test Accuracy 0.7705\n"
     ]
    }
   ],
   "source": [
    "from sklearn.tree import DecisionTreeClassifier\n",
    "from sklearn.metrics import accuracy_score\n",
    "\n",
    "Y_pred = dectree.predict(X_test)\n",
    "\n",
    "acc = accuracy_score(Y_test, Y_pred)\n",
    "accuracies['Decision Tree'] = acc\n",
    "print(\"Decision Tree Test Accuracy {0:0.4f}\".format(acc))"
   ]
  },
  {
   "cell_type": "code",
   "execution_count": 796,
   "metadata": {},
   "outputs": [],
   "source": [
    "from sklearn.metrics import roc_curve, auc #for model evaluation\n",
    "from sklearn.metrics import classification_report #for model evaluation\n",
    "from sklearn.metrics import confusion_matrix"
   ]
  },
  {
   "cell_type": "code",
   "execution_count": 797,
   "metadata": {},
   "outputs": [
    {
     "data": {
      "text/plain": [
       "array([[21,  4],\n",
       "       [10, 26]], dtype=int64)"
      ]
     },
     "execution_count": 797,
     "metadata": {},
     "output_type": "execute_result"
    }
   ],
   "source": [
    "confusion_matrix = confusion_matrix(Y_test, Y_pred)\n",
    "confusion_matrix"
   ]
  },
  {
   "cell_type": "code",
   "execution_count": 798,
   "metadata": {},
   "outputs": [
    {
     "name": "stdout",
     "output_type": "stream",
     "text": [
      "Sensitivity :  0.6774193548387096\n",
      "Specificity :  0.8666666666666667\n"
     ]
    }
   ],
   "source": [
    "total=sum(sum(confusion_matrix))\n",
    "\n",
    "sensitivity = confusion_matrix[0,0]/(confusion_matrix[0,0]+confusion_matrix[1,0])\n",
    "print('Sensitivity : ', sensitivity )\n",
    "\n",
    "specificity = confusion_matrix[1,1]/(confusion_matrix[1,1]+confusion_matrix[0,1])\n",
    "print('Specificity : ', specificity)"
   ]
  },
  {
   "cell_type": "code",
   "execution_count": 799,
   "metadata": {},
   "outputs": [
    {
     "data": {
      "text/plain": [
       "<matplotlib.axes._subplots.AxesSubplot at 0x24e83e4edf0>"
      ]
     },
     "execution_count": 799,
     "metadata": {},
     "output_type": "execute_result"
    },
    {
     "data": {
      "image/png": "[encoded data removed]",
      "text/plain": [
       "<Figure size 432x288 with 2 Axes>"
      ]
     },
     "metadata": {},
     "output_type": "display_data"
    }
   ],
   "source": [
    "# Plot the two-way Confusion Matrix\n",
    "from sklearn.metrics import confusion_matrix\n",
    "sb.heatmap(confusion_matrix(Y_test, Y_pred), \n",
    "           annot = True, fmt=\".0f\", annot_kws={\"size\": 18})"
   ]
  },
  {
   "cell_type": "markdown",
   "metadata": {},
   "source": [
    "# Create Dummy Variables"
   ]
  },
  {
   "cell_type": "code",
   "execution_count": 800,
   "metadata": {},
   "outputs": [],
   "source": [
    "a = pd.get_dummies(df['cp'], prefix = \"cp\")\n",
    "b = pd.get_dummies(df['thal'], prefix = \"thal\")\n",
    "c = pd.get_dummies(df['slope'], prefix = \"slope\")\n",
    "d = pd.get_dummies(df['restecg'], prefix = \"restecg\")"
   ]
  },
  {
   "cell_type": "code",
   "execution_count": 801,
   "metadata": {
    "scrolled": true
   },
   "outputs": [
    {
     "data": {
      "text/html": [
       "<div>\n",
       "<style scoped>\n",
       "    .dataframe tbody tr th:only-of-type {\n",
       "        vertical-align: middle;\n",
       "    }\n",
       "\n",
       "    .dataframe tbody tr th {\n",
       "        vertical-align: top;\n",
       "    }\n",
       "\n",
       "    .dataframe thead th {\n",
       "        text-align: right;\n",
       "    }\n",
       "</style>\n",
       "<table border=\"1\" class=\"dataframe\">\n",
       "  <thead>\n",
       "    <tr style=\"text-align: right;\">\n",
       "      <th></th>\n",
       "      <th>age</th>\n",
       "      <th>sex</th>\n",
       "      <th>cp</th>\n",
       "      <th>trestbps</th>\n",
       "      <th>chol</th>\n",
       "      <th>fbs</th>\n",
       "      <th>restecg</th>\n",
       "      <th>thalach</th>\n",
       "      <th>exang</th>\n",
       "      <th>oldpeak</th>\n",
       "      <th>...</th>\n",
       "      <th>thal_0</th>\n",
       "      <th>thal_1</th>\n",
       "      <th>thal_2</th>\n",
       "      <th>thal_3</th>\n",
       "      <th>slope_0</th>\n",
       "      <th>slope_1</th>\n",
       "      <th>slope_2</th>\n",
       "      <th>restecg_0</th>\n",
       "      <th>restecg_1</th>\n",
       "      <th>restecg_2</th>\n",
       "    </tr>\n",
       "  </thead>\n",
       "  <tbody>\n",
       "    <tr>\n",
       "      <th>0</th>\n",
       "      <td>63</td>\n",
       "      <td>1</td>\n",
       "      <td>3</td>\n",
       "      <td>145</td>\n",
       "      <td>233</td>\n",
       "      <td>1</td>\n",
       "      <td>0</td>\n",
       "      <td>150</td>\n",
       "      <td>0</td>\n",
       "      <td>2.3</td>\n",
       "      <td>...</td>\n",
       "      <td>0</td>\n",
       "      <td>1</td>\n",
       "      <td>0</td>\n",
       "      <td>0</td>\n",
       "      <td>1</td>\n",
       "      <td>0</td>\n",
       "      <td>0</td>\n",
       "      <td>1</td>\n",
       "      <td>0</td>\n",
       "      <td>0</td>\n",
       "    </tr>\n",
       "    <tr>\n",
       "      <th>1</th>\n",
       "      <td>37</td>\n",
       "      <td>1</td>\n",
       "      <td>2</td>\n",
       "      <td>130</td>\n",
       "      <td>250</td>\n",
       "      <td>0</td>\n",
       "      <td>1</td>\n",
       "      <td>187</td>\n",
       "      <td>0</td>\n",
       "      <td>3.5</td>\n",
       "      <td>...</td>\n",
       "      <td>0</td>\n",
       "      <td>0</td>\n",
       "      <td>1</td>\n",
       "      <td>0</td>\n",
       "      <td>1</td>\n",
       "      <td>0</td>\n",
       "      <td>0</td>\n",
       "      <td>0</td>\n",
       "      <td>1</td>\n",
       "      <td>0</td>\n",
       "    </tr>\n",
       "    <tr>\n",
       "      <th>2</th>\n",
       "      <td>41</td>\n",
       "      <td>0</td>\n",
       "      <td>1</td>\n",
       "      <td>130</td>\n",
       "      <td>204</td>\n",
       "      <td>0</td>\n",
       "      <td>0</td>\n",
       "      <td>172</td>\n",
       "      <td>0</td>\n",
       "      <td>1.4</td>\n",
       "      <td>...</td>\n",
       "      <td>0</td>\n",
       "      <td>0</td>\n",
       "      <td>1</td>\n",
       "      <td>0</td>\n",
       "      <td>0</td>\n",
       "      <td>0</td>\n",
       "      <td>1</td>\n",
       "      <td>1</td>\n",
       "      <td>0</td>\n",
       "      <td>0</td>\n",
       "    </tr>\n",
       "    <tr>\n",
       "      <th>3</th>\n",
       "      <td>56</td>\n",
       "      <td>1</td>\n",
       "      <td>1</td>\n",
       "      <td>120</td>\n",
       "      <td>236</td>\n",
       "      <td>0</td>\n",
       "      <td>1</td>\n",
       "      <td>178</td>\n",
       "      <td>0</td>\n",
       "      <td>0.8</td>\n",
       "      <td>...</td>\n",
       "      <td>0</td>\n",
       "      <td>0</td>\n",
       "      <td>1</td>\n",
       "      <td>0</td>\n",
       "      <td>0</td>\n",
       "      <td>0</td>\n",
       "      <td>1</td>\n",
       "      <td>0</td>\n",
       "      <td>1</td>\n",
       "      <td>0</td>\n",
       "    </tr>\n",
       "    <tr>\n",
       "      <th>4</th>\n",
       "      <td>57</td>\n",
       "      <td>0</td>\n",
       "      <td>0</td>\n",
       "      <td>120</td>\n",
       "      <td>354</td>\n",
       "      <td>0</td>\n",
       "      <td>1</td>\n",
       "      <td>163</td>\n",
       "      <td>1</td>\n",
       "      <td>0.6</td>\n",
       "      <td>...</td>\n",
       "      <td>0</td>\n",
       "      <td>0</td>\n",
       "      <td>1</td>\n",
       "      <td>0</td>\n",
       "      <td>0</td>\n",
       "      <td>0</td>\n",
       "      <td>1</td>\n",
       "      <td>0</td>\n",
       "      <td>1</td>\n",
       "      <td>0</td>\n",
       "    </tr>\n",
       "  </tbody>\n",
       "</table>\n",
       "<p>5 rows × 28 columns</p>\n",
       "</div>"
      ],
      "text/plain": [
       "   age  sex  cp  trestbps  chol  fbs  restecg  thalach  exang  oldpeak  ...  \\\n",
       "0   63    1   3       145   233    1        0      150      0      2.3  ...   \n",
       "1   37    1   2       130   250    0        1      187      0      3.5  ...   \n",
       "2   41    0   1       130   204    0        0      172      0      1.4  ...   \n",
       "3   56    1   1       120   236    0        1      178      0      0.8  ...   \n",
       "4   57    0   0       120   354    0        1      163      1      0.6  ...   \n",
       "\n",
       "   thal_0  thal_1  thal_2  thal_3  slope_0  slope_1  slope_2  restecg_0  \\\n",
       "0       0       1       0       0        1        0        0          1   \n",
       "1       0       0       1       0        1        0        0          0   \n",
       "2       0       0       1       0        0        0        1          1   \n",
       "3       0       0       1       0        0        0        1          0   \n",
       "4       0       0       1       0        0        0        1          0   \n",
       "\n",
       "   restecg_1  restecg_2  \n",
       "0          0          0  \n",
       "1          1          0  \n",
       "2          0          0  \n",
       "3          1          0  \n",
       "4          1          0  \n",
       "\n",
       "[5 rows x 28 columns]"
      ]
     },
     "execution_count": 801,
     "metadata": {},
     "output_type": "execute_result"
    }
   ],
   "source": [
    "frames = [df, a, b, c, d]\n",
    "df = pd.concat(frames, axis = 1)\n",
    "df.head()"
   ]
  },
  {
   "cell_type": "code",
   "execution_count": 802,
   "metadata": {
    "scrolled": false
   },
   "outputs": [
    {
     "data": {
      "text/html": [
       "<div>\n",
       "<style scoped>\n",
       "    .dataframe tbody tr th:only-of-type {\n",
       "        vertical-align: middle;\n",
       "    }\n",
       "\n",
       "    .dataframe tbody tr th {\n",
       "        vertical-align: top;\n",
       "    }\n",
       "\n",
       "    .dataframe thead th {\n",
       "        text-align: right;\n",
       "    }\n",
       "</style>\n",
       "<table border=\"1\" class=\"dataframe\">\n",
       "  <thead>\n",
       "    <tr style=\"text-align: right;\">\n",
       "      <th></th>\n",
       "      <th>age</th>\n",
       "      <th>sex</th>\n",
       "      <th>trestbps</th>\n",
       "      <th>chol</th>\n",
       "      <th>fbs</th>\n",
       "      <th>thalach</th>\n",
       "      <th>exang</th>\n",
       "      <th>oldpeak</th>\n",
       "      <th>ca</th>\n",
       "      <th>target</th>\n",
       "      <th>...</th>\n",
       "      <th>thal_0</th>\n",
       "      <th>thal_1</th>\n",
       "      <th>thal_2</th>\n",
       "      <th>thal_3</th>\n",
       "      <th>slope_0</th>\n",
       "      <th>slope_1</th>\n",
       "      <th>slope_2</th>\n",
       "      <th>restecg_0</th>\n",
       "      <th>restecg_1</th>\n",
       "      <th>restecg_2</th>\n",
       "    </tr>\n",
       "  </thead>\n",
       "  <tbody>\n",
       "    <tr>\n",
       "      <th>0</th>\n",
       "      <td>63</td>\n",
       "      <td>1</td>\n",
       "      <td>145</td>\n",
       "      <td>233</td>\n",
       "      <td>1</td>\n",
       "      <td>150</td>\n",
       "      <td>0</td>\n",
       "      <td>2.3</td>\n",
       "      <td>0</td>\n",
       "      <td>1</td>\n",
       "      <td>...</td>\n",
       "      <td>0</td>\n",
       "      <td>1</td>\n",
       "      <td>0</td>\n",
       "      <td>0</td>\n",
       "      <td>1</td>\n",
       "      <td>0</td>\n",
       "      <td>0</td>\n",
       "      <td>1</td>\n",
       "      <td>0</td>\n",
       "      <td>0</td>\n",
       "    </tr>\n",
       "    <tr>\n",
       "      <th>1</th>\n",
       "      <td>37</td>\n",
       "      <td>1</td>\n",
       "      <td>130</td>\n",
       "      <td>250</td>\n",
       "      <td>0</td>\n",
       "      <td>187</td>\n",
       "      <td>0</td>\n",
       "      <td>3.5</td>\n",
       "      <td>0</td>\n",
       "      <td>1</td>\n",
       "      <td>...</td>\n",
       "      <td>0</td>\n",
       "      <td>0</td>\n",
       "      <td>1</td>\n",
       "      <td>0</td>\n",
       "      <td>1</td>\n",
       "      <td>0</td>\n",
       "      <td>0</td>\n",
       "      <td>0</td>\n",
       "      <td>1</td>\n",
       "      <td>0</td>\n",
       "    </tr>\n",
       "    <tr>\n",
       "      <th>2</th>\n",
       "      <td>41</td>\n",
       "      <td>0</td>\n",
       "      <td>130</td>\n",
       "      <td>204</td>\n",
       "      <td>0</td>\n",
       "      <td>172</td>\n",
       "      <td>0</td>\n",
       "      <td>1.4</td>\n",
       "      <td>0</td>\n",
       "      <td>1</td>\n",
       "      <td>...</td>\n",
       "      <td>0</td>\n",
       "      <td>0</td>\n",
       "      <td>1</td>\n",
       "      <td>0</td>\n",
       "      <td>0</td>\n",
       "      <td>0</td>\n",
       "      <td>1</td>\n",
       "      <td>1</td>\n",
       "      <td>0</td>\n",
       "      <td>0</td>\n",
       "    </tr>\n",
       "    <tr>\n",
       "      <th>3</th>\n",
       "      <td>56</td>\n",
       "      <td>1</td>\n",
       "      <td>120</td>\n",
       "      <td>236</td>\n",
       "      <td>0</td>\n",
       "      <td>178</td>\n",
       "      <td>0</td>\n",
       "      <td>0.8</td>\n",
       "      <td>0</td>\n",
       "      <td>1</td>\n",
       "      <td>...</td>\n",
       "      <td>0</td>\n",
       "      <td>0</td>\n",
       "      <td>1</td>\n",
       "      <td>0</td>\n",
       "      <td>0</td>\n",
       "      <td>0</td>\n",
       "      <td>1</td>\n",
       "      <td>0</td>\n",
       "      <td>1</td>\n",
       "      <td>0</td>\n",
       "    </tr>\n",
       "    <tr>\n",
       "      <th>4</th>\n",
       "      <td>57</td>\n",
       "      <td>0</td>\n",
       "      <td>120</td>\n",
       "      <td>354</td>\n",
       "      <td>0</td>\n",
       "      <td>163</td>\n",
       "      <td>1</td>\n",
       "      <td>0.6</td>\n",
       "      <td>0</td>\n",
       "      <td>1</td>\n",
       "      <td>...</td>\n",
       "      <td>0</td>\n",
       "      <td>0</td>\n",
       "      <td>1</td>\n",
       "      <td>0</td>\n",
       "      <td>0</td>\n",
       "      <td>0</td>\n",
       "      <td>1</td>\n",
       "      <td>0</td>\n",
       "      <td>1</td>\n",
       "      <td>0</td>\n",
       "    </tr>\n",
       "  </tbody>\n",
       "</table>\n",
       "<p>5 rows × 24 columns</p>\n",
       "</div>"
      ],
      "text/plain": [
       "   age  sex  trestbps  chol  fbs  thalach  exang  oldpeak  ca  target  ...  \\\n",
       "0   63    1       145   233    1      150      0      2.3   0       1  ...   \n",
       "1   37    1       130   250    0      187      0      3.5   0       1  ...   \n",
       "2   41    0       130   204    0      172      0      1.4   0       1  ...   \n",
       "3   56    1       120   236    0      178      0      0.8   0       1  ...   \n",
       "4   57    0       120   354    0      163      1      0.6   0       1  ...   \n",
       "\n",
       "   thal_0  thal_1  thal_2  thal_3  slope_0  slope_1  slope_2  restecg_0  \\\n",
       "0       0       1       0       0        1        0        0          1   \n",
       "1       0       0       1       0        1        0        0          0   \n",
       "2       0       0       1       0        0        0        1          1   \n",
       "3       0       0       1       0        0        0        1          0   \n",
       "4       0       0       1       0        0        0        1          0   \n",
       "\n",
       "   restecg_1  restecg_2  \n",
       "0          0          0  \n",
       "1          1          0  \n",
       "2          0          0  \n",
       "3          1          0  \n",
       "4          1          0  \n",
       "\n",
       "[5 rows x 24 columns]"
      ]
     },
     "execution_count": 802,
     "metadata": {},
     "output_type": "execute_result"
    }
   ],
   "source": [
    "df = df.drop(columns = ['cp', 'thal', 'slope', 'restecg'])\n",
    "df.head()"
   ]
  },
  {
   "cell_type": "code",
   "execution_count": 803,
   "metadata": {
    "scrolled": true
   },
   "outputs": [
    {
     "data": {
      "text/plain": [
       "age            int64\n",
       "sex            int64\n",
       "trestbps       int64\n",
       "chol           int64\n",
       "fbs            int64\n",
       "thalach        int64\n",
       "exang          int64\n",
       "oldpeak      float64\n",
       "ca             int64\n",
       "target         int64\n",
       "cp_0           uint8\n",
       "cp_1           uint8\n",
       "cp_2           uint8\n",
       "cp_3           uint8\n",
       "thal_0         uint8\n",
       "thal_1         uint8\n",
       "thal_2         uint8\n",
       "thal_3         uint8\n",
       "slope_0        uint8\n",
       "slope_1        uint8\n",
       "slope_2        uint8\n",
       "restecg_0      uint8\n",
       "restecg_1      uint8\n",
       "restecg_2      uint8\n",
       "dtype: object"
      ]
     },
     "execution_count": 803,
     "metadata": {},
     "output_type": "execute_result"
    }
   ],
   "source": [
    "df.dtypes"
   ]
  },
  {
   "cell_type": "markdown",
   "metadata": {},
   "source": [
    "# Split x,y"
   ]
  },
  {
   "cell_type": "code",
   "execution_count": 804,
   "metadata": {
    "scrolled": true
   },
   "outputs": [
    {
     "data": {
      "text/plain": [
       "age            int64\n",
       "sex            int64\n",
       "trestbps       int64\n",
       "chol           int64\n",
       "fbs            int64\n",
       "thalach        int64\n",
       "exang          int64\n",
       "oldpeak      float64\n",
       "ca             int64\n",
       "cp_0           uint8\n",
       "cp_1           uint8\n",
       "cp_2           uint8\n",
       "cp_3           uint8\n",
       "thal_0         uint8\n",
       "thal_1         uint8\n",
       "thal_2         uint8\n",
       "thal_3         uint8\n",
       "slope_0        uint8\n",
       "slope_1        uint8\n",
       "slope_2        uint8\n",
       "restecg_0      uint8\n",
       "restecg_1      uint8\n",
       "restecg_2      uint8\n",
       "dtype: object"
      ]
     },
     "execution_count": 804,
     "metadata": {},
     "output_type": "execute_result"
    }
   ],
   "source": [
    "y = df.target.values\n",
    "x_data = df.drop(['target'], axis = 1)\n",
    "x_data.dtypes"
   ]
  },
  {
   "cell_type": "code",
   "execution_count": 1,
   "metadata": {},
   "outputs": [
    {
     "ename": "NameError",
     "evalue": "name 'x_data' is not defined",
     "output_type": "error",
     "traceback": [
      "\u001b[0;31m---------------------------------------------------------------------------\u001b[0m",
      "\u001b[0;31mNameError\u001b[0m                                 Traceback (most recent call last)",
      "\u001b[0;32m<ipython-input-1-f6b2aa2ff3be>\u001b[0m in \u001b[0;36m<module>\u001b[0;34m\u001b[0m\n\u001b[0;32m----> 1\u001b[0;31m \u001b[0mx\u001b[0m \u001b[0;34m=\u001b[0m \u001b[0;34m(\u001b[0m\u001b[0mx_data\u001b[0m \u001b[0;34m-\u001b[0m \u001b[0mnp\u001b[0m\u001b[0;34m.\u001b[0m\u001b[0mmin\u001b[0m\u001b[0;34m(\u001b[0m\u001b[0mx_data\u001b[0m\u001b[0;34m)\u001b[0m\u001b[0;34m)\u001b[0m \u001b[0;34m/\u001b[0m \u001b[0;34m(\u001b[0m\u001b[0mnp\u001b[0m\u001b[0;34m.\u001b[0m\u001b[0mmax\u001b[0m\u001b[0;34m(\u001b[0m\u001b[0mx_data\u001b[0m\u001b[0;34m)\u001b[0m \u001b[0;34m-\u001b[0m \u001b[0mnp\u001b[0m\u001b[0;34m.\u001b[0m\u001b[0mmin\u001b[0m\u001b[0;34m(\u001b[0m\u001b[0mx_data\u001b[0m\u001b[0;34m)\u001b[0m\u001b[0;34m)\u001b[0m\u001b[0;34m.\u001b[0m\u001b[0mvalues\u001b[0m\u001b[0;34m\u001b[0m\u001b[0;34m\u001b[0m\u001b[0m\n\u001b[0m",
      "\u001b[0;31mNameError\u001b[0m: name 'x_data' is not defined"
     ]
    }
   ],
   "source": [
    "x = (x_data - np.min(x_data)) / (np.max(x_data) - np.min(x_data)).values"
   ]
  },
  {
   "cell_type": "code",
   "execution_count": 806,
   "metadata": {},
   "outputs": [],
   "source": [
    "x_train, x_test, y_train, y_test = train_test_split(x,y,test_size = 0.2,)"
   ]
  },
  {
   "cell_type": "markdown",
   "metadata": {},
   "source": [
    "# Apply Logistic Regression"
   ]
  },
  {
   "cell_type": "code",
   "execution_count": 807,
   "metadata": {},
   "outputs": [
    {
     "name": "stdout",
     "output_type": "stream",
     "text": [
      "Logistic Regression accuracy score with all the features: 0.9180\n"
     ]
    }
   ],
   "source": [
    "from sklearn.linear_model import LogisticRegression\n",
    "\n",
    "logreg = LogisticRegression(max_iter=5000)\n",
    "logreg.fit(x_train, y_train)\n",
    "y_pred = logreg.predict(x_test)\n",
    "\n",
    "acc=accuracy_score(y_test, y_pred) \n",
    "accuracies['Logistic Regression']=acc\n",
    "\n",
    "print('Logistic Regression accuracy score with all the features: {0:0.4f}'. format(acc))"
   ]
  },
  {
   "cell_type": "markdown",
   "metadata": {},
   "source": [
    "#### In logistic regression, based on Sigmoid Function, If ‘Z’ goes to infinity, Y(predicted) will become 1 and if ‘Z’ goes to negative infinity, Y(predicted) will become 0. We can select the middle parameter as 0.5. If value is bigger than 0.5, it will become 1; if value is smaller than 0.5, it will goes to 0. So it become a binaryclassification "
   ]
  },
  {
   "cell_type": "markdown",
   "metadata": {},
   "source": [
    "# Apply Random Forest Classification"
   ]
  },
  {
   "cell_type": "code",
   "execution_count": 808,
   "metadata": {},
   "outputs": [
    {
     "name": "stdout",
     "output_type": "stream",
     "text": [
      "Random Forest Algorithm Accuracy with all the features: 0.8689\n"
     ]
    }
   ],
   "source": [
    "from sklearn.ensemble import RandomForestClassifier\n",
    "\n",
    "rf = RandomForestClassifier(n_estimators = 1000, random_state = 1)\n",
    "rf.fit(x_train, y_train)\n",
    "y_pred = rf.predict(x_test)\n",
    "\n",
    "acc=accuracy_score(y_test, y_pred) \n",
    "accuracies['Random Forest Classification']=acc\n",
    "\n",
    "\n",
    "print('Random Forest Algorithm Accuracy with all the features: {0:0.4f}'. format(acc))"
   ]
  },
  {
   "cell_type": "markdown",
   "metadata": {},
   "source": []
  },
  {
   "cell_type": "markdown",
   "metadata": {},
   "source": [
    "# Apply Naive Bayes Classification"
   ]
  },
  {
   "cell_type": "code",
   "execution_count": 809,
   "metadata": {},
   "outputs": [
    {
     "name": "stdout",
     "output_type": "stream",
     "text": [
      "Naive Bayes Algorithm Accuracy with all the features: 0.7049\n"
     ]
    }
   ],
   "source": [
    "from sklearn.naive_bayes import GaussianNB\n",
    "\n",
    "nb = GaussianNB()\n",
    "nb.fit(x_train, y_train)\n",
    "y_pred = nb.predict(x_test)\n",
    "\n",
    "acc=accuracy_score(y_test, y_pred) \n",
    "accuracies['Naive Bayes']=acc\n",
    "\n",
    "print('Naive Bayes Algorithm Accuracy with all the features: {0:0.4f}'. format(acc))"
   ]
  },
  {
   "cell_type": "markdown",
   "metadata": {},
   "source": [
    "# Apply Support Vector Machine (SVM)"
   ]
  },
  {
   "cell_type": "code",
   "execution_count": 810,
   "metadata": {},
   "outputs": [
    {
     "name": "stdout",
     "output_type": "stream",
     "text": [
      "SVM Accuracy with all the features: 0.8689\n"
     ]
    }
   ],
   "source": [
    "from sklearn.svm import SVC\n",
    "\n",
    "svm = SVC(random_state = 1)\n",
    "svm.fit(x_train, y_train)\n",
    "y_pred = svm.predict(x_test)\n",
    "\n",
    "acc=accuracy_score(y_test, y_pred) \n",
    "accuracies['SVM']=acc\n",
    "print('SVM Accuracy with all the features: {0:0.4f}'. format(acc))"
   ]
  },
  {
   "cell_type": "markdown",
   "metadata": {},
   "source": [
    "# Comparing Models"
   ]
  },
  {
   "cell_type": "code",
   "execution_count": 811,
   "metadata": {},
   "outputs": [
    {
     "name": "stdout",
     "output_type": "stream",
     "text": [
      "Algorithms                      Accuracy\n",
      "----------------------------  ----------\n",
      "Decision Tree                   0.770492\n",
      "Logistic Regression             0.918033\n",
      "Random Forest Classification    0.868852\n",
      "Naive Bayes                     0.704918\n",
      "SVM                             0.868852\n"
     ]
    }
   ],
   "source": [
    "from tabulate import tabulate\n",
    "headers=[\"Algorithms\",\"Accuracy\"]\n",
    "print(tabulate(accuracies.items(), headers = headers))"
   ]
  },
  {
   "cell_type": "code",
   "execution_count": 812,
   "metadata": {},
   "outputs": [
    {
     "data": {
      "image/png": "[encoded data removed]",
      "text/plain": [
       "<Figure size 1152x360 with 1 Axes>"
      ]
     },
     "metadata": {},
     "output_type": "display_data"
    }
   ],
   "source": [
    "colors = [\"purple\", \"green\", \"orange\", \"magenta\",\"#CFC60E\"]\n",
    "\n",
    "sb.set_style(\"whitegrid\")\n",
    "plt.figure(figsize=(16,5))\n",
    "plt.yticks(np.arange(0,100,10))\n",
    "plt.ylabel(\"Accuracy %\")\n",
    "plt.xlabel(\"Algorithms\")\n",
    "sb.barplot(x=list(accuracies.keys()), y=list(accuracies.values()), palette=colors)\n",
    "plt.show()"
   ]
  },
  {
   "cell_type": "markdown",
   "metadata": {},
   "source": [
    "# Confusion Matrix"
   ]
  },
  {
   "cell_type": "code",
   "execution_count": 813,
   "metadata": {},
   "outputs": [],
   "source": [
    "# Predicted values\n",
    "y_head_dtc = dectree.predict(X_test)\n",
    "y_head_lr = logreg.predict(x_test)\n",
    "y_head_rf = rf.predict(x_test)\n",
    "y_head_nb = nb.predict(x_test)\n",
    "y_head_svm = svm.predict(x_test)"
   ]
  },
  {
   "cell_type": "code",
   "execution_count": 814,
   "metadata": {},
   "outputs": [],
   "source": [
    "from sklearn.metrics import confusion_matrix\n",
    "cm_dtc = confusion_matrix(Y_test,y_head_dtc)\n",
    "cm_lr = confusion_matrix(y_test,y_head_lr)\n",
    "cm_rf = confusion_matrix(y_test,y_head_rf)\n",
    "cm_nb = confusion_matrix(y_test,y_head_nb)\n",
    "cm_svm = confusion_matrix(y_test,y_head_svm)"
   ]
  },
  {
   "cell_type": "code",
   "execution_count": 815,
   "metadata": {},
   "outputs": [
    {
     "data": {
      "image/png": "[encoded data removed]",
      "text/plain": [
       "<Figure size 1728x864 with 5 Axes>"
      ]
     },
     "metadata": {},
     "output_type": "display_data"
    }
   ],
   "source": [
    "plt.figure(figsize=(24,12))\n",
    "\n",
    "plt.suptitle(\"Confusion Matrixes\",fontsize=24)\n",
    "plt.subplots_adjust(wspace = 0.4, hspace= 0.4)\n",
    "\n",
    "\n",
    "plt.subplot(2,3,1)\n",
    "plt.title(\"Decision Tree Classifier Confusion Matrix\")\n",
    "sb.heatmap(cm_dtc,annot=True,cmap=\"Blues\",fmt=\"d\",cbar=False, annot_kws={\"size\": 24})\n",
    "\n",
    "plt.subplot(2,3,2)\n",
    "plt.title(\"Logistic Regression Confusion Matrix\")\n",
    "sb.heatmap(cm_lr,annot=True,cmap=\"Blues\",fmt=\"d\",cbar=False, annot_kws={\"size\": 24})\n",
    "\n",
    "plt.subplot(2,3,3)\n",
    "plt.title(\"Random Forest Confusion Matrix\")\n",
    "sb.heatmap(cm_rf,annot=True,cmap=\"Blues\",fmt=\"d\",cbar=False, annot_kws={\"size\": 24})\n",
    "\n",
    "plt.subplot(2,3,4)\n",
    "plt.title(\"Support Vector Machine Confusion Matrix\")\n",
    "sb.heatmap(cm_svm,annot=True,cmap=\"Blues\",fmt=\"d\",cbar=False, annot_kws={\"size\": 24})\n",
    "\n",
    "plt.subplot(2,3,5)\n",
    "plt.title(\"Naive Bayes Confusion Matrix\")\n",
    "sb.heatmap(cm_nb,annot=True,cmap=\"Blues\",fmt=\"d\",cbar=False, annot_kws={\"size\": 24})\n",
    "\n",
    "\n",
    "\n",
    "\n",
    "plt.show()"
   ]
  },
  {
   "cell_type": "markdown",
   "metadata": {},
   "source": [
    "Sensitivity measures the proportion of positives that are correctly identified (e.g., the percentage of sick people who are correctly identified as having some illness).\n",
    "Specificity measures the proportion of negatives that are correctly identified (e.g., the percentage of healthy people who are correctly identified as not having some illness)."
   ]
  },
  {
   "cell_type": "code",
   "execution_count": 816,
   "metadata": {},
   "outputs": [
    {
     "name": "stdout",
     "output_type": "stream",
     "text": [
      "Sensitivity for Decision Tree:  0.6774193548387096\n",
      "Specificity for Decision Tree:  0.8666666666666667 \n",
      "\n",
      "Sensitivity for Logestic Regression:  0.9310344827586207\n",
      "Specificity for Logestic Regression:  0.90625 \n",
      "\n",
      "Sensitivity for Random Forest:  0.8928571428571429\n",
      "Specificity for Random Forest:  0.8484848484848485 \n",
      "\n",
      "Sensitivity for Navie Bayes:  0.9285714285714286\n",
      "Specificity for Navie Bayes:  0.6382978723404256 \n",
      "\n",
      "Sensitivity for Support Vector Machine:  0.8928571428571429\n",
      "Specificity for Support Vector Machine:  0.8484848484848485 \n",
      "\n"
     ]
    }
   ],
   "source": [
    "total=sum(sum(cm_dtc))\n",
    "\n",
    "sensitivityDC = cm_dtc[0,0]/(cm_dtc[0,0]+cm_dtc[1,0])\n",
    "print('Sensitivity for Decision Tree: ', sensitivityDC )\n",
    "\n",
    "specificityDC = cm_dtc[1,1]/(cm_dtc[1,1]+cm_dtc[0,1])\n",
    "print('Specificity for Decision Tree: ', specificityDC,\"\\n\")\n",
    "\n",
    "\n",
    "total=sum(sum(cm_lr))\n",
    "\n",
    "sensitivityLG = cm_lr[0,0]/(cm_lr[0,0]+cm_lr[1,0])\n",
    "print('Sensitivity for Logestic Regression: ', sensitivityLG )\n",
    "\n",
    "specificityLG = cm_lr[1,1]/(cm_lr[1,1]+cm_lr[0,1])\n",
    "print('Specificity for Logestic Regression: ', specificityLG ,\"\\n\")\n",
    "\n",
    "\n",
    "total=sum(sum(cm_rf))\n",
    "\n",
    "sensitivityRF = cm_rf[0,0]/(cm_rf[0,0]+cm_rf[1,0])\n",
    "print('Sensitivity for Random Forest: ', sensitivityRF)\n",
    "\n",
    "specificityRF = cm_rf[1,1]/(cm_rf[1,1]+cm_rf[0,1])\n",
    "print('Specificity for Random Forest: ', specificityRF,\"\\n\" )\n",
    "\n",
    "\n",
    "total=sum(sum(cm_nb))\n",
    "\n",
    "sensitivityNB = cm_nb[0,0]/(cm_nb [0,0]+cm_nb[1,0])\n",
    "print('Sensitivity for Navie Bayes: ', sensitivityNB)\n",
    "\n",
    "specificityNB = cm_nb[1,1]/(cm_nb[1,1]+cm_nb[0,1])\n",
    "print('Specificity for Navie Bayes: ', specificityNB,\"\\n\" )\n",
    "\n",
    "\n",
    "total=sum(sum(cm_svm))\n",
    "\n",
    "sensitivitySVM = cm_svm[0,0]/(cm_svm[0,0]+cm_svm[1,0])\n",
    "print('Sensitivity for Support Vector Machine: ', sensitivitySVM )\n",
    "\n",
    "specificitySVM = cm_svm[1,1]/(cm_svm[1,1]+cm_svm[0,1])\n",
    "print('Specificity for Support Vector Machine: ', specificitySVM,\"\\n\")"
   ]
  },
  {
   "cell_type": "code",
   "execution_count": null,
   "metadata": {},
   "outputs": [],
   "source": []
  }
 ],
 "metadata": {
  "kernelspec": {
   "display_name": "Python 3",
   "language": "python",
   "name": "python3"
  },
  "language_info": {
   "codemirror_mode": {
    "name": "ipython",
    "version": 3
   },
   "file_extension": ".py",
   "mimetype": "text/x-python",
   "name": "python",
   "nbconvert_exporter": "python",
   "pygments_lexer": "ipython3",
   "version": "3.8.3"
  }
 },
 "nbformat": 4,
 "nbformat_minor": 4
}
