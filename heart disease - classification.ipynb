{
 "cells": [
  {
   "cell_type": "code",
   "execution_count": 43,
   "metadata": {},
   "outputs": [],
   "source": [
    "import numpy as np\n",
    "import pandas as pd\n",
    "import seaborn as sb\n",
    "import matplotlib.pyplot as plt\n",
    "from sklearn.model_selection import train_test_split"
   ]
  },
  {
   "cell_type": "code",
   "execution_count": 44,
   "metadata": {},
   "outputs": [
    {
     "data": {
      "text/html": [
       "<div>\n",
       "<style scoped>\n",
       "    .dataframe tbody tr th:only-of-type {\n",
       "        vertical-align: middle;\n",
       "    }\n",
       "\n",
       "    .dataframe tbody tr th {\n",
       "        vertical-align: top;\n",
       "    }\n",
       "\n",
       "    .dataframe thead th {\n",
       "        text-align: right;\n",
       "    }\n",
       "</style>\n",
       "<table border=\"1\" class=\"dataframe\">\n",
       "  <thead>\n",
       "    <tr style=\"text-align: right;\">\n",
       "      <th></th>\n",
       "      <th>age</th>\n",
       "      <th>sex</th>\n",
       "      <th>cp</th>\n",
       "      <th>trestbps</th>\n",
       "      <th>chol</th>\n",
       "      <th>fbs</th>\n",
       "      <th>restecg</th>\n",
       "      <th>thalach</th>\n",
       "      <th>exang</th>\n",
       "      <th>oldpeak</th>\n",
       "      <th>slope</th>\n",
       "      <th>ca</th>\n",
       "      <th>thal</th>\n",
       "      <th>target</th>\n",
       "    </tr>\n",
       "  </thead>\n",
       "  <tbody>\n",
       "    <tr>\n",
       "      <th>0</th>\n",
       "      <td>63</td>\n",
       "      <td>1</td>\n",
       "      <td>3</td>\n",
       "      <td>145</td>\n",
       "      <td>233</td>\n",
       "      <td>1</td>\n",
       "      <td>0</td>\n",
       "      <td>150</td>\n",
       "      <td>0</td>\n",
       "      <td>2.3</td>\n",
       "      <td>0</td>\n",
       "      <td>0</td>\n",
       "      <td>1</td>\n",
       "      <td>1</td>\n",
       "    </tr>\n",
       "    <tr>\n",
       "      <th>1</th>\n",
       "      <td>37</td>\n",
       "      <td>1</td>\n",
       "      <td>2</td>\n",
       "      <td>130</td>\n",
       "      <td>250</td>\n",
       "      <td>0</td>\n",
       "      <td>1</td>\n",
       "      <td>187</td>\n",
       "      <td>0</td>\n",
       "      <td>3.5</td>\n",
       "      <td>0</td>\n",
       "      <td>0</td>\n",
       "      <td>2</td>\n",
       "      <td>1</td>\n",
       "    </tr>\n",
       "    <tr>\n",
       "      <th>2</th>\n",
       "      <td>41</td>\n",
       "      <td>0</td>\n",
       "      <td>1</td>\n",
       "      <td>130</td>\n",
       "      <td>204</td>\n",
       "      <td>0</td>\n",
       "      <td>0</td>\n",
       "      <td>172</td>\n",
       "      <td>0</td>\n",
       "      <td>1.4</td>\n",
       "      <td>2</td>\n",
       "      <td>0</td>\n",
       "      <td>2</td>\n",
       "      <td>1</td>\n",
       "    </tr>\n",
       "    <tr>\n",
       "      <th>3</th>\n",
       "      <td>56</td>\n",
       "      <td>1</td>\n",
       "      <td>1</td>\n",
       "      <td>120</td>\n",
       "      <td>236</td>\n",
       "      <td>0</td>\n",
       "      <td>1</td>\n",
       "      <td>178</td>\n",
       "      <td>0</td>\n",
       "      <td>0.8</td>\n",
       "      <td>2</td>\n",
       "      <td>0</td>\n",
       "      <td>2</td>\n",
       "      <td>1</td>\n",
       "    </tr>\n",
       "    <tr>\n",
       "      <th>4</th>\n",
       "      <td>57</td>\n",
       "      <td>0</td>\n",
       "      <td>0</td>\n",
       "      <td>120</td>\n",
       "      <td>354</td>\n",
       "      <td>0</td>\n",
       "      <td>1</td>\n",
       "      <td>163</td>\n",
       "      <td>1</td>\n",
       "      <td>0.6</td>\n",
       "      <td>2</td>\n",
       "      <td>0</td>\n",
       "      <td>2</td>\n",
       "      <td>1</td>\n",
       "    </tr>\n",
       "  </tbody>\n",
       "</table>\n",
       "</div>"
      ],
      "text/plain": [
       "   age  sex  cp  trestbps  chol  fbs  restecg  thalach  exang  oldpeak  slope  \\\n",
       "0   63    1   3       145   233    1        0      150      0      2.3      0   \n",
       "1   37    1   2       130   250    0        1      187      0      3.5      0   \n",
       "2   41    0   1       130   204    0        0      172      0      1.4      2   \n",
       "3   56    1   1       120   236    0        1      178      0      0.8      2   \n",
       "4   57    0   0       120   354    0        1      163      1      0.6      2   \n",
       "\n",
       "   ca  thal  target  \n",
       "0   0     1       1  \n",
       "1   0     2       1  \n",
       "2   0     2       1  \n",
       "3   0     2       1  \n",
       "4   0     2       1  "
      ]
     },
     "execution_count": 44,
     "metadata": {},
     "output_type": "execute_result"
    }
   ],
   "source": [
    "data = pd.read_csv('heart.csv')\n",
    "df = pd.read_csv('heart.csv')\n",
    "data.head()"
   ]
  },
  {
   "cell_type": "markdown",
   "metadata": {},
   "source": [
    "# Data contains\n",
    "\n",
    "##### age - age in years\n",
    "##### sex - (1 = male; 0 = female)\n",
    "##### cp - chest pain type - (1 = typical angina, 2 = atypical angina, 3 = non-anginal pain, 4=asymptomatic)\n",
    "##### trestbps - resting blood pressure (in mm Hg on admission to the hospital)\n",
    "##### chol - serum cholestoral in mg/dl\n",
    "##### fbs - (fasting blood sugar > 120 mg/dl) (1 = true; 0 = false)\n",
    "##### restecg - resting electrocardiographic results - (0 = normal, 1 = ST-T wave abnormality, 2 = left ventricular hypertrophy)\n",
    "##### thalach - maximum heart rate achieved\n",
    "##### exang - exercise induced angina (1 = yes; 0 = no)\n",
    "##### oldpeak - ST depression induced by exercise relative to rest\n",
    "##### slope - the slope of the peak exercise ST segment - (1 = upsloping, 2 = flat, 3 = downsloping)\n",
    "##### ca - number of major vessels (0-3) colored by flourosopy\n",
    "##### thal - 1 = normal; 2 = fixed defect; 3 = reversable defect\n",
    "##### target - have disease or not (1=yes, 0=no)"
   ]
  },
  {
   "cell_type": "code",
   "execution_count": 45,
   "metadata": {},
   "outputs": [
    {
     "name": "stdout",
     "output_type": "stream",
     "text": [
      "<class 'pandas.core.frame.DataFrame'>\n",
      "RangeIndex: 303 entries, 0 to 302\n",
      "Data columns (total 14 columns):\n",
      " #   Column    Non-Null Count  Dtype  \n",
      "---  ------    --------------  -----  \n",
      " 0   age       303 non-null    int64  \n",
      " 1   sex       303 non-null    int64  \n",
      " 2   cp        303 non-null    int64  \n",
      " 3   trestbps  303 non-null    int64  \n",
      " 4   chol      303 non-null    int64  \n",
      " 5   fbs       303 non-null    int64  \n",
      " 6   restecg   303 non-null    int64  \n",
      " 7   thalach   303 non-null    int64  \n",
      " 8   exang     303 non-null    int64  \n",
      " 9   oldpeak   303 non-null    float64\n",
      " 10  slope     303 non-null    int64  \n",
      " 11  ca        303 non-null    int64  \n",
      " 12  thal      303 non-null    int64  \n",
      " 13  target    303 non-null    int64  \n",
      "dtypes: float64(1), int64(13)\n",
      "memory usage: 33.3 KB\n"
     ]
    }
   ],
   "source": [
    "data.info()"
   ]
  },
  {
   "cell_type": "code",
   "execution_count": 46,
   "metadata": {},
   "outputs": [],
   "source": [
    "data['sex'] = data['sex'].astype('object')\n",
    "data['cp'] = data['cp'].astype('object')\n",
    "data['fbs'] = data['fbs'].astype('object')\n",
    "data['restecg'] = data['restecg'].astype('object')\n",
    "data['exang'] = data['exang'].astype('object')\n",
    "data['slope'] = data['slope'].astype('object')\n",
    "data['ca'] = data['ca'].astype('object')\n",
    "data['thal'] = data['thal'].astype('object')\n",
    "data['target'] = data['target'].astype('object')\n",
    "\n",
    "sex1 = []\n",
    "target1 = []\n",
    "for sex_value in data['sex']:\n",
    "    if sex_value == 0:\n",
    "        sex1.append('F') \n",
    "    else:\n",
    "        sex1.append('M')\n",
    "for target_value in data['target']:\n",
    "    if target_value == 0:\n",
    "        target1.append('N')\n",
    "    else:\n",
    "        target1.append('Y')\n",
    "data['sex'] = sex1\n",
    "data['target'] = target1"
   ]
  },
  {
   "cell_type": "code",
   "execution_count": 47,
   "metadata": {},
   "outputs": [
    {
     "data": {
      "text/html": [
       "<div>\n",
       "<style scoped>\n",
       "    .dataframe tbody tr th:only-of-type {\n",
       "        vertical-align: middle;\n",
       "    }\n",
       "\n",
       "    .dataframe tbody tr th {\n",
       "        vertical-align: top;\n",
       "    }\n",
       "\n",
       "    .dataframe thead th {\n",
       "        text-align: right;\n",
       "    }\n",
       "</style>\n",
       "<table border=\"1\" class=\"dataframe\">\n",
       "  <thead>\n",
       "    <tr style=\"text-align: right;\">\n",
       "      <th></th>\n",
       "      <th>age</th>\n",
       "      <th>sex</th>\n",
       "      <th>cp</th>\n",
       "      <th>trestbps</th>\n",
       "      <th>chol</th>\n",
       "      <th>fbs</th>\n",
       "      <th>restecg</th>\n",
       "      <th>thalach</th>\n",
       "      <th>exang</th>\n",
       "      <th>oldpeak</th>\n",
       "      <th>slope</th>\n",
       "      <th>ca</th>\n",
       "      <th>thal</th>\n",
       "      <th>target</th>\n",
       "    </tr>\n",
       "  </thead>\n",
       "  <tbody>\n",
       "    <tr>\n",
       "      <th>285</th>\n",
       "      <td>46</td>\n",
       "      <td>M</td>\n",
       "      <td>0</td>\n",
       "      <td>140</td>\n",
       "      <td>311</td>\n",
       "      <td>0</td>\n",
       "      <td>1</td>\n",
       "      <td>120</td>\n",
       "      <td>1</td>\n",
       "      <td>1.8</td>\n",
       "      <td>1</td>\n",
       "      <td>2</td>\n",
       "      <td>3</td>\n",
       "      <td>N</td>\n",
       "    </tr>\n",
       "    <tr>\n",
       "      <th>26</th>\n",
       "      <td>59</td>\n",
       "      <td>M</td>\n",
       "      <td>2</td>\n",
       "      <td>150</td>\n",
       "      <td>212</td>\n",
       "      <td>1</td>\n",
       "      <td>1</td>\n",
       "      <td>157</td>\n",
       "      <td>0</td>\n",
       "      <td>1.6</td>\n",
       "      <td>2</td>\n",
       "      <td>0</td>\n",
       "      <td>2</td>\n",
       "      <td>Y</td>\n",
       "    </tr>\n",
       "    <tr>\n",
       "      <th>85</th>\n",
       "      <td>67</td>\n",
       "      <td>F</td>\n",
       "      <td>2</td>\n",
       "      <td>115</td>\n",
       "      <td>564</td>\n",
       "      <td>0</td>\n",
       "      <td>0</td>\n",
       "      <td>160</td>\n",
       "      <td>0</td>\n",
       "      <td>1.6</td>\n",
       "      <td>1</td>\n",
       "      <td>0</td>\n",
       "      <td>3</td>\n",
       "      <td>Y</td>\n",
       "    </tr>\n",
       "    <tr>\n",
       "      <th>42</th>\n",
       "      <td>45</td>\n",
       "      <td>M</td>\n",
       "      <td>0</td>\n",
       "      <td>104</td>\n",
       "      <td>208</td>\n",
       "      <td>0</td>\n",
       "      <td>0</td>\n",
       "      <td>148</td>\n",
       "      <td>1</td>\n",
       "      <td>3.0</td>\n",
       "      <td>1</td>\n",
       "      <td>0</td>\n",
       "      <td>2</td>\n",
       "      <td>Y</td>\n",
       "    </tr>\n",
       "    <tr>\n",
       "      <th>131</th>\n",
       "      <td>49</td>\n",
       "      <td>F</td>\n",
       "      <td>1</td>\n",
       "      <td>134</td>\n",
       "      <td>271</td>\n",
       "      <td>0</td>\n",
       "      <td>1</td>\n",
       "      <td>162</td>\n",
       "      <td>0</td>\n",
       "      <td>0.0</td>\n",
       "      <td>1</td>\n",
       "      <td>0</td>\n",
       "      <td>2</td>\n",
       "      <td>Y</td>\n",
       "    </tr>\n",
       "  </tbody>\n",
       "</table>\n",
       "</div>"
      ],
      "text/plain": [
       "     age sex cp  trestbps  chol fbs restecg  thalach exang  oldpeak slope ca  \\\n",
       "285   46   M  0       140   311   0       1      120     1      1.8     1  2   \n",
       "26    59   M  2       150   212   1       1      157     0      1.6     2  0   \n",
       "85    67   F  2       115   564   0       0      160     0      1.6     1  0   \n",
       "42    45   M  0       104   208   0       0      148     1      3.0     1  0   \n",
       "131   49   F  1       134   271   0       1      162     0      0.0     1  0   \n",
       "\n",
       "    thal target  \n",
       "285    3      N  \n",
       "26     2      Y  \n",
       "85     3      Y  \n",
       "42     2      Y  \n",
       "131    2      Y  "
      ]
     },
     "execution_count": 47,
     "metadata": {},
     "output_type": "execute_result"
    }
   ],
   "source": [
    "data.sample(5)"
   ]
  },
  {
   "cell_type": "code",
   "execution_count": 48,
   "metadata": {},
   "outputs": [
    {
     "data": {
      "text/plain": [
       "age           int64\n",
       "sex          object\n",
       "cp           object\n",
       "trestbps      int64\n",
       "chol          int64\n",
       "fbs          object\n",
       "restecg      object\n",
       "thalach       int64\n",
       "exang        object\n",
       "oldpeak     float64\n",
       "slope        object\n",
       "ca           object\n",
       "thal         object\n",
       "target       object\n",
       "dtype: object"
      ]
     },
     "execution_count": 48,
     "metadata": {},
     "output_type": "execute_result"
    }
   ],
   "source": [
    "data.dtypes"
   ]
  },
  {
   "cell_type": "code",
   "execution_count": 49,
   "metadata": {},
   "outputs": [
    {
     "data": {
      "text/html": [
       "<div>\n",
       "<style scoped>\n",
       "    .dataframe tbody tr th:only-of-type {\n",
       "        vertical-align: middle;\n",
       "    }\n",
       "\n",
       "    .dataframe tbody tr th {\n",
       "        vertical-align: top;\n",
       "    }\n",
       "\n",
       "    .dataframe thead th {\n",
       "        text-align: right;\n",
       "    }\n",
       "</style>\n",
       "<table border=\"1\" class=\"dataframe\">\n",
       "  <thead>\n",
       "    <tr style=\"text-align: right;\">\n",
       "      <th></th>\n",
       "      <th>age</th>\n",
       "      <th>trestbps</th>\n",
       "      <th>chol</th>\n",
       "      <th>thalach</th>\n",
       "      <th>oldpeak</th>\n",
       "    </tr>\n",
       "  </thead>\n",
       "  <tbody>\n",
       "    <tr>\n",
       "      <th>count</th>\n",
       "      <td>303.000000</td>\n",
       "      <td>303.000000</td>\n",
       "      <td>303.000000</td>\n",
       "      <td>303.000000</td>\n",
       "      <td>303.000000</td>\n",
       "    </tr>\n",
       "    <tr>\n",
       "      <th>mean</th>\n",
       "      <td>54.366337</td>\n",
       "      <td>131.623762</td>\n",
       "      <td>246.264026</td>\n",
       "      <td>149.646865</td>\n",
       "      <td>1.039604</td>\n",
       "    </tr>\n",
       "    <tr>\n",
       "      <th>std</th>\n",
       "      <td>9.082101</td>\n",
       "      <td>17.538143</td>\n",
       "      <td>51.830751</td>\n",
       "      <td>22.905161</td>\n",
       "      <td>1.161075</td>\n",
       "    </tr>\n",
       "    <tr>\n",
       "      <th>min</th>\n",
       "      <td>29.000000</td>\n",
       "      <td>94.000000</td>\n",
       "      <td>126.000000</td>\n",
       "      <td>71.000000</td>\n",
       "      <td>0.000000</td>\n",
       "    </tr>\n",
       "    <tr>\n",
       "      <th>25%</th>\n",
       "      <td>47.500000</td>\n",
       "      <td>120.000000</td>\n",
       "      <td>211.000000</td>\n",
       "      <td>133.500000</td>\n",
       "      <td>0.000000</td>\n",
       "    </tr>\n",
       "    <tr>\n",
       "      <th>50%</th>\n",
       "      <td>55.000000</td>\n",
       "      <td>130.000000</td>\n",
       "      <td>240.000000</td>\n",
       "      <td>153.000000</td>\n",
       "      <td>0.800000</td>\n",
       "    </tr>\n",
       "    <tr>\n",
       "      <th>75%</th>\n",
       "      <td>61.000000</td>\n",
       "      <td>140.000000</td>\n",
       "      <td>274.500000</td>\n",
       "      <td>166.000000</td>\n",
       "      <td>1.600000</td>\n",
       "    </tr>\n",
       "    <tr>\n",
       "      <th>max</th>\n",
       "      <td>77.000000</td>\n",
       "      <td>200.000000</td>\n",
       "      <td>564.000000</td>\n",
       "      <td>202.000000</td>\n",
       "      <td>6.200000</td>\n",
       "    </tr>\n",
       "  </tbody>\n",
       "</table>\n",
       "</div>"
      ],
      "text/plain": [
       "              age    trestbps        chol     thalach     oldpeak\n",
       "count  303.000000  303.000000  303.000000  303.000000  303.000000\n",
       "mean    54.366337  131.623762  246.264026  149.646865    1.039604\n",
       "std      9.082101   17.538143   51.830751   22.905161    1.161075\n",
       "min     29.000000   94.000000  126.000000   71.000000    0.000000\n",
       "25%     47.500000  120.000000  211.000000  133.500000    0.000000\n",
       "50%     55.000000  130.000000  240.000000  153.000000    0.800000\n",
       "75%     61.000000  140.000000  274.500000  166.000000    1.600000\n",
       "max     77.000000  200.000000  564.000000  202.000000    6.200000"
      ]
     },
     "execution_count": 49,
     "metadata": {},
     "output_type": "execute_result"
    }
   ],
   "source": [
    "data.describe()"
   ]
  },
  {
   "cell_type": "markdown",
   "metadata": {},
   "source": [
    "# data visualization"
   ]
  },
  {
   "cell_type": "code",
   "execution_count": 50,
   "metadata": {},
   "outputs": [
    {
     "data": {
      "text/plain": [
       "<matplotlib.axes._subplots.AxesSubplot at 0x203507628b0>"
      ]
     },
     "execution_count": 50,
     "metadata": {},
     "output_type": "execute_result"
    },
    {
     "data": {
      "image/png": "[encoded data removed]",
      "text/plain": [
       "<Figure size 864x432 with 2 Axes>"
      ]
     },
     "metadata": {},
     "output_type": "display_data"
    }
   ],
   "source": [
    "f,axes = plt.subplots(1,2, figsize=(12,6))\n",
    "sb.countplot(data.sex, ax = axes[0])\n",
    "sb.countplot(data.target, ax = axes[1])"
   ]
  },
  {
   "cell_type": "markdown",
   "metadata": {},
   "source": [
    "##### There are nearly 200 males and 100 females. Nearly half have heart disease and half do not."
   ]
  },
  {
   "cell_type": "code",
   "execution_count": 51,
   "metadata": {},
   "outputs": [
    {
     "data": {
      "image/png": "[encoded data removed]",
      "text/plain": [
       "<Figure size 432x432 with 1 Axes>"
      ]
     },
     "metadata": {},
     "output_type": "display_data"
    }
   ],
   "source": [
    "pd.crosstab(data.sex,data.target).plot(kind=\"bar\",figsize=(6,6))\n",
    "plt.title('Heart Disease Frequency for Sex')\n",
    "plt.xlabel('Sex')\n",
    "plt.xticks(rotation=0)\n",
    "plt.legend([\"N\", \"Y\"])\n",
    "plt.ylabel('Frequency')\n",
    "plt.show()"
   ]
  },
  {
   "cell_type": "markdown",
   "metadata": {},
   "source": [
    "##### For females, the number of people with heart disease is much larger than that of people without. For males, it's roughly the same. We may briefly conclude that females have higher chance of getting heart disease."
   ]
  },
  {
   "cell_type": "code",
   "execution_count": 52,
   "metadata": {},
   "outputs": [
    {
     "data": {
      "text/plain": [
       "<matplotlib.legend.Legend at 0x20351304dc0>"
      ]
     },
     "execution_count": 52,
     "metadata": {},
     "output_type": "execute_result"
    },
    {
     "data": {
      "image/png": "[encoded data removed]",
      "text/plain": [
       "<Figure size 864x432 with 2 Axes>"
      ]
     },
     "metadata": {},
     "output_type": "display_data"
    }
   ],
   "source": [
    "f,axes = plt.subplots(1,2, figsize=(12,6))\n",
    "ax1=sb.distplot(data['age'],ax=axes[0])\n",
    "ax1.title.set_text('Overall age distribution')\n",
    "ax2=sb.distplot(data[data['target'] == 'N']['age'], ax = axes[1])\n",
    "sb.distplot(data[data['target'] == 'Y']['age'], ax = axes[1])\n",
    "plt.title('Respective age distribution ')\n",
    "plt.legend([\"N\", \"Y\"])"
   ]
  },
  {
   "cell_type": "markdown",
   "metadata": {},
   "source": [
    "##### There are more people with heart disease aging from 45 to 60."
   ]
  },
  {
   "cell_type": "markdown",
   "metadata": {},
   "source": [
    "### Heart disease frequency for chest pain type"
   ]
  },
  {
   "cell_type": "code",
   "execution_count": 53,
   "metadata": {},
   "outputs": [
    {
     "data": {
      "image/png": "[encoded data removed]",
      "text/plain": [
       "<Figure size 864x432 with 1 Axes>"
      ]
     },
     "metadata": {},
     "output_type": "display_data"
    }
   ],
   "source": [
    "pd.crosstab(data.cp,data.target).plot(kind=\"bar\",figsize=(12,6))\n",
    "plt.title('Heart Disease Frequency for chest pain type')\n",
    "plt.xlabel('chest pain type')\n",
    "plt.xticks(rotation=0)\n",
    "plt.legend([\"N\", \"Y\"])\n",
    "plt.ylabel('Frequency')\n",
    "plt.show()"
   ]
  },
  {
   "cell_type": "markdown",
   "metadata": {},
   "source": [
    "##### People with cp 0 are less likely to have heart disease, but with cp 1, 2 and 3 are more likely."
   ]
  },
  {
   "cell_type": "markdown",
   "metadata": {},
   "source": [
    "### Heart disease frequency for other categorical attributes"
   ]
  },
  {
   "cell_type": "code",
   "execution_count": 54,
   "metadata": {},
   "outputs": [
    {
     "data": {
      "text/plain": [
       "<matplotlib.axes._subplots.AxesSubplot at 0x2034e781a90>"
      ]
     },
     "execution_count": 54,
     "metadata": {},
     "output_type": "execute_result"
    },
    {
     "data": {
      "image/png": "[encoded data removed]",
      "text/plain": [
       "<Figure size 1296x864 with 6 Axes>"
      ]
     },
     "metadata": {},
     "output_type": "display_data"
    }
   ],
   "source": [
    "f,axes = plt.subplots(2,3, figsize=(18,12))\n",
    "pd.crosstab(data.fbs,data.target).plot(kind=\"bar\",ax=axes[0,0])\n",
    "pd.crosstab(data.restecg,data.target).plot(kind=\"bar\",ax=axes[0,1])\n",
    "pd.crosstab(data.exang,data.target).plot(kind=\"bar\",ax=axes[0,2])\n",
    "pd.crosstab(data.slope,data.target).plot(kind=\"bar\",ax=axes[1,0])\n",
    "pd.crosstab(data.ca,data.target).plot(kind=\"bar\",ax=axes[1,1])\n",
    "pd.crosstab(data.thal,data.target).plot(kind=\"bar\",ax=axes[1,2])"
   ]
  },
  {
   "cell_type": "markdown",
   "metadata": {},
   "source": [
    "##### We can observe some significant differences between the number of people with and without heart disease with respect to restecg 1, exang 0, slope 2, ca 0 and thal 2. These kinds of attributes have a high possibility of indicating a presence of heart disease."
   ]
  },
  {
   "cell_type": "markdown",
   "metadata": {},
   "source": [
    "### Heart disease frequency for numerical attributes"
   ]
  },
  {
   "cell_type": "code",
   "execution_count": 55,
   "metadata": {},
   "outputs": [
    {
     "data": {
      "image/png": "[encoded data removed]",
      "text/plain": [
       "<Figure size 864x864 with 4 Axes>"
      ]
     },
     "metadata": {},
     "output_type": "display_data"
    }
   ],
   "source": [
    "f,axes = plt.subplots(2,2, figsize=(12,12))\n",
    "sb.distplot(data[data[\"target\"]=='Y']['trestbps'],ax=axes[0,0])\n",
    "sb.distplot(data[data[\"target\"]=='N']['trestbps'],ax=axes[0,0])\n",
    "sb.distplot(data[data[\"target\"]=='Y']['thalach'],ax=axes[0,1])\n",
    "sb.distplot(data[data[\"target\"]=='N']['thalach'],ax=axes[0,1])\n",
    "sb.distplot(data[data[\"target\"]=='Y']['chol'],ax=axes[1,0])\n",
    "sb.distplot(data[data[\"target\"]=='N']['chol'],ax=axes[1,0])\n",
    "sb.distplot(data[data[\"target\"]=='Y']['oldpeak'],ax=axes[1,1])\n",
    "sb.distplot(data[data[\"target\"]=='N']['oldpeak'],ax=axes[1,1])\n",
    "\n",
    "plt.legend([\"Disease\", \"No Disease\"])\n",
    "plt.show()"
   ]
  },
  {
   "cell_type": "markdown",
   "metadata": {},
   "source": [
    "##### People with heart disease tend to have slightly lower trestbps level, significantly higher thalatch level, slightly lower chol level, and lower oldpeak level than those without heart disease."
   ]
  },
  {
   "cell_type": "code",
   "execution_count": 56,
   "metadata": {},
   "outputs": [],
   "source": [
    "accuracies={}"
   ]
  },
  {
   "cell_type": "markdown",
   "metadata": {},
   "source": [
    "#### This line is to put the accuracies of each machine learning model together for comparison later"
   ]
  },
  {
   "cell_type": "markdown",
   "metadata": {},
   "source": [
    "# Decision Tree"
   ]
  },
  {
   "cell_type": "code",
   "execution_count": 57,
   "metadata": {},
   "outputs": [],
   "source": [
    "# Import Decision Tree Classifier model from Scikit-Learn\n",
    "from sklearn.tree import DecisionTreeClassifier\n",
    "from sklearn.tree import export_graphviz #plot tree\n",
    "import graphviz"
   ]
  },
  {
   "cell_type": "code",
   "execution_count": 58,
   "metadata": {},
   "outputs": [],
   "source": [
    "#split the data\n",
    "X_train, X_test, Y_train, Y_test = train_test_split(df.drop('target', 1), df['target'], test_size = .2)"
   ]
  },
  {
   "cell_type": "code",
   "execution_count": 59,
   "metadata": {},
   "outputs": [
    {
     "data": {
      "text/plain": [
       "DecisionTreeClassifier(max_depth=5)"
      ]
     },
     "execution_count": 59,
     "metadata": {},
     "output_type": "execute_result"
    }
   ],
   "source": [
    "# Create a Decision Tree Classifier object\n",
    "dectree = DecisionTreeClassifier(max_depth = 5)\n",
    "\n",
    "# Train the Decision Tree Classifier model\n",
    "dectree.fit(X_train, Y_train)"
   ]
  },
  {
   "cell_type": "code",
   "execution_count": 60,
   "metadata": {},
   "outputs": [
    {
     "data": {
      "image/svg+xml": [
       "<?xml version=\"1.0\" encoding=\"UTF-8\" standalone=\"no\"?>\r\n",
       "<!DOCTYPE svg PUBLIC \"-//W3C//DTD SVG 1.1//EN\"\r\n",
       " \"http://www.w3.org/Graphics/SVG/1.1/DTD/svg11.dtd\">\r\n",
       "<!-- Generated by graphviz version 2.38.0 (20140413.2041)\r\n",
       " -->\r\n",
       "<!-- Title: Tree Pages: 1 -->\r\n",
       "<svg width=\"1976pt\" height=\"671pt\"\r\n",
       " viewBox=\"0.00 0.00 1976.00 671.00\" xmlns=\"http://www.w3.org/2000/svg\" xmlns:xlink=\"http://www.w3.org/1999/xlink\">\r\n",
       "<g id=\"graph0\" class=\"graph\" transform=\"scale(1 1) rotate(0) translate(4 667)\">\r\n",
       "<title>Tree</title>\r\n",
       "<polygon fill=\"white\" stroke=\"none\" points=\"-4,4 -4,-667 1972,-667 1972,4 -4,4\"/>\r\n",
       "<!-- 0 -->\r\n",
       "<g id=\"node1\" class=\"node\"><title>0</title>\r\n",
       "<path fill=\"#d9ecfa\" stroke=\"black\" d=\"M1071.5,-663C1071.5,-663 958.5,-663 958.5,-663 952.5,-663 946.5,-657 946.5,-651 946.5,-651 946.5,-592 946.5,-592 946.5,-586 952.5,-580 958.5,-580 958.5,-580 1071.5,-580 1071.5,-580 1077.5,-580 1083.5,-586 1083.5,-592 1083.5,-592 1083.5,-651 1083.5,-651 1083.5,-657 1077.5,-663 1071.5,-663\"/>\r\n",
       "<text text-anchor=\"middle\" x=\"1015\" y=\"-647.8\" font-family=\"Helvetica,sans-Serif\" font-size=\"14.00\">cp &lt;= 0.5</text>\r\n",
       "<text text-anchor=\"middle\" x=\"1015\" y=\"-632.8\" font-family=\"Helvetica,sans-Serif\" font-size=\"14.00\">gini = 0.49</text>\r\n",
       "<text text-anchor=\"middle\" x=\"1015\" y=\"-617.8\" font-family=\"Helvetica,sans-Serif\" font-size=\"14.00\">samples = 100.0%</text>\r\n",
       "<text text-anchor=\"middle\" x=\"1015\" y=\"-602.8\" font-family=\"Helvetica,sans-Serif\" font-size=\"14.00\">value = [0.45, 0.55]</text>\r\n",
       "<text text-anchor=\"middle\" x=\"1015\" y=\"-587.8\" font-family=\"Helvetica,sans-Serif\" font-size=\"14.00\">class = disease</text>\r\n",
       "</g>\r\n",
       "<!-- 1 -->\r\n",
       "<g id=\"node2\" class=\"node\"><title>1</title>\r\n",
       "<path fill=\"#eeae7f\" stroke=\"black\" d=\"M832.5,-544C832.5,-544 767.5,-544 767.5,-544 761.5,-544 755.5,-538 755.5,-532 755.5,-532 755.5,-473 755.5,-473 755.5,-467 761.5,-461 767.5,-461 767.5,-461 832.5,-461 832.5,-461 838.5,-461 844.5,-467 844.5,-473 844.5,-473 844.5,-532 844.5,-532 844.5,-538 838.5,-544 832.5,-544\"/>\r\n",
       "<text text-anchor=\"middle\" x=\"800\" y=\"-528.8\" font-family=\"Helvetica,sans-Serif\" font-size=\"14.00\">ca &lt;= 0.5</text>\r\n",
       "<text text-anchor=\"middle\" x=\"800\" y=\"-513.8\" font-family=\"Helvetica,sans-Serif\" font-size=\"14.00\">0.39</text>\r\n",
       "<text text-anchor=\"middle\" x=\"800\" y=\"-498.8\" font-family=\"Helvetica,sans-Serif\" font-size=\"14.00\">45.9%</text>\r\n",
       "<text text-anchor=\"middle\" x=\"800\" y=\"-483.8\" font-family=\"Helvetica,sans-Serif\" font-size=\"14.00\">[0.74, 0.26]</text>\r\n",
       "<text text-anchor=\"middle\" x=\"800\" y=\"-468.8\" font-family=\"Helvetica,sans-Serif\" font-size=\"14.00\">disease</text>\r\n",
       "</g>\r\n",
       "<!-- 0&#45;&gt;1 -->\r\n",
       "<g id=\"edge1\" class=\"edge\"><title>0&#45;&gt;1</title>\r\n",
       "<path fill=\"none\" stroke=\"black\" d=\"M946.382,-583.159C916.33,-566.805 881.593,-547.902 853.501,-532.615\"/>\r\n",
       "<polygon fill=\"black\" stroke=\"black\" points=\"855.085,-529.492 844.629,-527.786 851.739,-535.641 855.085,-529.492\"/>\r\n",
       "<text text-anchor=\"middle\" x=\"851.706\" y=\"-548.064\" font-family=\"Helvetica,sans-Serif\" font-size=\"14.00\">True</text>\r\n",
       "</g>\r\n",
       "<!-- 26 -->\r\n",
       "<g id=\"node27\" class=\"node\"><title>26</title>\r\n",
       "<path fill=\"#6ab5eb\" stroke=\"black\" d=\"M1267,-544C1267,-544 1195,-544 1195,-544 1189,-544 1183,-538 1183,-532 1183,-532 1183,-473 1183,-473 1183,-467 1189,-461 1195,-461 1195,-461 1267,-461 1267,-461 1273,-461 1279,-467 1279,-473 1279,-473 1279,-532 1279,-532 1279,-538 1273,-544 1267,-544\"/>\r\n",
       "<text text-anchor=\"middle\" x=\"1231\" y=\"-528.8\" font-family=\"Helvetica,sans-Serif\" font-size=\"14.00\">slope &lt;= 1.5</text>\r\n",
       "<text text-anchor=\"middle\" x=\"1231\" y=\"-513.8\" font-family=\"Helvetica,sans-Serif\" font-size=\"14.00\">0.32</text>\r\n",
       "<text text-anchor=\"middle\" x=\"1231\" y=\"-498.8\" font-family=\"Helvetica,sans-Serif\" font-size=\"14.00\">54.1%</text>\r\n",
       "<text text-anchor=\"middle\" x=\"1231\" y=\"-483.8\" font-family=\"Helvetica,sans-Serif\" font-size=\"14.00\">[0.2, 0.8]</text>\r\n",
       "<text text-anchor=\"middle\" x=\"1231\" y=\"-468.8\" font-family=\"Helvetica,sans-Serif\" font-size=\"14.00\">disease</text>\r\n",
       "</g>\r\n",
       "<!-- 0&#45;&gt;26 -->\r\n",
       "<g id=\"edge26\" class=\"edge\"><title>0&#45;&gt;26</title>\r\n",
       "<path fill=\"none\" stroke=\"black\" d=\"M1083.64,-583.32C1112.61,-567.629 1145.95,-549.568 1173.59,-534.599\"/>\r\n",
       "<polygon fill=\"black\" stroke=\"black\" points=\"1175.6,-537.49 1182.72,-529.649 1172.26,-531.335 1175.6,-537.49\"/>\r\n",
       "<text text-anchor=\"middle\" x=\"1175.6\" y=\"-549.913\" font-family=\"Helvetica,sans-Serif\" font-size=\"14.00\">False</text>\r\n",
       "</g>\r\n",
       "<!-- 2 -->\r\n",
       "<g id=\"node3\" class=\"node\"><title>2</title>\r\n",
       "<path fill=\"#f0f7fd\" stroke=\"black\" d=\"M524.5,-425C524.5,-425 459.5,-425 459.5,-425 453.5,-425 447.5,-419 447.5,-413 447.5,-413 447.5,-354 447.5,-354 447.5,-348 453.5,-342 459.5,-342 459.5,-342 524.5,-342 524.5,-342 530.5,-342 536.5,-348 536.5,-354 536.5,-354 536.5,-413 536.5,-413 536.5,-419 530.5,-425 524.5,-425\"/>\r\n",
       "<text text-anchor=\"middle\" x=\"492\" y=\"-409.8\" font-family=\"Helvetica,sans-Serif\" font-size=\"14.00\">thal &lt;= 2.5</text>\r\n",
       "<text text-anchor=\"middle\" x=\"492\" y=\"-394.8\" font-family=\"Helvetica,sans-Serif\" font-size=\"14.00\">0.5</text>\r\n",
       "<text text-anchor=\"middle\" x=\"492\" y=\"-379.8\" font-family=\"Helvetica,sans-Serif\" font-size=\"14.00\">20.7%</text>\r\n",
       "<text text-anchor=\"middle\" x=\"492\" y=\"-364.8\" font-family=\"Helvetica,sans-Serif\" font-size=\"14.00\">[0.48, 0.52]</text>\r\n",
       "<text text-anchor=\"middle\" x=\"492\" y=\"-349.8\" font-family=\"Helvetica,sans-Serif\" font-size=\"14.00\">disease</text>\r\n",
       "</g>\r\n",
       "<!-- 1&#45;&gt;2 -->\r\n",
       "<g id=\"edge2\" class=\"edge\"><title>1&#45;&gt;2</title>\r\n",
       "<path fill=\"none\" stroke=\"black\" d=\"M755.214,-484.487C699.899,-463.475 605.852,-427.749 546.43,-405.176\"/>\r\n",
       "<polygon fill=\"black\" stroke=\"black\" points=\"547.431,-401.813 536.84,-401.533 544.945,-408.356 547.431,-401.813\"/>\r\n",
       "</g>\r\n",
       "<!-- 15 -->\r\n",
       "<g id=\"node16\" class=\"node\"><title>15</title>\r\n",
       "<path fill=\"#e68843\" stroke=\"black\" d=\"M832.5,-425C832.5,-425 767.5,-425 767.5,-425 761.5,-425 755.5,-419 755.5,-413 755.5,-413 755.5,-354 755.5,-354 755.5,-348 761.5,-342 767.5,-342 767.5,-342 832.5,-342 832.5,-342 838.5,-342 844.5,-348 844.5,-354 844.5,-354 844.5,-413 844.5,-413 844.5,-419 838.5,-425 832.5,-425\"/>\r\n",
       "<text text-anchor=\"middle\" x=\"800\" y=\"-409.8\" font-family=\"Helvetica,sans-Serif\" font-size=\"14.00\">sex &lt;= 0.5</text>\r\n",
       "<text text-anchor=\"middle\" x=\"800\" y=\"-394.8\" font-family=\"Helvetica,sans-Serif\" font-size=\"14.00\">0.09</text>\r\n",
       "<text text-anchor=\"middle\" x=\"800\" y=\"-379.8\" font-family=\"Helvetica,sans-Serif\" font-size=\"14.00\">25.2%</text>\r\n",
       "<text text-anchor=\"middle\" x=\"800\" y=\"-364.8\" font-family=\"Helvetica,sans-Serif\" font-size=\"14.00\">[0.95, 0.05]</text>\r\n",
       "<text text-anchor=\"middle\" x=\"800\" y=\"-349.8\" font-family=\"Helvetica,sans-Serif\" font-size=\"14.00\">disease</text>\r\n",
       "</g>\r\n",
       "<!-- 1&#45;&gt;15 -->\r\n",
       "<g id=\"edge15\" class=\"edge\"><title>1&#45;&gt;15</title>\r\n",
       "<path fill=\"none\" stroke=\"black\" d=\"M800,-460.907C800,-452.649 800,-443.864 800,-435.302\"/>\r\n",
       "<polygon fill=\"black\" stroke=\"black\" points=\"803.5,-435.021 800,-425.021 796.5,-435.021 803.5,-435.021\"/>\r\n",
       "</g>\r\n",
       "<!-- 3 -->\r\n",
       "<g id=\"node4\" class=\"node\"><title>3</title>\r\n",
       "<path fill=\"#75bbed\" stroke=\"black\" d=\"M317.5,-306C317.5,-306 242.5,-306 242.5,-306 236.5,-306 230.5,-300 230.5,-294 230.5,-294 230.5,-235 230.5,-235 230.5,-229 236.5,-223 242.5,-223 242.5,-223 317.5,-223 317.5,-223 323.5,-223 329.5,-229 329.5,-235 329.5,-235 329.5,-294 329.5,-294 329.5,-300 323.5,-306 317.5,-306\"/>\r\n",
       "<text text-anchor=\"middle\" x=\"280\" y=\"-290.8\" font-family=\"Helvetica,sans-Serif\" font-size=\"14.00\">exang &lt;= 0.5</text>\r\n",
       "<text text-anchor=\"middle\" x=\"280\" y=\"-275.8\" font-family=\"Helvetica,sans-Serif\" font-size=\"14.00\">0.36</text>\r\n",
       "<text text-anchor=\"middle\" x=\"280\" y=\"-260.8\" font-family=\"Helvetica,sans-Serif\" font-size=\"14.00\">12.4%</text>\r\n",
       "<text text-anchor=\"middle\" x=\"280\" y=\"-245.8\" font-family=\"Helvetica,sans-Serif\" font-size=\"14.00\">[0.23, 0.77]</text>\r\n",
       "<text text-anchor=\"middle\" x=\"280\" y=\"-230.8\" font-family=\"Helvetica,sans-Serif\" font-size=\"14.00\">disease</text>\r\n",
       "</g>\r\n",
       "<!-- 2&#45;&gt;3 -->\r\n",
       "<g id=\"edge3\" class=\"edge\"><title>2&#45;&gt;3</title>\r\n",
       "<path fill=\"none\" stroke=\"black\" d=\"M447.299,-357.83C415.74,-340.413 373.136,-316.901 338.82,-297.962\"/>\r\n",
       "<polygon fill=\"black\" stroke=\"black\" points=\"340.279,-294.77 329.833,-293.002 336.897,-300.898 340.279,-294.77\"/>\r\n",
       "</g>\r\n",
       "<!-- 10 -->\r\n",
       "<g id=\"node11\" class=\"node\"><title>10</title>\r\n",
       "<path fill=\"#ea975c\" stroke=\"black\" d=\"M539.5,-306C539.5,-306 444.5,-306 444.5,-306 438.5,-306 432.5,-300 432.5,-294 432.5,-294 432.5,-235 432.5,-235 432.5,-229 438.5,-223 444.5,-223 444.5,-223 539.5,-223 539.5,-223 545.5,-223 551.5,-229 551.5,-235 551.5,-235 551.5,-294 551.5,-294 551.5,-300 545.5,-306 539.5,-306\"/>\r\n",
       "<text text-anchor=\"middle\" x=\"492\" y=\"-290.8\" font-family=\"Helvetica,sans-Serif\" font-size=\"14.00\">oldpeak &lt;= 0.65</text>\r\n",
       "<text text-anchor=\"middle\" x=\"492\" y=\"-275.8\" font-family=\"Helvetica,sans-Serif\" font-size=\"14.00\">0.26</text>\r\n",
       "<text text-anchor=\"middle\" x=\"492\" y=\"-260.8\" font-family=\"Helvetica,sans-Serif\" font-size=\"14.00\">8.3%</text>\r\n",
       "<text text-anchor=\"middle\" x=\"492\" y=\"-245.8\" font-family=\"Helvetica,sans-Serif\" font-size=\"14.00\">[0.85, 0.15]</text>\r\n",
       "<text text-anchor=\"middle\" x=\"492\" y=\"-230.8\" font-family=\"Helvetica,sans-Serif\" font-size=\"14.00\">disease</text>\r\n",
       "</g>\r\n",
       "<!-- 2&#45;&gt;10 -->\r\n",
       "<g id=\"edge10\" class=\"edge\"><title>2&#45;&gt;10</title>\r\n",
       "<path fill=\"none\" stroke=\"black\" d=\"M492,-341.907C492,-333.649 492,-324.864 492,-316.302\"/>\r\n",
       "<polygon fill=\"black\" stroke=\"black\" points=\"495.5,-316.021 492,-306.021 488.5,-316.021 495.5,-316.021\"/>\r\n",
       "</g>\r\n",
       "<!-- 4 -->\r\n",
       "<g id=\"node5\" class=\"node\"><title>4</title>\r\n",
       "<path fill=\"#50a9e8\" stroke=\"black\" d=\"M179.5,-187C179.5,-187 90.5,-187 90.5,-187 84.5,-187 78.5,-181 78.5,-175 78.5,-175 78.5,-116 78.5,-116 78.5,-110 84.5,-104 90.5,-104 90.5,-104 179.5,-104 179.5,-104 185.5,-104 191.5,-110 191.5,-116 191.5,-116 191.5,-175 191.5,-175 191.5,-181 185.5,-187 179.5,-187\"/>\r\n",
       "<text text-anchor=\"middle\" x=\"135\" y=\"-171.8\" font-family=\"Helvetica,sans-Serif\" font-size=\"14.00\">thalach &lt;= 96.5</text>\r\n",
       "<text text-anchor=\"middle\" x=\"135\" y=\"-156.8\" font-family=\"Helvetica,sans-Serif\" font-size=\"14.00\">0.19</text>\r\n",
       "<text text-anchor=\"middle\" x=\"135\" y=\"-141.8\" font-family=\"Helvetica,sans-Serif\" font-size=\"14.00\">7.9%</text>\r\n",
       "<text text-anchor=\"middle\" x=\"135\" y=\"-126.8\" font-family=\"Helvetica,sans-Serif\" font-size=\"14.00\">[0.11, 0.89]</text>\r\n",
       "<text text-anchor=\"middle\" x=\"135\" y=\"-111.8\" font-family=\"Helvetica,sans-Serif\" font-size=\"14.00\">disease</text>\r\n",
       "</g>\r\n",
       "<!-- 3&#45;&gt;4 -->\r\n",
       "<g id=\"edge4\" class=\"edge\"><title>3&#45;&gt;4</title>\r\n",
       "<path fill=\"none\" stroke=\"black\" d=\"M230.099,-223.235C218.272,-213.692 205.553,-203.429 193.386,-193.611\"/>\r\n",
       "<polygon fill=\"black\" stroke=\"black\" points=\"195.465,-190.792 185.485,-187.236 191.07,-196.24 195.465,-190.792\"/>\r\n",
       "</g>\r\n",
       "<!-- 7 -->\r\n",
       "<g id=\"node8\" class=\"node\"><title>7</title>\r\n",
       "<path fill=\"#deeffb\" stroke=\"black\" d=\"M322.5,-187C322.5,-187 237.5,-187 237.5,-187 231.5,-187 225.5,-181 225.5,-175 225.5,-175 225.5,-116 225.5,-116 225.5,-110 231.5,-104 237.5,-104 237.5,-104 322.5,-104 322.5,-104 328.5,-104 334.5,-110 334.5,-116 334.5,-116 334.5,-175 334.5,-175 334.5,-181 328.5,-187 322.5,-187\"/>\r\n",
       "<text text-anchor=\"middle\" x=\"280\" y=\"-171.8\" font-family=\"Helvetica,sans-Serif\" font-size=\"14.00\">restecg &lt;= 0.5</text>\r\n",
       "<text text-anchor=\"middle\" x=\"280\" y=\"-156.8\" font-family=\"Helvetica,sans-Serif\" font-size=\"14.00\">0.5</text>\r\n",
       "<text text-anchor=\"middle\" x=\"280\" y=\"-141.8\" font-family=\"Helvetica,sans-Serif\" font-size=\"14.00\">4.5%</text>\r\n",
       "<text text-anchor=\"middle\" x=\"280\" y=\"-126.8\" font-family=\"Helvetica,sans-Serif\" font-size=\"14.00\">[0.45, 0.55]</text>\r\n",
       "<text text-anchor=\"middle\" x=\"280\" y=\"-111.8\" font-family=\"Helvetica,sans-Serif\" font-size=\"14.00\">disease</text>\r\n",
       "</g>\r\n",
       "<!-- 3&#45;&gt;7 -->\r\n",
       "<g id=\"edge7\" class=\"edge\"><title>3&#45;&gt;7</title>\r\n",
       "<path fill=\"none\" stroke=\"black\" d=\"M280,-222.907C280,-214.649 280,-205.864 280,-197.302\"/>\r\n",
       "<polygon fill=\"black\" stroke=\"black\" points=\"283.5,-197.021 280,-187.021 276.5,-197.021 283.5,-197.021\"/>\r\n",
       "</g>\r\n",
       "<!-- 5 -->\r\n",
       "<g id=\"node6\" class=\"node\"><title>5</title>\r\n",
       "<path fill=\"#e58139\" stroke=\"black\" d=\"M60,-68C60,-68 12,-68 12,-68 6,-68 0,-62 0,-56 0,-56 0,-12 0,-12 0,-6 6,-0 12,-0 12,-0 60,-0 60,-0 66,-0 72,-6 72,-12 72,-12 72,-56 72,-56 72,-62 66,-68 60,-68\"/>\r\n",
       "<text text-anchor=\"middle\" x=\"36\" y=\"-52.8\" font-family=\"Helvetica,sans-Serif\" font-size=\"14.00\">0.0</text>\r\n",
       "<text text-anchor=\"middle\" x=\"36\" y=\"-37.8\" font-family=\"Helvetica,sans-Serif\" font-size=\"14.00\">0.4%</text>\r\n",
       "<text text-anchor=\"middle\" x=\"36\" y=\"-22.8\" font-family=\"Helvetica,sans-Serif\" font-size=\"14.00\">[1.0, 0.0]</text>\r\n",
       "<text text-anchor=\"middle\" x=\"36\" y=\"-7.8\" font-family=\"Helvetica,sans-Serif\" font-size=\"14.00\">disease</text>\r\n",
       "</g>\r\n",
       "<!-- 4&#45;&gt;5 -->\r\n",
       "<g id=\"edge5\" class=\"edge\"><title>4&#45;&gt;5</title>\r\n",
       "<path fill=\"none\" stroke=\"black\" d=\"M98.1361,-103.726C89.8898,-94.6054 81.1422,-84.93 72.8947,-75.8078\"/>\r\n",
       "<polygon fill=\"black\" stroke=\"black\" points=\"75.4092,-73.3701 66.1065,-68.2996 70.2168,-78.0647 75.4092,-73.3701\"/>\r\n",
       "</g>\r\n",
       "<!-- 6 -->\r\n",
       "<g id=\"node7\" class=\"node\"><title>6</title>\r\n",
       "<path fill=\"#45a3e7\" stroke=\"black\" d=\"M167.5,-68C167.5,-68 102.5,-68 102.5,-68 96.5,-68 90.5,-62 90.5,-56 90.5,-56 90.5,-12 90.5,-12 90.5,-6 96.5,-0 102.5,-0 102.5,-0 167.5,-0 167.5,-0 173.5,-0 179.5,-6 179.5,-12 179.5,-12 179.5,-56 179.5,-56 179.5,-62 173.5,-68 167.5,-68\"/>\r\n",
       "<text text-anchor=\"middle\" x=\"135\" y=\"-52.8\" font-family=\"Helvetica,sans-Serif\" font-size=\"14.00\">0.1</text>\r\n",
       "<text text-anchor=\"middle\" x=\"135\" y=\"-37.8\" font-family=\"Helvetica,sans-Serif\" font-size=\"14.00\">7.4%</text>\r\n",
       "<text text-anchor=\"middle\" x=\"135\" y=\"-22.8\" font-family=\"Helvetica,sans-Serif\" font-size=\"14.00\">[0.06, 0.94]</text>\r\n",
       "<text text-anchor=\"middle\" x=\"135\" y=\"-7.8\" font-family=\"Helvetica,sans-Serif\" font-size=\"14.00\">disease</text>\r\n",
       "</g>\r\n",
       "<!-- 4&#45;&gt;6 -->\r\n",
       "<g id=\"edge6\" class=\"edge\"><title>4&#45;&gt;6</title>\r\n",
       "<path fill=\"none\" stroke=\"black\" d=\"M135,-103.726C135,-95.5175 135,-86.8595 135,-78.56\"/>\r\n",
       "<polygon fill=\"black\" stroke=\"black\" points=\"138.5,-78.2996 135,-68.2996 131.5,-78.2996 138.5,-78.2996\"/>\r\n",
       "</g>\r\n",
       "<!-- 8 -->\r\n",
       "<g id=\"node9\" class=\"node\"><title>8</title>\r\n",
       "<path fill=\"#399de5\" stroke=\"black\" d=\"M258,-68C258,-68 210,-68 210,-68 204,-68 198,-62 198,-56 198,-56 198,-12 198,-12 198,-6 204,-0 210,-0 210,-0 258,-0 258,-0 264,-0 270,-6 270,-12 270,-12 270,-56 270,-56 270,-62 264,-68 258,-68\"/>\r\n",
       "<text text-anchor=\"middle\" x=\"234\" y=\"-52.8\" font-family=\"Helvetica,sans-Serif\" font-size=\"14.00\">0.0</text>\r\n",
       "<text text-anchor=\"middle\" x=\"234\" y=\"-37.8\" font-family=\"Helvetica,sans-Serif\" font-size=\"14.00\">1.7%</text>\r\n",
       "<text text-anchor=\"middle\" x=\"234\" y=\"-22.8\" font-family=\"Helvetica,sans-Serif\" font-size=\"14.00\">[0.0, 1.0]</text>\r\n",
       "<text text-anchor=\"middle\" x=\"234\" y=\"-7.8\" font-family=\"Helvetica,sans-Serif\" font-size=\"14.00\">disease</text>\r\n",
       "</g>\r\n",
       "<!-- 7&#45;&gt;8 -->\r\n",
       "<g id=\"edge8\" class=\"edge\"><title>7&#45;&gt;8</title>\r\n",
       "<path fill=\"none\" stroke=\"black\" d=\"M262.871,-103.726C259.308,-95.2439 255.543,-86.2819 251.951,-77.7312\"/>\r\n",
       "<polygon fill=\"black\" stroke=\"black\" points=\"255.089,-76.1635 247.989,-68.2996 248.635,-78.8747 255.089,-76.1635\"/>\r\n",
       "</g>\r\n",
       "<!-- 9 -->\r\n",
       "<g id=\"node10\" class=\"node\"><title>9</title>\r\n",
       "<path fill=\"#efb388\" stroke=\"black\" d=\"M365.5,-68C365.5,-68 300.5,-68 300.5,-68 294.5,-68 288.5,-62 288.5,-56 288.5,-56 288.5,-12 288.5,-12 288.5,-6 294.5,-0 300.5,-0 300.5,-0 365.5,-0 365.5,-0 371.5,-0 377.5,-6 377.5,-12 377.5,-12 377.5,-56 377.5,-56 377.5,-62 371.5,-68 365.5,-68\"/>\r\n",
       "<text text-anchor=\"middle\" x=\"333\" y=\"-52.8\" font-family=\"Helvetica,sans-Serif\" font-size=\"14.00\">0.41</text>\r\n",
       "<text text-anchor=\"middle\" x=\"333\" y=\"-37.8\" font-family=\"Helvetica,sans-Serif\" font-size=\"14.00\">2.9%</text>\r\n",
       "<text text-anchor=\"middle\" x=\"333\" y=\"-22.8\" font-family=\"Helvetica,sans-Serif\" font-size=\"14.00\">[0.71, 0.29]</text>\r\n",
       "<text text-anchor=\"middle\" x=\"333\" y=\"-7.8\" font-family=\"Helvetica,sans-Serif\" font-size=\"14.00\">disease</text>\r\n",
       "</g>\r\n",
       "<!-- 7&#45;&gt;9 -->\r\n",
       "<g id=\"edge9\" class=\"edge\"><title>7&#45;&gt;9</title>\r\n",
       "<path fill=\"none\" stroke=\"black\" d=\"M299.735,-103.726C303.885,-95.1527 308.272,-86.0891 312.451,-77.4555\"/>\r\n",
       "<polygon fill=\"black\" stroke=\"black\" points=\"315.676,-78.8255 316.882,-68.2996 309.375,-75.7758 315.676,-78.8255\"/>\r\n",
       "</g>\r\n",
       "<!-- 11 -->\r\n",
       "<g id=\"node12\" class=\"node\"><title>11</title>\r\n",
       "<path fill=\"#ffffff\" stroke=\"black\" d=\"M484.5,-187C484.5,-187 379.5,-187 379.5,-187 373.5,-187 367.5,-181 367.5,-175 367.5,-175 367.5,-116 367.5,-116 367.5,-110 373.5,-104 379.5,-104 379.5,-104 484.5,-104 484.5,-104 490.5,-104 496.5,-110 496.5,-116 496.5,-116 496.5,-175 496.5,-175 496.5,-181 490.5,-187 484.5,-187\"/>\r\n",
       "<text text-anchor=\"middle\" x=\"432\" y=\"-171.8\" font-family=\"Helvetica,sans-Serif\" font-size=\"14.00\">trestbps &lt;= 129.0</text>\r\n",
       "<text text-anchor=\"middle\" x=\"432\" y=\"-156.8\" font-family=\"Helvetica,sans-Serif\" font-size=\"14.00\">0.5</text>\r\n",
       "<text text-anchor=\"middle\" x=\"432\" y=\"-141.8\" font-family=\"Helvetica,sans-Serif\" font-size=\"14.00\">2.5%</text>\r\n",
       "<text text-anchor=\"middle\" x=\"432\" y=\"-126.8\" font-family=\"Helvetica,sans-Serif\" font-size=\"14.00\">[0.5, 0.5]</text>\r\n",
       "<text text-anchor=\"middle\" x=\"432\" y=\"-111.8\" font-family=\"Helvetica,sans-Serif\" font-size=\"14.00\">disease</text>\r\n",
       "</g>\r\n",
       "<!-- 10&#45;&gt;11 -->\r\n",
       "<g id=\"edge11\" class=\"edge\"><title>10&#45;&gt;11</title>\r\n",
       "<path fill=\"none\" stroke=\"black\" d=\"M471.183,-222.907C466.762,-214.286 462.046,-205.09 457.474,-196.175\"/>\r\n",
       "<polygon fill=\"black\" stroke=\"black\" points=\"460.457,-194.322 452.78,-187.021 454.229,-197.516 460.457,-194.322\"/>\r\n",
       "</g>\r\n",
       "<!-- 14 -->\r\n",
       "<g id=\"node15\" class=\"node\"><title>14</title>\r\n",
       "<path fill=\"#e58139\" stroke=\"black\" d=\"M575,-179.5C575,-179.5 527,-179.5 527,-179.5 521,-179.5 515,-173.5 515,-167.5 515,-167.5 515,-123.5 515,-123.5 515,-117.5 521,-111.5 527,-111.5 527,-111.5 575,-111.5 575,-111.5 581,-111.5 587,-117.5 587,-123.5 587,-123.5 587,-167.5 587,-167.5 587,-173.5 581,-179.5 575,-179.5\"/>\r\n",
       "<text text-anchor=\"middle\" x=\"551\" y=\"-164.3\" font-family=\"Helvetica,sans-Serif\" font-size=\"14.00\">0.0</text>\r\n",
       "<text text-anchor=\"middle\" x=\"551\" y=\"-149.3\" font-family=\"Helvetica,sans-Serif\" font-size=\"14.00\">5.8%</text>\r\n",
       "<text text-anchor=\"middle\" x=\"551\" y=\"-134.3\" font-family=\"Helvetica,sans-Serif\" font-size=\"14.00\">[1.0, 0.0]</text>\r\n",
       "<text text-anchor=\"middle\" x=\"551\" y=\"-119.3\" font-family=\"Helvetica,sans-Serif\" font-size=\"14.00\">disease</text>\r\n",
       "</g>\r\n",
       "<!-- 10&#45;&gt;14 -->\r\n",
       "<g id=\"edge14\" class=\"edge\"><title>10&#45;&gt;14</title>\r\n",
       "<path fill=\"none\" stroke=\"black\" d=\"M512.47,-222.907C518.034,-211.873 524.073,-199.898 529.683,-188.773\"/>\r\n",
       "<polygon fill=\"black\" stroke=\"black\" points=\"532.897,-190.172 534.275,-179.667 526.647,-187.02 532.897,-190.172\"/>\r\n",
       "</g>\r\n",
       "<!-- 12 -->\r\n",
       "<g id=\"node13\" class=\"node\"><title>12</title>\r\n",
       "<path fill=\"#e58139\" stroke=\"black\" d=\"M456,-68C456,-68 408,-68 408,-68 402,-68 396,-62 396,-56 396,-56 396,-12 396,-12 396,-6 402,-0 408,-0 408,-0 456,-0 456,-0 462,-0 468,-6 468,-12 468,-12 468,-56 468,-56 468,-62 462,-68 456,-68\"/>\r\n",
       "<text text-anchor=\"middle\" x=\"432\" y=\"-52.8\" font-family=\"Helvetica,sans-Serif\" font-size=\"14.00\">0.0</text>\r\n",
       "<text text-anchor=\"middle\" x=\"432\" y=\"-37.8\" font-family=\"Helvetica,sans-Serif\" font-size=\"14.00\">1.2%</text>\r\n",
       "<text text-anchor=\"middle\" x=\"432\" y=\"-22.8\" font-family=\"Helvetica,sans-Serif\" font-size=\"14.00\">[1.0, 0.0]</text>\r\n",
       "<text text-anchor=\"middle\" x=\"432\" y=\"-7.8\" font-family=\"Helvetica,sans-Serif\" font-size=\"14.00\">disease</text>\r\n",
       "</g>\r\n",
       "<!-- 11&#45;&gt;12 -->\r\n",
       "<g id=\"edge12\" class=\"edge\"><title>11&#45;&gt;12</title>\r\n",
       "<path fill=\"none\" stroke=\"black\" d=\"M432,-103.726C432,-95.5175 432,-86.8595 432,-78.56\"/>\r\n",
       "<polygon fill=\"black\" stroke=\"black\" points=\"435.5,-78.2996 432,-68.2996 428.5,-78.2996 435.5,-78.2996\"/>\r\n",
       "</g>\r\n",
       "<!-- 13 -->\r\n",
       "<g id=\"node14\" class=\"node\"><title>13</title>\r\n",
       "<path fill=\"#399de5\" stroke=\"black\" d=\"M546,-68C546,-68 498,-68 498,-68 492,-68 486,-62 486,-56 486,-56 486,-12 486,-12 486,-6 492,-0 498,-0 498,-0 546,-0 546,-0 552,-0 558,-6 558,-12 558,-12 558,-56 558,-56 558,-62 552,-68 546,-68\"/>\r\n",
       "<text text-anchor=\"middle\" x=\"522\" y=\"-52.8\" font-family=\"Helvetica,sans-Serif\" font-size=\"14.00\">0.0</text>\r\n",
       "<text text-anchor=\"middle\" x=\"522\" y=\"-37.8\" font-family=\"Helvetica,sans-Serif\" font-size=\"14.00\">1.2%</text>\r\n",
       "<text text-anchor=\"middle\" x=\"522\" y=\"-22.8\" font-family=\"Helvetica,sans-Serif\" font-size=\"14.00\">[0.0, 1.0]</text>\r\n",
       "<text text-anchor=\"middle\" x=\"522\" y=\"-7.8\" font-family=\"Helvetica,sans-Serif\" font-size=\"14.00\">disease</text>\r\n",
       "</g>\r\n",
       "<!-- 11&#45;&gt;13 -->\r\n",
       "<g id=\"edge13\" class=\"edge\"><title>11&#45;&gt;13</title>\r\n",
       "<path fill=\"none\" stroke=\"black\" d=\"M465.513,-103.726C472.934,-94.6966 480.803,-85.1235 488.234,-76.0816\"/>\r\n",
       "<polygon fill=\"black\" stroke=\"black\" points=\"490.985,-78.2474 494.63,-68.2996 485.577,-73.8026 490.985,-78.2474\"/>\r\n",
       "</g>\r\n",
       "<!-- 16 -->\r\n",
       "<g id=\"node17\" class=\"node\"><title>16</title>\r\n",
       "<path fill=\"#eca572\" stroke=\"black\" d=\"M774,-306C774,-306 694,-306 694,-306 688,-306 682,-300 682,-294 682,-294 682,-235 682,-235 682,-229 688,-223 694,-223 694,-223 774,-223 774,-223 780,-223 786,-229 786,-235 786,-235 786,-294 786,-294 786,-300 780,-306 774,-306\"/>\r\n",
       "<text text-anchor=\"middle\" x=\"734\" y=\"-290.8\" font-family=\"Helvetica,sans-Serif\" font-size=\"14.00\">chol &lt;= 286.0</text>\r\n",
       "<text text-anchor=\"middle\" x=\"734\" y=\"-275.8\" font-family=\"Helvetica,sans-Serif\" font-size=\"14.00\">0.35</text>\r\n",
       "<text text-anchor=\"middle\" x=\"734\" y=\"-260.8\" font-family=\"Helvetica,sans-Serif\" font-size=\"14.00\">3.7%</text>\r\n",
       "<text text-anchor=\"middle\" x=\"734\" y=\"-245.8\" font-family=\"Helvetica,sans-Serif\" font-size=\"14.00\">[0.78, 0.22]</text>\r\n",
       "<text text-anchor=\"middle\" x=\"734\" y=\"-230.8\" font-family=\"Helvetica,sans-Serif\" font-size=\"14.00\">disease</text>\r\n",
       "</g>\r\n",
       "<!-- 15&#45;&gt;16 -->\r\n",
       "<g id=\"edge16\" class=\"edge\"><title>15&#45;&gt;16</title>\r\n",
       "<path fill=\"none\" stroke=\"black\" d=\"M777.102,-341.907C772.187,-333.195 766.942,-323.897 761.863,-314.893\"/>\r\n",
       "<polygon fill=\"black\" stroke=\"black\" points=\"764.82,-313.011 756.858,-306.021 758.723,-316.45 764.82,-313.011\"/>\r\n",
       "</g>\r\n",
       "<!-- 21 -->\r\n",
       "<g id=\"node22\" class=\"node\"><title>21</title>\r\n",
       "<path fill=\"#e6833d\" stroke=\"black\" d=\"M914,-306C914,-306 816,-306 816,-306 810,-306 804,-300 804,-294 804,-294 804,-235 804,-235 804,-229 810,-223 816,-223 816,-223 914,-223 914,-223 920,-223 926,-229 926,-235 926,-235 926,-294 926,-294 926,-300 920,-306 914,-306\"/>\r\n",
       "<text text-anchor=\"middle\" x=\"865\" y=\"-290.8\" font-family=\"Helvetica,sans-Serif\" font-size=\"14.00\">thalach &lt;= 106.5</text>\r\n",
       "<text text-anchor=\"middle\" x=\"865\" y=\"-275.8\" font-family=\"Helvetica,sans-Serif\" font-size=\"14.00\">0.04</text>\r\n",
       "<text text-anchor=\"middle\" x=\"865\" y=\"-260.8\" font-family=\"Helvetica,sans-Serif\" font-size=\"14.00\">21.5%</text>\r\n",
       "<text text-anchor=\"middle\" x=\"865\" y=\"-245.8\" font-family=\"Helvetica,sans-Serif\" font-size=\"14.00\">[0.98, 0.02]</text>\r\n",
       "<text text-anchor=\"middle\" x=\"865\" y=\"-230.8\" font-family=\"Helvetica,sans-Serif\" font-size=\"14.00\">disease</text>\r\n",
       "</g>\r\n",
       "<!-- 15&#45;&gt;21 -->\r\n",
       "<g id=\"edge21\" class=\"edge\"><title>15&#45;&gt;21</title>\r\n",
       "<path fill=\"none\" stroke=\"black\" d=\"M822.551,-341.907C827.391,-333.195 832.557,-323.897 837.559,-314.893\"/>\r\n",
       "<polygon fill=\"black\" stroke=\"black\" points=\"840.692,-316.462 842.488,-306.021 834.572,-313.063 840.692,-316.462\"/>\r\n",
       "</g>\r\n",
       "<!-- 17 -->\r\n",
       "<g id=\"node18\" class=\"node\"><title>17</title>\r\n",
       "<path fill=\"#e58139\" stroke=\"black\" d=\"M665,-179.5C665,-179.5 617,-179.5 617,-179.5 611,-179.5 605,-173.5 605,-167.5 605,-167.5 605,-123.5 605,-123.5 605,-117.5 611,-111.5 617,-111.5 617,-111.5 665,-111.5 665,-111.5 671,-111.5 677,-117.5 677,-123.5 677,-123.5 677,-167.5 677,-167.5 677,-173.5 671,-179.5 665,-179.5\"/>\r\n",
       "<text text-anchor=\"middle\" x=\"641\" y=\"-164.3\" font-family=\"Helvetica,sans-Serif\" font-size=\"14.00\">0.0</text>\r\n",
       "<text text-anchor=\"middle\" x=\"641\" y=\"-149.3\" font-family=\"Helvetica,sans-Serif\" font-size=\"14.00\">2.5%</text>\r\n",
       "<text text-anchor=\"middle\" x=\"641\" y=\"-134.3\" font-family=\"Helvetica,sans-Serif\" font-size=\"14.00\">[1.0, 0.0]</text>\r\n",
       "<text text-anchor=\"middle\" x=\"641\" y=\"-119.3\" font-family=\"Helvetica,sans-Serif\" font-size=\"14.00\">disease</text>\r\n",
       "</g>\r\n",
       "<!-- 16&#45;&gt;17 -->\r\n",
       "<g id=\"edge17\" class=\"edge\"><title>16&#45;&gt;17</title>\r\n",
       "<path fill=\"none\" stroke=\"black\" d=\"M701.734,-222.907C692.7,-211.542 682.873,-199.178 673.807,-187.774\"/>\r\n",
       "<polygon fill=\"black\" stroke=\"black\" points=\"676.326,-185.317 667.363,-179.667 670.846,-189.673 676.326,-185.317\"/>\r\n",
       "</g>\r\n",
       "<!-- 18 -->\r\n",
       "<g id=\"node19\" class=\"node\"><title>18</title>\r\n",
       "<path fill=\"#9ccef2\" stroke=\"black\" d=\"M772.5,-187C772.5,-187 707.5,-187 707.5,-187 701.5,-187 695.5,-181 695.5,-175 695.5,-175 695.5,-116 695.5,-116 695.5,-110 701.5,-104 707.5,-104 707.5,-104 772.5,-104 772.5,-104 778.5,-104 784.5,-110 784.5,-116 784.5,-116 784.5,-175 784.5,-175 784.5,-181 778.5,-187 772.5,-187\"/>\r\n",
       "<text text-anchor=\"middle\" x=\"740\" y=\"-171.8\" font-family=\"Helvetica,sans-Serif\" font-size=\"14.00\">ca &lt;= 2.5</text>\r\n",
       "<text text-anchor=\"middle\" x=\"740\" y=\"-156.8\" font-family=\"Helvetica,sans-Serif\" font-size=\"14.00\">0.44</text>\r\n",
       "<text text-anchor=\"middle\" x=\"740\" y=\"-141.8\" font-family=\"Helvetica,sans-Serif\" font-size=\"14.00\">1.2%</text>\r\n",
       "<text text-anchor=\"middle\" x=\"740\" y=\"-126.8\" font-family=\"Helvetica,sans-Serif\" font-size=\"14.00\">[0.33, 0.67]</text>\r\n",
       "<text text-anchor=\"middle\" x=\"740\" y=\"-111.8\" font-family=\"Helvetica,sans-Serif\" font-size=\"14.00\">disease</text>\r\n",
       "</g>\r\n",
       "<!-- 16&#45;&gt;18 -->\r\n",
       "<g id=\"edge18\" class=\"edge\"><title>16&#45;&gt;18</title>\r\n",
       "<path fill=\"none\" stroke=\"black\" d=\"M736.082,-222.907C736.51,-214.558 736.966,-205.671 737.409,-197.02\"/>\r\n",
       "<polygon fill=\"black\" stroke=\"black\" points=\"740.905,-197.187 737.922,-187.021 733.914,-196.828 740.905,-197.187\"/>\r\n",
       "</g>\r\n",
       "<!-- 19 -->\r\n",
       "<g id=\"node20\" class=\"node\"><title>19</title>\r\n",
       "<path fill=\"#399de5\" stroke=\"black\" d=\"M681,-68C681,-68 633,-68 633,-68 627,-68 621,-62 621,-56 621,-56 621,-12 621,-12 621,-6 627,-0 633,-0 633,-0 681,-0 681,-0 687,-0 693,-6 693,-12 693,-12 693,-56 693,-56 693,-62 687,-68 681,-68\"/>\r\n",
       "<text text-anchor=\"middle\" x=\"657\" y=\"-52.8\" font-family=\"Helvetica,sans-Serif\" font-size=\"14.00\">0.0</text>\r\n",
       "<text text-anchor=\"middle\" x=\"657\" y=\"-37.8\" font-family=\"Helvetica,sans-Serif\" font-size=\"14.00\">0.8%</text>\r\n",
       "<text text-anchor=\"middle\" x=\"657\" y=\"-22.8\" font-family=\"Helvetica,sans-Serif\" font-size=\"14.00\">[0.0, 1.0]</text>\r\n",
       "<text text-anchor=\"middle\" x=\"657\" y=\"-7.8\" font-family=\"Helvetica,sans-Serif\" font-size=\"14.00\">disease</text>\r\n",
       "</g>\r\n",
       "<!-- 18&#45;&gt;19 -->\r\n",
       "<g id=\"edge19\" class=\"edge\"><title>18&#45;&gt;19</title>\r\n",
       "<path fill=\"none\" stroke=\"black\" d=\"M709.094,-103.726C702.319,-94.7878 695.14,-85.3168 688.347,-76.3558\"/>\r\n",
       "<polygon fill=\"black\" stroke=\"black\" points=\"691.071,-74.1547 682.241,-68.2996 685.492,-78.3832 691.071,-74.1547\"/>\r\n",
       "</g>\r\n",
       "<!-- 20 -->\r\n",
       "<g id=\"node21\" class=\"node\"><title>20</title>\r\n",
       "<path fill=\"#e58139\" stroke=\"black\" d=\"M771,-68C771,-68 723,-68 723,-68 717,-68 711,-62 711,-56 711,-56 711,-12 711,-12 711,-6 717,-0 723,-0 723,-0 771,-0 771,-0 777,-0 783,-6 783,-12 783,-12 783,-56 783,-56 783,-62 777,-68 771,-68\"/>\r\n",
       "<text text-anchor=\"middle\" x=\"747\" y=\"-52.8\" font-family=\"Helvetica,sans-Serif\" font-size=\"14.00\">0.0</text>\r\n",
       "<text text-anchor=\"middle\" x=\"747\" y=\"-37.8\" font-family=\"Helvetica,sans-Serif\" font-size=\"14.00\">0.4%</text>\r\n",
       "<text text-anchor=\"middle\" x=\"747\" y=\"-22.8\" font-family=\"Helvetica,sans-Serif\" font-size=\"14.00\">[1.0, 0.0]</text>\r\n",
       "<text text-anchor=\"middle\" x=\"747\" y=\"-7.8\" font-family=\"Helvetica,sans-Serif\" font-size=\"14.00\">disease</text>\r\n",
       "</g>\r\n",
       "<!-- 18&#45;&gt;20 -->\r\n",
       "<g id=\"edge20\" class=\"edge\"><title>18&#45;&gt;20</title>\r\n",
       "<path fill=\"none\" stroke=\"black\" d=\"M742.607,-103.726C743.137,-95.4263 743.697,-86.6671 744.233,-78.2834\"/>\r\n",
       "<polygon fill=\"black\" stroke=\"black\" points=\"747.726,-78.5025 744.871,-68.2996 740.74,-78.0559 747.726,-78.5025\"/>\r\n",
       "</g>\r\n",
       "<!-- 22 -->\r\n",
       "<g id=\"node23\" class=\"node\"><title>22</title>\r\n",
       "<path fill=\"#e9965a\" stroke=\"black\" d=\"M901.5,-187C901.5,-187 814.5,-187 814.5,-187 808.5,-187 802.5,-181 802.5,-175 802.5,-175 802.5,-116 802.5,-116 802.5,-110 808.5,-104 814.5,-104 814.5,-104 901.5,-104 901.5,-104 907.5,-104 913.5,-110 913.5,-116 913.5,-116 913.5,-175 913.5,-175 913.5,-181 907.5,-187 901.5,-187\"/>\r\n",
       "<text text-anchor=\"middle\" x=\"858\" y=\"-171.8\" font-family=\"Helvetica,sans-Serif\" font-size=\"14.00\">oldpeak &lt;= 0.6</text>\r\n",
       "<text text-anchor=\"middle\" x=\"858\" y=\"-156.8\" font-family=\"Helvetica,sans-Serif\" font-size=\"14.00\">0.24</text>\r\n",
       "<text text-anchor=\"middle\" x=\"858\" y=\"-141.8\" font-family=\"Helvetica,sans-Serif\" font-size=\"14.00\">2.9%</text>\r\n",
       "<text text-anchor=\"middle\" x=\"858\" y=\"-126.8\" font-family=\"Helvetica,sans-Serif\" font-size=\"14.00\">[0.86, 0.14]</text>\r\n",
       "<text text-anchor=\"middle\" x=\"858\" y=\"-111.8\" font-family=\"Helvetica,sans-Serif\" font-size=\"14.00\">disease</text>\r\n",
       "</g>\r\n",
       "<!-- 21&#45;&gt;22 -->\r\n",
       "<g id=\"edge22\" class=\"edge\"><title>21&#45;&gt;22</title>\r\n",
       "<path fill=\"none\" stroke=\"black\" d=\"M862.571,-222.907C862.072,-214.558 861.54,-205.671 861.023,-197.02\"/>\r\n",
       "<polygon fill=\"black\" stroke=\"black\" points=\"864.515,-196.794 860.424,-187.021 857.528,-197.212 864.515,-196.794\"/>\r\n",
       "</g>\r\n",
       "<!-- 25 -->\r\n",
       "<g id=\"node26\" class=\"node\"><title>25</title>\r\n",
       "<path fill=\"#e58139\" stroke=\"black\" d=\"M992,-179.5C992,-179.5 944,-179.5 944,-179.5 938,-179.5 932,-173.5 932,-167.5 932,-167.5 932,-123.5 932,-123.5 932,-117.5 938,-111.5 944,-111.5 944,-111.5 992,-111.5 992,-111.5 998,-111.5 1004,-117.5 1004,-123.5 1004,-123.5 1004,-167.5 1004,-167.5 1004,-173.5 998,-179.5 992,-179.5\"/>\r\n",
       "<text text-anchor=\"middle\" x=\"968\" y=\"-164.3\" font-family=\"Helvetica,sans-Serif\" font-size=\"14.00\">0.0</text>\r\n",
       "<text text-anchor=\"middle\" x=\"968\" y=\"-149.3\" font-family=\"Helvetica,sans-Serif\" font-size=\"14.00\">18.6%</text>\r\n",
       "<text text-anchor=\"middle\" x=\"968\" y=\"-134.3\" font-family=\"Helvetica,sans-Serif\" font-size=\"14.00\">[1.0, 0.0]</text>\r\n",
       "<text text-anchor=\"middle\" x=\"968\" y=\"-119.3\" font-family=\"Helvetica,sans-Serif\" font-size=\"14.00\">disease</text>\r\n",
       "</g>\r\n",
       "<!-- 21&#45;&gt;25 -->\r\n",
       "<g id=\"edge25\" class=\"edge\"><title>21&#45;&gt;25</title>\r\n",
       "<path fill=\"none\" stroke=\"black\" d=\"M900.735,-222.907C910.838,-211.432 921.836,-198.938 931.957,-187.442\"/>\r\n",
       "<polygon fill=\"black\" stroke=\"black\" points=\"934.821,-189.486 938.802,-179.667 929.567,-184.86 934.821,-189.486\"/>\r\n",
       "</g>\r\n",
       "<!-- 23 -->\r\n",
       "<g id=\"node24\" class=\"node\"><title>23</title>\r\n",
       "<path fill=\"#399de5\" stroke=\"black\" d=\"M875,-68C875,-68 827,-68 827,-68 821,-68 815,-62 815,-56 815,-56 815,-12 815,-12 815,-6 821,-0 827,-0 827,-0 875,-0 875,-0 881,-0 887,-6 887,-12 887,-12 887,-56 887,-56 887,-62 881,-68 875,-68\"/>\r\n",
       "<text text-anchor=\"middle\" x=\"851\" y=\"-52.8\" font-family=\"Helvetica,sans-Serif\" font-size=\"14.00\">0.0</text>\r\n",
       "<text text-anchor=\"middle\" x=\"851\" y=\"-37.8\" font-family=\"Helvetica,sans-Serif\" font-size=\"14.00\">0.4%</text>\r\n",
       "<text text-anchor=\"middle\" x=\"851\" y=\"-22.8\" font-family=\"Helvetica,sans-Serif\" font-size=\"14.00\">[0.0, 1.0]</text>\r\n",
       "<text text-anchor=\"middle\" x=\"851\" y=\"-7.8\" font-family=\"Helvetica,sans-Serif\" font-size=\"14.00\">disease</text>\r\n",
       "</g>\r\n",
       "<!-- 22&#45;&gt;23 -->\r\n",
       "<g id=\"edge23\" class=\"edge\"><title>22&#45;&gt;23</title>\r\n",
       "<path fill=\"none\" stroke=\"black\" d=\"M855.393,-103.726C854.863,-95.4263 854.303,-86.6671 853.767,-78.2834\"/>\r\n",
       "<polygon fill=\"black\" stroke=\"black\" points=\"857.26,-78.0559 853.129,-68.2996 850.274,-78.5025 857.26,-78.0559\"/>\r\n",
       "</g>\r\n",
       "<!-- 24 -->\r\n",
       "<g id=\"node25\" class=\"node\"><title>24</title>\r\n",
       "<path fill=\"#e58139\" stroke=\"black\" d=\"M965,-68C965,-68 917,-68 917,-68 911,-68 905,-62 905,-56 905,-56 905,-12 905,-12 905,-6 911,-0 917,-0 917,-0 965,-0 965,-0 971,-0 977,-6 977,-12 977,-12 977,-56 977,-56 977,-62 971,-68 965,-68\"/>\r\n",
       "<text text-anchor=\"middle\" x=\"941\" y=\"-52.8\" font-family=\"Helvetica,sans-Serif\" font-size=\"14.00\">0.0</text>\r\n",
       "<text text-anchor=\"middle\" x=\"941\" y=\"-37.8\" font-family=\"Helvetica,sans-Serif\" font-size=\"14.00\">2.5%</text>\r\n",
       "<text text-anchor=\"middle\" x=\"941\" y=\"-22.8\" font-family=\"Helvetica,sans-Serif\" font-size=\"14.00\">[1.0, 0.0]</text>\r\n",
       "<text text-anchor=\"middle\" x=\"941\" y=\"-7.8\" font-family=\"Helvetica,sans-Serif\" font-size=\"14.00\">disease</text>\r\n",
       "</g>\r\n",
       "<!-- 22&#45;&gt;24 -->\r\n",
       "<g id=\"edge24\" class=\"edge\"><title>22&#45;&gt;24</title>\r\n",
       "<path fill=\"none\" stroke=\"black\" d=\"M888.906,-103.726C895.681,-94.7878 902.86,-85.3168 909.653,-76.3558\"/>\r\n",
       "<polygon fill=\"black\" stroke=\"black\" points=\"912.508,-78.3832 915.759,-68.2996 906.929,-74.1547 912.508,-78.3832\"/>\r\n",
       "</g>\r\n",
       "<!-- 27 -->\r\n",
       "<g id=\"node28\" class=\"node\"><title>27</title>\r\n",
       "<path fill=\"#a4d2f3\" stroke=\"black\" d=\"M1263.5,-425C1263.5,-425 1198.5,-425 1198.5,-425 1192.5,-425 1186.5,-419 1186.5,-413 1186.5,-413 1186.5,-354 1186.5,-354 1186.5,-348 1192.5,-342 1198.5,-342 1198.5,-342 1263.5,-342 1263.5,-342 1269.5,-342 1275.5,-348 1275.5,-354 1275.5,-354 1275.5,-413 1275.5,-413 1275.5,-419 1269.5,-425 1263.5,-425\"/>\r\n",
       "<text text-anchor=\"middle\" x=\"1231\" y=\"-409.8\" font-family=\"Helvetica,sans-Serif\" font-size=\"14.00\">sex &lt;= 0.5</text>\r\n",
       "<text text-anchor=\"middle\" x=\"1231\" y=\"-394.8\" font-family=\"Helvetica,sans-Serif\" font-size=\"14.00\">0.46</text>\r\n",
       "<text text-anchor=\"middle\" x=\"1231\" y=\"-379.8\" font-family=\"Helvetica,sans-Serif\" font-size=\"14.00\">23.6%</text>\r\n",
       "<text text-anchor=\"middle\" x=\"1231\" y=\"-364.8\" font-family=\"Helvetica,sans-Serif\" font-size=\"14.00\">[0.35, 0.65]</text>\r\n",
       "<text text-anchor=\"middle\" x=\"1231\" y=\"-349.8\" font-family=\"Helvetica,sans-Serif\" font-size=\"14.00\">disease</text>\r\n",
       "</g>\r\n",
       "<!-- 26&#45;&gt;27 -->\r\n",
       "<g id=\"edge27\" class=\"edge\"><title>26&#45;&gt;27</title>\r\n",
       "<path fill=\"none\" stroke=\"black\" d=\"M1231,-460.907C1231,-452.649 1231,-443.864 1231,-435.302\"/>\r\n",
       "<polygon fill=\"black\" stroke=\"black\" points=\"1234.5,-435.021 1231,-425.021 1227.5,-435.021 1234.5,-435.021\"/>\r\n",
       "</g>\r\n",
       "<!-- 40 -->\r\n",
       "<g id=\"node41\" class=\"node\"><title>40</title>\r\n",
       "<path fill=\"#4aa6e7\" stroke=\"black\" d=\"M1725.5,-425C1725.5,-425 1620.5,-425 1620.5,-425 1614.5,-425 1608.5,-419 1608.5,-413 1608.5,-413 1608.5,-354 1608.5,-354 1608.5,-348 1614.5,-342 1620.5,-342 1620.5,-342 1725.5,-342 1725.5,-342 1731.5,-342 1737.5,-348 1737.5,-354 1737.5,-354 1737.5,-413 1737.5,-413 1737.5,-419 1731.5,-425 1725.5,-425\"/>\r\n",
       "<text text-anchor=\"middle\" x=\"1673\" y=\"-409.8\" font-family=\"Helvetica,sans-Serif\" font-size=\"14.00\">trestbps &lt;= 182.0</text>\r\n",
       "<text text-anchor=\"middle\" x=\"1673\" y=\"-394.8\" font-family=\"Helvetica,sans-Serif\" font-size=\"14.00\">0.15</text>\r\n",
       "<text text-anchor=\"middle\" x=\"1673\" y=\"-379.8\" font-family=\"Helvetica,sans-Serif\" font-size=\"14.00\">30.6%</text>\r\n",
       "<text text-anchor=\"middle\" x=\"1673\" y=\"-364.8\" font-family=\"Helvetica,sans-Serif\" font-size=\"14.00\">[0.08, 0.92]</text>\r\n",
       "<text text-anchor=\"middle\" x=\"1673\" y=\"-349.8\" font-family=\"Helvetica,sans-Serif\" font-size=\"14.00\">disease</text>\r\n",
       "</g>\r\n",
       "<!-- 26&#45;&gt;40 -->\r\n",
       "<g id=\"edge40\" class=\"edge\"><title>26&#45;&gt;40</title>\r\n",
       "<path fill=\"none\" stroke=\"black\" d=\"M1279.14,-488.756C1356.1,-468.384 1507.42,-428.331 1598.45,-404.235\"/>\r\n",
       "<polygon fill=\"black\" stroke=\"black\" points=\"1599.38,-407.608 1608.15,-401.666 1597.59,-400.841 1599.38,-407.608\"/>\r\n",
       "</g>\r\n",
       "<!-- 28 -->\r\n",
       "<g id=\"node29\" class=\"node\"><title>28</title>\r\n",
       "<path fill=\"#44a2e6\" stroke=\"black\" d=\"M1196.5,-306C1196.5,-306 1131.5,-306 1131.5,-306 1125.5,-306 1119.5,-300 1119.5,-294 1119.5,-294 1119.5,-235 1119.5,-235 1119.5,-229 1125.5,-223 1131.5,-223 1131.5,-223 1196.5,-223 1196.5,-223 1202.5,-223 1208.5,-229 1208.5,-235 1208.5,-235 1208.5,-294 1208.5,-294 1208.5,-300 1202.5,-306 1196.5,-306\"/>\r\n",
       "<text text-anchor=\"middle\" x=\"1164\" y=\"-290.8\" font-family=\"Helvetica,sans-Serif\" font-size=\"14.00\">ca &lt;= 0.5</text>\r\n",
       "<text text-anchor=\"middle\" x=\"1164\" y=\"-275.8\" font-family=\"Helvetica,sans-Serif\" font-size=\"14.00\">0.1</text>\r\n",
       "<text text-anchor=\"middle\" x=\"1164\" y=\"-260.8\" font-family=\"Helvetica,sans-Serif\" font-size=\"14.00\">7.9%</text>\r\n",
       "<text text-anchor=\"middle\" x=\"1164\" y=\"-245.8\" font-family=\"Helvetica,sans-Serif\" font-size=\"14.00\">[0.05, 0.95]</text>\r\n",
       "<text text-anchor=\"middle\" x=\"1164\" y=\"-230.8\" font-family=\"Helvetica,sans-Serif\" font-size=\"14.00\">disease</text>\r\n",
       "</g>\r\n",
       "<!-- 27&#45;&gt;28 -->\r\n",
       "<g id=\"edge28\" class=\"edge\"><title>27&#45;&gt;28</title>\r\n",
       "<path fill=\"none\" stroke=\"black\" d=\"M1207.75,-341.907C1202.77,-333.195 1197.44,-323.897 1192.29,-314.893\"/>\r\n",
       "<polygon fill=\"black\" stroke=\"black\" points=\"1195.21,-312.959 1187.2,-306.021 1189.14,-316.438 1195.21,-312.959\"/>\r\n",
       "</g>\r\n",
       "<!-- 33 -->\r\n",
       "<g id=\"node34\" class=\"node\"><title>33</title>\r\n",
       "<path fill=\"#ffffff\" stroke=\"black\" d=\"M1346.5,-306C1346.5,-306 1251.5,-306 1251.5,-306 1245.5,-306 1239.5,-300 1239.5,-294 1239.5,-294 1239.5,-235 1239.5,-235 1239.5,-229 1245.5,-223 1251.5,-223 1251.5,-223 1346.5,-223 1346.5,-223 1352.5,-223 1358.5,-229 1358.5,-235 1358.5,-235 1358.5,-294 1358.5,-294 1358.5,-300 1352.5,-306 1346.5,-306\"/>\r\n",
       "<text text-anchor=\"middle\" x=\"1299\" y=\"-290.8\" font-family=\"Helvetica,sans-Serif\" font-size=\"14.00\">oldpeak &lt;= 0.55</text>\r\n",
       "<text text-anchor=\"middle\" x=\"1299\" y=\"-275.8\" font-family=\"Helvetica,sans-Serif\" font-size=\"14.00\">0.5</text>\r\n",
       "<text text-anchor=\"middle\" x=\"1299\" y=\"-260.8\" font-family=\"Helvetica,sans-Serif\" font-size=\"14.00\">15.7%</text>\r\n",
       "<text text-anchor=\"middle\" x=\"1299\" y=\"-245.8\" font-family=\"Helvetica,sans-Serif\" font-size=\"14.00\">[0.5, 0.5]</text>\r\n",
       "<text text-anchor=\"middle\" x=\"1299\" y=\"-230.8\" font-family=\"Helvetica,sans-Serif\" font-size=\"14.00\">disease</text>\r\n",
       "</g>\r\n",
       "<!-- 27&#45;&gt;33 -->\r\n",
       "<g id=\"edge33\" class=\"edge\"><title>27&#45;&gt;33</title>\r\n",
       "<path fill=\"none\" stroke=\"black\" d=\"M1254.59,-341.907C1259.66,-333.195 1265.06,-323.897 1270.29,-314.893\"/>\r\n",
       "<polygon fill=\"black\" stroke=\"black\" points=\"1273.45,-316.425 1275.45,-306.021 1267.4,-312.908 1273.45,-316.425\"/>\r\n",
       "</g>\r\n",
       "<!-- 29 -->\r\n",
       "<g id=\"node30\" class=\"node\"><title>29</title>\r\n",
       "<path fill=\"#399de5\" stroke=\"black\" d=\"M1082,-179.5C1082,-179.5 1034,-179.5 1034,-179.5 1028,-179.5 1022,-173.5 1022,-167.5 1022,-167.5 1022,-123.5 1022,-123.5 1022,-117.5 1028,-111.5 1034,-111.5 1034,-111.5 1082,-111.5 1082,-111.5 1088,-111.5 1094,-117.5 1094,-123.5 1094,-123.5 1094,-167.5 1094,-167.5 1094,-173.5 1088,-179.5 1082,-179.5\"/>\r\n",
       "<text text-anchor=\"middle\" x=\"1058\" y=\"-164.3\" font-family=\"Helvetica,sans-Serif\" font-size=\"14.00\">0.0</text>\r\n",
       "<text text-anchor=\"middle\" x=\"1058\" y=\"-149.3\" font-family=\"Helvetica,sans-Serif\" font-size=\"14.00\">6.6%</text>\r\n",
       "<text text-anchor=\"middle\" x=\"1058\" y=\"-134.3\" font-family=\"Helvetica,sans-Serif\" font-size=\"14.00\">[0.0, 1.0]</text>\r\n",
       "<text text-anchor=\"middle\" x=\"1058\" y=\"-119.3\" font-family=\"Helvetica,sans-Serif\" font-size=\"14.00\">disease</text>\r\n",
       "</g>\r\n",
       "<!-- 28&#45;&gt;29 -->\r\n",
       "<g id=\"edge29\" class=\"edge\"><title>28&#45;&gt;29</title>\r\n",
       "<path fill=\"none\" stroke=\"black\" d=\"M1127.22,-222.907C1116.73,-211.321 1105.29,-198.698 1094.79,-187.111\"/>\r\n",
       "<polygon fill=\"black\" stroke=\"black\" points=\"1097.36,-184.728 1088.05,-179.667 1092.17,-189.428 1097.36,-184.728\"/>\r\n",
       "</g>\r\n",
       "<!-- 30 -->\r\n",
       "<g id=\"node31\" class=\"node\"><title>30</title>\r\n",
       "<path fill=\"#9ccef2\" stroke=\"black\" d=\"M1204,-187C1204,-187 1124,-187 1124,-187 1118,-187 1112,-181 1112,-175 1112,-175 1112,-116 1112,-116 1112,-110 1118,-104 1124,-104 1124,-104 1204,-104 1204,-104 1210,-104 1216,-110 1216,-116 1216,-116 1216,-175 1216,-175 1216,-181 1210,-187 1204,-187\"/>\r\n",
       "<text text-anchor=\"middle\" x=\"1164\" y=\"-171.8\" font-family=\"Helvetica,sans-Serif\" font-size=\"14.00\">chol &lt;= 239.0</text>\r\n",
       "<text text-anchor=\"middle\" x=\"1164\" y=\"-156.8\" font-family=\"Helvetica,sans-Serif\" font-size=\"14.00\">0.44</text>\r\n",
       "<text text-anchor=\"middle\" x=\"1164\" y=\"-141.8\" font-family=\"Helvetica,sans-Serif\" font-size=\"14.00\">1.2%</text>\r\n",
       "<text text-anchor=\"middle\" x=\"1164\" y=\"-126.8\" font-family=\"Helvetica,sans-Serif\" font-size=\"14.00\">[0.33, 0.67]</text>\r\n",
       "<text text-anchor=\"middle\" x=\"1164\" y=\"-111.8\" font-family=\"Helvetica,sans-Serif\" font-size=\"14.00\">disease</text>\r\n",
       "</g>\r\n",
       "<!-- 28&#45;&gt;30 -->\r\n",
       "<g id=\"edge30\" class=\"edge\"><title>28&#45;&gt;30</title>\r\n",
       "<path fill=\"none\" stroke=\"black\" d=\"M1164,-222.907C1164,-214.649 1164,-205.864 1164,-197.302\"/>\r\n",
       "<polygon fill=\"black\" stroke=\"black\" points=\"1167.5,-197.021 1164,-187.021 1160.5,-197.021 1167.5,-197.021\"/>\r\n",
       "</g>\r\n",
       "<!-- 31 -->\r\n",
       "<g id=\"node32\" class=\"node\"><title>31</title>\r\n",
       "<path fill=\"#e58139\" stroke=\"black\" d=\"M1093,-68C1093,-68 1045,-68 1045,-68 1039,-68 1033,-62 1033,-56 1033,-56 1033,-12 1033,-12 1033,-6 1039,-0 1045,-0 1045,-0 1093,-0 1093,-0 1099,-0 1105,-6 1105,-12 1105,-12 1105,-56 1105,-56 1105,-62 1099,-68 1093,-68\"/>\r\n",
       "<text text-anchor=\"middle\" x=\"1069\" y=\"-52.8\" font-family=\"Helvetica,sans-Serif\" font-size=\"14.00\">0.0</text>\r\n",
       "<text text-anchor=\"middle\" x=\"1069\" y=\"-37.8\" font-family=\"Helvetica,sans-Serif\" font-size=\"14.00\">0.4%</text>\r\n",
       "<text text-anchor=\"middle\" x=\"1069\" y=\"-22.8\" font-family=\"Helvetica,sans-Serif\" font-size=\"14.00\">[1.0, 0.0]</text>\r\n",
       "<text text-anchor=\"middle\" x=\"1069\" y=\"-7.8\" font-family=\"Helvetica,sans-Serif\" font-size=\"14.00\">disease</text>\r\n",
       "</g>\r\n",
       "<!-- 30&#45;&gt;31 -->\r\n",
       "<g id=\"edge31\" class=\"edge\"><title>30&#45;&gt;31</title>\r\n",
       "<path fill=\"none\" stroke=\"black\" d=\"M1128.63,-103.726C1120.79,-94.6966 1112.49,-85.1235 1104.64,-76.0816\"/>\r\n",
       "<polygon fill=\"black\" stroke=\"black\" points=\"1107.09,-73.5595 1097.89,-68.2996 1101.8,-78.1467 1107.09,-73.5595\"/>\r\n",
       "</g>\r\n",
       "<!-- 32 -->\r\n",
       "<g id=\"node33\" class=\"node\"><title>32</title>\r\n",
       "<path fill=\"#399de5\" stroke=\"black\" d=\"M1183,-68C1183,-68 1135,-68 1135,-68 1129,-68 1123,-62 1123,-56 1123,-56 1123,-12 1123,-12 1123,-6 1129,-0 1135,-0 1135,-0 1183,-0 1183,-0 1189,-0 1195,-6 1195,-12 1195,-12 1195,-56 1195,-56 1195,-62 1189,-68 1183,-68\"/>\r\n",
       "<text text-anchor=\"middle\" x=\"1159\" y=\"-52.8\" font-family=\"Helvetica,sans-Serif\" font-size=\"14.00\">0.0</text>\r\n",
       "<text text-anchor=\"middle\" x=\"1159\" y=\"-37.8\" font-family=\"Helvetica,sans-Serif\" font-size=\"14.00\">0.8%</text>\r\n",
       "<text text-anchor=\"middle\" x=\"1159\" y=\"-22.8\" font-family=\"Helvetica,sans-Serif\" font-size=\"14.00\">[0.0, 1.0]</text>\r\n",
       "<text text-anchor=\"middle\" x=\"1159\" y=\"-7.8\" font-family=\"Helvetica,sans-Serif\" font-size=\"14.00\">disease</text>\r\n",
       "</g>\r\n",
       "<!-- 30&#45;&gt;32 -->\r\n",
       "<g id=\"edge32\" class=\"edge\"><title>30&#45;&gt;32</title>\r\n",
       "<path fill=\"none\" stroke=\"black\" d=\"M1162.14,-103.726C1161.76,-95.5175 1161.37,-86.8595 1160.99,-78.56\"/>\r\n",
       "<polygon fill=\"black\" stroke=\"black\" points=\"1164.47,-78.1295 1160.52,-68.2996 1157.48,-78.4489 1164.47,-78.1295\"/>\r\n",
       "</g>\r\n",
       "<!-- 34 -->\r\n",
       "<g id=\"node35\" class=\"node\"><title>34</title>\r\n",
       "<path fill=\"#6ab6ec\" stroke=\"black\" d=\"M1348,-187C1348,-187 1250,-187 1250,-187 1244,-187 1238,-181 1238,-175 1238,-175 1238,-116 1238,-116 1238,-110 1244,-104 1250,-104 1250,-104 1348,-104 1348,-104 1354,-104 1360,-110 1360,-116 1360,-116 1360,-175 1360,-175 1360,-181 1354,-187 1348,-187\"/>\r\n",
       "<text text-anchor=\"middle\" x=\"1299\" y=\"-171.8\" font-family=\"Helvetica,sans-Serif\" font-size=\"14.00\">thalach &lt;= 125.5</text>\r\n",
       "<text text-anchor=\"middle\" x=\"1299\" y=\"-156.8\" font-family=\"Helvetica,sans-Serif\" font-size=\"14.00\">0.32</text>\r\n",
       "<text text-anchor=\"middle\" x=\"1299\" y=\"-141.8\" font-family=\"Helvetica,sans-Serif\" font-size=\"14.00\">4.1%</text>\r\n",
       "<text text-anchor=\"middle\" x=\"1299\" y=\"-126.8\" font-family=\"Helvetica,sans-Serif\" font-size=\"14.00\">[0.2, 0.8]</text>\r\n",
       "<text text-anchor=\"middle\" x=\"1299\" y=\"-111.8\" font-family=\"Helvetica,sans-Serif\" font-size=\"14.00\">disease</text>\r\n",
       "</g>\r\n",
       "<!-- 33&#45;&gt;34 -->\r\n",
       "<g id=\"edge34\" class=\"edge\"><title>33&#45;&gt;34</title>\r\n",
       "<path fill=\"none\" stroke=\"black\" d=\"M1299,-222.907C1299,-214.649 1299,-205.864 1299,-197.302\"/>\r\n",
       "<polygon fill=\"black\" stroke=\"black\" points=\"1302.5,-197.021 1299,-187.021 1295.5,-197.021 1302.5,-197.021\"/>\r\n",
       "</g>\r\n",
       "<!-- 37 -->\r\n",
       "<g id=\"node38\" class=\"node\"><title>37</title>\r\n",
       "<path fill=\"#f6d3b9\" stroke=\"black\" d=\"M1496,-187C1496,-187 1398,-187 1398,-187 1392,-187 1386,-181 1386,-175 1386,-175 1386,-116 1386,-116 1386,-110 1392,-104 1398,-104 1398,-104 1496,-104 1496,-104 1502,-104 1508,-110 1508,-116 1508,-116 1508,-175 1508,-175 1508,-181 1502,-187 1496,-187\"/>\r\n",
       "<text text-anchor=\"middle\" x=\"1447\" y=\"-171.8\" font-family=\"Helvetica,sans-Serif\" font-size=\"14.00\">thalach &lt;= 142.5</text>\r\n",
       "<text text-anchor=\"middle\" x=\"1447\" y=\"-156.8\" font-family=\"Helvetica,sans-Serif\" font-size=\"14.00\">0.48</text>\r\n",
       "<text text-anchor=\"middle\" x=\"1447\" y=\"-141.8\" font-family=\"Helvetica,sans-Serif\" font-size=\"14.00\">11.6%</text>\r\n",
       "<text text-anchor=\"middle\" x=\"1447\" y=\"-126.8\" font-family=\"Helvetica,sans-Serif\" font-size=\"14.00\">[0.61, 0.39]</text>\r\n",
       "<text text-anchor=\"middle\" x=\"1447\" y=\"-111.8\" font-family=\"Helvetica,sans-Serif\" font-size=\"14.00\">disease</text>\r\n",
       "</g>\r\n",
       "<!-- 33&#45;&gt;37 -->\r\n",
       "<g id=\"edge37\" class=\"edge\"><title>33&#45;&gt;37</title>\r\n",
       "<path fill=\"none\" stroke=\"black\" d=\"M1350.35,-222.907C1362.4,-213.379 1375.34,-203.148 1387.71,-193.37\"/>\r\n",
       "<polygon fill=\"black\" stroke=\"black\" points=\"1390.07,-195.968 1395.74,-187.021 1385.73,-190.477 1390.07,-195.968\"/>\r\n",
       "</g>\r\n",
       "<!-- 35 -->\r\n",
       "<g id=\"node36\" class=\"node\"><title>35</title>\r\n",
       "<path fill=\"#e58139\" stroke=\"black\" d=\"M1273,-68C1273,-68 1225,-68 1225,-68 1219,-68 1213,-62 1213,-56 1213,-56 1213,-12 1213,-12 1213,-6 1219,-0 1225,-0 1225,-0 1273,-0 1273,-0 1279,-0 1285,-6 1285,-12 1285,-12 1285,-56 1285,-56 1285,-62 1279,-68 1273,-68\"/>\r\n",
       "<text text-anchor=\"middle\" x=\"1249\" y=\"-52.8\" font-family=\"Helvetica,sans-Serif\" font-size=\"14.00\">0.0</text>\r\n",
       "<text text-anchor=\"middle\" x=\"1249\" y=\"-37.8\" font-family=\"Helvetica,sans-Serif\" font-size=\"14.00\">0.4%</text>\r\n",
       "<text text-anchor=\"middle\" x=\"1249\" y=\"-22.8\" font-family=\"Helvetica,sans-Serif\" font-size=\"14.00\">[1.0, 0.0]</text>\r\n",
       "<text text-anchor=\"middle\" x=\"1249\" y=\"-7.8\" font-family=\"Helvetica,sans-Serif\" font-size=\"14.00\">disease</text>\r\n",
       "</g>\r\n",
       "<!-- 34&#45;&gt;35 -->\r\n",
       "<g id=\"edge35\" class=\"edge\"><title>34&#45;&gt;35</title>\r\n",
       "<path fill=\"none\" stroke=\"black\" d=\"M1280.38,-103.726C1276.47,-95.1527 1272.33,-86.0891 1268.39,-77.4555\"/>\r\n",
       "<polygon fill=\"black\" stroke=\"black\" points=\"1271.54,-75.9423 1264.21,-68.2996 1265.18,-78.85 1271.54,-75.9423\"/>\r\n",
       "</g>\r\n",
       "<!-- 36 -->\r\n",
       "<g id=\"node37\" class=\"node\"><title>36</title>\r\n",
       "<path fill=\"#52a9e8\" stroke=\"black\" d=\"M1380.5,-68C1380.5,-68 1315.5,-68 1315.5,-68 1309.5,-68 1303.5,-62 1303.5,-56 1303.5,-56 1303.5,-12 1303.5,-12 1303.5,-6 1309.5,-0 1315.5,-0 1315.5,-0 1380.5,-0 1380.5,-0 1386.5,-0 1392.5,-6 1392.5,-12 1392.5,-12 1392.5,-56 1392.5,-56 1392.5,-62 1386.5,-68 1380.5,-68\"/>\r\n",
       "<text text-anchor=\"middle\" x=\"1348\" y=\"-52.8\" font-family=\"Helvetica,sans-Serif\" font-size=\"14.00\">0.2</text>\r\n",
       "<text text-anchor=\"middle\" x=\"1348\" y=\"-37.8\" font-family=\"Helvetica,sans-Serif\" font-size=\"14.00\">3.7%</text>\r\n",
       "<text text-anchor=\"middle\" x=\"1348\" y=\"-22.8\" font-family=\"Helvetica,sans-Serif\" font-size=\"14.00\">[0.11, 0.89]</text>\r\n",
       "<text text-anchor=\"middle\" x=\"1348\" y=\"-7.8\" font-family=\"Helvetica,sans-Serif\" font-size=\"14.00\">disease</text>\r\n",
       "</g>\r\n",
       "<!-- 34&#45;&gt;36 -->\r\n",
       "<g id=\"edge36\" class=\"edge\"><title>34&#45;&gt;36</title>\r\n",
       "<path fill=\"none\" stroke=\"black\" d=\"M1317.25,-103.726C1321.08,-95.1527 1325.14,-86.0891 1329,-77.4555\"/>\r\n",
       "<polygon fill=\"black\" stroke=\"black\" points=\"1332.21,-78.857 1333.1,-68.2996 1325.82,-75.9978 1332.21,-78.857\"/>\r\n",
       "</g>\r\n",
       "<!-- 38 -->\r\n",
       "<g id=\"node39\" class=\"node\"><title>38</title>\r\n",
       "<path fill=\"#e58139\" stroke=\"black\" d=\"M1471,-68C1471,-68 1423,-68 1423,-68 1417,-68 1411,-62 1411,-56 1411,-56 1411,-12 1411,-12 1411,-6 1417,-0 1423,-0 1423,-0 1471,-0 1471,-0 1477,-0 1483,-6 1483,-12 1483,-12 1483,-56 1483,-56 1483,-62 1477,-68 1471,-68\"/>\r\n",
       "<text text-anchor=\"middle\" x=\"1447\" y=\"-52.8\" font-family=\"Helvetica,sans-Serif\" font-size=\"14.00\">0.0</text>\r\n",
       "<text text-anchor=\"middle\" x=\"1447\" y=\"-37.8\" font-family=\"Helvetica,sans-Serif\" font-size=\"14.00\">2.5%</text>\r\n",
       "<text text-anchor=\"middle\" x=\"1447\" y=\"-22.8\" font-family=\"Helvetica,sans-Serif\" font-size=\"14.00\">[1.0, 0.0]</text>\r\n",
       "<text text-anchor=\"middle\" x=\"1447\" y=\"-7.8\" font-family=\"Helvetica,sans-Serif\" font-size=\"14.00\">disease</text>\r\n",
       "</g>\r\n",
       "<!-- 37&#45;&gt;38 -->\r\n",
       "<g id=\"edge38\" class=\"edge\"><title>37&#45;&gt;38</title>\r\n",
       "<path fill=\"none\" stroke=\"black\" d=\"M1447,-103.726C1447,-95.5175 1447,-86.8595 1447,-78.56\"/>\r\n",
       "<polygon fill=\"black\" stroke=\"black\" points=\"1450.5,-78.2996 1447,-68.2996 1443.5,-78.2996 1450.5,-78.2996\"/>\r\n",
       "</g>\r\n",
       "<!-- 39 -->\r\n",
       "<g id=\"node40\" class=\"node\"><title>39</title>\r\n",
       "<path fill=\"#ffffff\" stroke=\"black\" d=\"M1561,-68C1561,-68 1513,-68 1513,-68 1507,-68 1501,-62 1501,-56 1501,-56 1501,-12 1501,-12 1501,-6 1507,-0 1513,-0 1513,-0 1561,-0 1561,-0 1567,-0 1573,-6 1573,-12 1573,-12 1573,-56 1573,-56 1573,-62 1567,-68 1561,-68\"/>\r\n",
       "<text text-anchor=\"middle\" x=\"1537\" y=\"-52.8\" font-family=\"Helvetica,sans-Serif\" font-size=\"14.00\">0.5</text>\r\n",
       "<text text-anchor=\"middle\" x=\"1537\" y=\"-37.8\" font-family=\"Helvetica,sans-Serif\" font-size=\"14.00\">9.1%</text>\r\n",
       "<text text-anchor=\"middle\" x=\"1537\" y=\"-22.8\" font-family=\"Helvetica,sans-Serif\" font-size=\"14.00\">[0.5, 0.5]</text>\r\n",
       "<text text-anchor=\"middle\" x=\"1537\" y=\"-7.8\" font-family=\"Helvetica,sans-Serif\" font-size=\"14.00\">disease</text>\r\n",
       "</g>\r\n",
       "<!-- 37&#45;&gt;39 -->\r\n",
       "<g id=\"edge39\" class=\"edge\"><title>37&#45;&gt;39</title>\r\n",
       "<path fill=\"none\" stroke=\"black\" d=\"M1480.51,-103.726C1487.93,-94.6966 1495.8,-85.1235 1503.23,-76.0816\"/>\r\n",
       "<polygon fill=\"black\" stroke=\"black\" points=\"1505.98,-78.2474 1509.63,-68.2996 1500.58,-73.8026 1505.98,-78.2474\"/>\r\n",
       "</g>\r\n",
       "<!-- 41 -->\r\n",
       "<g id=\"node42\" class=\"node\"><title>41</title>\r\n",
       "<path fill=\"#48a4e7\" stroke=\"black\" d=\"M1705.5,-306C1705.5,-306 1640.5,-306 1640.5,-306 1634.5,-306 1628.5,-300 1628.5,-294 1628.5,-294 1628.5,-235 1628.5,-235 1628.5,-229 1634.5,-223 1640.5,-223 1640.5,-223 1705.5,-223 1705.5,-223 1711.5,-223 1717.5,-229 1717.5,-235 1717.5,-235 1717.5,-294 1717.5,-294 1717.5,-300 1711.5,-306 1705.5,-306\"/>\r\n",
       "<text text-anchor=\"middle\" x=\"1673\" y=\"-290.8\" font-family=\"Helvetica,sans-Serif\" font-size=\"14.00\">ca &lt;= 1.5</text>\r\n",
       "<text text-anchor=\"middle\" x=\"1673\" y=\"-275.8\" font-family=\"Helvetica,sans-Serif\" font-size=\"14.00\">0.13</text>\r\n",
       "<text text-anchor=\"middle\" x=\"1673\" y=\"-260.8\" font-family=\"Helvetica,sans-Serif\" font-size=\"14.00\">30.2%</text>\r\n",
       "<text text-anchor=\"middle\" x=\"1673\" y=\"-245.8\" font-family=\"Helvetica,sans-Serif\" font-size=\"14.00\">[0.07, 0.93]</text>\r\n",
       "<text text-anchor=\"middle\" x=\"1673\" y=\"-230.8\" font-family=\"Helvetica,sans-Serif\" font-size=\"14.00\">disease</text>\r\n",
       "</g>\r\n",
       "<!-- 40&#45;&gt;41 -->\r\n",
       "<g id=\"edge41\" class=\"edge\"><title>40&#45;&gt;41</title>\r\n",
       "<path fill=\"none\" stroke=\"black\" d=\"M1673,-341.907C1673,-333.649 1673,-324.864 1673,-316.302\"/>\r\n",
       "<polygon fill=\"black\" stroke=\"black\" points=\"1676.5,-316.021 1673,-306.021 1669.5,-316.021 1676.5,-316.021\"/>\r\n",
       "</g>\r\n",
       "<!-- 48 -->\r\n",
       "<g id=\"node49\" class=\"node\"><title>48</title>\r\n",
       "<path fill=\"#e58139\" stroke=\"black\" d=\"M1796,-298.5C1796,-298.5 1748,-298.5 1748,-298.5 1742,-298.5 1736,-292.5 1736,-286.5 1736,-286.5 1736,-242.5 1736,-242.5 1736,-236.5 1742,-230.5 1748,-230.5 1748,-230.5 1796,-230.5 1796,-230.5 1802,-230.5 1808,-236.5 1808,-242.5 1808,-242.5 1808,-286.5 1808,-286.5 1808,-292.5 1802,-298.5 1796,-298.5\"/>\r\n",
       "<text text-anchor=\"middle\" x=\"1772\" y=\"-283.3\" font-family=\"Helvetica,sans-Serif\" font-size=\"14.00\">0.0</text>\r\n",
       "<text text-anchor=\"middle\" x=\"1772\" y=\"-268.3\" font-family=\"Helvetica,sans-Serif\" font-size=\"14.00\">0.4%</text>\r\n",
       "<text text-anchor=\"middle\" x=\"1772\" y=\"-253.3\" font-family=\"Helvetica,sans-Serif\" font-size=\"14.00\">[1.0, 0.0]</text>\r\n",
       "<text text-anchor=\"middle\" x=\"1772\" y=\"-238.3\" font-family=\"Helvetica,sans-Serif\" font-size=\"14.00\">disease</text>\r\n",
       "</g>\r\n",
       "<!-- 40&#45;&gt;48 -->\r\n",
       "<g id=\"edge48\" class=\"edge\"><title>40&#45;&gt;48</title>\r\n",
       "<path fill=\"none\" stroke=\"black\" d=\"M1707.35,-341.907C1717.06,-330.432 1727.63,-317.938 1737.36,-306.442\"/>\r\n",
       "<polygon fill=\"black\" stroke=\"black\" points=\"1740.15,-308.562 1743.94,-298.667 1734.8,-304.04 1740.15,-308.562\"/>\r\n",
       "</g>\r\n",
       "<!-- 42 -->\r\n",
       "<g id=\"node43\" class=\"node\"><title>42</title>\r\n",
       "<path fill=\"#40a0e6\" stroke=\"black\" d=\"M1713,-187C1713,-187 1633,-187 1633,-187 1627,-187 1621,-181 1621,-175 1621,-175 1621,-116 1621,-116 1621,-110 1627,-104 1633,-104 1633,-104 1713,-104 1713,-104 1719,-104 1725,-110 1725,-116 1725,-116 1725,-175 1725,-175 1725,-181 1719,-187 1713,-187\"/>\r\n",
       "<text text-anchor=\"middle\" x=\"1673\" y=\"-171.8\" font-family=\"Helvetica,sans-Serif\" font-size=\"14.00\">chol &lt;= 328.0</text>\r\n",
       "<text text-anchor=\"middle\" x=\"1673\" y=\"-156.8\" font-family=\"Helvetica,sans-Serif\" font-size=\"14.00\">0.06</text>\r\n",
       "<text text-anchor=\"middle\" x=\"1673\" y=\"-141.8\" font-family=\"Helvetica,sans-Serif\" font-size=\"14.00\">25.6%</text>\r\n",
       "<text text-anchor=\"middle\" x=\"1673\" y=\"-126.8\" font-family=\"Helvetica,sans-Serif\" font-size=\"14.00\">[0.03, 0.97]</text>\r\n",
       "<text text-anchor=\"middle\" x=\"1673\" y=\"-111.8\" font-family=\"Helvetica,sans-Serif\" font-size=\"14.00\">disease</text>\r\n",
       "</g>\r\n",
       "<!-- 41&#45;&gt;42 -->\r\n",
       "<g id=\"edge42\" class=\"edge\"><title>41&#45;&gt;42</title>\r\n",
       "<path fill=\"none\" stroke=\"black\" d=\"M1673,-222.907C1673,-214.649 1673,-205.864 1673,-197.302\"/>\r\n",
       "<polygon fill=\"black\" stroke=\"black\" points=\"1676.5,-197.021 1673,-187.021 1669.5,-197.021 1676.5,-197.021\"/>\r\n",
       "</g>\r\n",
       "<!-- 45 -->\r\n",
       "<g id=\"node46\" class=\"node\"><title>45</title>\r\n",
       "<path fill=\"#83c2ef\" stroke=\"black\" d=\"M1891,-187C1891,-187 1793,-187 1793,-187 1787,-187 1781,-181 1781,-175 1781,-175 1781,-116 1781,-116 1781,-110 1787,-104 1793,-104 1793,-104 1891,-104 1891,-104 1897,-104 1903,-110 1903,-116 1903,-116 1903,-175 1903,-175 1903,-181 1897,-187 1891,-187\"/>\r\n",
       "<text text-anchor=\"middle\" x=\"1842\" y=\"-171.8\" font-family=\"Helvetica,sans-Serif\" font-size=\"14.00\">thalach &lt;= 165.5</text>\r\n",
       "<text text-anchor=\"middle\" x=\"1842\" y=\"-156.8\" font-family=\"Helvetica,sans-Serif\" font-size=\"14.00\">0.4</text>\r\n",
       "<text text-anchor=\"middle\" x=\"1842\" y=\"-141.8\" font-family=\"Helvetica,sans-Serif\" font-size=\"14.00\">4.5%</text>\r\n",
       "<text text-anchor=\"middle\" x=\"1842\" y=\"-126.8\" font-family=\"Helvetica,sans-Serif\" font-size=\"14.00\">[0.27, 0.73]</text>\r\n",
       "<text text-anchor=\"middle\" x=\"1842\" y=\"-111.8\" font-family=\"Helvetica,sans-Serif\" font-size=\"14.00\">disease</text>\r\n",
       "</g>\r\n",
       "<!-- 41&#45;&gt;45 -->\r\n",
       "<g id=\"edge45\" class=\"edge\"><title>41&#45;&gt;45</title>\r\n",
       "<path fill=\"none\" stroke=\"black\" d=\"M1717.65,-229.711C1720.8,-227.42 1723.94,-225.164 1727,-223 1741.62,-212.665 1757.5,-201.851 1772.65,-191.716\"/>\r\n",
       "<polygon fill=\"black\" stroke=\"black\" points=\"1774.61,-194.621 1780.99,-186.163 1770.72,-188.796 1774.61,-194.621\"/>\r\n",
       "</g>\r\n",
       "<!-- 43 -->\r\n",
       "<g id=\"node44\" class=\"node\"><title>43</title>\r\n",
       "<path fill=\"#3c9fe5\" stroke=\"black\" d=\"M1668.5,-68C1668.5,-68 1603.5,-68 1603.5,-68 1597.5,-68 1591.5,-62 1591.5,-56 1591.5,-56 1591.5,-12 1591.5,-12 1591.5,-6 1597.5,-0 1603.5,-0 1603.5,-0 1668.5,-0 1668.5,-0 1674.5,-0 1680.5,-6 1680.5,-12 1680.5,-12 1680.5,-56 1680.5,-56 1680.5,-62 1674.5,-68 1668.5,-68\"/>\r\n",
       "<text text-anchor=\"middle\" x=\"1636\" y=\"-52.8\" font-family=\"Helvetica,sans-Serif\" font-size=\"14.00\">0.03</text>\r\n",
       "<text text-anchor=\"middle\" x=\"1636\" y=\"-37.8\" font-family=\"Helvetica,sans-Serif\" font-size=\"14.00\">24.0%</text>\r\n",
       "<text text-anchor=\"middle\" x=\"1636\" y=\"-22.8\" font-family=\"Helvetica,sans-Serif\" font-size=\"14.00\">[0.02, 0.98]</text>\r\n",
       "<text text-anchor=\"middle\" x=\"1636\" y=\"-7.8\" font-family=\"Helvetica,sans-Serif\" font-size=\"14.00\">disease</text>\r\n",
       "</g>\r\n",
       "<!-- 42&#45;&gt;43 -->\r\n",
       "<g id=\"edge43\" class=\"edge\"><title>42&#45;&gt;43</title>\r\n",
       "<path fill=\"none\" stroke=\"black\" d=\"M1659.22,-103.726C1656.39,-95.3351 1653.39,-86.4745 1650.53,-78.0072\"/>\r\n",
       "<polygon fill=\"black\" stroke=\"black\" points=\"1653.77,-76.6529 1647.25,-68.2996 1647.14,-78.8938 1653.77,-76.6529\"/>\r\n",
       "</g>\r\n",
       "<!-- 44 -->\r\n",
       "<g id=\"node45\" class=\"node\"><title>44</title>\r\n",
       "<path fill=\"#7bbeee\" stroke=\"black\" d=\"M1775.5,-68C1775.5,-68 1710.5,-68 1710.5,-68 1704.5,-68 1698.5,-62 1698.5,-56 1698.5,-56 1698.5,-12 1698.5,-12 1698.5,-6 1704.5,-0 1710.5,-0 1710.5,-0 1775.5,-0 1775.5,-0 1781.5,-0 1787.5,-6 1787.5,-12 1787.5,-12 1787.5,-56 1787.5,-56 1787.5,-62 1781.5,-68 1775.5,-68\"/>\r\n",
       "<text text-anchor=\"middle\" x=\"1743\" y=\"-52.8\" font-family=\"Helvetica,sans-Serif\" font-size=\"14.00\">0.38</text>\r\n",
       "<text text-anchor=\"middle\" x=\"1743\" y=\"-37.8\" font-family=\"Helvetica,sans-Serif\" font-size=\"14.00\">1.7%</text>\r\n",
       "<text text-anchor=\"middle\" x=\"1743\" y=\"-22.8\" font-family=\"Helvetica,sans-Serif\" font-size=\"14.00\">[0.25, 0.75]</text>\r\n",
       "<text text-anchor=\"middle\" x=\"1743\" y=\"-7.8\" font-family=\"Helvetica,sans-Serif\" font-size=\"14.00\">disease</text>\r\n",
       "</g>\r\n",
       "<!-- 42&#45;&gt;44 -->\r\n",
       "<g id=\"edge44\" class=\"edge\"><title>42&#45;&gt;44</title>\r\n",
       "<path fill=\"none\" stroke=\"black\" d=\"M1699.07,-103.726C1704.66,-94.9703 1710.59,-85.7032 1716.21,-76.9051\"/>\r\n",
       "<polygon fill=\"black\" stroke=\"black\" points=\"1719.28,-78.6103 1721.71,-68.2996 1713.38,-74.8399 1719.28,-78.6103\"/>\r\n",
       "</g>\r\n",
       "<!-- 46 -->\r\n",
       "<g id=\"node47\" class=\"node\"><title>46</title>\r\n",
       "<path fill=\"#f6d5bd\" stroke=\"black\" d=\"M1866,-68C1866,-68 1818,-68 1818,-68 1812,-68 1806,-62 1806,-56 1806,-56 1806,-12 1806,-12 1806,-6 1812,-0 1818,-0 1818,-0 1866,-0 1866,-0 1872,-0 1878,-6 1878,-12 1878,-12 1878,-56 1878,-56 1878,-62 1872,-68 1866,-68\"/>\r\n",
       "<text text-anchor=\"middle\" x=\"1842\" y=\"-52.8\" font-family=\"Helvetica,sans-Serif\" font-size=\"14.00\">0.48</text>\r\n",
       "<text text-anchor=\"middle\" x=\"1842\" y=\"-37.8\" font-family=\"Helvetica,sans-Serif\" font-size=\"14.00\">2.1%</text>\r\n",
       "<text text-anchor=\"middle\" x=\"1842\" y=\"-22.8\" font-family=\"Helvetica,sans-Serif\" font-size=\"14.00\">[0.6, 0.4]</text>\r\n",
       "<text text-anchor=\"middle\" x=\"1842\" y=\"-7.8\" font-family=\"Helvetica,sans-Serif\" font-size=\"14.00\">disease</text>\r\n",
       "</g>\r\n",
       "<!-- 45&#45;&gt;46 -->\r\n",
       "<g id=\"edge46\" class=\"edge\"><title>45&#45;&gt;46</title>\r\n",
       "<path fill=\"none\" stroke=\"black\" d=\"M1842,-103.726C1842,-95.5175 1842,-86.8595 1842,-78.56\"/>\r\n",
       "<polygon fill=\"black\" stroke=\"black\" points=\"1845.5,-78.2996 1842,-68.2996 1838.5,-78.2996 1845.5,-78.2996\"/>\r\n",
       "</g>\r\n",
       "<!-- 47 -->\r\n",
       "<g id=\"node48\" class=\"node\"><title>47</title>\r\n",
       "<path fill=\"#399de5\" stroke=\"black\" d=\"M1956,-68C1956,-68 1908,-68 1908,-68 1902,-68 1896,-62 1896,-56 1896,-56 1896,-12 1896,-12 1896,-6 1902,-0 1908,-0 1908,-0 1956,-0 1956,-0 1962,-0 1968,-6 1968,-12 1968,-12 1968,-56 1968,-56 1968,-62 1962,-68 1956,-68\"/>\r\n",
       "<text text-anchor=\"middle\" x=\"1932\" y=\"-52.8\" font-family=\"Helvetica,sans-Serif\" font-size=\"14.00\">0.0</text>\r\n",
       "<text text-anchor=\"middle\" x=\"1932\" y=\"-37.8\" font-family=\"Helvetica,sans-Serif\" font-size=\"14.00\">2.5%</text>\r\n",
       "<text text-anchor=\"middle\" x=\"1932\" y=\"-22.8\" font-family=\"Helvetica,sans-Serif\" font-size=\"14.00\">[0.0, 1.0]</text>\r\n",
       "<text text-anchor=\"middle\" x=\"1932\" y=\"-7.8\" font-family=\"Helvetica,sans-Serif\" font-size=\"14.00\">disease</text>\r\n",
       "</g>\r\n",
       "<!-- 45&#45;&gt;47 -->\r\n",
       "<g id=\"edge47\" class=\"edge\"><title>45&#45;&gt;47</title>\r\n",
       "<path fill=\"none\" stroke=\"black\" d=\"M1875.51,-103.726C1882.93,-94.6966 1890.8,-85.1235 1898.23,-76.0816\"/>\r\n",
       "<polygon fill=\"black\" stroke=\"black\" points=\"1900.98,-78.2474 1904.63,-68.2996 1895.58,-73.8026 1900.98,-78.2474\"/>\r\n",
       "</g>\r\n",
       "</g>\r\n",
       "</svg>\r\n"
      ],
      "text/plain": [
       "<graphviz.files.Source at 0x20350625b50>"
      ]
     },
     "execution_count": 60,
     "metadata": {},
     "output_type": "execute_result"
    }
   ],
   "source": [
    "feature_names = [i for i in X_train.columns]\n",
    "\n",
    "Y_train_str = Y_train.astype('str')\n",
    "Y_train_str[Y_train_str == '0'] = 'no disease'\n",
    "Y_train_str[Y_train_str == '1'] = 'disease'\n",
    "Y_train_str = Y_train_str.values\n",
    "\n",
    "tree=export_graphviz(dectree, out_file=None, \n",
    "                feature_names = feature_names,\n",
    "                class_names = Y_train_str,\n",
    "                rounded = True, proportion = True, \n",
    "                label='root',\n",
    "                precision = 2, filled = True)\n",
    "graphviz.Source(tree)"
   ]
  },
  {
   "cell_type": "markdown",
   "metadata": {},
   "source": [
    "#### The names of target has been changed to 'disease' and 'no disease' for better visualization"
   ]
  },
  {
   "cell_type": "markdown",
   "metadata": {},
   "source": [
    "## Decision tree evaluation"
   ]
  },
  {
   "cell_type": "code",
   "execution_count": 61,
   "metadata": {},
   "outputs": [
    {
     "name": "stdout",
     "output_type": "stream",
     "text": [
      "Decision Tree Test Accuracy 0.6885\n"
     ]
    }
   ],
   "source": [
    "from sklearn.tree import DecisionTreeClassifier\n",
    "from sklearn.metrics import accuracy_score\n",
    "\n",
    "Y_pred = dectree.predict(X_test)\n",
    "\n",
    "acc = accuracy_score(Y_test, Y_pred)\n",
    "accuracies['Decision Tree'] = acc\n",
    "print(\"Decision Tree Test Accuracy {0:0.4f}\".format(acc))"
   ]
  },
  {
   "cell_type": "code",
   "execution_count": 62,
   "metadata": {},
   "outputs": [],
   "source": [
    "from sklearn.metrics import roc_curve, auc #for model evaluation\n",
    "from sklearn.metrics import confusion_matrix"
   ]
  },
  {
   "cell_type": "code",
   "execution_count": 63,
   "metadata": {},
   "outputs": [
    {
     "data": {
      "text/plain": [
       "array([[20, 10],\n",
       "       [ 9, 22]], dtype=int64)"
      ]
     },
     "execution_count": 63,
     "metadata": {},
     "output_type": "execute_result"
    }
   ],
   "source": [
    "confusion_matrix = confusion_matrix(Y_test, Y_pred)\n",
    "confusion_matrix"
   ]
  },
  {
   "cell_type": "code",
   "execution_count": 64,
   "metadata": {},
   "outputs": [
    {
     "name": "stdout",
     "output_type": "stream",
     "text": [
      "Sensitivity :  0.6896551724137931\n",
      "Specificity :  0.6875\n"
     ]
    }
   ],
   "source": [
    "total=sum(sum(confusion_matrix))\n",
    "\n",
    "sensitivity = confusion_matrix[0,0]/(confusion_matrix[0,0]+confusion_matrix[1,0])\n",
    "print('Sensitivity : ', sensitivity )\n",
    "\n",
    "specificity = confusion_matrix[1,1]/(confusion_matrix[1,1]+confusion_matrix[0,1])\n",
    "print('Specificity : ', specificity)"
   ]
  },
  {
   "cell_type": "markdown",
   "metadata": {},
   "source": [
    "#### Sensitivity and specificity have the same way of calculating the true positive rate and true negative rate"
   ]
  },
  {
   "cell_type": "code",
   "execution_count": 65,
   "metadata": {},
   "outputs": [
    {
     "data": {
      "text/plain": [
       "<matplotlib.axes._subplots.AxesSubplot at 0x203512fef40>"
      ]
     },
     "execution_count": 65,
     "metadata": {},
     "output_type": "execute_result"
    },
    {
     "data": {
      "image/png": "[encoded data removed]",
      "text/plain": [
       "<Figure size 432x288 with 2 Axes>"
      ]
     },
     "metadata": {},
     "output_type": "display_data"
    }
   ],
   "source": [
    "# Plot the two-way Confusion Matrix\n",
    "from sklearn.metrics import confusion_matrix\n",
    "sb.heatmap(confusion_matrix(Y_test, Y_pred), \n",
    "           annot = True, fmt=\".0f\", annot_kws={\"size\": 18})"
   ]
  },
  {
   "cell_type": "code",
   "execution_count": 66,
   "metadata": {},
   "outputs": [],
   "source": [
    "# ROC curve for the model evaluation\n",
    "Y_pred_quant = dectree.predict_proba(X_test)[:, 1]"
   ]
  },
  {
   "cell_type": "code",
   "execution_count": 67,
   "metadata": {},
   "outputs": [
    {
     "name": "stdout",
     "output_type": "stream",
     "text": [
      "AUC:  0.6591397849462366\n"
     ]
    },
    {
     "data": {
      "image/png": "[encoded data removed]",
      "text/plain": [
       "<Figure size 432x288 with 1 Axes>"
      ]
     },
     "metadata": {},
     "output_type": "display_data"
    }
   ],
   "source": [
    "fpr, tpr, thresholds = roc_curve(Y_test, Y_pred_quant)\n",
    "\n",
    "fig, ax = plt.subplots()\n",
    "ax.plot(fpr, tpr)\n",
    "ax.plot([0, 1], [0, 1], transform=ax.transAxes, ls=\"--\", c=\".3\")\n",
    "plt.xlim([0.0, 1.0])\n",
    "plt.ylim([0.0, 1.0])\n",
    "plt.rcParams['font.size'] = 12\n",
    "plt.title('ROC curve for diabetes classifier')\n",
    "plt.xlabel('False Positive Rate (1 - Specificity)')\n",
    "plt.ylabel('True Positive Rate (Sensitivity)')\n",
    "plt.grid(True)\n",
    "print('AUC: ',auc(fpr, tpr))"
   ]
  },
  {
   "cell_type": "markdown",
   "metadata": {},
   "source": [
    "#####  Area Under the Curve\n",
    "###### 0.90 - 1.00 = excellent \n",
    "###### 0.80 - 0.90 = good\n",
    "###### 0.70 - 0.80 = fair                            \n",
    "###### 0.60 - 0.70 = poor                                \n",
    "###### 0.50 - 0.60 = fail"
   ]
  },
  {
   "cell_type": "markdown",
   "metadata": {},
   "source": [
    "# Create Dummy Variables"
   ]
  },
  {
   "cell_type": "code",
   "execution_count": 68,
   "metadata": {},
   "outputs": [],
   "source": [
    "a = pd.get_dummies(df['cp'], prefix = \"cp\")\n",
    "b = pd.get_dummies(df['thal'], prefix = \"thal\")\n",
    "c = pd.get_dummies(df['slope'], prefix = \"slope\")\n",
    "d = pd.get_dummies(df['restecg'], prefix = \"restecg\")"
   ]
  },
  {
   "cell_type": "code",
   "execution_count": 69,
   "metadata": {
    "scrolled": true
   },
   "outputs": [
    {
     "data": {
      "text/html": [
       "<div>\n",
       "<style scoped>\n",
       "    .dataframe tbody tr th:only-of-type {\n",
       "        vertical-align: middle;\n",
       "    }\n",
       "\n",
       "    .dataframe tbody tr th {\n",
       "        vertical-align: top;\n",
       "    }\n",
       "\n",
       "    .dataframe thead th {\n",
       "        text-align: right;\n",
       "    }\n",
       "</style>\n",
       "<table border=\"1\" class=\"dataframe\">\n",
       "  <thead>\n",
       "    <tr style=\"text-align: right;\">\n",
       "      <th></th>\n",
       "      <th>age</th>\n",
       "      <th>sex</th>\n",
       "      <th>cp</th>\n",
       "      <th>trestbps</th>\n",
       "      <th>chol</th>\n",
       "      <th>fbs</th>\n",
       "      <th>restecg</th>\n",
       "      <th>thalach</th>\n",
       "      <th>exang</th>\n",
       "      <th>oldpeak</th>\n",
       "      <th>...</th>\n",
       "      <th>thal_0</th>\n",
       "      <th>thal_1</th>\n",
       "      <th>thal_2</th>\n",
       "      <th>thal_3</th>\n",
       "      <th>slope_0</th>\n",
       "      <th>slope_1</th>\n",
       "      <th>slope_2</th>\n",
       "      <th>restecg_0</th>\n",
       "      <th>restecg_1</th>\n",
       "      <th>restecg_2</th>\n",
       "    </tr>\n",
       "  </thead>\n",
       "  <tbody>\n",
       "    <tr>\n",
       "      <th>0</th>\n",
       "      <td>63</td>\n",
       "      <td>1</td>\n",
       "      <td>3</td>\n",
       "      <td>145</td>\n",
       "      <td>233</td>\n",
       "      <td>1</td>\n",
       "      <td>0</td>\n",
       "      <td>150</td>\n",
       "      <td>0</td>\n",
       "      <td>2.3</td>\n",
       "      <td>...</td>\n",
       "      <td>0</td>\n",
       "      <td>1</td>\n",
       "      <td>0</td>\n",
       "      <td>0</td>\n",
       "      <td>1</td>\n",
       "      <td>0</td>\n",
       "      <td>0</td>\n",
       "      <td>1</td>\n",
       "      <td>0</td>\n",
       "      <td>0</td>\n",
       "    </tr>\n",
       "    <tr>\n",
       "      <th>1</th>\n",
       "      <td>37</td>\n",
       "      <td>1</td>\n",
       "      <td>2</td>\n",
       "      <td>130</td>\n",
       "      <td>250</td>\n",
       "      <td>0</td>\n",
       "      <td>1</td>\n",
       "      <td>187</td>\n",
       "      <td>0</td>\n",
       "      <td>3.5</td>\n",
       "      <td>...</td>\n",
       "      <td>0</td>\n",
       "      <td>0</td>\n",
       "      <td>1</td>\n",
       "      <td>0</td>\n",
       "      <td>1</td>\n",
       "      <td>0</td>\n",
       "      <td>0</td>\n",
       "      <td>0</td>\n",
       "      <td>1</td>\n",
       "      <td>0</td>\n",
       "    </tr>\n",
       "    <tr>\n",
       "      <th>2</th>\n",
       "      <td>41</td>\n",
       "      <td>0</td>\n",
       "      <td>1</td>\n",
       "      <td>130</td>\n",
       "      <td>204</td>\n",
       "      <td>0</td>\n",
       "      <td>0</td>\n",
       "      <td>172</td>\n",
       "      <td>0</td>\n",
       "      <td>1.4</td>\n",
       "      <td>...</td>\n",
       "      <td>0</td>\n",
       "      <td>0</td>\n",
       "      <td>1</td>\n",
       "      <td>0</td>\n",
       "      <td>0</td>\n",
       "      <td>0</td>\n",
       "      <td>1</td>\n",
       "      <td>1</td>\n",
       "      <td>0</td>\n",
       "      <td>0</td>\n",
       "    </tr>\n",
       "    <tr>\n",
       "      <th>3</th>\n",
       "      <td>56</td>\n",
       "      <td>1</td>\n",
       "      <td>1</td>\n",
       "      <td>120</td>\n",
       "      <td>236</td>\n",
       "      <td>0</td>\n",
       "      <td>1</td>\n",
       "      <td>178</td>\n",
       "      <td>0</td>\n",
       "      <td>0.8</td>\n",
       "      <td>...</td>\n",
       "      <td>0</td>\n",
       "      <td>0</td>\n",
       "      <td>1</td>\n",
       "      <td>0</td>\n",
       "      <td>0</td>\n",
       "      <td>0</td>\n",
       "      <td>1</td>\n",
       "      <td>0</td>\n",
       "      <td>1</td>\n",
       "      <td>0</td>\n",
       "    </tr>\n",
       "    <tr>\n",
       "      <th>4</th>\n",
       "      <td>57</td>\n",
       "      <td>0</td>\n",
       "      <td>0</td>\n",
       "      <td>120</td>\n",
       "      <td>354</td>\n",
       "      <td>0</td>\n",
       "      <td>1</td>\n",
       "      <td>163</td>\n",
       "      <td>1</td>\n",
       "      <td>0.6</td>\n",
       "      <td>...</td>\n",
       "      <td>0</td>\n",
       "      <td>0</td>\n",
       "      <td>1</td>\n",
       "      <td>0</td>\n",
       "      <td>0</td>\n",
       "      <td>0</td>\n",
       "      <td>1</td>\n",
       "      <td>0</td>\n",
       "      <td>1</td>\n",
       "      <td>0</td>\n",
       "    </tr>\n",
       "  </tbody>\n",
       "</table>\n",
       "<p>5 rows × 28 columns</p>\n",
       "</div>"
      ],
      "text/plain": [
       "   age  sex  cp  trestbps  chol  fbs  restecg  thalach  exang  oldpeak  ...  \\\n",
       "0   63    1   3       145   233    1        0      150      0      2.3  ...   \n",
       "1   37    1   2       130   250    0        1      187      0      3.5  ...   \n",
       "2   41    0   1       130   204    0        0      172      0      1.4  ...   \n",
       "3   56    1   1       120   236    0        1      178      0      0.8  ...   \n",
       "4   57    0   0       120   354    0        1      163      1      0.6  ...   \n",
       "\n",
       "   thal_0  thal_1  thal_2  thal_3  slope_0  slope_1  slope_2  restecg_0  \\\n",
       "0       0       1       0       0        1        0        0          1   \n",
       "1       0       0       1       0        1        0        0          0   \n",
       "2       0       0       1       0        0        0        1          1   \n",
       "3       0       0       1       0        0        0        1          0   \n",
       "4       0       0       1       0        0        0        1          0   \n",
       "\n",
       "   restecg_1  restecg_2  \n",
       "0          0          0  \n",
       "1          1          0  \n",
       "2          0          0  \n",
       "3          1          0  \n",
       "4          1          0  \n",
       "\n",
       "[5 rows x 28 columns]"
      ]
     },
     "execution_count": 69,
     "metadata": {},
     "output_type": "execute_result"
    }
   ],
   "source": [
    "frames = [df, a, b, c, d]\n",
    "df = pd.concat(frames, axis = 1)\n",
    "df.head()"
   ]
  },
  {
   "cell_type": "code",
   "execution_count": 70,
   "metadata": {
    "scrolled": false
   },
   "outputs": [
    {
     "data": {
      "text/html": [
       "<div>\n",
       "<style scoped>\n",
       "    .dataframe tbody tr th:only-of-type {\n",
       "        vertical-align: middle;\n",
       "    }\n",
       "\n",
       "    .dataframe tbody tr th {\n",
       "        vertical-align: top;\n",
       "    }\n",
       "\n",
       "    .dataframe thead th {\n",
       "        text-align: right;\n",
       "    }\n",
       "</style>\n",
       "<table border=\"1\" class=\"dataframe\">\n",
       "  <thead>\n",
       "    <tr style=\"text-align: right;\">\n",
       "      <th></th>\n",
       "      <th>age</th>\n",
       "      <th>sex</th>\n",
       "      <th>trestbps</th>\n",
       "      <th>chol</th>\n",
       "      <th>fbs</th>\n",
       "      <th>thalach</th>\n",
       "      <th>exang</th>\n",
       "      <th>oldpeak</th>\n",
       "      <th>ca</th>\n",
       "      <th>target</th>\n",
       "      <th>...</th>\n",
       "      <th>thal_0</th>\n",
       "      <th>thal_1</th>\n",
       "      <th>thal_2</th>\n",
       "      <th>thal_3</th>\n",
       "      <th>slope_0</th>\n",
       "      <th>slope_1</th>\n",
       "      <th>slope_2</th>\n",
       "      <th>restecg_0</th>\n",
       "      <th>restecg_1</th>\n",
       "      <th>restecg_2</th>\n",
       "    </tr>\n",
       "  </thead>\n",
       "  <tbody>\n",
       "    <tr>\n",
       "      <th>0</th>\n",
       "      <td>63</td>\n",
       "      <td>1</td>\n",
       "      <td>145</td>\n",
       "      <td>233</td>\n",
       "      <td>1</td>\n",
       "      <td>150</td>\n",
       "      <td>0</td>\n",
       "      <td>2.3</td>\n",
       "      <td>0</td>\n",
       "      <td>1</td>\n",
       "      <td>...</td>\n",
       "      <td>0</td>\n",
       "      <td>1</td>\n",
       "      <td>0</td>\n",
       "      <td>0</td>\n",
       "      <td>1</td>\n",
       "      <td>0</td>\n",
       "      <td>0</td>\n",
       "      <td>1</td>\n",
       "      <td>0</td>\n",
       "      <td>0</td>\n",
       "    </tr>\n",
       "    <tr>\n",
       "      <th>1</th>\n",
       "      <td>37</td>\n",
       "      <td>1</td>\n",
       "      <td>130</td>\n",
       "      <td>250</td>\n",
       "      <td>0</td>\n",
       "      <td>187</td>\n",
       "      <td>0</td>\n",
       "      <td>3.5</td>\n",
       "      <td>0</td>\n",
       "      <td>1</td>\n",
       "      <td>...</td>\n",
       "      <td>0</td>\n",
       "      <td>0</td>\n",
       "      <td>1</td>\n",
       "      <td>0</td>\n",
       "      <td>1</td>\n",
       "      <td>0</td>\n",
       "      <td>0</td>\n",
       "      <td>0</td>\n",
       "      <td>1</td>\n",
       "      <td>0</td>\n",
       "    </tr>\n",
       "    <tr>\n",
       "      <th>2</th>\n",
       "      <td>41</td>\n",
       "      <td>0</td>\n",
       "      <td>130</td>\n",
       "      <td>204</td>\n",
       "      <td>0</td>\n",
       "      <td>172</td>\n",
       "      <td>0</td>\n",
       "      <td>1.4</td>\n",
       "      <td>0</td>\n",
       "      <td>1</td>\n",
       "      <td>...</td>\n",
       "      <td>0</td>\n",
       "      <td>0</td>\n",
       "      <td>1</td>\n",
       "      <td>0</td>\n",
       "      <td>0</td>\n",
       "      <td>0</td>\n",
       "      <td>1</td>\n",
       "      <td>1</td>\n",
       "      <td>0</td>\n",
       "      <td>0</td>\n",
       "    </tr>\n",
       "    <tr>\n",
       "      <th>3</th>\n",
       "      <td>56</td>\n",
       "      <td>1</td>\n",
       "      <td>120</td>\n",
       "      <td>236</td>\n",
       "      <td>0</td>\n",
       "      <td>178</td>\n",
       "      <td>0</td>\n",
       "      <td>0.8</td>\n",
       "      <td>0</td>\n",
       "      <td>1</td>\n",
       "      <td>...</td>\n",
       "      <td>0</td>\n",
       "      <td>0</td>\n",
       "      <td>1</td>\n",
       "      <td>0</td>\n",
       "      <td>0</td>\n",
       "      <td>0</td>\n",
       "      <td>1</td>\n",
       "      <td>0</td>\n",
       "      <td>1</td>\n",
       "      <td>0</td>\n",
       "    </tr>\n",
       "    <tr>\n",
       "      <th>4</th>\n",
       "      <td>57</td>\n",
       "      <td>0</td>\n",
       "      <td>120</td>\n",
       "      <td>354</td>\n",
       "      <td>0</td>\n",
       "      <td>163</td>\n",
       "      <td>1</td>\n",
       "      <td>0.6</td>\n",
       "      <td>0</td>\n",
       "      <td>1</td>\n",
       "      <td>...</td>\n",
       "      <td>0</td>\n",
       "      <td>0</td>\n",
       "      <td>1</td>\n",
       "      <td>0</td>\n",
       "      <td>0</td>\n",
       "      <td>0</td>\n",
       "      <td>1</td>\n",
       "      <td>0</td>\n",
       "      <td>1</td>\n",
       "      <td>0</td>\n",
       "    </tr>\n",
       "  </tbody>\n",
       "</table>\n",
       "<p>5 rows × 24 columns</p>\n",
       "</div>"
      ],
      "text/plain": [
       "   age  sex  trestbps  chol  fbs  thalach  exang  oldpeak  ca  target  ...  \\\n",
       "0   63    1       145   233    1      150      0      2.3   0       1  ...   \n",
       "1   37    1       130   250    0      187      0      3.5   0       1  ...   \n",
       "2   41    0       130   204    0      172      0      1.4   0       1  ...   \n",
       "3   56    1       120   236    0      178      0      0.8   0       1  ...   \n",
       "4   57    0       120   354    0      163      1      0.6   0       1  ...   \n",
       "\n",
       "   thal_0  thal_1  thal_2  thal_3  slope_0  slope_1  slope_2  restecg_0  \\\n",
       "0       0       1       0       0        1        0        0          1   \n",
       "1       0       0       1       0        1        0        0          0   \n",
       "2       0       0       1       0        0        0        1          1   \n",
       "3       0       0       1       0        0        0        1          0   \n",
       "4       0       0       1       0        0        0        1          0   \n",
       "\n",
       "   restecg_1  restecg_2  \n",
       "0          0          0  \n",
       "1          1          0  \n",
       "2          0          0  \n",
       "3          1          0  \n",
       "4          1          0  \n",
       "\n",
       "[5 rows x 24 columns]"
      ]
     },
     "execution_count": 70,
     "metadata": {},
     "output_type": "execute_result"
    }
   ],
   "source": [
    "df = df.drop(columns = ['cp', 'thal', 'slope', 'restecg'])\n",
    "df.head()"
   ]
  },
  {
   "cell_type": "code",
   "execution_count": 71,
   "metadata": {
    "scrolled": true
   },
   "outputs": [
    {
     "data": {
      "text/plain": [
       "age            int64\n",
       "sex            int64\n",
       "trestbps       int64\n",
       "chol           int64\n",
       "fbs            int64\n",
       "thalach        int64\n",
       "exang          int64\n",
       "oldpeak      float64\n",
       "ca             int64\n",
       "target         int64\n",
       "cp_0           uint8\n",
       "cp_1           uint8\n",
       "cp_2           uint8\n",
       "cp_3           uint8\n",
       "thal_0         uint8\n",
       "thal_1         uint8\n",
       "thal_2         uint8\n",
       "thal_3         uint8\n",
       "slope_0        uint8\n",
       "slope_1        uint8\n",
       "slope_2        uint8\n",
       "restecg_0      uint8\n",
       "restecg_1      uint8\n",
       "restecg_2      uint8\n",
       "dtype: object"
      ]
     },
     "execution_count": 71,
     "metadata": {},
     "output_type": "execute_result"
    }
   ],
   "source": [
    "df.dtypes"
   ]
  },
  {
   "cell_type": "markdown",
   "metadata": {},
   "source": [
    "# Split x,y"
   ]
  },
  {
   "cell_type": "code",
   "execution_count": 72,
   "metadata": {
    "scrolled": true
   },
   "outputs": [
    {
     "data": {
      "text/plain": [
       "age            int64\n",
       "sex            int64\n",
       "trestbps       int64\n",
       "chol           int64\n",
       "fbs            int64\n",
       "thalach        int64\n",
       "exang          int64\n",
       "oldpeak      float64\n",
       "ca             int64\n",
       "cp_0           uint8\n",
       "cp_1           uint8\n",
       "cp_2           uint8\n",
       "cp_3           uint8\n",
       "thal_0         uint8\n",
       "thal_1         uint8\n",
       "thal_2         uint8\n",
       "thal_3         uint8\n",
       "slope_0        uint8\n",
       "slope_1        uint8\n",
       "slope_2        uint8\n",
       "restecg_0      uint8\n",
       "restecg_1      uint8\n",
       "restecg_2      uint8\n",
       "dtype: object"
      ]
     },
     "execution_count": 72,
     "metadata": {},
     "output_type": "execute_result"
    }
   ],
   "source": [
    "y = df.target.values\n",
    "x_data = df.drop(['target'], axis = 1)\n",
    "x_data.dtypes"
   ]
  },
  {
   "cell_type": "code",
   "execution_count": 73,
   "metadata": {},
   "outputs": [],
   "source": [
    "x = (x_data - np.min(x_data)) / (np.max(x_data) - np.min(x_data)).values"
   ]
  },
  {
   "cell_type": "code",
   "execution_count": 74,
   "metadata": {},
   "outputs": [],
   "source": [
    "x_train, x_test, y_train, y_test = train_test_split(x,y,test_size = 0.2,)"
   ]
  },
  {
   "cell_type": "markdown",
   "metadata": {},
   "source": [
    "# Apply Logistic Regression"
   ]
  },
  {
   "cell_type": "code",
   "execution_count": 75,
   "metadata": {},
   "outputs": [
    {
     "name": "stdout",
     "output_type": "stream",
     "text": [
      "Logistic Regression accuracy score with all the features: 0.9016\n"
     ]
    }
   ],
   "source": [
    "from sklearn.linear_model import LogisticRegression\n",
    "\n",
    "logreg = LogisticRegression(max_iter=5000)\n",
    "logreg.fit(x_train, y_train)\n",
    "y_pred = logreg.predict(x_test)\n",
    "\n",
    "acc=accuracy_score(y_test, y_pred) \n",
    "accuracies['Logistic Regression']=acc\n",
    "\n",
    "print('Logistic Regression accuracy score with all the features: {0:0.4f}'. format(acc))"
   ]
  },
  {
   "cell_type": "markdown",
   "metadata": {},
   "source": [
    "#### In logistic regression, based on Sigmoid Function, If ‘Z’ goes to infinity, Y(predicted) will become 1 and if ‘Z’ goes to negative infinity, Y(predicted) will become 0. We can select the middle parameter as 0.5. If value is bigger than 0.5, it will become 1; if value is smaller than 0.5, it will goes to 0. So it become a binaryclassification "
   ]
  },
  {
   "cell_type": "markdown",
   "metadata": {},
   "source": [
    "# Apply Random Forest Classification"
   ]
  },
  {
   "cell_type": "code",
   "execution_count": 76,
   "metadata": {},
   "outputs": [
    {
     "name": "stdout",
     "output_type": "stream",
     "text": [
      "Random Forest Algorithm Accuracy with all the features: 0.8689\n"
     ]
    }
   ],
   "source": [
    "from sklearn.ensemble import RandomForestClassifier\n",
    "\n",
    "rf = RandomForestClassifier(n_estimators = 1000, random_state = 1)\n",
    "rf.fit(x_train, y_train)\n",
    "y_pred = rf.predict(x_test)\n",
    "\n",
    "acc=accuracy_score(y_test, y_pred) \n",
    "accuracies['Random Forest Classification']=acc\n",
    "\n",
    "\n",
    "print('Random Forest Algorithm Accuracy with all the features: {0:0.4f}'. format(acc))"
   ]
  },
  {
   "cell_type": "markdown",
   "metadata": {},
   "source": []
  },
  {
   "cell_type": "markdown",
   "metadata": {},
   "source": [
    "# Apply Naive Bayes Classification"
   ]
  },
  {
   "cell_type": "code",
   "execution_count": 77,
   "metadata": {},
   "outputs": [
    {
     "name": "stdout",
     "output_type": "stream",
     "text": [
      "Naive Bayes Algorithm Accuracy with all the features: 0.7541\n"
     ]
    }
   ],
   "source": [
    "from sklearn.naive_bayes import GaussianNB\n",
    "\n",
    "nb = GaussianNB()\n",
    "nb.fit(x_train, y_train)\n",
    "y_pred = nb.predict(x_test)\n",
    "\n",
    "acc=accuracy_score(y_test, y_pred) \n",
    "accuracies['Naive Bayes']=acc\n",
    "\n",
    "print('Naive Bayes Algorithm Accuracy with all the features: {0:0.4f}'. format(acc))"
   ]
  },
  {
   "cell_type": "markdown",
   "metadata": {},
   "source": [
    "# Apply Support Vector Machine (SVM)"
   ]
  },
  {
   "cell_type": "code",
   "execution_count": 78,
   "metadata": {},
   "outputs": [
    {
     "name": "stdout",
     "output_type": "stream",
     "text": [
      "SVM Accuracy with all the features: 0.8852\n"
     ]
    }
   ],
   "source": [
    "from sklearn.svm import SVC\n",
    "\n",
    "svm = SVC(random_state = 1)\n",
    "svm.fit(x_train, y_train)\n",
    "y_pred = svm.predict(x_test)\n",
    "\n",
    "acc=accuracy_score(y_test, y_pred) \n",
    "accuracies['SVM']=acc\n",
    "print('SVM Accuracy with all the features: {0:0.4f}'. format(acc))"
   ]
  },
  {
   "cell_type": "markdown",
   "metadata": {},
   "source": [
    "# Comparing Models"
   ]
  },
  {
   "cell_type": "code",
   "execution_count": 79,
   "metadata": {},
   "outputs": [
    {
     "name": "stdout",
     "output_type": "stream",
     "text": [
      "Algorithms                      Accuracy\n",
      "----------------------------  ----------\n",
      "Decision Tree                   0.688525\n",
      "Logistic Regression             0.901639\n",
      "Random Forest Classification    0.868852\n",
      "Naive Bayes                     0.754098\n",
      "SVM                             0.885246\n"
     ]
    }
   ],
   "source": [
    "from tabulate import tabulate\n",
    "headers=[\"Algorithms\",\"Accuracy\"]\n",
    "print(tabulate(accuracies.items(), headers = headers))"
   ]
  },
  {
   "cell_type": "code",
   "execution_count": 80,
   "metadata": {},
   "outputs": [
    {
     "data": {
      "image/png": "[encoded data removed]",
      "text/plain": [
       "<Figure size 1152x360 with 1 Axes>"
      ]
     },
     "metadata": {},
     "output_type": "display_data"
    }
   ],
   "source": [
    "colors = [\"purple\", \"green\", \"orange\", \"magenta\",\"#CFC60E\"]\n",
    "\n",
    "sb.set_style(\"whitegrid\")\n",
    "plt.figure(figsize=(16,5))\n",
    "plt.yticks(np.arange(0,100,10))\n",
    "plt.ylabel(\"Accuracy %\")\n",
    "plt.xlabel(\"Algorithms\")\n",
    "sb.barplot(x=list(accuracies.keys()), y=list(accuracies.values()), palette=colors)\n",
    "plt.show()"
   ]
  },
  {
   "cell_type": "markdown",
   "metadata": {},
   "source": [
    "# Confusion Matrix"
   ]
  },
  {
   "cell_type": "code",
   "execution_count": 81,
   "metadata": {},
   "outputs": [],
   "source": [
    "# Predicted values\n",
    "y_head_dtc = dectree.predict(X_test)\n",
    "y_head_lr = logreg.predict(x_test)\n",
    "y_head_rf = rf.predict(x_test)\n",
    "y_head_nb = nb.predict(x_test)\n",
    "y_head_svm = svm.predict(x_test)"
   ]
  },
  {
   "cell_type": "code",
   "execution_count": 82,
   "metadata": {},
   "outputs": [],
   "source": [
    "from sklearn.metrics import confusion_matrix\n",
    "cm_dtc = confusion_matrix(Y_test,y_head_dtc)\n",
    "cm_lr = confusion_matrix(y_test,y_head_lr)\n",
    "cm_rf = confusion_matrix(y_test,y_head_rf)\n",
    "cm_nb = confusion_matrix(y_test,y_head_nb)\n",
    "cm_svm = confusion_matrix(y_test,y_head_svm)"
   ]
  },
  {
   "cell_type": "code",
   "execution_count": 83,
   "metadata": {
    "scrolled": true
   },
   "outputs": [
    {
     "data": {
      "image/png": "[encoded data removed]",
      "text/plain": [
       "<Figure size 1728x864 with 5 Axes>"
      ]
     },
     "metadata": {},
     "output_type": "display_data"
    }
   ],
   "source": [
    "plt.figure(figsize=(24,12))\n",
    "\n",
    "plt.suptitle(\"Confusion Matrixes\",fontsize=24)\n",
    "plt.subplots_adjust(wspace = 0.4, hspace= 0.4)\n",
    "\n",
    "\n",
    "plt.subplot(2,3,1)\n",
    "plt.title(\"Decision Tree Classifier Confusion Matrix\")\n",
    "sb.heatmap(cm_dtc,annot=True,cmap=\"Blues\",fmt=\"d\",cbar=False, annot_kws={\"size\": 24})\n",
    "\n",
    "plt.subplot(2,3,2)\n",
    "plt.title(\"Logistic Regression Confusion Matrix\")\n",
    "sb.heatmap(cm_lr,annot=True,cmap=\"Blues\",fmt=\"d\",cbar=False, annot_kws={\"size\": 24})\n",
    "\n",
    "plt.subplot(2,3,3)\n",
    "plt.title(\"Random Forest Confusion Matrix\")\n",
    "sb.heatmap(cm_rf,annot=True,cmap=\"Blues\",fmt=\"d\",cbar=False, annot_kws={\"size\": 24})\n",
    "\n",
    "plt.subplot(2,3,4)\n",
    "plt.title(\"Support Vector Machine Confusion Matrix\")\n",
    "sb.heatmap(cm_svm,annot=True,cmap=\"Blues\",fmt=\"d\",cbar=False, annot_kws={\"size\": 24})\n",
    "\n",
    "plt.subplot(2,3,5)\n",
    "plt.title(\"Naive Bayes Confusion Matrix\")\n",
    "sb.heatmap(cm_nb,annot=True,cmap=\"Blues\",fmt=\"d\",cbar=False, annot_kws={\"size\": 24})\n",
    "\n",
    "\n",
    "\n",
    "\n",
    "plt.show()"
   ]
  },
  {
   "cell_type": "markdown",
   "metadata": {},
   "source": [
    "#### Sensitivity measures the proportion of positives that are correctly identified (e.g., the percentage of  people with heart disease who are correctly identified as having heart disease).\n"
   ]
  },
  {
   "cell_type": "markdown",
   "metadata": {},
   "source": [
    "#### Specificity measures the proportion of negatives that are correctly identified (e.g., the percentage of healthy people who are correctly identified as not having heart disease)."
   ]
  },
  {
   "cell_type": "code",
   "execution_count": 84,
   "metadata": {},
   "outputs": [
    {
     "name": "stdout",
     "output_type": "stream",
     "text": [
      "Sensitivity for Decision Tree:  0.6896551724137931\n",
      "Specificity for Decision Tree:  0.6875 \n",
      "\n",
      "Sensitivity for Logestic Regression:  0.875\n",
      "Specificity for Logestic Regression:  0.9310344827586207 \n",
      "\n",
      "Sensitivity for Random Forest:  0.84375\n",
      "Specificity for Random Forest:  0.896551724137931 \n",
      "\n",
      "Sensitivity for Navie Bayes:  0.9411764705882353\n",
      "Specificity for Navie Bayes:  0.6818181818181818 \n",
      "\n",
      "Sensitivity for Support Vector Machine:  0.8484848484848485\n",
      "Specificity for Support Vector Machine:  0.9285714285714286 \n",
      "\n"
     ]
    }
   ],
   "source": [
    "total=sum(sum(cm_dtc))\n",
    "\n",
    "sensitivityDC = cm_dtc[0,0]/(cm_dtc[0,0]+cm_dtc[1,0])\n",
    "print('Sensitivity for Decision Tree: ', sensitivityDC )\n",
    "\n",
    "specificityDC = cm_dtc[1,1]/(cm_dtc[1,1]+cm_dtc[0,1])\n",
    "print('Specificity for Decision Tree: ', specificityDC,\"\\n\")\n",
    "\n",
    "\n",
    "total=sum(sum(cm_lr))\n",
    "\n",
    "sensitivityLG = cm_lr[0,0]/(cm_lr[0,0]+cm_lr[1,0])\n",
    "print('Sensitivity for Logestic Regression: ', sensitivityLG )\n",
    "\n",
    "specificityLG = cm_lr[1,1]/(cm_lr[1,1]+cm_lr[0,1])\n",
    "print('Specificity for Logestic Regression: ', specificityLG ,\"\\n\")\n",
    "\n",
    "\n",
    "total=sum(sum(cm_rf))\n",
    "\n",
    "sensitivityRF = cm_rf[0,0]/(cm_rf[0,0]+cm_rf[1,0])\n",
    "print('Sensitivity for Random Forest: ', sensitivityRF)\n",
    "\n",
    "specificityRF = cm_rf[1,1]/(cm_rf[1,1]+cm_rf[0,1])\n",
    "print('Specificity for Random Forest: ', specificityRF,\"\\n\" )\n",
    "\n",
    "\n",
    "total=sum(sum(cm_nb))\n",
    "\n",
    "sensitivityNB = cm_nb[0,0]/(cm_nb [0,0]+cm_nb[1,0])\n",
    "print('Sensitivity for Navie Bayes: ', sensitivityNB)\n",
    "\n",
    "specificityNB = cm_nb[1,1]/(cm_nb[1,1]+cm_nb[0,1])\n",
    "print('Specificity for Navie Bayes: ', specificityNB,\"\\n\" )\n",
    "\n",
    "\n",
    "total=sum(sum(cm_svm))\n",
    "\n",
    "sensitivitySVM = cm_svm[0,0]/(cm_svm[0,0]+cm_svm[1,0])\n",
    "print('Sensitivity for Support Vector Machine: ', sensitivitySVM )\n",
    "\n",
    "specificitySVM = cm_svm[1,1]/(cm_svm[1,1]+cm_svm[0,1])\n",
    "print('Specificity for Support Vector Machine: ', specificitySVM,\"\\n\")"
   ]
  },
  {
   "cell_type": "code",
   "execution_count": null,
   "metadata": {},
   "outputs": [],
   "source": []
  }
 ],
 "metadata": {
  "kernelspec": {
   "display_name": "Python 3",
   "language": "python",
   "name": "python3"
  },
  "language_info": {
   "codemirror_mode": {
    "name": "ipython",
    "version": 3
   },
   "file_extension": ".py",
   "mimetype": "text/x-python",
   "name": "python",
   "nbconvert_exporter": "python",
   "pygments_lexer": "ipython3",
   "version": "3.8.3"
  }
 },
 "nbformat": 4,
 "nbformat_minor": 4
}
