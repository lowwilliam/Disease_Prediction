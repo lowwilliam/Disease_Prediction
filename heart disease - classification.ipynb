{
 "cells": [
  {
   "cell_type": "code",
   "execution_count": 337,
   "metadata": {},
   "outputs": [],
   "source": [
    "import numpy as np\n",
    "import pandas as pd\n",
    "import seaborn as sb\n",
    "import matplotlib.pyplot as plt\n",
    "from sklearn.model_selection import train_test_split"
   ]
  },
  {
   "cell_type": "code",
   "execution_count": 338,
   "metadata": {},
   "outputs": [
    {
     "data": {
      "text/html": [
       "<div>\n",
       "<style scoped>\n",
       "    .dataframe tbody tr th:only-of-type {\n",
       "        vertical-align: middle;\n",
       "    }\n",
       "\n",
       "    .dataframe tbody tr th {\n",
       "        vertical-align: top;\n",
       "    }\n",
       "\n",
       "    .dataframe thead th {\n",
       "        text-align: right;\n",
       "    }\n",
       "</style>\n",
       "<table border=\"1\" class=\"dataframe\">\n",
       "  <thead>\n",
       "    <tr style=\"text-align: right;\">\n",
       "      <th></th>\n",
       "      <th>age</th>\n",
       "      <th>sex</th>\n",
       "      <th>cp</th>\n",
       "      <th>trestbps</th>\n",
       "      <th>chol</th>\n",
       "      <th>fbs</th>\n",
       "      <th>restecg</th>\n",
       "      <th>thalach</th>\n",
       "      <th>exang</th>\n",
       "      <th>oldpeak</th>\n",
       "      <th>slope</th>\n",
       "      <th>ca</th>\n",
       "      <th>thal</th>\n",
       "      <th>target</th>\n",
       "    </tr>\n",
       "  </thead>\n",
       "  <tbody>\n",
       "    <tr>\n",
       "      <th>0</th>\n",
       "      <td>63</td>\n",
       "      <td>1</td>\n",
       "      <td>3</td>\n",
       "      <td>145</td>\n",
       "      <td>233</td>\n",
       "      <td>1</td>\n",
       "      <td>0</td>\n",
       "      <td>150</td>\n",
       "      <td>0</td>\n",
       "      <td>2.3</td>\n",
       "      <td>0</td>\n",
       "      <td>0</td>\n",
       "      <td>1</td>\n",
       "      <td>1</td>\n",
       "    </tr>\n",
       "    <tr>\n",
       "      <th>1</th>\n",
       "      <td>37</td>\n",
       "      <td>1</td>\n",
       "      <td>2</td>\n",
       "      <td>130</td>\n",
       "      <td>250</td>\n",
       "      <td>0</td>\n",
       "      <td>1</td>\n",
       "      <td>187</td>\n",
       "      <td>0</td>\n",
       "      <td>3.5</td>\n",
       "      <td>0</td>\n",
       "      <td>0</td>\n",
       "      <td>2</td>\n",
       "      <td>1</td>\n",
       "    </tr>\n",
       "    <tr>\n",
       "      <th>2</th>\n",
       "      <td>41</td>\n",
       "      <td>0</td>\n",
       "      <td>1</td>\n",
       "      <td>130</td>\n",
       "      <td>204</td>\n",
       "      <td>0</td>\n",
       "      <td>0</td>\n",
       "      <td>172</td>\n",
       "      <td>0</td>\n",
       "      <td>1.4</td>\n",
       "      <td>2</td>\n",
       "      <td>0</td>\n",
       "      <td>2</td>\n",
       "      <td>1</td>\n",
       "    </tr>\n",
       "    <tr>\n",
       "      <th>3</th>\n",
       "      <td>56</td>\n",
       "      <td>1</td>\n",
       "      <td>1</td>\n",
       "      <td>120</td>\n",
       "      <td>236</td>\n",
       "      <td>0</td>\n",
       "      <td>1</td>\n",
       "      <td>178</td>\n",
       "      <td>0</td>\n",
       "      <td>0.8</td>\n",
       "      <td>2</td>\n",
       "      <td>0</td>\n",
       "      <td>2</td>\n",
       "      <td>1</td>\n",
       "    </tr>\n",
       "    <tr>\n",
       "      <th>4</th>\n",
       "      <td>57</td>\n",
       "      <td>0</td>\n",
       "      <td>0</td>\n",
       "      <td>120</td>\n",
       "      <td>354</td>\n",
       "      <td>0</td>\n",
       "      <td>1</td>\n",
       "      <td>163</td>\n",
       "      <td>1</td>\n",
       "      <td>0.6</td>\n",
       "      <td>2</td>\n",
       "      <td>0</td>\n",
       "      <td>2</td>\n",
       "      <td>1</td>\n",
       "    </tr>\n",
       "  </tbody>\n",
       "</table>\n",
       "</div>"
      ],
      "text/plain": [
       "   age  sex  cp  trestbps  chol  fbs  restecg  thalach  exang  oldpeak  slope  \\\n",
       "0   63    1   3       145   233    1        0      150      0      2.3      0   \n",
       "1   37    1   2       130   250    0        1      187      0      3.5      0   \n",
       "2   41    0   1       130   204    0        0      172      0      1.4      2   \n",
       "3   56    1   1       120   236    0        1      178      0      0.8      2   \n",
       "4   57    0   0       120   354    0        1      163      1      0.6      2   \n",
       "\n",
       "   ca  thal  target  \n",
       "0   0     1       1  \n",
       "1   0     2       1  \n",
       "2   0     2       1  \n",
       "3   0     2       1  \n",
       "4   0     2       1  "
      ]
     },
     "execution_count": 338,
     "metadata": {},
     "output_type": "execute_result"
    }
   ],
   "source": [
    "data = pd.read_csv('heart.csv')\n",
    "df = pd.read_csv('heart.csv')\n",
    "data.head()"
   ]
  },
  {
   "cell_type": "markdown",
   "metadata": {},
   "source": [
    "# Data contains\n",
    "\n",
    "##### age - age in years\n",
    "##### sex - (1 = male; 0 = female)\n",
    "##### cp - chest pain type - (1 = typical angina, 2 = atypical angina, 3 = non-anginal pain, 4=asymptomatic)\n",
    "##### trestbps - resting blood pressure (in mm Hg on admission to the hospital)\n",
    "##### chol - serum cholestoral in mg/dl\n",
    "##### fbs - (fasting blood sugar > 120 mg/dl) (1 = true; 0 = false)\n",
    "##### restecg - resting electrocardiographic results - (0 = normal, 1 = ST-T wave abnormality, 2 = left ventricular hypertrophy)\n",
    "##### thalach - maximum heart rate achieved\n",
    "##### exang - exercise induced angina (1 = yes; 0 = no)\n",
    "##### oldpeak - ST depression induced by exercise relative to rest\n",
    "##### slope - the slope of the peak exercise ST segment - (1 = upsloping, 2 = flat, 3 = downsloping)\n",
    "##### ca - number of major vessels (0-3) colored by flourosopy\n",
    "##### thal - 1 = normal; 2 = fixed defect; 3 = reversable defect\n",
    "##### target - have disease or not (1=yes, 0=no)"
   ]
  },
  {
   "cell_type": "code",
   "execution_count": 339,
   "metadata": {},
   "outputs": [
    {
     "name": "stdout",
     "output_type": "stream",
     "text": [
      "<class 'pandas.core.frame.DataFrame'>\n",
      "RangeIndex: 303 entries, 0 to 302\n",
      "Data columns (total 14 columns):\n",
      " #   Column    Non-Null Count  Dtype  \n",
      "---  ------    --------------  -----  \n",
      " 0   age       303 non-null    int64  \n",
      " 1   sex       303 non-null    int64  \n",
      " 2   cp        303 non-null    int64  \n",
      " 3   trestbps  303 non-null    int64  \n",
      " 4   chol      303 non-null    int64  \n",
      " 5   fbs       303 non-null    int64  \n",
      " 6   restecg   303 non-null    int64  \n",
      " 7   thalach   303 non-null    int64  \n",
      " 8   exang     303 non-null    int64  \n",
      " 9   oldpeak   303 non-null    float64\n",
      " 10  slope     303 non-null    int64  \n",
      " 11  ca        303 non-null    int64  \n",
      " 12  thal      303 non-null    int64  \n",
      " 13  target    303 non-null    int64  \n",
      "dtypes: float64(1), int64(13)\n",
      "memory usage: 33.3 KB\n"
     ]
    }
   ],
   "source": [
    "data.info()"
   ]
  },
  {
   "cell_type": "code",
   "execution_count": 340,
   "metadata": {},
   "outputs": [],
   "source": [
    "data['sex'] = data['sex'].astype('object')\n",
    "data['cp'] = data['cp'].astype('object')\n",
    "data['fbs'] = data['fbs'].astype('object')\n",
    "data['restecg'] = data['restecg'].astype('object')\n",
    "data['exang'] = data['exang'].astype('object')\n",
    "data['slope'] = data['slope'].astype('object')\n",
    "data['ca'] = data['ca'].astype('object')\n",
    "data['thal'] = data['thal'].astype('object')\n",
    "data['target'] = data['target'].astype('object')\n",
    "\n",
    "sex1 = []\n",
    "target1 = []\n",
    "for sex_value in data['sex']:\n",
    "    if sex_value == 0:\n",
    "        sex1.append('F') \n",
    "    else:\n",
    "        sex1.append('M')\n",
    "for target_value in data['target']:\n",
    "    if target_value == 0:\n",
    "        target1.append('N')\n",
    "    else:\n",
    "        target1.append('Y')\n",
    "data['sex'] = sex1\n",
    "data['target'] = target1"
   ]
  },
  {
   "cell_type": "code",
   "execution_count": 341,
   "metadata": {},
   "outputs": [
    {
     "data": {
      "text/html": [
       "<div>\n",
       "<style scoped>\n",
       "    .dataframe tbody tr th:only-of-type {\n",
       "        vertical-align: middle;\n",
       "    }\n",
       "\n",
       "    .dataframe tbody tr th {\n",
       "        vertical-align: top;\n",
       "    }\n",
       "\n",
       "    .dataframe thead th {\n",
       "        text-align: right;\n",
       "    }\n",
       "</style>\n",
       "<table border=\"1\" class=\"dataframe\">\n",
       "  <thead>\n",
       "    <tr style=\"text-align: right;\">\n",
       "      <th></th>\n",
       "      <th>age</th>\n",
       "      <th>sex</th>\n",
       "      <th>cp</th>\n",
       "      <th>trestbps</th>\n",
       "      <th>chol</th>\n",
       "      <th>fbs</th>\n",
       "      <th>restecg</th>\n",
       "      <th>thalach</th>\n",
       "      <th>exang</th>\n",
       "      <th>oldpeak</th>\n",
       "      <th>slope</th>\n",
       "      <th>ca</th>\n",
       "      <th>thal</th>\n",
       "      <th>target</th>\n",
       "    </tr>\n",
       "  </thead>\n",
       "  <tbody>\n",
       "    <tr>\n",
       "      <th>54</th>\n",
       "      <td>63</td>\n",
       "      <td>F</td>\n",
       "      <td>2</td>\n",
       "      <td>135</td>\n",
       "      <td>252</td>\n",
       "      <td>0</td>\n",
       "      <td>0</td>\n",
       "      <td>172</td>\n",
       "      <td>0</td>\n",
       "      <td>0.0</td>\n",
       "      <td>2</td>\n",
       "      <td>0</td>\n",
       "      <td>2</td>\n",
       "      <td>Y</td>\n",
       "    </tr>\n",
       "    <tr>\n",
       "      <th>300</th>\n",
       "      <td>68</td>\n",
       "      <td>M</td>\n",
       "      <td>0</td>\n",
       "      <td>144</td>\n",
       "      <td>193</td>\n",
       "      <td>1</td>\n",
       "      <td>1</td>\n",
       "      <td>141</td>\n",
       "      <td>0</td>\n",
       "      <td>3.4</td>\n",
       "      <td>1</td>\n",
       "      <td>2</td>\n",
       "      <td>3</td>\n",
       "      <td>N</td>\n",
       "    </tr>\n",
       "    <tr>\n",
       "      <th>291</th>\n",
       "      <td>58</td>\n",
       "      <td>M</td>\n",
       "      <td>0</td>\n",
       "      <td>114</td>\n",
       "      <td>318</td>\n",
       "      <td>0</td>\n",
       "      <td>2</td>\n",
       "      <td>140</td>\n",
       "      <td>0</td>\n",
       "      <td>4.4</td>\n",
       "      <td>0</td>\n",
       "      <td>3</td>\n",
       "      <td>1</td>\n",
       "      <td>N</td>\n",
       "    </tr>\n",
       "    <tr>\n",
       "      <th>181</th>\n",
       "      <td>65</td>\n",
       "      <td>F</td>\n",
       "      <td>0</td>\n",
       "      <td>150</td>\n",
       "      <td>225</td>\n",
       "      <td>0</td>\n",
       "      <td>0</td>\n",
       "      <td>114</td>\n",
       "      <td>0</td>\n",
       "      <td>1.0</td>\n",
       "      <td>1</td>\n",
       "      <td>3</td>\n",
       "      <td>3</td>\n",
       "      <td>N</td>\n",
       "    </tr>\n",
       "    <tr>\n",
       "      <th>177</th>\n",
       "      <td>64</td>\n",
       "      <td>M</td>\n",
       "      <td>2</td>\n",
       "      <td>140</td>\n",
       "      <td>335</td>\n",
       "      <td>0</td>\n",
       "      <td>1</td>\n",
       "      <td>158</td>\n",
       "      <td>0</td>\n",
       "      <td>0.0</td>\n",
       "      <td>2</td>\n",
       "      <td>0</td>\n",
       "      <td>2</td>\n",
       "      <td>N</td>\n",
       "    </tr>\n",
       "  </tbody>\n",
       "</table>\n",
       "</div>"
      ],
      "text/plain": [
       "     age sex cp  trestbps  chol fbs restecg  thalach exang  oldpeak slope ca  \\\n",
       "54    63   F  2       135   252   0       0      172     0      0.0     2  0   \n",
       "300   68   M  0       144   193   1       1      141     0      3.4     1  2   \n",
       "291   58   M  0       114   318   0       2      140     0      4.4     0  3   \n",
       "181   65   F  0       150   225   0       0      114     0      1.0     1  3   \n",
       "177   64   M  2       140   335   0       1      158     0      0.0     2  0   \n",
       "\n",
       "    thal target  \n",
       "54     2      Y  \n",
       "300    3      N  \n",
       "291    1      N  \n",
       "181    3      N  \n",
       "177    2      N  "
      ]
     },
     "execution_count": 341,
     "metadata": {},
     "output_type": "execute_result"
    }
   ],
   "source": [
    "data.sample(5)"
   ]
  },
  {
   "cell_type": "code",
   "execution_count": 342,
   "metadata": {},
   "outputs": [
    {
     "data": {
      "text/plain": [
       "age           int64\n",
       "sex          object\n",
       "cp           object\n",
       "trestbps      int64\n",
       "chol          int64\n",
       "fbs          object\n",
       "restecg      object\n",
       "thalach       int64\n",
       "exang        object\n",
       "oldpeak     float64\n",
       "slope        object\n",
       "ca           object\n",
       "thal         object\n",
       "target       object\n",
       "dtype: object"
      ]
     },
     "execution_count": 342,
     "metadata": {},
     "output_type": "execute_result"
    }
   ],
   "source": [
    "data.dtypes"
   ]
  },
  {
   "cell_type": "code",
   "execution_count": 343,
   "metadata": {},
   "outputs": [
    {
     "data": {
      "text/html": [
       "<div>\n",
       "<style scoped>\n",
       "    .dataframe tbody tr th:only-of-type {\n",
       "        vertical-align: middle;\n",
       "    }\n",
       "\n",
       "    .dataframe tbody tr th {\n",
       "        vertical-align: top;\n",
       "    }\n",
       "\n",
       "    .dataframe thead th {\n",
       "        text-align: right;\n",
       "    }\n",
       "</style>\n",
       "<table border=\"1\" class=\"dataframe\">\n",
       "  <thead>\n",
       "    <tr style=\"text-align: right;\">\n",
       "      <th></th>\n",
       "      <th>age</th>\n",
       "      <th>trestbps</th>\n",
       "      <th>chol</th>\n",
       "      <th>thalach</th>\n",
       "      <th>oldpeak</th>\n",
       "    </tr>\n",
       "  </thead>\n",
       "  <tbody>\n",
       "    <tr>\n",
       "      <th>count</th>\n",
       "      <td>303.000000</td>\n",
       "      <td>303.000000</td>\n",
       "      <td>303.000000</td>\n",
       "      <td>303.000000</td>\n",
       "      <td>303.000000</td>\n",
       "    </tr>\n",
       "    <tr>\n",
       "      <th>mean</th>\n",
       "      <td>54.366337</td>\n",
       "      <td>131.623762</td>\n",
       "      <td>246.264026</td>\n",
       "      <td>149.646865</td>\n",
       "      <td>1.039604</td>\n",
       "    </tr>\n",
       "    <tr>\n",
       "      <th>std</th>\n",
       "      <td>9.082101</td>\n",
       "      <td>17.538143</td>\n",
       "      <td>51.830751</td>\n",
       "      <td>22.905161</td>\n",
       "      <td>1.161075</td>\n",
       "    </tr>\n",
       "    <tr>\n",
       "      <th>min</th>\n",
       "      <td>29.000000</td>\n",
       "      <td>94.000000</td>\n",
       "      <td>126.000000</td>\n",
       "      <td>71.000000</td>\n",
       "      <td>0.000000</td>\n",
       "    </tr>\n",
       "    <tr>\n",
       "      <th>25%</th>\n",
       "      <td>47.500000</td>\n",
       "      <td>120.000000</td>\n",
       "      <td>211.000000</td>\n",
       "      <td>133.500000</td>\n",
       "      <td>0.000000</td>\n",
       "    </tr>\n",
       "    <tr>\n",
       "      <th>50%</th>\n",
       "      <td>55.000000</td>\n",
       "      <td>130.000000</td>\n",
       "      <td>240.000000</td>\n",
       "      <td>153.000000</td>\n",
       "      <td>0.800000</td>\n",
       "    </tr>\n",
       "    <tr>\n",
       "      <th>75%</th>\n",
       "      <td>61.000000</td>\n",
       "      <td>140.000000</td>\n",
       "      <td>274.500000</td>\n",
       "      <td>166.000000</td>\n",
       "      <td>1.600000</td>\n",
       "    </tr>\n",
       "    <tr>\n",
       "      <th>max</th>\n",
       "      <td>77.000000</td>\n",
       "      <td>200.000000</td>\n",
       "      <td>564.000000</td>\n",
       "      <td>202.000000</td>\n",
       "      <td>6.200000</td>\n",
       "    </tr>\n",
       "  </tbody>\n",
       "</table>\n",
       "</div>"
      ],
      "text/plain": [
       "              age    trestbps        chol     thalach     oldpeak\n",
       "count  303.000000  303.000000  303.000000  303.000000  303.000000\n",
       "mean    54.366337  131.623762  246.264026  149.646865    1.039604\n",
       "std      9.082101   17.538143   51.830751   22.905161    1.161075\n",
       "min     29.000000   94.000000  126.000000   71.000000    0.000000\n",
       "25%     47.500000  120.000000  211.000000  133.500000    0.000000\n",
       "50%     55.000000  130.000000  240.000000  153.000000    0.800000\n",
       "75%     61.000000  140.000000  274.500000  166.000000    1.600000\n",
       "max     77.000000  200.000000  564.000000  202.000000    6.200000"
      ]
     },
     "execution_count": 343,
     "metadata": {},
     "output_type": "execute_result"
    }
   ],
   "source": [
    "data.describe()"
   ]
  },
  {
   "cell_type": "markdown",
   "metadata": {},
   "source": [
    "# data visualization"
   ]
  },
  {
   "cell_type": "code",
   "execution_count": 344,
   "metadata": {},
   "outputs": [
    {
     "data": {
      "text/plain": [
       "<matplotlib.axes._subplots.AxesSubplot at 0x222a46899d0>"
      ]
     },
     "execution_count": 344,
     "metadata": {},
     "output_type": "execute_result"
    },
    {
     "data": {
      "image/png": "[encoded data removed]",
      "text/plain": [
       "<Figure size 864x432 with 2 Axes>"
      ]
     },
     "metadata": {},
     "output_type": "display_data"
    }
   ],
   "source": [
    "f,axes = plt.subplots(1,2, figsize=(12,6))\n",
    "sb.countplot(data.sex, ax = axes[0])\n",
    "sb.countplot(data.target, ax = axes[1])"
   ]
  },
  {
   "cell_type": "markdown",
   "metadata": {},
   "source": [
    "##### There are nearly 200 males and 100 females. Nearly half have heart disease and half do not."
   ]
  },
  {
   "cell_type": "code",
   "execution_count": 345,
   "metadata": {},
   "outputs": [
    {
     "data": {
      "image/png": "[encoded data removed]",
      "text/plain": [
       "<Figure size 432x432 with 1 Axes>"
      ]
     },
     "metadata": {},
     "output_type": "display_data"
    }
   ],
   "source": [
    "pd.crosstab(data.sex,data.target).plot(kind=\"bar\",figsize=(6,6))\n",
    "plt.title('Heart Disease Frequency for Sex')\n",
    "plt.xlabel('Sex')\n",
    "plt.xticks(rotation=0)\n",
    "plt.legend([\"N\", \"Y\"])\n",
    "plt.ylabel('Frequency')\n",
    "plt.show()"
   ]
  },
  {
   "cell_type": "markdown",
   "metadata": {},
   "source": [
    "##### For females, the number of people with heart disease is much larger than that of people without. For males, it's roughly the same. We may briefly conclude that females have higher chance of getting heart disease."
   ]
  },
  {
   "cell_type": "code",
   "execution_count": 346,
   "metadata": {},
   "outputs": [
    {
     "data": {
      "text/plain": [
       "<matplotlib.legend.Legend at 0x222a552aa90>"
      ]
     },
     "execution_count": 346,
     "metadata": {},
     "output_type": "execute_result"
    },
    {
     "data": {
      "image/png": "[encoded data removed]",
      "text/plain": [
       "<Figure size 864x432 with 2 Axes>"
      ]
     },
     "metadata": {},
     "output_type": "display_data"
    }
   ],
   "source": [
    "f,axes = plt.subplots(1,2, figsize=(12,6))\n",
    "ax1=sb.distplot(data['age'],ax=axes[0])\n",
    "ax1.title.set_text('Overall age distribution')\n",
    "ax2=sb.distplot(data[data['target'] == 'N']['age'], ax = axes[1])\n",
    "sb.distplot(data[data['target'] == 'Y']['age'], ax = axes[1])\n",
    "plt.title('Respective age distribution ')\n",
    "plt.legend([\"N\", \"Y\"])"
   ]
  },
  {
   "cell_type": "markdown",
   "metadata": {},
   "source": [
    "##### There are more people with heart disease aging from 45 to 60."
   ]
  },
  {
   "cell_type": "markdown",
   "metadata": {},
   "source": [
    "### Heart disease frequency for chest pain type"
   ]
  },
  {
   "cell_type": "code",
   "execution_count": 347,
   "metadata": {},
   "outputs": [
    {
     "data": {
      "image/png": "[encoded data removed]",
      "text/plain": [
       "<Figure size 864x432 with 1 Axes>"
      ]
     },
     "metadata": {},
     "output_type": "display_data"
    }
   ],
   "source": [
    "pd.crosstab(data.cp,data.target).plot(kind=\"bar\",figsize=(12,6))\n",
    "plt.title('Heart Disease Frequency for chest pain type')\n",
    "plt.xlabel('chest pain type')\n",
    "plt.xticks(rotation=0)\n",
    "plt.legend([\"N\", \"Y\"])\n",
    "plt.ylabel('Frequency')\n",
    "plt.show()"
   ]
  },
  {
   "cell_type": "markdown",
   "metadata": {},
   "source": [
    "##### People with cp 0 are less likely to have heart disease, but with cp 1, 2 and 3 are more likely."
   ]
  },
  {
   "cell_type": "markdown",
   "metadata": {},
   "source": [
    "### Heart disease frequency for other categorical attributes"
   ]
  },
  {
   "cell_type": "code",
   "execution_count": 348,
   "metadata": {},
   "outputs": [
    {
     "data": {
      "text/plain": [
       "<matplotlib.axes._subplots.AxesSubplot at 0x222a551a370>"
      ]
     },
     "execution_count": 348,
     "metadata": {},
     "output_type": "execute_result"
    },
    {
     "data": {
      "image/png": "[encoded data removed]",
      "text/plain": [
       "<Figure size 1296x864 with 6 Axes>"
      ]
     },
     "metadata": {},
     "output_type": "display_data"
    }
   ],
   "source": [
    "f,axes = plt.subplots(2,3, figsize=(18,12))\n",
    "pd.crosstab(data.fbs,data.target).plot(kind=\"bar\",ax=axes[0,0])\n",
    "pd.crosstab(data.restecg,data.target).plot(kind=\"bar\",ax=axes[0,1])\n",
    "pd.crosstab(data.exang,data.target).plot(kind=\"bar\",ax=axes[0,2])\n",
    "pd.crosstab(data.slope,data.target).plot(kind=\"bar\",ax=axes[1,0])\n",
    "pd.crosstab(data.ca,data.target).plot(kind=\"bar\",ax=axes[1,1])\n",
    "pd.crosstab(data.thal,data.target).plot(kind=\"bar\",ax=axes[1,2])"
   ]
  },
  {
   "cell_type": "markdown",
   "metadata": {},
   "source": [
    "##### We can observe some significant differences between the number of people with and without heart disease with respect to restecg 1, exang 0, slope 2, ca 0 and thal 2. These kinds of attributes have a high possibility of indicating a presence of heart disease."
   ]
  },
  {
   "cell_type": "markdown",
   "metadata": {},
   "source": [
    "### Heart disease frequency for numerical attributes"
   ]
  },
  {
   "cell_type": "code",
   "execution_count": 349,
   "metadata": {},
   "outputs": [
    {
     "data": {
      "image/png": "[encoded data removed]",
      "text/plain": [
       "<Figure size 864x864 with 4 Axes>"
      ]
     },
     "metadata": {},
     "output_type": "display_data"
    }
   ],
   "source": [
    "f,axes = plt.subplots(2,2, figsize=(12,12))\n",
    "sb.distplot(data[data[\"target\"]=='Y']['trestbps'],ax=axes[0,0])\n",
    "sb.distplot(data[data[\"target\"]=='N']['trestbps'],ax=axes[0,0])\n",
    "sb.distplot(data[data[\"target\"]=='Y']['thalach'],ax=axes[0,1])\n",
    "sb.distplot(data[data[\"target\"]=='N']['thalach'],ax=axes[0,1])\n",
    "sb.distplot(data[data[\"target\"]=='Y']['chol'],ax=axes[1,0])\n",
    "sb.distplot(data[data[\"target\"]=='N']['chol'],ax=axes[1,0])\n",
    "sb.distplot(data[data[\"target\"]=='Y']['oldpeak'],ax=axes[1,1])\n",
    "sb.distplot(data[data[\"target\"]=='N']['oldpeak'],ax=axes[1,1])\n",
    "\n",
    "plt.legend([\"Disease\", \"No Disease\"])\n",
    "plt.show()"
   ]
  },
  {
   "cell_type": "markdown",
   "metadata": {},
   "source": [
    "##### People with heart disease tend to have slightly lower trestbps level, significantly higher thalatch level, slightly lower chol level, and lower oldpeak level than those without heart disease."
   ]
  },
  {
   "cell_type": "code",
   "execution_count": 350,
   "metadata": {},
   "outputs": [],
   "source": [
    "accuracies={}"
   ]
  },
  {
   "cell_type": "markdown",
   "metadata": {},
   "source": [
    "#### This line is to put the accuracies of each machine learning model together for comparison later"
   ]
  },
  {
   "cell_type": "markdown",
   "metadata": {},
   "source": [
    "# Decision Tree"
   ]
  },
  {
   "cell_type": "code",
   "execution_count": 351,
   "metadata": {},
   "outputs": [],
   "source": [
    "# Import Decision Tree Classifier model from Scikit-Learn\n",
    "from sklearn.tree import DecisionTreeClassifier\n",
    "from sklearn.tree import export_graphviz #plot tree\n",
    "import graphviz"
   ]
  },
  {
   "cell_type": "code",
   "execution_count": 352,
   "metadata": {},
   "outputs": [],
   "source": [
    "#split the data\n",
    "X_train, X_test, Y_train, Y_test = train_test_split(df.drop('target', 1), df['target'], test_size = .2)"
   ]
  },
  {
   "cell_type": "code",
   "execution_count": 353,
   "metadata": {},
   "outputs": [
    {
     "data": {
      "text/plain": [
       "DecisionTreeClassifier(max_depth=5)"
      ]
     },
     "execution_count": 353,
     "metadata": {},
     "output_type": "execute_result"
    }
   ],
   "source": [
    "# Create a Decision Tree Classifier object\n",
    "dectree = DecisionTreeClassifier(max_depth = 5)\n",
    "\n",
    "# Train the Decision Tree Classifier model\n",
    "dectree.fit(X_train, Y_train)"
   ]
  },
  {
   "cell_type": "code",
   "execution_count": 354,
   "metadata": {},
   "outputs": [
    {
     "data": {
      "image/svg+xml": [
       "<?xml version=\"1.0\" encoding=\"UTF-8\" standalone=\"no\"?>\r\n",
       "<!DOCTYPE svg PUBLIC \"-//W3C//DTD SVG 1.1//EN\"\r\n",
       " \"http://www.w3.org/Graphics/SVG/1.1/DTD/svg11.dtd\">\r\n",
       "<!-- Generated by graphviz version 2.38.0 (20140413.2041)\r\n",
       " -->\r\n",
       "<!-- Title: Tree Pages: 1 -->\r\n",
       "<svg width=\"1818pt\" height=\"671pt\"\r\n",
       " viewBox=\"0.00 0.00 1818.00 671.00\" xmlns=\"http://www.w3.org/2000/svg\" xmlns:xlink=\"http://www.w3.org/1999/xlink\">\r\n",
       "<g id=\"graph0\" class=\"graph\" transform=\"scale(1 1) rotate(0) translate(4 667)\">\r\n",
       "<title>Tree</title>\r\n",
       "<polygon fill=\"white\" stroke=\"none\" points=\"-4,4 -4,-667 1814,-667 1814,4 -4,4\"/>\r\n",
       "<!-- 0 -->\r\n",
       "<g id=\"node1\" class=\"node\"><title>0</title>\r\n",
       "<path fill=\"#e4f1fb\" stroke=\"black\" d=\"M957.5,-663C957.5,-663 844.5,-663 844.5,-663 838.5,-663 832.5,-657 832.5,-651 832.5,-651 832.5,-592 832.5,-592 832.5,-586 838.5,-580 844.5,-580 844.5,-580 957.5,-580 957.5,-580 963.5,-580 969.5,-586 969.5,-592 969.5,-592 969.5,-651 969.5,-651 969.5,-657 963.5,-663 957.5,-663\"/>\r\n",
       "<text text-anchor=\"middle\" x=\"901\" y=\"-647.8\" font-family=\"Helvetica,sans-Serif\" font-size=\"14.00\">thal &lt;= 2.5</text>\r\n",
       "<text text-anchor=\"middle\" x=\"901\" y=\"-632.8\" font-family=\"Helvetica,sans-Serif\" font-size=\"14.00\">gini = 0.5</text>\r\n",
       "<text text-anchor=\"middle\" x=\"901\" y=\"-617.8\" font-family=\"Helvetica,sans-Serif\" font-size=\"14.00\">samples = 100.0%</text>\r\n",
       "<text text-anchor=\"middle\" x=\"901\" y=\"-602.8\" font-family=\"Helvetica,sans-Serif\" font-size=\"14.00\">value = [0.46, 0.54]</text>\r\n",
       "<text text-anchor=\"middle\" x=\"901\" y=\"-587.8\" font-family=\"Helvetica,sans-Serif\" font-size=\"14.00\">class = disease</text>\r\n",
       "</g>\r\n",
       "<!-- 1 -->\r\n",
       "<g id=\"node2\" class=\"node\"><title>1</title>\r\n",
       "<path fill=\"#81c1ee\" stroke=\"black\" d=\"M689.5,-544C689.5,-544 624.5,-544 624.5,-544 618.5,-544 612.5,-538 612.5,-532 612.5,-532 612.5,-473 612.5,-473 612.5,-467 618.5,-461 624.5,-461 624.5,-461 689.5,-461 689.5,-461 695.5,-461 701.5,-467 701.5,-473 701.5,-473 701.5,-532 701.5,-532 701.5,-538 695.5,-544 689.5,-544\"/>\r\n",
       "<text text-anchor=\"middle\" x=\"657\" y=\"-528.8\" font-family=\"Helvetica,sans-Serif\" font-size=\"14.00\">ca &lt;= 0.5</text>\r\n",
       "<text text-anchor=\"middle\" x=\"657\" y=\"-513.8\" font-family=\"Helvetica,sans-Serif\" font-size=\"14.00\">0.39</text>\r\n",
       "<text text-anchor=\"middle\" x=\"657\" y=\"-498.8\" font-family=\"Helvetica,sans-Serif\" font-size=\"14.00\">62.0%</text>\r\n",
       "<text text-anchor=\"middle\" x=\"657\" y=\"-483.8\" font-family=\"Helvetica,sans-Serif\" font-size=\"14.00\">[0.27, 0.73]</text>\r\n",
       "<text text-anchor=\"middle\" x=\"657\" y=\"-468.8\" font-family=\"Helvetica,sans-Serif\" font-size=\"14.00\">disease</text>\r\n",
       "</g>\r\n",
       "<!-- 0&#45;&gt;1 -->\r\n",
       "<g id=\"edge1\" class=\"edge\"><title>0&#45;&gt;1</title>\r\n",
       "<path fill=\"none\" stroke=\"black\" d=\"M832.383,-587.598C793.953,-569.17 746.721,-546.522 710.958,-529.373\"/>\r\n",
       "<polygon fill=\"black\" stroke=\"black\" points=\"712.189,-526.082 701.659,-524.914 709.163,-532.394 712.189,-526.082\"/>\r\n",
       "<text text-anchor=\"middle\" x=\"709.956\" y=\"-544.798\" font-family=\"Helvetica,sans-Serif\" font-size=\"14.00\">True</text>\r\n",
       "</g>\r\n",
       "<!-- 26 -->\r\n",
       "<g id=\"node27\" class=\"node\"><title>26</title>\r\n",
       "<path fill=\"#eca470\" stroke=\"black\" d=\"M1178.5,-544C1178.5,-544 1113.5,-544 1113.5,-544 1107.5,-544 1101.5,-538 1101.5,-532 1101.5,-532 1101.5,-473 1101.5,-473 1101.5,-467 1107.5,-461 1113.5,-461 1113.5,-461 1178.5,-461 1178.5,-461 1184.5,-461 1190.5,-467 1190.5,-473 1190.5,-473 1190.5,-532 1190.5,-532 1190.5,-538 1184.5,-544 1178.5,-544\"/>\r\n",
       "<text text-anchor=\"middle\" x=\"1146\" y=\"-528.8\" font-family=\"Helvetica,sans-Serif\" font-size=\"14.00\">cp &lt;= 0.5</text>\r\n",
       "<text text-anchor=\"middle\" x=\"1146\" y=\"-513.8\" font-family=\"Helvetica,sans-Serif\" font-size=\"14.00\">0.34</text>\r\n",
       "<text text-anchor=\"middle\" x=\"1146\" y=\"-498.8\" font-family=\"Helvetica,sans-Serif\" font-size=\"14.00\">38.0%</text>\r\n",
       "<text text-anchor=\"middle\" x=\"1146\" y=\"-483.8\" font-family=\"Helvetica,sans-Serif\" font-size=\"14.00\">[0.78, 0.22]</text>\r\n",
       "<text text-anchor=\"middle\" x=\"1146\" y=\"-468.8\" font-family=\"Helvetica,sans-Serif\" font-size=\"14.00\">no disease</text>\r\n",
       "</g>\r\n",
       "<!-- 0&#45;&gt;26 -->\r\n",
       "<g id=\"edge26\" class=\"edge\"><title>0&#45;&gt;26</title>\r\n",
       "<path fill=\"none\" stroke=\"black\" d=\"M969.572,-587.753C1008.3,-569.26 1056,-546.477 1092.04,-529.267\"/>\r\n",
       "<polygon fill=\"black\" stroke=\"black\" points=\"1093.89,-532.262 1101.41,-524.794 1090.88,-525.945 1093.89,-532.262\"/>\r\n",
       "<text text-anchor=\"middle\" x=\"1093.08\" y=\"-544.664\" font-family=\"Helvetica,sans-Serif\" font-size=\"14.00\">False</text>\r\n",
       "</g>\r\n",
       "<!-- 2 -->\r\n",
       "<g id=\"node3\" class=\"node\"><title>2</title>\r\n",
       "<path fill=\"#58ade9\" stroke=\"black\" d=\"M365.5,-425C365.5,-425 278.5,-425 278.5,-425 272.5,-425 266.5,-419 266.5,-413 266.5,-413 266.5,-354 266.5,-354 266.5,-348 272.5,-342 278.5,-342 278.5,-342 365.5,-342 365.5,-342 371.5,-342 377.5,-348 377.5,-354 377.5,-354 377.5,-413 377.5,-413 377.5,-419 371.5,-425 365.5,-425\"/>\r\n",
       "<text text-anchor=\"middle\" x=\"322\" y=\"-409.8\" font-family=\"Helvetica,sans-Serif\" font-size=\"14.00\">oldpeak &lt;= 2.7</text>\r\n",
       "<text text-anchor=\"middle\" x=\"322\" y=\"-394.8\" font-family=\"Helvetica,sans-Serif\" font-size=\"14.00\">0.24</text>\r\n",
       "<text text-anchor=\"middle\" x=\"322\" y=\"-379.8\" font-family=\"Helvetica,sans-Serif\" font-size=\"14.00\">42.1%</text>\r\n",
       "<text text-anchor=\"middle\" x=\"322\" y=\"-364.8\" font-family=\"Helvetica,sans-Serif\" font-size=\"14.00\">[0.14, 0.86]</text>\r\n",
       "<text text-anchor=\"middle\" x=\"322\" y=\"-349.8\" font-family=\"Helvetica,sans-Serif\" font-size=\"14.00\">disease</text>\r\n",
       "</g>\r\n",
       "<!-- 1&#45;&gt;2 -->\r\n",
       "<g id=\"edge2\" class=\"edge\"><title>1&#45;&gt;2</title>\r\n",
       "<path fill=\"none\" stroke=\"black\" d=\"M612.168,-485.842C554.391,-465.663 453.509,-430.43 387.233,-407.283\"/>\r\n",
       "<polygon fill=\"black\" stroke=\"black\" points=\"388.31,-403.952 377.715,-403.959 386.002,-410.56 388.31,-403.952\"/>\r\n",
       "</g>\r\n",
       "<!-- 13 -->\r\n",
       "<g id=\"node14\" class=\"node\"><title>13</title>\r\n",
       "<path fill=\"#fbece1\" stroke=\"black\" d=\"M689.5,-425C689.5,-425 624.5,-425 624.5,-425 618.5,-425 612.5,-419 612.5,-413 612.5,-413 612.5,-354 612.5,-354 612.5,-348 618.5,-342 624.5,-342 624.5,-342 689.5,-342 689.5,-342 695.5,-342 701.5,-348 701.5,-354 701.5,-354 701.5,-413 701.5,-413 701.5,-419 695.5,-425 689.5,-425\"/>\r\n",
       "<text text-anchor=\"middle\" x=\"657\" y=\"-409.8\" font-family=\"Helvetica,sans-Serif\" font-size=\"14.00\">cp &lt;= 0.5</text>\r\n",
       "<text text-anchor=\"middle\" x=\"657\" y=\"-394.8\" font-family=\"Helvetica,sans-Serif\" font-size=\"14.00\">0.5</text>\r\n",
       "<text text-anchor=\"middle\" x=\"657\" y=\"-379.8\" font-family=\"Helvetica,sans-Serif\" font-size=\"14.00\">19.8%</text>\r\n",
       "<text text-anchor=\"middle\" x=\"657\" y=\"-364.8\" font-family=\"Helvetica,sans-Serif\" font-size=\"14.00\">[0.54, 0.46]</text>\r\n",
       "<text text-anchor=\"middle\" x=\"657\" y=\"-349.8\" font-family=\"Helvetica,sans-Serif\" font-size=\"14.00\">no disease</text>\r\n",
       "</g>\r\n",
       "<!-- 1&#45;&gt;13 -->\r\n",
       "<g id=\"edge13\" class=\"edge\"><title>1&#45;&gt;13</title>\r\n",
       "<path fill=\"none\" stroke=\"black\" d=\"M657,-460.907C657,-452.649 657,-443.864 657,-435.302\"/>\r\n",
       "<polygon fill=\"black\" stroke=\"black\" points=\"660.5,-435.021 657,-425.021 653.5,-435.021 660.5,-435.021\"/>\r\n",
       "</g>\r\n",
       "<!-- 3 -->\r\n",
       "<g id=\"node4\" class=\"node\"><title>3</title>\r\n",
       "<path fill=\"#50a8e8\" stroke=\"black\" d=\"M180.5,-306C180.5,-306 121.5,-306 121.5,-306 115.5,-306 109.5,-300 109.5,-294 109.5,-294 109.5,-235 109.5,-235 109.5,-229 115.5,-223 121.5,-223 121.5,-223 180.5,-223 180.5,-223 186.5,-223 192.5,-229 192.5,-235 192.5,-235 192.5,-294 192.5,-294 192.5,-300 186.5,-306 180.5,-306\"/>\r\n",
       "<text text-anchor=\"middle\" x=\"151\" y=\"-290.8\" font-family=\"Helvetica,sans-Serif\" font-size=\"14.00\">thal &lt;= 0.5</text>\r\n",
       "<text text-anchor=\"middle\" x=\"151\" y=\"-275.8\" font-family=\"Helvetica,sans-Serif\" font-size=\"14.00\">0.19</text>\r\n",
       "<text text-anchor=\"middle\" x=\"151\" y=\"-260.8\" font-family=\"Helvetica,sans-Serif\" font-size=\"14.00\">39.7%</text>\r\n",
       "<text text-anchor=\"middle\" x=\"151\" y=\"-245.8\" font-family=\"Helvetica,sans-Serif\" font-size=\"14.00\">[0.1, 0.9]</text>\r\n",
       "<text text-anchor=\"middle\" x=\"151\" y=\"-230.8\" font-family=\"Helvetica,sans-Serif\" font-size=\"14.00\">disease</text>\r\n",
       "</g>\r\n",
       "<!-- 2&#45;&gt;3 -->\r\n",
       "<g id=\"edge3\" class=\"edge\"><title>2&#45;&gt;3</title>\r\n",
       "<path fill=\"none\" stroke=\"black\" d=\"M266.481,-344.513C245.396,-330.087 221.526,-313.754 200.982,-299.698\"/>\r\n",
       "<polygon fill=\"black\" stroke=\"black\" points=\"202.926,-296.787 192.696,-294.029 198.973,-302.565 202.926,-296.787\"/>\r\n",
       "</g>\r\n",
       "<!-- 8 -->\r\n",
       "<g id=\"node9\" class=\"node\"><title>8</title>\r\n",
       "<path fill=\"#f2c09c\" stroke=\"black\" d=\"M371,-306C371,-306 273,-306 273,-306 267,-306 261,-300 261,-294 261,-294 261,-235 261,-235 261,-229 267,-223 273,-223 273,-223 371,-223 371,-223 377,-223 383,-229 383,-235 383,-235 383,-294 383,-294 383,-300 377,-306 371,-306\"/>\r\n",
       "<text text-anchor=\"middle\" x=\"322\" y=\"-290.8\" font-family=\"Helvetica,sans-Serif\" font-size=\"14.00\">thalach &lt;= 147.5</text>\r\n",
       "<text text-anchor=\"middle\" x=\"322\" y=\"-275.8\" font-family=\"Helvetica,sans-Serif\" font-size=\"14.00\">0.44</text>\r\n",
       "<text text-anchor=\"middle\" x=\"322\" y=\"-260.8\" font-family=\"Helvetica,sans-Serif\" font-size=\"14.00\">2.5%</text>\r\n",
       "<text text-anchor=\"middle\" x=\"322\" y=\"-245.8\" font-family=\"Helvetica,sans-Serif\" font-size=\"14.00\">[0.67, 0.33]</text>\r\n",
       "<text text-anchor=\"middle\" x=\"322\" y=\"-230.8\" font-family=\"Helvetica,sans-Serif\" font-size=\"14.00\">no disease</text>\r\n",
       "</g>\r\n",
       "<!-- 2&#45;&gt;8 -->\r\n",
       "<g id=\"edge8\" class=\"edge\"><title>2&#45;&gt;8</title>\r\n",
       "<path fill=\"none\" stroke=\"black\" d=\"M322,-341.907C322,-333.649 322,-324.864 322,-316.302\"/>\r\n",
       "<polygon fill=\"black\" stroke=\"black\" points=\"325.5,-316.021 322,-306.021 318.5,-316.021 325.5,-316.021\"/>\r\n",
       "</g>\r\n",
       "<!-- 4 -->\r\n",
       "<g id=\"node5\" class=\"node\"><title>4</title>\r\n",
       "<path fill=\"#e58139\" stroke=\"black\" d=\"M74,-179.5C74,-179.5 12,-179.5 12,-179.5 6,-179.5 0,-173.5 0,-167.5 0,-167.5 0,-123.5 0,-123.5 0,-117.5 6,-111.5 12,-111.5 12,-111.5 74,-111.5 74,-111.5 80,-111.5 86,-117.5 86,-123.5 86,-123.5 86,-167.5 86,-167.5 86,-173.5 80,-179.5 74,-179.5\"/>\r\n",
       "<text text-anchor=\"middle\" x=\"43\" y=\"-164.3\" font-family=\"Helvetica,sans-Serif\" font-size=\"14.00\">0.0</text>\r\n",
       "<text text-anchor=\"middle\" x=\"43\" y=\"-149.3\" font-family=\"Helvetica,sans-Serif\" font-size=\"14.00\">0.4%</text>\r\n",
       "<text text-anchor=\"middle\" x=\"43\" y=\"-134.3\" font-family=\"Helvetica,sans-Serif\" font-size=\"14.00\">[1.0, 0.0]</text>\r\n",
       "<text text-anchor=\"middle\" x=\"43\" y=\"-119.3\" font-family=\"Helvetica,sans-Serif\" font-size=\"14.00\">no disease</text>\r\n",
       "</g>\r\n",
       "<!-- 3&#45;&gt;4 -->\r\n",
       "<g id=\"edge4\" class=\"edge\"><title>3&#45;&gt;4</title>\r\n",
       "<path fill=\"none\" stroke=\"black\" d=\"M113.53,-222.907C102.835,-211.321 91.1826,-198.698 80.4866,-187.111\"/>\r\n",
       "<polygon fill=\"black\" stroke=\"black\" points=\"82.9703,-184.641 73.6156,-179.667 77.8266,-189.389 82.9703,-184.641\"/>\r\n",
       "</g>\r\n",
       "<!-- 5 -->\r\n",
       "<g id=\"node6\" class=\"node\"><title>5</title>\r\n",
       "<path fill=\"#4ea7e8\" stroke=\"black\" d=\"M185.5,-187C185.5,-187 116.5,-187 116.5,-187 110.5,-187 104.5,-181 104.5,-175 104.5,-175 104.5,-116 104.5,-116 104.5,-110 110.5,-104 116.5,-104 116.5,-104 185.5,-104 185.5,-104 191.5,-104 197.5,-110 197.5,-116 197.5,-116 197.5,-175 197.5,-175 197.5,-181 191.5,-187 185.5,-187\"/>\r\n",
       "<text text-anchor=\"middle\" x=\"151\" y=\"-171.8\" font-family=\"Helvetica,sans-Serif\" font-size=\"14.00\">age &lt;= 57.5</text>\r\n",
       "<text text-anchor=\"middle\" x=\"151\" y=\"-156.8\" font-family=\"Helvetica,sans-Serif\" font-size=\"14.00\">0.17</text>\r\n",
       "<text text-anchor=\"middle\" x=\"151\" y=\"-141.8\" font-family=\"Helvetica,sans-Serif\" font-size=\"14.00\">39.3%</text>\r\n",
       "<text text-anchor=\"middle\" x=\"151\" y=\"-126.8\" font-family=\"Helvetica,sans-Serif\" font-size=\"14.00\">[0.09, 0.91]</text>\r\n",
       "<text text-anchor=\"middle\" x=\"151\" y=\"-111.8\" font-family=\"Helvetica,sans-Serif\" font-size=\"14.00\">disease</text>\r\n",
       "</g>\r\n",
       "<!-- 3&#45;&gt;5 -->\r\n",
       "<g id=\"edge5\" class=\"edge\"><title>3&#45;&gt;5</title>\r\n",
       "<path fill=\"none\" stroke=\"black\" d=\"M151,-222.907C151,-214.649 151,-205.864 151,-197.302\"/>\r\n",
       "<polygon fill=\"black\" stroke=\"black\" points=\"154.5,-197.021 151,-187.021 147.5,-197.021 154.5,-197.021\"/>\r\n",
       "</g>\r\n",
       "<!-- 6 -->\r\n",
       "<g id=\"node7\" class=\"node\"><title>6</title>\r\n",
       "<path fill=\"#3fa0e6\" stroke=\"black\" d=\"M85.5,-68C85.5,-68 20.5,-68 20.5,-68 14.5,-68 8.5,-62 8.5,-56 8.5,-56 8.5,-12 8.5,-12 8.5,-6 14.5,-0 20.5,-0 20.5,-0 85.5,-0 85.5,-0 91.5,-0 97.5,-6 97.5,-12 97.5,-12 97.5,-56 97.5,-56 97.5,-62 91.5,-68 85.5,-68\"/>\r\n",
       "<text text-anchor=\"middle\" x=\"53\" y=\"-52.8\" font-family=\"Helvetica,sans-Serif\" font-size=\"14.00\">0.06</text>\r\n",
       "<text text-anchor=\"middle\" x=\"53\" y=\"-37.8\" font-family=\"Helvetica,sans-Serif\" font-size=\"14.00\">27.3%</text>\r\n",
       "<text text-anchor=\"middle\" x=\"53\" y=\"-22.8\" font-family=\"Helvetica,sans-Serif\" font-size=\"14.00\">[0.03, 0.97]</text>\r\n",
       "<text text-anchor=\"middle\" x=\"53\" y=\"-7.8\" font-family=\"Helvetica,sans-Serif\" font-size=\"14.00\">disease</text>\r\n",
       "</g>\r\n",
       "<!-- 5&#45;&gt;6 -->\r\n",
       "<g id=\"edge6\" class=\"edge\"><title>5&#45;&gt;6</title>\r\n",
       "<path fill=\"none\" stroke=\"black\" d=\"M114.508,-103.726C106.345,-94.6054 97.6862,-84.93 89.5221,-75.8078\"/>\r\n",
       "<polygon fill=\"black\" stroke=\"black\" points=\"92.0794,-73.417 82.8024,-68.2996 86.8633,-78.0853 92.0794,-73.417\"/>\r\n",
       "</g>\r\n",
       "<!-- 7 -->\r\n",
       "<g id=\"node8\" class=\"node\"><title>7</title>\r\n",
       "<path fill=\"#78bced\" stroke=\"black\" d=\"M192.5,-68C192.5,-68 127.5,-68 127.5,-68 121.5,-68 115.5,-62 115.5,-56 115.5,-56 115.5,-12 115.5,-12 115.5,-6 121.5,-0 127.5,-0 127.5,-0 192.5,-0 192.5,-0 198.5,-0 204.5,-6 204.5,-12 204.5,-12 204.5,-56 204.5,-56 204.5,-62 198.5,-68 192.5,-68\"/>\r\n",
       "<text text-anchor=\"middle\" x=\"160\" y=\"-52.8\" font-family=\"Helvetica,sans-Serif\" font-size=\"14.00\">0.37</text>\r\n",
       "<text text-anchor=\"middle\" x=\"160\" y=\"-37.8\" font-family=\"Helvetica,sans-Serif\" font-size=\"14.00\">12.0%</text>\r\n",
       "<text text-anchor=\"middle\" x=\"160\" y=\"-22.8\" font-family=\"Helvetica,sans-Serif\" font-size=\"14.00\">[0.24, 0.76]</text>\r\n",
       "<text text-anchor=\"middle\" x=\"160\" y=\"-7.8\" font-family=\"Helvetica,sans-Serif\" font-size=\"14.00\">disease</text>\r\n",
       "</g>\r\n",
       "<!-- 5&#45;&gt;7 -->\r\n",
       "<g id=\"edge7\" class=\"edge\"><title>5&#45;&gt;7</title>\r\n",
       "<path fill=\"none\" stroke=\"black\" d=\"M154.351,-103.726C155.033,-95.4263 155.753,-86.6671 156.442,-78.2834\"/>\r\n",
       "<polygon fill=\"black\" stroke=\"black\" points=\"159.932,-78.5527 157.263,-68.2996 152.956,-77.9793 159.932,-78.5527\"/>\r\n",
       "</g>\r\n",
       "<!-- 9 -->\r\n",
       "<g id=\"node10\" class=\"node\"><title>9</title>\r\n",
       "<path fill=\"#e58139\" stroke=\"black\" d=\"M290,-179.5C290,-179.5 228,-179.5 228,-179.5 222,-179.5 216,-173.5 216,-167.5 216,-167.5 216,-123.5 216,-123.5 216,-117.5 222,-111.5 228,-111.5 228,-111.5 290,-111.5 290,-111.5 296,-111.5 302,-117.5 302,-123.5 302,-123.5 302,-167.5 302,-167.5 302,-173.5 296,-179.5 290,-179.5\"/>\r\n",
       "<text text-anchor=\"middle\" x=\"259\" y=\"-164.3\" font-family=\"Helvetica,sans-Serif\" font-size=\"14.00\">0.0</text>\r\n",
       "<text text-anchor=\"middle\" x=\"259\" y=\"-149.3\" font-family=\"Helvetica,sans-Serif\" font-size=\"14.00\">1.2%</text>\r\n",
       "<text text-anchor=\"middle\" x=\"259\" y=\"-134.3\" font-family=\"Helvetica,sans-Serif\" font-size=\"14.00\">[1.0, 0.0]</text>\r\n",
       "<text text-anchor=\"middle\" x=\"259\" y=\"-119.3\" font-family=\"Helvetica,sans-Serif\" font-size=\"14.00\">no disease</text>\r\n",
       "</g>\r\n",
       "<!-- 8&#45;&gt;9 -->\r\n",
       "<g id=\"edge9\" class=\"edge\"><title>8&#45;&gt;9</title>\r\n",
       "<path fill=\"none\" stroke=\"black\" d=\"M300.142,-222.907C294.201,-211.873 287.753,-199.898 281.762,-188.773\"/>\r\n",
       "<polygon fill=\"black\" stroke=\"black\" points=\"284.682,-186.812 276.859,-179.667 278.519,-190.131 284.682,-186.812\"/>\r\n",
       "</g>\r\n",
       "<!-- 10 -->\r\n",
       "<g id=\"node11\" class=\"node\"><title>10</title>\r\n",
       "<path fill=\"#9ccef2\" stroke=\"black\" d=\"M412,-187C412,-187 332,-187 332,-187 326,-187 320,-181 320,-175 320,-175 320,-116 320,-116 320,-110 326,-104 332,-104 332,-104 412,-104 412,-104 418,-104 424,-110 424,-116 424,-116 424,-175 424,-175 424,-181 418,-187 412,-187\"/>\r\n",
       "<text text-anchor=\"middle\" x=\"372\" y=\"-171.8\" font-family=\"Helvetica,sans-Serif\" font-size=\"14.00\">chol &lt;= 196.5</text>\r\n",
       "<text text-anchor=\"middle\" x=\"372\" y=\"-156.8\" font-family=\"Helvetica,sans-Serif\" font-size=\"14.00\">0.44</text>\r\n",
       "<text text-anchor=\"middle\" x=\"372\" y=\"-141.8\" font-family=\"Helvetica,sans-Serif\" font-size=\"14.00\">1.2%</text>\r\n",
       "<text text-anchor=\"middle\" x=\"372\" y=\"-126.8\" font-family=\"Helvetica,sans-Serif\" font-size=\"14.00\">[0.33, 0.67]</text>\r\n",
       "<text text-anchor=\"middle\" x=\"372\" y=\"-111.8\" font-family=\"Helvetica,sans-Serif\" font-size=\"14.00\">disease</text>\r\n",
       "</g>\r\n",
       "<!-- 8&#45;&gt;10 -->\r\n",
       "<g id=\"edge10\" class=\"edge\"><title>8&#45;&gt;10</title>\r\n",
       "<path fill=\"none\" stroke=\"black\" d=\"M339.347,-222.907C342.993,-214.377 346.879,-205.284 350.651,-196.456\"/>\r\n",
       "<polygon fill=\"black\" stroke=\"black\" points=\"353.972,-197.592 354.683,-187.021 347.535,-194.841 353.972,-197.592\"/>\r\n",
       "</g>\r\n",
       "<!-- 11 -->\r\n",
       "<g id=\"node12\" class=\"node\"><title>11</title>\r\n",
       "<path fill=\"#e58139\" stroke=\"black\" d=\"M313,-68C313,-68 251,-68 251,-68 245,-68 239,-62 239,-56 239,-56 239,-12 239,-12 239,-6 245,-0 251,-0 251,-0 313,-0 313,-0 319,-0 325,-6 325,-12 325,-12 325,-56 325,-56 325,-62 319,-68 313,-68\"/>\r\n",
       "<text text-anchor=\"middle\" x=\"282\" y=\"-52.8\" font-family=\"Helvetica,sans-Serif\" font-size=\"14.00\">0.0</text>\r\n",
       "<text text-anchor=\"middle\" x=\"282\" y=\"-37.8\" font-family=\"Helvetica,sans-Serif\" font-size=\"14.00\">0.4%</text>\r\n",
       "<text text-anchor=\"middle\" x=\"282\" y=\"-22.8\" font-family=\"Helvetica,sans-Serif\" font-size=\"14.00\">[1.0, 0.0]</text>\r\n",
       "<text text-anchor=\"middle\" x=\"282\" y=\"-7.8\" font-family=\"Helvetica,sans-Serif\" font-size=\"14.00\">no disease</text>\r\n",
       "</g>\r\n",
       "<!-- 10&#45;&gt;11 -->\r\n",
       "<g id=\"edge11\" class=\"edge\"><title>10&#45;&gt;11</title>\r\n",
       "<path fill=\"none\" stroke=\"black\" d=\"M338.487,-103.726C331.066,-94.6966 323.197,-85.1235 315.766,-76.0816\"/>\r\n",
       "<polygon fill=\"black\" stroke=\"black\" points=\"318.423,-73.8026 309.37,-68.2996 313.015,-78.2474 318.423,-73.8026\"/>\r\n",
       "</g>\r\n",
       "<!-- 12 -->\r\n",
       "<g id=\"node13\" class=\"node\"><title>12</title>\r\n",
       "<path fill=\"#399de5\" stroke=\"black\" d=\"M403,-68C403,-68 355,-68 355,-68 349,-68 343,-62 343,-56 343,-56 343,-12 343,-12 343,-6 349,-0 355,-0 355,-0 403,-0 403,-0 409,-0 415,-6 415,-12 415,-12 415,-56 415,-56 415,-62 409,-68 403,-68\"/>\r\n",
       "<text text-anchor=\"middle\" x=\"379\" y=\"-52.8\" font-family=\"Helvetica,sans-Serif\" font-size=\"14.00\">0.0</text>\r\n",
       "<text text-anchor=\"middle\" x=\"379\" y=\"-37.8\" font-family=\"Helvetica,sans-Serif\" font-size=\"14.00\">0.8%</text>\r\n",
       "<text text-anchor=\"middle\" x=\"379\" y=\"-22.8\" font-family=\"Helvetica,sans-Serif\" font-size=\"14.00\">[0.0, 1.0]</text>\r\n",
       "<text text-anchor=\"middle\" x=\"379\" y=\"-7.8\" font-family=\"Helvetica,sans-Serif\" font-size=\"14.00\">disease</text>\r\n",
       "</g>\r\n",
       "<!-- 10&#45;&gt;12 -->\r\n",
       "<g id=\"edge12\" class=\"edge\"><title>10&#45;&gt;12</title>\r\n",
       "<path fill=\"none\" stroke=\"black\" d=\"M374.607,-103.726C375.137,-95.4263 375.697,-86.6671 376.233,-78.2834\"/>\r\n",
       "<polygon fill=\"black\" stroke=\"black\" points=\"379.726,-78.5025 376.871,-68.2996 372.74,-78.0559 379.726,-78.5025\"/>\r\n",
       "</g>\r\n",
       "<!-- 14 -->\r\n",
       "<g id=\"node15\" class=\"node\"><title>14</title>\r\n",
       "<path fill=\"#e88f4f\" stroke=\"black\" d=\"M629,-306C629,-306 549,-306 549,-306 543,-306 537,-300 537,-294 537,-294 537,-235 537,-235 537,-229 543,-223 549,-223 549,-223 629,-223 629,-223 635,-223 641,-229 641,-235 641,-235 641,-294 641,-294 641,-300 635,-306 629,-306\"/>\r\n",
       "<text text-anchor=\"middle\" x=\"589\" y=\"-290.8\" font-family=\"Helvetica,sans-Serif\" font-size=\"14.00\">chol &lt;= 294.5</text>\r\n",
       "<text text-anchor=\"middle\" x=\"589\" y=\"-275.8\" font-family=\"Helvetica,sans-Serif\" font-size=\"14.00\">0.18</text>\r\n",
       "<text text-anchor=\"middle\" x=\"589\" y=\"-260.8\" font-family=\"Helvetica,sans-Serif\" font-size=\"14.00\">8.3%</text>\r\n",
       "<text text-anchor=\"middle\" x=\"589\" y=\"-245.8\" font-family=\"Helvetica,sans-Serif\" font-size=\"14.00\">[0.9, 0.1]</text>\r\n",
       "<text text-anchor=\"middle\" x=\"589\" y=\"-230.8\" font-family=\"Helvetica,sans-Serif\" font-size=\"14.00\">no disease</text>\r\n",
       "</g>\r\n",
       "<!-- 13&#45;&gt;14 -->\r\n",
       "<g id=\"edge14\" class=\"edge\"><title>13&#45;&gt;14</title>\r\n",
       "<path fill=\"none\" stroke=\"black\" d=\"M633.408,-341.907C628.344,-333.195 622.94,-323.897 617.707,-314.893\"/>\r\n",
       "<polygon fill=\"black\" stroke=\"black\" points=\"620.602,-312.908 612.551,-306.021 614.549,-316.425 620.602,-312.908\"/>\r\n",
       "</g>\r\n",
       "<!-- 19 -->\r\n",
       "<g id=\"node20\" class=\"node\"><title>19</title>\r\n",
       "<path fill=\"#88c4ef\" stroke=\"black\" d=\"M760,-306C760,-306 688,-306 688,-306 682,-306 676,-300 676,-294 676,-294 676,-235 676,-235 676,-229 682,-223 688,-223 688,-223 760,-223 760,-223 766,-223 772,-229 772,-235 772,-235 772,-294 772,-294 772,-300 766,-306 760,-306\"/>\r\n",
       "<text text-anchor=\"middle\" x=\"724\" y=\"-290.8\" font-family=\"Helvetica,sans-Serif\" font-size=\"14.00\">slope &lt;= 1.5</text>\r\n",
       "<text text-anchor=\"middle\" x=\"724\" y=\"-275.8\" font-family=\"Helvetica,sans-Serif\" font-size=\"14.00\">0.41</text>\r\n",
       "<text text-anchor=\"middle\" x=\"724\" y=\"-260.8\" font-family=\"Helvetica,sans-Serif\" font-size=\"14.00\">11.6%</text>\r\n",
       "<text text-anchor=\"middle\" x=\"724\" y=\"-245.8\" font-family=\"Helvetica,sans-Serif\" font-size=\"14.00\">[0.29, 0.71]</text>\r\n",
       "<text text-anchor=\"middle\" x=\"724\" y=\"-230.8\" font-family=\"Helvetica,sans-Serif\" font-size=\"14.00\">disease</text>\r\n",
       "</g>\r\n",
       "<!-- 13&#45;&gt;19 -->\r\n",
       "<g id=\"edge19\" class=\"edge\"><title>13&#45;&gt;19</title>\r\n",
       "<path fill=\"none\" stroke=\"black\" d=\"M680.245,-341.907C685.234,-333.195 690.559,-323.897 695.715,-314.893\"/>\r\n",
       "<polygon fill=\"black\" stroke=\"black\" points=\"698.864,-316.438 700.796,-306.021 692.789,-312.959 698.864,-316.438\"/>\r\n",
       "</g>\r\n",
       "<!-- 15 -->\r\n",
       "<g id=\"node16\" class=\"node\"><title>15</title>\r\n",
       "<path fill=\"#e58139\" stroke=\"black\" d=\"M516,-179.5C516,-179.5 454,-179.5 454,-179.5 448,-179.5 442,-173.5 442,-167.5 442,-167.5 442,-123.5 442,-123.5 442,-117.5 448,-111.5 454,-111.5 454,-111.5 516,-111.5 516,-111.5 522,-111.5 528,-117.5 528,-123.5 528,-123.5 528,-167.5 528,-167.5 528,-173.5 522,-179.5 516,-179.5\"/>\r\n",
       "<text text-anchor=\"middle\" x=\"485\" y=\"-164.3\" font-family=\"Helvetica,sans-Serif\" font-size=\"14.00\">0.0</text>\r\n",
       "<text text-anchor=\"middle\" x=\"485\" y=\"-149.3\" font-family=\"Helvetica,sans-Serif\" font-size=\"14.00\">6.6%</text>\r\n",
       "<text text-anchor=\"middle\" x=\"485\" y=\"-134.3\" font-family=\"Helvetica,sans-Serif\" font-size=\"14.00\">[1.0, 0.0]</text>\r\n",
       "<text text-anchor=\"middle\" x=\"485\" y=\"-119.3\" font-family=\"Helvetica,sans-Serif\" font-size=\"14.00\">no disease</text>\r\n",
       "</g>\r\n",
       "<!-- 14&#45;&gt;15 -->\r\n",
       "<g id=\"edge15\" class=\"edge\"><title>14&#45;&gt;15</title>\r\n",
       "<path fill=\"none\" stroke=\"black\" d=\"M552.918,-222.907C542.717,-211.432 531.612,-198.938 521.393,-187.442\"/>\r\n",
       "<polygon fill=\"black\" stroke=\"black\" points=\"523.741,-184.816 514.482,-179.667 518.509,-189.466 523.741,-184.816\"/>\r\n",
       "</g>\r\n",
       "<!-- 16 -->\r\n",
       "<g id=\"node17\" class=\"node\"><title>16</title>\r\n",
       "<path fill=\"#ffffff\" stroke=\"black\" d=\"M620,-187C620,-187 558,-187 558,-187 552,-187 546,-181 546,-175 546,-175 546,-116 546,-116 546,-110 552,-104 558,-104 558,-104 620,-104 620,-104 626,-104 632,-110 632,-116 632,-116 632,-175 632,-175 632,-181 626,-187 620,-187\"/>\r\n",
       "<text text-anchor=\"middle\" x=\"589\" y=\"-171.8\" font-family=\"Helvetica,sans-Serif\" font-size=\"14.00\">sex &lt;= 0.5</text>\r\n",
       "<text text-anchor=\"middle\" x=\"589\" y=\"-156.8\" font-family=\"Helvetica,sans-Serif\" font-size=\"14.00\">0.5</text>\r\n",
       "<text text-anchor=\"middle\" x=\"589\" y=\"-141.8\" font-family=\"Helvetica,sans-Serif\" font-size=\"14.00\">1.7%</text>\r\n",
       "<text text-anchor=\"middle\" x=\"589\" y=\"-126.8\" font-family=\"Helvetica,sans-Serif\" font-size=\"14.00\">[0.5, 0.5]</text>\r\n",
       "<text text-anchor=\"middle\" x=\"589\" y=\"-111.8\" font-family=\"Helvetica,sans-Serif\" font-size=\"14.00\">no disease</text>\r\n",
       "</g>\r\n",
       "<!-- 14&#45;&gt;16 -->\r\n",
       "<g id=\"edge16\" class=\"edge\"><title>14&#45;&gt;16</title>\r\n",
       "<path fill=\"none\" stroke=\"black\" d=\"M589,-222.907C589,-214.649 589,-205.864 589,-197.302\"/>\r\n",
       "<polygon fill=\"black\" stroke=\"black\" points=\"592.5,-197.021 589,-187.021 585.5,-197.021 592.5,-197.021\"/>\r\n",
       "</g>\r\n",
       "<!-- 17 -->\r\n",
       "<g id=\"node18\" class=\"node\"><title>17</title>\r\n",
       "<path fill=\"#399de5\" stroke=\"black\" d=\"M508,-68C508,-68 460,-68 460,-68 454,-68 448,-62 448,-56 448,-56 448,-12 448,-12 448,-6 454,-0 460,-0 460,-0 508,-0 508,-0 514,-0 520,-6 520,-12 520,-12 520,-56 520,-56 520,-62 514,-68 508,-68\"/>\r\n",
       "<text text-anchor=\"middle\" x=\"484\" y=\"-52.8\" font-family=\"Helvetica,sans-Serif\" font-size=\"14.00\">0.0</text>\r\n",
       "<text text-anchor=\"middle\" x=\"484\" y=\"-37.8\" font-family=\"Helvetica,sans-Serif\" font-size=\"14.00\">0.8%</text>\r\n",
       "<text text-anchor=\"middle\" x=\"484\" y=\"-22.8\" font-family=\"Helvetica,sans-Serif\" font-size=\"14.00\">[0.0, 1.0]</text>\r\n",
       "<text text-anchor=\"middle\" x=\"484\" y=\"-7.8\" font-family=\"Helvetica,sans-Serif\" font-size=\"14.00\">disease</text>\r\n",
       "</g>\r\n",
       "<!-- 16&#45;&gt;17 -->\r\n",
       "<g id=\"edge17\" class=\"edge\"><title>16&#45;&gt;17</title>\r\n",
       "<path fill=\"none\" stroke=\"black\" d=\"M549.902,-103.726C541.068,-94.5142 531.692,-84.7364 522.869,-75.5343\"/>\r\n",
       "<polygon fill=\"black\" stroke=\"black\" points=\"525.379,-73.095 515.931,-68.2996 520.326,-77.9399 525.379,-73.095\"/>\r\n",
       "</g>\r\n",
       "<!-- 18 -->\r\n",
       "<g id=\"node19\" class=\"node\"><title>18</title>\r\n",
       "<path fill=\"#e58139\" stroke=\"black\" d=\"M612,-68C612,-68 550,-68 550,-68 544,-68 538,-62 538,-56 538,-56 538,-12 538,-12 538,-6 544,-0 550,-0 550,-0 612,-0 612,-0 618,-0 624,-6 624,-12 624,-12 624,-56 624,-56 624,-62 618,-68 612,-68\"/>\r\n",
       "<text text-anchor=\"middle\" x=\"581\" y=\"-52.8\" font-family=\"Helvetica,sans-Serif\" font-size=\"14.00\">0.0</text>\r\n",
       "<text text-anchor=\"middle\" x=\"581\" y=\"-37.8\" font-family=\"Helvetica,sans-Serif\" font-size=\"14.00\">0.8%</text>\r\n",
       "<text text-anchor=\"middle\" x=\"581\" y=\"-22.8\" font-family=\"Helvetica,sans-Serif\" font-size=\"14.00\">[1.0, 0.0]</text>\r\n",
       "<text text-anchor=\"middle\" x=\"581\" y=\"-7.8\" font-family=\"Helvetica,sans-Serif\" font-size=\"14.00\">no disease</text>\r\n",
       "</g>\r\n",
       "<!-- 16&#45;&gt;18 -->\r\n",
       "<g id=\"edge18\" class=\"edge\"><title>16&#45;&gt;18</title>\r\n",
       "<path fill=\"none\" stroke=\"black\" d=\"M586.021,-103.726C585.415,-95.4263 584.775,-86.6671 584.162,-78.2834\"/>\r\n",
       "<polygon fill=\"black\" stroke=\"black\" points=\"587.652,-78.018 583.433,-68.2996 580.671,-78.5281 587.652,-78.018\"/>\r\n",
       "</g>\r\n",
       "<!-- 20 -->\r\n",
       "<g id=\"node21\" class=\"node\"><title>20</title>\r\n",
       "<path fill=\"#f5cdb0\" stroke=\"black\" d=\"M771.5,-187C771.5,-187 676.5,-187 676.5,-187 670.5,-187 664.5,-181 664.5,-175 664.5,-175 664.5,-116 664.5,-116 664.5,-110 670.5,-104 676.5,-104 676.5,-104 771.5,-104 771.5,-104 777.5,-104 783.5,-110 783.5,-116 783.5,-116 783.5,-175 783.5,-175 783.5,-181 777.5,-187 771.5,-187\"/>\r\n",
       "<text text-anchor=\"middle\" x=\"724\" y=\"-171.8\" font-family=\"Helvetica,sans-Serif\" font-size=\"14.00\">oldpeak &lt;= 0.55</text>\r\n",
       "<text text-anchor=\"middle\" x=\"724\" y=\"-156.8\" font-family=\"Helvetica,sans-Serif\" font-size=\"14.00\">0.47</text>\r\n",
       "<text text-anchor=\"middle\" x=\"724\" y=\"-141.8\" font-family=\"Helvetica,sans-Serif\" font-size=\"14.00\">3.3%</text>\r\n",
       "<text text-anchor=\"middle\" x=\"724\" y=\"-126.8\" font-family=\"Helvetica,sans-Serif\" font-size=\"14.00\">[0.62, 0.38]</text>\r\n",
       "<text text-anchor=\"middle\" x=\"724\" y=\"-111.8\" font-family=\"Helvetica,sans-Serif\" font-size=\"14.00\">no disease</text>\r\n",
       "</g>\r\n",
       "<!-- 19&#45;&gt;20 -->\r\n",
       "<g id=\"edge20\" class=\"edge\"><title>19&#45;&gt;20</title>\r\n",
       "<path fill=\"none\" stroke=\"black\" d=\"M724,-222.907C724,-214.649 724,-205.864 724,-197.302\"/>\r\n",
       "<polygon fill=\"black\" stroke=\"black\" points=\"727.5,-197.021 724,-187.021 720.5,-197.021 727.5,-197.021\"/>\r\n",
       "</g>\r\n",
       "<!-- 23 -->\r\n",
       "<g id=\"node24\" class=\"node\"><title>23</title>\r\n",
       "<path fill=\"#5caeea\" stroke=\"black\" d=\"M922,-187C922,-187 842,-187 842,-187 836,-187 830,-181 830,-175 830,-175 830,-116 830,-116 830,-110 836,-104 842,-104 842,-104 922,-104 922,-104 928,-104 934,-110 934,-116 934,-116 934,-175 934,-175 934,-181 928,-187 922,-187\"/>\r\n",
       "<text text-anchor=\"middle\" x=\"882\" y=\"-171.8\" font-family=\"Helvetica,sans-Serif\" font-size=\"14.00\">chol &lt;= 172.0</text>\r\n",
       "<text text-anchor=\"middle\" x=\"882\" y=\"-156.8\" font-family=\"Helvetica,sans-Serif\" font-size=\"14.00\">0.26</text>\r\n",
       "<text text-anchor=\"middle\" x=\"882\" y=\"-141.8\" font-family=\"Helvetica,sans-Serif\" font-size=\"14.00\">8.3%</text>\r\n",
       "<text text-anchor=\"middle\" x=\"882\" y=\"-126.8\" font-family=\"Helvetica,sans-Serif\" font-size=\"14.00\">[0.15, 0.85]</text>\r\n",
       "<text text-anchor=\"middle\" x=\"882\" y=\"-111.8\" font-family=\"Helvetica,sans-Serif\" font-size=\"14.00\">disease</text>\r\n",
       "</g>\r\n",
       "<!-- 19&#45;&gt;23 -->\r\n",
       "<g id=\"edge23\" class=\"edge\"><title>19&#45;&gt;23</title>\r\n",
       "<path fill=\"none\" stroke=\"black\" d=\"M772.264,-227.76C787.797,-216.258 805.209,-203.364 821.507,-191.295\"/>\r\n",
       "<polygon fill=\"black\" stroke=\"black\" points=\"823.959,-193.835 829.913,-185.071 819.793,-188.209 823.959,-193.835\"/>\r\n",
       "</g>\r\n",
       "<!-- 21 -->\r\n",
       "<g id=\"node22\" class=\"node\"><title>21</title>\r\n",
       "<path fill=\"#7bbeee\" stroke=\"black\" d=\"M719.5,-68C719.5,-68 654.5,-68 654.5,-68 648.5,-68 642.5,-62 642.5,-56 642.5,-56 642.5,-12 642.5,-12 642.5,-6 648.5,-0 654.5,-0 654.5,-0 719.5,-0 719.5,-0 725.5,-0 731.5,-6 731.5,-12 731.5,-12 731.5,-56 731.5,-56 731.5,-62 725.5,-68 719.5,-68\"/>\r\n",
       "<text text-anchor=\"middle\" x=\"687\" y=\"-52.8\" font-family=\"Helvetica,sans-Serif\" font-size=\"14.00\">0.38</text>\r\n",
       "<text text-anchor=\"middle\" x=\"687\" y=\"-37.8\" font-family=\"Helvetica,sans-Serif\" font-size=\"14.00\">1.7%</text>\r\n",
       "<text text-anchor=\"middle\" x=\"687\" y=\"-22.8\" font-family=\"Helvetica,sans-Serif\" font-size=\"14.00\">[0.25, 0.75]</text>\r\n",
       "<text text-anchor=\"middle\" x=\"687\" y=\"-7.8\" font-family=\"Helvetica,sans-Serif\" font-size=\"14.00\">disease</text>\r\n",
       "</g>\r\n",
       "<!-- 20&#45;&gt;21 -->\r\n",
       "<g id=\"edge21\" class=\"edge\"><title>20&#45;&gt;21</title>\r\n",
       "<path fill=\"none\" stroke=\"black\" d=\"M710.223,-103.726C707.387,-95.3351 704.393,-86.4745 701.532,-78.0072\"/>\r\n",
       "<polygon fill=\"black\" stroke=\"black\" points=\"704.769,-76.6529 698.252,-68.2996 698.137,-78.8938 704.769,-76.6529\"/>\r\n",
       "</g>\r\n",
       "<!-- 22 -->\r\n",
       "<g id=\"node23\" class=\"node\"><title>22</title>\r\n",
       "<path fill=\"#e58139\" stroke=\"black\" d=\"M824,-68C824,-68 762,-68 762,-68 756,-68 750,-62 750,-56 750,-56 750,-12 750,-12 750,-6 756,-0 762,-0 762,-0 824,-0 824,-0 830,-0 836,-6 836,-12 836,-12 836,-56 836,-56 836,-62 830,-68 824,-68\"/>\r\n",
       "<text text-anchor=\"middle\" x=\"793\" y=\"-52.8\" font-family=\"Helvetica,sans-Serif\" font-size=\"14.00\">0.0</text>\r\n",
       "<text text-anchor=\"middle\" x=\"793\" y=\"-37.8\" font-family=\"Helvetica,sans-Serif\" font-size=\"14.00\">1.7%</text>\r\n",
       "<text text-anchor=\"middle\" x=\"793\" y=\"-22.8\" font-family=\"Helvetica,sans-Serif\" font-size=\"14.00\">[1.0, 0.0]</text>\r\n",
       "<text text-anchor=\"middle\" x=\"793\" y=\"-7.8\" font-family=\"Helvetica,sans-Serif\" font-size=\"14.00\">no disease</text>\r\n",
       "</g>\r\n",
       "<!-- 20&#45;&gt;22 -->\r\n",
       "<g id=\"edge22\" class=\"edge\"><title>20&#45;&gt;22</title>\r\n",
       "<path fill=\"none\" stroke=\"black\" d=\"M749.693,-103.726C755.211,-94.9703 761.05,-85.7032 766.594,-76.9051\"/>\r\n",
       "<polygon fill=\"black\" stroke=\"black\" points=\"769.647,-78.6259 772.017,-68.2996 763.724,-74.8941 769.647,-78.6259\"/>\r\n",
       "</g>\r\n",
       "<!-- 24 -->\r\n",
       "<g id=\"node25\" class=\"node\"><title>24</title>\r\n",
       "<path fill=\"#e58139\" stroke=\"black\" d=\"M928,-68C928,-68 866,-68 866,-68 860,-68 854,-62 854,-56 854,-56 854,-12 854,-12 854,-6 860,-0 866,-0 866,-0 928,-0 928,-0 934,-0 940,-6 940,-12 940,-12 940,-56 940,-56 940,-62 934,-68 928,-68\"/>\r\n",
       "<text text-anchor=\"middle\" x=\"897\" y=\"-52.8\" font-family=\"Helvetica,sans-Serif\" font-size=\"14.00\">0.0</text>\r\n",
       "<text text-anchor=\"middle\" x=\"897\" y=\"-37.8\" font-family=\"Helvetica,sans-Serif\" font-size=\"14.00\">0.4%</text>\r\n",
       "<text text-anchor=\"middle\" x=\"897\" y=\"-22.8\" font-family=\"Helvetica,sans-Serif\" font-size=\"14.00\">[1.0, 0.0]</text>\r\n",
       "<text text-anchor=\"middle\" x=\"897\" y=\"-7.8\" font-family=\"Helvetica,sans-Serif\" font-size=\"14.00\">no disease</text>\r\n",
       "</g>\r\n",
       "<!-- 23&#45;&gt;24 -->\r\n",
       "<g id=\"edge24\" class=\"edge\"><title>23&#45;&gt;24</title>\r\n",
       "<path fill=\"none\" stroke=\"black\" d=\"M887.585,-103.726C888.722,-95.4263 889.922,-86.6671 891.071,-78.2834\"/>\r\n",
       "<polygon fill=\"black\" stroke=\"black\" points=\"894.549,-78.6821 892.438,-68.2996 887.614,-77.732 894.549,-78.6821\"/>\r\n",
       "</g>\r\n",
       "<!-- 25 -->\r\n",
       "<g id=\"node26\" class=\"node\"><title>25</title>\r\n",
       "<path fill=\"#50a9e8\" stroke=\"black\" d=\"M1035.5,-68C1035.5,-68 970.5,-68 970.5,-68 964.5,-68 958.5,-62 958.5,-56 958.5,-56 958.5,-12 958.5,-12 958.5,-6 964.5,-0 970.5,-0 970.5,-0 1035.5,-0 1035.5,-0 1041.5,-0 1047.5,-6 1047.5,-12 1047.5,-12 1047.5,-56 1047.5,-56 1047.5,-62 1041.5,-68 1035.5,-68\"/>\r\n",
       "<text text-anchor=\"middle\" x=\"1003\" y=\"-52.8\" font-family=\"Helvetica,sans-Serif\" font-size=\"14.00\">0.19</text>\r\n",
       "<text text-anchor=\"middle\" x=\"1003\" y=\"-37.8\" font-family=\"Helvetica,sans-Serif\" font-size=\"14.00\">7.9%</text>\r\n",
       "<text text-anchor=\"middle\" x=\"1003\" y=\"-22.8\" font-family=\"Helvetica,sans-Serif\" font-size=\"14.00\">[0.11, 0.89]</text>\r\n",
       "<text text-anchor=\"middle\" x=\"1003\" y=\"-7.8\" font-family=\"Helvetica,sans-Serif\" font-size=\"14.00\">disease</text>\r\n",
       "</g>\r\n",
       "<!-- 23&#45;&gt;25 -->\r\n",
       "<g id=\"edge25\" class=\"edge\"><title>23&#45;&gt;25</title>\r\n",
       "<path fill=\"none\" stroke=\"black\" d=\"M927.056,-103.726C937.336,-94.423 948.254,-84.5428 958.511,-75.2612\"/>\r\n",
       "<polygon fill=\"black\" stroke=\"black\" points=\"961.137,-77.6047 966.203,-68.2996 956.44,-72.4144 961.137,-77.6047\"/>\r\n",
       "</g>\r\n",
       "<!-- 27 -->\r\n",
       "<g id=\"node28\" class=\"node\"><title>27</title>\r\n",
       "<path fill=\"#e68844\" stroke=\"black\" d=\"M1195,-425C1195,-425 1097,-425 1097,-425 1091,-425 1085,-419 1085,-413 1085,-413 1085,-354 1085,-354 1085,-348 1091,-342 1097,-342 1097,-342 1195,-342 1195,-342 1201,-342 1207,-348 1207,-354 1207,-354 1207,-413 1207,-413 1207,-419 1201,-425 1195,-425\"/>\r\n",
       "<text text-anchor=\"middle\" x=\"1146\" y=\"-409.8\" font-family=\"Helvetica,sans-Serif\" font-size=\"14.00\">thalach &lt;= 113.0</text>\r\n",
       "<text text-anchor=\"middle\" x=\"1146\" y=\"-394.8\" font-family=\"Helvetica,sans-Serif\" font-size=\"14.00\">0.1</text>\r\n",
       "<text text-anchor=\"middle\" x=\"1146\" y=\"-379.8\" font-family=\"Helvetica,sans-Serif\" font-size=\"14.00\">23.6%</text>\r\n",
       "<text text-anchor=\"middle\" x=\"1146\" y=\"-364.8\" font-family=\"Helvetica,sans-Serif\" font-size=\"14.00\">[0.95, 0.05]</text>\r\n",
       "<text text-anchor=\"middle\" x=\"1146\" y=\"-349.8\" font-family=\"Helvetica,sans-Serif\" font-size=\"14.00\">no disease</text>\r\n",
       "</g>\r\n",
       "<!-- 26&#45;&gt;27 -->\r\n",
       "<g id=\"edge27\" class=\"edge\"><title>26&#45;&gt;27</title>\r\n",
       "<path fill=\"none\" stroke=\"black\" d=\"M1146,-460.907C1146,-452.649 1146,-443.864 1146,-435.302\"/>\r\n",
       "<polygon fill=\"black\" stroke=\"black\" points=\"1149.5,-435.021 1146,-425.021 1142.5,-435.021 1149.5,-435.021\"/>\r\n",
       "</g>\r\n",
       "<!-- 36 -->\r\n",
       "<g id=\"node37\" class=\"node\"><title>36</title>\r\n",
       "<path fill=\"#fef8f4\" stroke=\"black\" d=\"M1511,-425C1511,-425 1439,-425 1439,-425 1433,-425 1427,-419 1427,-413 1427,-413 1427,-354 1427,-354 1427,-348 1433,-342 1439,-342 1439,-342 1511,-342 1511,-342 1517,-342 1523,-348 1523,-354 1523,-354 1523,-413 1523,-413 1523,-419 1517,-425 1511,-425\"/>\r\n",
       "<text text-anchor=\"middle\" x=\"1475\" y=\"-409.8\" font-family=\"Helvetica,sans-Serif\" font-size=\"14.00\">slope &lt;= 1.5</text>\r\n",
       "<text text-anchor=\"middle\" x=\"1475\" y=\"-394.8\" font-family=\"Helvetica,sans-Serif\" font-size=\"14.00\">0.5</text>\r\n",
       "<text text-anchor=\"middle\" x=\"1475\" y=\"-379.8\" font-family=\"Helvetica,sans-Serif\" font-size=\"14.00\">14.5%</text>\r\n",
       "<text text-anchor=\"middle\" x=\"1475\" y=\"-364.8\" font-family=\"Helvetica,sans-Serif\" font-size=\"14.00\">[0.51, 0.49]</text>\r\n",
       "<text text-anchor=\"middle\" x=\"1475\" y=\"-349.8\" font-family=\"Helvetica,sans-Serif\" font-size=\"14.00\">no disease</text>\r\n",
       "</g>\r\n",
       "<!-- 26&#45;&gt;36 -->\r\n",
       "<g id=\"edge36\" class=\"edge\"><title>26&#45;&gt;36</title>\r\n",
       "<path fill=\"none\" stroke=\"black\" d=\"M1190.71,-485.599C1249.45,-464.71 1352.7,-427.992 1417.28,-405.025\"/>\r\n",
       "<polygon fill=\"black\" stroke=\"black\" points=\"1418.66,-408.25 1426.91,-401.601 1416.32,-401.654 1418.66,-408.25\"/>\r\n",
       "</g>\r\n",
       "<!-- 28 -->\r\n",
       "<g id=\"node29\" class=\"node\"><title>28</title>\r\n",
       "<path fill=\"#efb388\" stroke=\"black\" d=\"M1120.5,-306C1120.5,-306 1033.5,-306 1033.5,-306 1027.5,-306 1021.5,-300 1021.5,-294 1021.5,-294 1021.5,-235 1021.5,-235 1021.5,-229 1027.5,-223 1033.5,-223 1033.5,-223 1120.5,-223 1120.5,-223 1126.5,-223 1132.5,-229 1132.5,-235 1132.5,-235 1132.5,-294 1132.5,-294 1132.5,-300 1126.5,-306 1120.5,-306\"/>\r\n",
       "<text text-anchor=\"middle\" x=\"1077\" y=\"-290.8\" font-family=\"Helvetica,sans-Serif\" font-size=\"14.00\">oldpeak &lt;= 0.7</text>\r\n",
       "<text text-anchor=\"middle\" x=\"1077\" y=\"-275.8\" font-family=\"Helvetica,sans-Serif\" font-size=\"14.00\">0.41</text>\r\n",
       "<text text-anchor=\"middle\" x=\"1077\" y=\"-260.8\" font-family=\"Helvetica,sans-Serif\" font-size=\"14.00\">2.9%</text>\r\n",
       "<text text-anchor=\"middle\" x=\"1077\" y=\"-245.8\" font-family=\"Helvetica,sans-Serif\" font-size=\"14.00\">[0.71, 0.29]</text>\r\n",
       "<text text-anchor=\"middle\" x=\"1077\" y=\"-230.8\" font-family=\"Helvetica,sans-Serif\" font-size=\"14.00\">no disease</text>\r\n",
       "</g>\r\n",
       "<!-- 27&#45;&gt;28 -->\r\n",
       "<g id=\"edge28\" class=\"edge\"><title>27&#45;&gt;28</title>\r\n",
       "<path fill=\"none\" stroke=\"black\" d=\"M1122.06,-341.907C1116.92,-333.195 1111.44,-323.897 1106.13,-314.893\"/>\r\n",
       "<polygon fill=\"black\" stroke=\"black\" points=\"1108.99,-312.857 1100.9,-306.021 1102.96,-316.412 1108.99,-312.857\"/>\r\n",
       "</g>\r\n",
       "<!-- 31 -->\r\n",
       "<g id=\"node32\" class=\"node\"><title>31</title>\r\n",
       "<path fill=\"#e6843d\" stroke=\"black\" d=\"M1267.5,-306C1267.5,-306 1162.5,-306 1162.5,-306 1156.5,-306 1150.5,-300 1150.5,-294 1150.5,-294 1150.5,-235 1150.5,-235 1150.5,-229 1156.5,-223 1162.5,-223 1162.5,-223 1267.5,-223 1267.5,-223 1273.5,-223 1279.5,-229 1279.5,-235 1279.5,-235 1279.5,-294 1279.5,-294 1279.5,-300 1273.5,-306 1267.5,-306\"/>\r\n",
       "<text text-anchor=\"middle\" x=\"1215\" y=\"-290.8\" font-family=\"Helvetica,sans-Serif\" font-size=\"14.00\">trestbps &lt;= 114.0</text>\r\n",
       "<text text-anchor=\"middle\" x=\"1215\" y=\"-275.8\" font-family=\"Helvetica,sans-Serif\" font-size=\"14.00\">0.04</text>\r\n",
       "<text text-anchor=\"middle\" x=\"1215\" y=\"-260.8\" font-family=\"Helvetica,sans-Serif\" font-size=\"14.00\">20.7%</text>\r\n",
       "<text text-anchor=\"middle\" x=\"1215\" y=\"-245.8\" font-family=\"Helvetica,sans-Serif\" font-size=\"14.00\">[0.98, 0.02]</text>\r\n",
       "<text text-anchor=\"middle\" x=\"1215\" y=\"-230.8\" font-family=\"Helvetica,sans-Serif\" font-size=\"14.00\">no disease</text>\r\n",
       "</g>\r\n",
       "<!-- 27&#45;&gt;31 -->\r\n",
       "<g id=\"edge31\" class=\"edge\"><title>27&#45;&gt;31</title>\r\n",
       "<path fill=\"none\" stroke=\"black\" d=\"M1169.94,-341.907C1175.08,-333.195 1180.56,-323.897 1185.87,-314.893\"/>\r\n",
       "<polygon fill=\"black\" stroke=\"black\" points=\"1189.04,-316.412 1191.1,-306.021 1183.01,-312.857 1189.04,-316.412\"/>\r\n",
       "</g>\r\n",
       "<!-- 29 -->\r\n",
       "<g id=\"node30\" class=\"node\"><title>29</title>\r\n",
       "<path fill=\"#399de5\" stroke=\"black\" d=\"M1012,-179.5C1012,-179.5 964,-179.5 964,-179.5 958,-179.5 952,-173.5 952,-167.5 952,-167.5 952,-123.5 952,-123.5 952,-117.5 958,-111.5 964,-111.5 964,-111.5 1012,-111.5 1012,-111.5 1018,-111.5 1024,-117.5 1024,-123.5 1024,-123.5 1024,-167.5 1024,-167.5 1024,-173.5 1018,-179.5 1012,-179.5\"/>\r\n",
       "<text text-anchor=\"middle\" x=\"988\" y=\"-164.3\" font-family=\"Helvetica,sans-Serif\" font-size=\"14.00\">0.0</text>\r\n",
       "<text text-anchor=\"middle\" x=\"988\" y=\"-149.3\" font-family=\"Helvetica,sans-Serif\" font-size=\"14.00\">0.8%</text>\r\n",
       "<text text-anchor=\"middle\" x=\"988\" y=\"-134.3\" font-family=\"Helvetica,sans-Serif\" font-size=\"14.00\">[0.0, 1.0]</text>\r\n",
       "<text text-anchor=\"middle\" x=\"988\" y=\"-119.3\" font-family=\"Helvetica,sans-Serif\" font-size=\"14.00\">disease</text>\r\n",
       "</g>\r\n",
       "<!-- 28&#45;&gt;29 -->\r\n",
       "<g id=\"edge29\" class=\"edge\"><title>28&#45;&gt;29</title>\r\n",
       "<path fill=\"none\" stroke=\"black\" d=\"M1046.12,-222.907C1037.48,-211.542 1028.07,-199.178 1019.4,-187.774\"/>\r\n",
       "<polygon fill=\"black\" stroke=\"black\" points=\"1022.07,-185.507 1013.23,-179.667 1016.5,-189.745 1022.07,-185.507\"/>\r\n",
       "</g>\r\n",
       "<!-- 30 -->\r\n",
       "<g id=\"node31\" class=\"node\"><title>30</title>\r\n",
       "<path fill=\"#e58139\" stroke=\"black\" d=\"M1116,-179.5C1116,-179.5 1054,-179.5 1054,-179.5 1048,-179.5 1042,-173.5 1042,-167.5 1042,-167.5 1042,-123.5 1042,-123.5 1042,-117.5 1048,-111.5 1054,-111.5 1054,-111.5 1116,-111.5 1116,-111.5 1122,-111.5 1128,-117.5 1128,-123.5 1128,-123.5 1128,-167.5 1128,-167.5 1128,-173.5 1122,-179.5 1116,-179.5\"/>\r\n",
       "<text text-anchor=\"middle\" x=\"1085\" y=\"-164.3\" font-family=\"Helvetica,sans-Serif\" font-size=\"14.00\">0.0</text>\r\n",
       "<text text-anchor=\"middle\" x=\"1085\" y=\"-149.3\" font-family=\"Helvetica,sans-Serif\" font-size=\"14.00\">2.1%</text>\r\n",
       "<text text-anchor=\"middle\" x=\"1085\" y=\"-134.3\" font-family=\"Helvetica,sans-Serif\" font-size=\"14.00\">[1.0, 0.0]</text>\r\n",
       "<text text-anchor=\"middle\" x=\"1085\" y=\"-119.3\" font-family=\"Helvetica,sans-Serif\" font-size=\"14.00\">no disease</text>\r\n",
       "</g>\r\n",
       "<!-- 28&#45;&gt;30 -->\r\n",
       "<g id=\"edge30\" class=\"edge\"><title>28&#45;&gt;30</title>\r\n",
       "<path fill=\"none\" stroke=\"black\" d=\"M1079.78,-222.907C1080.51,-212.204 1081.3,-200.615 1082.04,-189.776\"/>\r\n",
       "<polygon fill=\"black\" stroke=\"black\" points=\"1085.54,-189.882 1082.73,-179.667 1078.56,-189.405 1085.54,-189.882\"/>\r\n",
       "</g>\r\n",
       "<!-- 32 -->\r\n",
       "<g id=\"node33\" class=\"node\"><title>32</title>\r\n",
       "<path fill=\"#eca06a\" stroke=\"black\" d=\"M1256,-187C1256,-187 1158,-187 1158,-187 1152,-187 1146,-181 1146,-175 1146,-175 1146,-116 1146,-116 1146,-110 1152,-104 1158,-104 1158,-104 1256,-104 1256,-104 1262,-104 1268,-110 1268,-116 1268,-116 1268,-175 1268,-175 1268,-181 1262,-187 1256,-187\"/>\r\n",
       "<text text-anchor=\"middle\" x=\"1207\" y=\"-171.8\" font-family=\"Helvetica,sans-Serif\" font-size=\"14.00\">thalach &lt;= 159.5</text>\r\n",
       "<text text-anchor=\"middle\" x=\"1207\" y=\"-156.8\" font-family=\"Helvetica,sans-Serif\" font-size=\"14.00\">0.32</text>\r\n",
       "<text text-anchor=\"middle\" x=\"1207\" y=\"-141.8\" font-family=\"Helvetica,sans-Serif\" font-size=\"14.00\">2.1%</text>\r\n",
       "<text text-anchor=\"middle\" x=\"1207\" y=\"-126.8\" font-family=\"Helvetica,sans-Serif\" font-size=\"14.00\">[0.8, 0.2]</text>\r\n",
       "<text text-anchor=\"middle\" x=\"1207\" y=\"-111.8\" font-family=\"Helvetica,sans-Serif\" font-size=\"14.00\">no disease</text>\r\n",
       "</g>\r\n",
       "<!-- 31&#45;&gt;32 -->\r\n",
       "<g id=\"edge32\" class=\"edge\"><title>31&#45;&gt;32</title>\r\n",
       "<path fill=\"none\" stroke=\"black\" d=\"M1212.22,-222.907C1211.65,-214.558 1211.05,-205.671 1210.45,-197.02\"/>\r\n",
       "<polygon fill=\"black\" stroke=\"black\" points=\"1213.94,-196.759 1209.77,-187.021 1206.96,-197.236 1213.94,-196.759\"/>\r\n",
       "</g>\r\n",
       "<!-- 35 -->\r\n",
       "<g id=\"node36\" class=\"node\"><title>35</title>\r\n",
       "<path fill=\"#e58139\" stroke=\"black\" d=\"M1360,-179.5C1360,-179.5 1298,-179.5 1298,-179.5 1292,-179.5 1286,-173.5 1286,-167.5 1286,-167.5 1286,-123.5 1286,-123.5 1286,-117.5 1292,-111.5 1298,-111.5 1298,-111.5 1360,-111.5 1360,-111.5 1366,-111.5 1372,-117.5 1372,-123.5 1372,-123.5 1372,-167.5 1372,-167.5 1372,-173.5 1366,-179.5 1360,-179.5\"/>\r\n",
       "<text text-anchor=\"middle\" x=\"1329\" y=\"-164.3\" font-family=\"Helvetica,sans-Serif\" font-size=\"14.00\">0.0</text>\r\n",
       "<text text-anchor=\"middle\" x=\"1329\" y=\"-149.3\" font-family=\"Helvetica,sans-Serif\" font-size=\"14.00\">18.6%</text>\r\n",
       "<text text-anchor=\"middle\" x=\"1329\" y=\"-134.3\" font-family=\"Helvetica,sans-Serif\" font-size=\"14.00\">[1.0, 0.0]</text>\r\n",
       "<text text-anchor=\"middle\" x=\"1329\" y=\"-119.3\" font-family=\"Helvetica,sans-Serif\" font-size=\"14.00\">no disease</text>\r\n",
       "</g>\r\n",
       "<!-- 31&#45;&gt;35 -->\r\n",
       "<g id=\"edge35\" class=\"edge\"><title>31&#45;&gt;35</title>\r\n",
       "<path fill=\"none\" stroke=\"black\" d=\"M1254.55,-222.907C1265.84,-211.321 1278.14,-198.698 1289.43,-187.111\"/>\r\n",
       "<polygon fill=\"black\" stroke=\"black\" points=\"1292.21,-189.272 1296.68,-179.667 1287.2,-184.387 1292.21,-189.272\"/>\r\n",
       "</g>\r\n",
       "<!-- 33 -->\r\n",
       "<g id=\"node34\" class=\"node\"><title>33</title>\r\n",
       "<path fill=\"#e58139\" stroke=\"black\" d=\"M1179,-68C1179,-68 1117,-68 1117,-68 1111,-68 1105,-62 1105,-56 1105,-56 1105,-12 1105,-12 1105,-6 1111,-0 1117,-0 1117,-0 1179,-0 1179,-0 1185,-0 1191,-6 1191,-12 1191,-12 1191,-56 1191,-56 1191,-62 1185,-68 1179,-68\"/>\r\n",
       "<text text-anchor=\"middle\" x=\"1148\" y=\"-52.8\" font-family=\"Helvetica,sans-Serif\" font-size=\"14.00\">0.0</text>\r\n",
       "<text text-anchor=\"middle\" x=\"1148\" y=\"-37.8\" font-family=\"Helvetica,sans-Serif\" font-size=\"14.00\">1.7%</text>\r\n",
       "<text text-anchor=\"middle\" x=\"1148\" y=\"-22.8\" font-family=\"Helvetica,sans-Serif\" font-size=\"14.00\">[1.0, 0.0]</text>\r\n",
       "<text text-anchor=\"middle\" x=\"1148\" y=\"-7.8\" font-family=\"Helvetica,sans-Serif\" font-size=\"14.00\">no disease</text>\r\n",
       "</g>\r\n",
       "<!-- 32&#45;&gt;33 -->\r\n",
       "<g id=\"edge33\" class=\"edge\"><title>32&#45;&gt;33</title>\r\n",
       "<path fill=\"none\" stroke=\"black\" d=\"M1185.03,-103.726C1180.36,-95.0615 1175.42,-85.8962 1170.73,-77.1802\"/>\r\n",
       "<polygon fill=\"black\" stroke=\"black\" points=\"1173.77,-75.4428 1165.94,-68.2996 1167.6,-78.7632 1173.77,-75.4428\"/>\r\n",
       "</g>\r\n",
       "<!-- 34 -->\r\n",
       "<g id=\"node35\" class=\"node\"><title>34</title>\r\n",
       "<path fill=\"#399de5\" stroke=\"black\" d=\"M1269,-68C1269,-68 1221,-68 1221,-68 1215,-68 1209,-62 1209,-56 1209,-56 1209,-12 1209,-12 1209,-6 1215,-0 1221,-0 1221,-0 1269,-0 1269,-0 1275,-0 1281,-6 1281,-12 1281,-12 1281,-56 1281,-56 1281,-62 1275,-68 1269,-68\"/>\r\n",
       "<text text-anchor=\"middle\" x=\"1245\" y=\"-52.8\" font-family=\"Helvetica,sans-Serif\" font-size=\"14.00\">0.0</text>\r\n",
       "<text text-anchor=\"middle\" x=\"1245\" y=\"-37.8\" font-family=\"Helvetica,sans-Serif\" font-size=\"14.00\">0.4%</text>\r\n",
       "<text text-anchor=\"middle\" x=\"1245\" y=\"-22.8\" font-family=\"Helvetica,sans-Serif\" font-size=\"14.00\">[0.0, 1.0]</text>\r\n",
       "<text text-anchor=\"middle\" x=\"1245\" y=\"-7.8\" font-family=\"Helvetica,sans-Serif\" font-size=\"14.00\">disease</text>\r\n",
       "</g>\r\n",
       "<!-- 32&#45;&gt;34 -->\r\n",
       "<g id=\"edge34\" class=\"edge\"><title>32&#45;&gt;34</title>\r\n",
       "<path fill=\"none\" stroke=\"black\" d=\"M1221.15,-103.726C1224.06,-95.3351 1227.14,-86.4745 1230.08,-78.0072\"/>\r\n",
       "<polygon fill=\"black\" stroke=\"black\" points=\"1233.47,-78.8944 1233.44,-68.2996 1226.86,-76.5994 1233.47,-78.8944\"/>\r\n",
       "</g>\r\n",
       "<!-- 37 -->\r\n",
       "<g id=\"node38\" class=\"node\"><title>37</title>\r\n",
       "<path fill=\"#f1bc95\" stroke=\"black\" d=\"M1524,-306C1524,-306 1426,-306 1426,-306 1420,-306 1414,-300 1414,-294 1414,-294 1414,-235 1414,-235 1414,-229 1420,-223 1426,-223 1426,-223 1524,-223 1524,-223 1530,-223 1536,-229 1536,-235 1536,-235 1536,-294 1536,-294 1536,-300 1530,-306 1524,-306\"/>\r\n",
       "<text text-anchor=\"middle\" x=\"1475\" y=\"-290.8\" font-family=\"Helvetica,sans-Serif\" font-size=\"14.00\">thalach &lt;= 141.5</text>\r\n",
       "<text text-anchor=\"middle\" x=\"1475\" y=\"-275.8\" font-family=\"Helvetica,sans-Serif\" font-size=\"14.00\">0.43</text>\r\n",
       "<text text-anchor=\"middle\" x=\"1475\" y=\"-260.8\" font-family=\"Helvetica,sans-Serif\" font-size=\"14.00\">9.1%</text>\r\n",
       "<text text-anchor=\"middle\" x=\"1475\" y=\"-245.8\" font-family=\"Helvetica,sans-Serif\" font-size=\"14.00\">[0.68, 0.32]</text>\r\n",
       "<text text-anchor=\"middle\" x=\"1475\" y=\"-230.8\" font-family=\"Helvetica,sans-Serif\" font-size=\"14.00\">no disease</text>\r\n",
       "</g>\r\n",
       "<!-- 36&#45;&gt;37 -->\r\n",
       "<g id=\"edge37\" class=\"edge\"><title>36&#45;&gt;37</title>\r\n",
       "<path fill=\"none\" stroke=\"black\" d=\"M1475,-341.907C1475,-333.649 1475,-324.864 1475,-316.302\"/>\r\n",
       "<polygon fill=\"black\" stroke=\"black\" points=\"1478.5,-316.021 1475,-306.021 1471.5,-316.021 1478.5,-316.021\"/>\r\n",
       "</g>\r\n",
       "<!-- 42 -->\r\n",
       "<g id=\"node43\" class=\"node\"><title>42</title>\r\n",
       "<path fill=\"#74baed\" stroke=\"black\" d=\"M1713.5,-306C1713.5,-306 1608.5,-306 1608.5,-306 1602.5,-306 1596.5,-300 1596.5,-294 1596.5,-294 1596.5,-235 1596.5,-235 1596.5,-229 1602.5,-223 1608.5,-223 1608.5,-223 1713.5,-223 1713.5,-223 1719.5,-223 1725.5,-229 1725.5,-235 1725.5,-235 1725.5,-294 1725.5,-294 1725.5,-300 1719.5,-306 1713.5,-306\"/>\r\n",
       "<text text-anchor=\"middle\" x=\"1661\" y=\"-290.8\" font-family=\"Helvetica,sans-Serif\" font-size=\"14.00\">trestbps &lt;= 182.0</text>\r\n",
       "<text text-anchor=\"middle\" x=\"1661\" y=\"-275.8\" font-family=\"Helvetica,sans-Serif\" font-size=\"14.00\">0.36</text>\r\n",
       "<text text-anchor=\"middle\" x=\"1661\" y=\"-260.8\" font-family=\"Helvetica,sans-Serif\" font-size=\"14.00\">5.4%</text>\r\n",
       "<text text-anchor=\"middle\" x=\"1661\" y=\"-245.8\" font-family=\"Helvetica,sans-Serif\" font-size=\"14.00\">[0.23, 0.77]</text>\r\n",
       "<text text-anchor=\"middle\" x=\"1661\" y=\"-230.8\" font-family=\"Helvetica,sans-Serif\" font-size=\"14.00\">disease</text>\r\n",
       "</g>\r\n",
       "<!-- 36&#45;&gt;42 -->\r\n",
       "<g id=\"edge42\" class=\"edge\"><title>36&#45;&gt;42</title>\r\n",
       "<path fill=\"none\" stroke=\"black\" d=\"M1523.38,-352.065C1543.05,-339.692 1566.21,-325.124 1587.87,-311.503\"/>\r\n",
       "<polygon fill=\"black\" stroke=\"black\" points=\"1589.8,-314.424 1596.4,-306.137 1586.07,-308.499 1589.8,-314.424\"/>\r\n",
       "</g>\r\n",
       "<!-- 38 -->\r\n",
       "<g id=\"node39\" class=\"node\"><title>38</title>\r\n",
       "<path fill=\"#e58139\" stroke=\"black\" d=\"M1464,-179.5C1464,-179.5 1402,-179.5 1402,-179.5 1396,-179.5 1390,-173.5 1390,-167.5 1390,-167.5 1390,-123.5 1390,-123.5 1390,-117.5 1396,-111.5 1402,-111.5 1402,-111.5 1464,-111.5 1464,-111.5 1470,-111.5 1476,-117.5 1476,-123.5 1476,-123.5 1476,-167.5 1476,-167.5 1476,-173.5 1470,-179.5 1464,-179.5\"/>\r\n",
       "<text text-anchor=\"middle\" x=\"1433\" y=\"-164.3\" font-family=\"Helvetica,sans-Serif\" font-size=\"14.00\">0.0</text>\r\n",
       "<text text-anchor=\"middle\" x=\"1433\" y=\"-149.3\" font-family=\"Helvetica,sans-Serif\" font-size=\"14.00\">2.5%</text>\r\n",
       "<text text-anchor=\"middle\" x=\"1433\" y=\"-134.3\" font-family=\"Helvetica,sans-Serif\" font-size=\"14.00\">[1.0, 0.0]</text>\r\n",
       "<text text-anchor=\"middle\" x=\"1433\" y=\"-119.3\" font-family=\"Helvetica,sans-Serif\" font-size=\"14.00\">no disease</text>\r\n",
       "</g>\r\n",
       "<!-- 37&#45;&gt;38 -->\r\n",
       "<g id=\"edge38\" class=\"edge\"><title>37&#45;&gt;38</title>\r\n",
       "<path fill=\"none\" stroke=\"black\" d=\"M1460.43,-222.907C1456.51,-211.983 1452.25,-200.137 1448.29,-189.107\"/>\r\n",
       "<polygon fill=\"black\" stroke=\"black\" points=\"1451.58,-187.896 1444.91,-179.667 1444.99,-190.261 1451.58,-187.896\"/>\r\n",
       "</g>\r\n",
       "<!-- 39 -->\r\n",
       "<g id=\"node40\" class=\"node\"><title>39</title>\r\n",
       "<path fill=\"#f9e3d3\" stroke=\"black\" d=\"M1586,-187C1586,-187 1506,-187 1506,-187 1500,-187 1494,-181 1494,-175 1494,-175 1494,-116 1494,-116 1494,-110 1500,-104 1506,-104 1506,-104 1586,-104 1586,-104 1592,-104 1598,-110 1598,-116 1598,-116 1598,-175 1598,-175 1598,-181 1592,-187 1586,-187\"/>\r\n",
       "<text text-anchor=\"middle\" x=\"1546\" y=\"-171.8\" font-family=\"Helvetica,sans-Serif\" font-size=\"14.00\">chol &lt;= 293.0</text>\r\n",
       "<text text-anchor=\"middle\" x=\"1546\" y=\"-156.8\" font-family=\"Helvetica,sans-Serif\" font-size=\"14.00\">0.49</text>\r\n",
       "<text text-anchor=\"middle\" x=\"1546\" y=\"-141.8\" font-family=\"Helvetica,sans-Serif\" font-size=\"14.00\">6.6%</text>\r\n",
       "<text text-anchor=\"middle\" x=\"1546\" y=\"-126.8\" font-family=\"Helvetica,sans-Serif\" font-size=\"14.00\">[0.56, 0.44]</text>\r\n",
       "<text text-anchor=\"middle\" x=\"1546\" y=\"-111.8\" font-family=\"Helvetica,sans-Serif\" font-size=\"14.00\">no disease</text>\r\n",
       "</g>\r\n",
       "<!-- 37&#45;&gt;39 -->\r\n",
       "<g id=\"edge39\" class=\"edge\"><title>37&#45;&gt;39</title>\r\n",
       "<path fill=\"none\" stroke=\"black\" d=\"M1499.63,-222.907C1504.97,-214.105 1510.68,-204.703 1516.2,-195.612\"/>\r\n",
       "<polygon fill=\"black\" stroke=\"black\" points=\"1519.21,-197.386 1521.41,-187.021 1513.23,-193.754 1519.21,-197.386\"/>\r\n",
       "</g>\r\n",
       "<!-- 40 -->\r\n",
       "<g id=\"node41\" class=\"node\"><title>40</title>\r\n",
       "<path fill=\"#f3c7a7\" stroke=\"black\" d=\"M1483.5,-68C1483.5,-68 1418.5,-68 1418.5,-68 1412.5,-68 1406.5,-62 1406.5,-56 1406.5,-56 1406.5,-12 1406.5,-12 1406.5,-6 1412.5,-0 1418.5,-0 1418.5,-0 1483.5,-0 1483.5,-0 1489.5,-0 1495.5,-6 1495.5,-12 1495.5,-12 1495.5,-56 1495.5,-56 1495.5,-62 1489.5,-68 1483.5,-68\"/>\r\n",
       "<text text-anchor=\"middle\" x=\"1451\" y=\"-52.8\" font-family=\"Helvetica,sans-Serif\" font-size=\"14.00\">0.46</text>\r\n",
       "<text text-anchor=\"middle\" x=\"1451\" y=\"-37.8\" font-family=\"Helvetica,sans-Serif\" font-size=\"14.00\">5.8%</text>\r\n",
       "<text text-anchor=\"middle\" x=\"1451\" y=\"-22.8\" font-family=\"Helvetica,sans-Serif\" font-size=\"14.00\">[0.64, 0.36]</text>\r\n",
       "<text text-anchor=\"middle\" x=\"1451\" y=\"-7.8\" font-family=\"Helvetica,sans-Serif\" font-size=\"14.00\">no disease</text>\r\n",
       "</g>\r\n",
       "<!-- 39&#45;&gt;40 -->\r\n",
       "<g id=\"edge40\" class=\"edge\"><title>39&#45;&gt;40</title>\r\n",
       "<path fill=\"none\" stroke=\"black\" d=\"M1510.63,-103.726C1502.79,-94.6966 1494.49,-85.1235 1486.64,-76.0816\"/>\r\n",
       "<polygon fill=\"black\" stroke=\"black\" points=\"1489.09,-73.5595 1479.89,-68.2996 1483.8,-78.1467 1489.09,-73.5595\"/>\r\n",
       "</g>\r\n",
       "<!-- 41 -->\r\n",
       "<g id=\"node42\" class=\"node\"><title>41</title>\r\n",
       "<path fill=\"#399de5\" stroke=\"black\" d=\"M1574,-68C1574,-68 1526,-68 1526,-68 1520,-68 1514,-62 1514,-56 1514,-56 1514,-12 1514,-12 1514,-6 1520,-0 1526,-0 1526,-0 1574,-0 1574,-0 1580,-0 1586,-6 1586,-12 1586,-12 1586,-56 1586,-56 1586,-62 1580,-68 1574,-68\"/>\r\n",
       "<text text-anchor=\"middle\" x=\"1550\" y=\"-52.8\" font-family=\"Helvetica,sans-Serif\" font-size=\"14.00\">0.0</text>\r\n",
       "<text text-anchor=\"middle\" x=\"1550\" y=\"-37.8\" font-family=\"Helvetica,sans-Serif\" font-size=\"14.00\">0.8%</text>\r\n",
       "<text text-anchor=\"middle\" x=\"1550\" y=\"-22.8\" font-family=\"Helvetica,sans-Serif\" font-size=\"14.00\">[0.0, 1.0]</text>\r\n",
       "<text text-anchor=\"middle\" x=\"1550\" y=\"-7.8\" font-family=\"Helvetica,sans-Serif\" font-size=\"14.00\">disease</text>\r\n",
       "</g>\r\n",
       "<!-- 39&#45;&gt;41 -->\r\n",
       "<g id=\"edge41\" class=\"edge\"><title>39&#45;&gt;41</title>\r\n",
       "<path fill=\"none\" stroke=\"black\" d=\"M1547.49,-103.726C1547.79,-95.5175 1548.11,-86.8595 1548.41,-78.56\"/>\r\n",
       "<polygon fill=\"black\" stroke=\"black\" points=\"1551.92,-78.4207 1548.78,-68.2996 1544.92,-78.1651 1551.92,-78.4207\"/>\r\n",
       "</g>\r\n",
       "<!-- 43 -->\r\n",
       "<g id=\"node44\" class=\"node\"><title>43</title>\r\n",
       "<path fill=\"#61b1ea\" stroke=\"black\" d=\"M1693.5,-187C1693.5,-187 1628.5,-187 1628.5,-187 1622.5,-187 1616.5,-181 1616.5,-175 1616.5,-175 1616.5,-116 1616.5,-116 1616.5,-110 1622.5,-104 1628.5,-104 1628.5,-104 1693.5,-104 1693.5,-104 1699.5,-104 1705.5,-110 1705.5,-116 1705.5,-116 1705.5,-175 1705.5,-175 1705.5,-181 1699.5,-187 1693.5,-187\"/>\r\n",
       "<text text-anchor=\"middle\" x=\"1661\" y=\"-171.8\" font-family=\"Helvetica,sans-Serif\" font-size=\"14.00\">ca &lt;= 1.5</text>\r\n",
       "<text text-anchor=\"middle\" x=\"1661\" y=\"-156.8\" font-family=\"Helvetica,sans-Serif\" font-size=\"14.00\">0.28</text>\r\n",
       "<text text-anchor=\"middle\" x=\"1661\" y=\"-141.8\" font-family=\"Helvetica,sans-Serif\" font-size=\"14.00\">5.0%</text>\r\n",
       "<text text-anchor=\"middle\" x=\"1661\" y=\"-126.8\" font-family=\"Helvetica,sans-Serif\" font-size=\"14.00\">[0.17, 0.83]</text>\r\n",
       "<text text-anchor=\"middle\" x=\"1661\" y=\"-111.8\" font-family=\"Helvetica,sans-Serif\" font-size=\"14.00\">disease</text>\r\n",
       "</g>\r\n",
       "<!-- 42&#45;&gt;43 -->\r\n",
       "<g id=\"edge43\" class=\"edge\"><title>42&#45;&gt;43</title>\r\n",
       "<path fill=\"none\" stroke=\"black\" d=\"M1661,-222.907C1661,-214.649 1661,-205.864 1661,-197.302\"/>\r\n",
       "<polygon fill=\"black\" stroke=\"black\" points=\"1664.5,-197.021 1661,-187.021 1657.5,-197.021 1664.5,-197.021\"/>\r\n",
       "</g>\r\n",
       "<!-- 46 -->\r\n",
       "<g id=\"node47\" class=\"node\"><title>46</title>\r\n",
       "<path fill=\"#e58139\" stroke=\"black\" d=\"M1798,-179.5C1798,-179.5 1736,-179.5 1736,-179.5 1730,-179.5 1724,-173.5 1724,-167.5 1724,-167.5 1724,-123.5 1724,-123.5 1724,-117.5 1730,-111.5 1736,-111.5 1736,-111.5 1798,-111.5 1798,-111.5 1804,-111.5 1810,-117.5 1810,-123.5 1810,-123.5 1810,-167.5 1810,-167.5 1810,-173.5 1804,-179.5 1798,-179.5\"/>\r\n",
       "<text text-anchor=\"middle\" x=\"1767\" y=\"-164.3\" font-family=\"Helvetica,sans-Serif\" font-size=\"14.00\">0.0</text>\r\n",
       "<text text-anchor=\"middle\" x=\"1767\" y=\"-149.3\" font-family=\"Helvetica,sans-Serif\" font-size=\"14.00\">0.4%</text>\r\n",
       "<text text-anchor=\"middle\" x=\"1767\" y=\"-134.3\" font-family=\"Helvetica,sans-Serif\" font-size=\"14.00\">[1.0, 0.0]</text>\r\n",
       "<text text-anchor=\"middle\" x=\"1767\" y=\"-119.3\" font-family=\"Helvetica,sans-Serif\" font-size=\"14.00\">no disease</text>\r\n",
       "</g>\r\n",
       "<!-- 42&#45;&gt;46 -->\r\n",
       "<g id=\"edge46\" class=\"edge\"><title>42&#45;&gt;46</title>\r\n",
       "<path fill=\"none\" stroke=\"black\" d=\"M1697.78,-222.907C1708.27,-211.321 1719.71,-198.698 1730.21,-187.111\"/>\r\n",
       "<polygon fill=\"black\" stroke=\"black\" points=\"1732.83,-189.428 1736.95,-179.667 1727.64,-184.728 1732.83,-189.428\"/>\r\n",
       "</g>\r\n",
       "<!-- 44 -->\r\n",
       "<g id=\"node45\" class=\"node\"><title>44</title>\r\n",
       "<path fill=\"#4da7e8\" stroke=\"black\" d=\"M1689.5,-68C1689.5,-68 1624.5,-68 1624.5,-68 1618.5,-68 1612.5,-62 1612.5,-56 1612.5,-56 1612.5,-12 1612.5,-12 1612.5,-6 1618.5,-0 1624.5,-0 1624.5,-0 1689.5,-0 1689.5,-0 1695.5,-0 1701.5,-6 1701.5,-12 1701.5,-12 1701.5,-56 1701.5,-56 1701.5,-62 1695.5,-68 1689.5,-68\"/>\r\n",
       "<text text-anchor=\"middle\" x=\"1657\" y=\"-52.8\" font-family=\"Helvetica,sans-Serif\" font-size=\"14.00\">0.17</text>\r\n",
       "<text text-anchor=\"middle\" x=\"1657\" y=\"-37.8\" font-family=\"Helvetica,sans-Serif\" font-size=\"14.00\">4.5%</text>\r\n",
       "<text text-anchor=\"middle\" x=\"1657\" y=\"-22.8\" font-family=\"Helvetica,sans-Serif\" font-size=\"14.00\">[0.09, 0.91]</text>\r\n",
       "<text text-anchor=\"middle\" x=\"1657\" y=\"-7.8\" font-family=\"Helvetica,sans-Serif\" font-size=\"14.00\">disease</text>\r\n",
       "</g>\r\n",
       "<!-- 43&#45;&gt;44 -->\r\n",
       "<g id=\"edge44\" class=\"edge\"><title>43&#45;&gt;44</title>\r\n",
       "<path fill=\"none\" stroke=\"black\" d=\"M1659.51,-103.726C1659.21,-95.5175 1658.89,-86.8595 1658.59,-78.56\"/>\r\n",
       "<polygon fill=\"black\" stroke=\"black\" points=\"1662.08,-78.1651 1658.22,-68.2996 1655.08,-78.4207 1662.08,-78.1651\"/>\r\n",
       "</g>\r\n",
       "<!-- 45 -->\r\n",
       "<g id=\"node46\" class=\"node\"><title>45</title>\r\n",
       "<path fill=\"#e58139\" stroke=\"black\" d=\"M1794,-68C1794,-68 1732,-68 1732,-68 1726,-68 1720,-62 1720,-56 1720,-56 1720,-12 1720,-12 1720,-6 1726,-0 1732,-0 1732,-0 1794,-0 1794,-0 1800,-0 1806,-6 1806,-12 1806,-12 1806,-56 1806,-56 1806,-62 1800,-68 1794,-68\"/>\r\n",
       "<text text-anchor=\"middle\" x=\"1763\" y=\"-52.8\" font-family=\"Helvetica,sans-Serif\" font-size=\"14.00\">0.0</text>\r\n",
       "<text text-anchor=\"middle\" x=\"1763\" y=\"-37.8\" font-family=\"Helvetica,sans-Serif\" font-size=\"14.00\">0.4%</text>\r\n",
       "<text text-anchor=\"middle\" x=\"1763\" y=\"-22.8\" font-family=\"Helvetica,sans-Serif\" font-size=\"14.00\">[1.0, 0.0]</text>\r\n",
       "<text text-anchor=\"middle\" x=\"1763\" y=\"-7.8\" font-family=\"Helvetica,sans-Serif\" font-size=\"14.00\">no disease</text>\r\n",
       "</g>\r\n",
       "<!-- 43&#45;&gt;45 -->\r\n",
       "<g id=\"edge45\" class=\"edge\"><title>43&#45;&gt;45</title>\r\n",
       "<path fill=\"none\" stroke=\"black\" d=\"M1698.98,-103.726C1707.48,-94.6054 1716.49,-84.93 1724.99,-75.8078\"/>\r\n",
       "<polygon fill=\"black\" stroke=\"black\" points=\"1727.73,-78.0025 1731.98,-68.2996 1722.6,-73.2312 1727.73,-78.0025\"/>\r\n",
       "</g>\r\n",
       "</g>\r\n",
       "</svg>\r\n"
      ],
      "text/plain": [
       "<graphviz.files.Source at 0x222a55e0250>"
      ]
     },
     "execution_count": 354,
     "metadata": {},
     "output_type": "execute_result"
    }
   ],
   "source": [
    "feature_names = [i for i in X_train.columns]\n",
    "\n",
    "Y_train_str = Y_train.astype('str')\n",
    "Y_train_str[Y_train_str == '0'] = 'no disease'\n",
    "Y_train_str[Y_train_str == '1'] = 'disease'\n",
    "Y_train_str = Y_train_str.values\n",
    "\n",
    "tree=export_graphviz(dectree, out_file=None, \n",
    "                feature_names = feature_names,\n",
    "                class_names = Y_train_str,\n",
    "                rounded = True, proportion = True, \n",
    "                label='root',\n",
    "                precision = 2, filled = True)\n",
    "graphviz.Source(tree)"
   ]
  },
  {
   "cell_type": "markdown",
   "metadata": {},
   "source": [
    "#### The names of target has been changed to 'disease' and 'no disease' for better visualization"
   ]
  },
  {
   "cell_type": "markdown",
   "metadata": {},
   "source": [
    "## Decision tree evaluation"
   ]
  },
  {
   "cell_type": "code",
   "execution_count": 355,
   "metadata": {},
   "outputs": [
    {
     "name": "stdout",
     "output_type": "stream",
     "text": [
      "Decision Tree Test Accuracy 0.8033\n"
     ]
    }
   ],
   "source": [
    "from sklearn.tree import DecisionTreeClassifier\n",
    "from sklearn.metrics import accuracy_score\n",
    "\n",
    "Y_pred = dectree.predict(X_test)\n",
    "\n",
    "acc = accuracy_score(Y_test, Y_pred)\n",
    "accuracies['Decision Tree'] = acc\n",
    "print(\"Decision Tree Test Accuracy {0:0.4f}\".format(acc))"
   ]
  },
  {
   "cell_type": "code",
   "execution_count": 356,
   "metadata": {},
   "outputs": [],
   "source": [
    "from sklearn.metrics import roc_curve, auc #for model evaluation\n",
    "from sklearn.metrics import confusion_matrix"
   ]
  },
  {
   "cell_type": "code",
   "execution_count": 357,
   "metadata": {},
   "outputs": [
    {
     "data": {
      "text/plain": [
       "array([[23,  3],\n",
       "       [ 9, 26]], dtype=int64)"
      ]
     },
     "execution_count": 357,
     "metadata": {},
     "output_type": "execute_result"
    }
   ],
   "source": [
    "confusion_matrix = confusion_matrix(Y_test, Y_pred)\n",
    "confusion_matrix"
   ]
  },
  {
   "cell_type": "code",
   "execution_count": 358,
   "metadata": {},
   "outputs": [
    {
     "name": "stdout",
     "output_type": "stream",
     "text": [
      "Sensitivity :  0.71875\n",
      "Specificity :  0.896551724137931\n"
     ]
    }
   ],
   "source": [
    "total=sum(sum(confusion_matrix))\n",
    "\n",
    "sensitivity = confusion_matrix[0,0]/(confusion_matrix[0,0]+confusion_matrix[1,0])\n",
    "print('Sensitivity : ', sensitivity )\n",
    "\n",
    "specificity = confusion_matrix[1,1]/(confusion_matrix[1,1]+confusion_matrix[0,1])\n",
    "print('Specificity : ', specificity)"
   ]
  },
  {
   "cell_type": "markdown",
   "metadata": {},
   "source": [
    "#### Sensitivity and specificity have the same way of calculating the true positive rate and true negative rate"
   ]
  },
  {
   "cell_type": "code",
   "execution_count": 359,
   "metadata": {},
   "outputs": [
    {
     "data": {
      "text/plain": [
       "<matplotlib.axes._subplots.AxesSubplot at 0x222a5733730>"
      ]
     },
     "execution_count": 359,
     "metadata": {},
     "output_type": "execute_result"
    },
    {
     "data": {
      "image/png": "[encoded data removed]",
      "text/plain": [
       "<Figure size 432x288 with 2 Axes>"
      ]
     },
     "metadata": {},
     "output_type": "display_data"
    }
   ],
   "source": [
    "# Plot the two-way Confusion Matrix\n",
    "from sklearn.metrics import confusion_matrix\n",
    "sb.heatmap(confusion_matrix(Y_test, Y_pred), \n",
    "           annot = True, fmt=\".0f\", annot_kws={\"size\": 18})"
   ]
  },
  {
   "cell_type": "code",
   "execution_count": 360,
   "metadata": {},
   "outputs": [],
   "source": [
    "# ROC curve for the model evaluation\n",
    "Y_pred_quant = dectree.predict_proba(X_test)[:, 1]"
   ]
  },
  {
   "cell_type": "code",
   "execution_count": 361,
   "metadata": {},
   "outputs": [
    {
     "name": "stdout",
     "output_type": "stream",
     "text": [
      "AUC:  0.8813186813186813\n"
     ]
    },
    {
     "data": {
      "image/png": "[encoded data removed]",
      "text/plain": [
       "<Figure size 432x288 with 1 Axes>"
      ]
     },
     "metadata": {},
     "output_type": "display_data"
    }
   ],
   "source": [
    "fpr, tpr, thresholds = roc_curve(Y_test, Y_pred_quant)\n",
    "\n",
    "fig, ax = plt.subplots()\n",
    "ax.plot(fpr, tpr)\n",
    "ax.plot([0, 1], [0, 1], transform=ax.transAxes, ls=\"--\", c=\".3\")\n",
    "plt.xlim([0.0, 1.0])\n",
    "plt.ylim([0.0, 1.0])\n",
    "plt.rcParams['font.size'] = 12\n",
    "plt.title('ROC curve for diabetes classifier')\n",
    "plt.xlabel('False Positive Rate (1 - Specificity)')\n",
    "plt.ylabel('True Positive Rate (Sensitivity)')\n",
    "plt.grid(True)\n",
    "print('AUC: ',auc(fpr, tpr))"
   ]
  },
  {
   "cell_type": "markdown",
   "metadata": {},
   "source": [
    "#####  Area Under the Curve\n",
    "###### 0.90 - 1.00 = excellent \n",
    "###### 0.80 - 0.90 = good\n",
    "###### 0.70 - 0.80 = fair                            \n",
    "###### 0.60 - 0.70 = poor                                \n",
    "###### 0.50 - 0.60 = fail"
   ]
  },
  {
   "cell_type": "markdown",
   "metadata": {},
   "source": [
    "# Create Dummy Variables"
   ]
  },
  {
   "cell_type": "code",
   "execution_count": 362,
   "metadata": {},
   "outputs": [],
   "source": [
    "a = pd.get_dummies(df['cp'], prefix = \"cp\")\n",
    "b = pd.get_dummies(df['thal'], prefix = \"thal\")\n",
    "c = pd.get_dummies(df['slope'], prefix = \"slope\")\n",
    "d = pd.get_dummies(df['restecg'], prefix = \"restecg\")"
   ]
  },
  {
   "cell_type": "code",
   "execution_count": 363,
   "metadata": {
    "scrolled": true
   },
   "outputs": [
    {
     "data": {
      "text/html": [
       "<div>\n",
       "<style scoped>\n",
       "    .dataframe tbody tr th:only-of-type {\n",
       "        vertical-align: middle;\n",
       "    }\n",
       "\n",
       "    .dataframe tbody tr th {\n",
       "        vertical-align: top;\n",
       "    }\n",
       "\n",
       "    .dataframe thead th {\n",
       "        text-align: right;\n",
       "    }\n",
       "</style>\n",
       "<table border=\"1\" class=\"dataframe\">\n",
       "  <thead>\n",
       "    <tr style=\"text-align: right;\">\n",
       "      <th></th>\n",
       "      <th>age</th>\n",
       "      <th>sex</th>\n",
       "      <th>cp</th>\n",
       "      <th>trestbps</th>\n",
       "      <th>chol</th>\n",
       "      <th>fbs</th>\n",
       "      <th>restecg</th>\n",
       "      <th>thalach</th>\n",
       "      <th>exang</th>\n",
       "      <th>oldpeak</th>\n",
       "      <th>...</th>\n",
       "      <th>thal_0</th>\n",
       "      <th>thal_1</th>\n",
       "      <th>thal_2</th>\n",
       "      <th>thal_3</th>\n",
       "      <th>slope_0</th>\n",
       "      <th>slope_1</th>\n",
       "      <th>slope_2</th>\n",
       "      <th>restecg_0</th>\n",
       "      <th>restecg_1</th>\n",
       "      <th>restecg_2</th>\n",
       "    </tr>\n",
       "  </thead>\n",
       "  <tbody>\n",
       "    <tr>\n",
       "      <th>0</th>\n",
       "      <td>63</td>\n",
       "      <td>1</td>\n",
       "      <td>3</td>\n",
       "      <td>145</td>\n",
       "      <td>233</td>\n",
       "      <td>1</td>\n",
       "      <td>0</td>\n",
       "      <td>150</td>\n",
       "      <td>0</td>\n",
       "      <td>2.3</td>\n",
       "      <td>...</td>\n",
       "      <td>0</td>\n",
       "      <td>1</td>\n",
       "      <td>0</td>\n",
       "      <td>0</td>\n",
       "      <td>1</td>\n",
       "      <td>0</td>\n",
       "      <td>0</td>\n",
       "      <td>1</td>\n",
       "      <td>0</td>\n",
       "      <td>0</td>\n",
       "    </tr>\n",
       "    <tr>\n",
       "      <th>1</th>\n",
       "      <td>37</td>\n",
       "      <td>1</td>\n",
       "      <td>2</td>\n",
       "      <td>130</td>\n",
       "      <td>250</td>\n",
       "      <td>0</td>\n",
       "      <td>1</td>\n",
       "      <td>187</td>\n",
       "      <td>0</td>\n",
       "      <td>3.5</td>\n",
       "      <td>...</td>\n",
       "      <td>0</td>\n",
       "      <td>0</td>\n",
       "      <td>1</td>\n",
       "      <td>0</td>\n",
       "      <td>1</td>\n",
       "      <td>0</td>\n",
       "      <td>0</td>\n",
       "      <td>0</td>\n",
       "      <td>1</td>\n",
       "      <td>0</td>\n",
       "    </tr>\n",
       "    <tr>\n",
       "      <th>2</th>\n",
       "      <td>41</td>\n",
       "      <td>0</td>\n",
       "      <td>1</td>\n",
       "      <td>130</td>\n",
       "      <td>204</td>\n",
       "      <td>0</td>\n",
       "      <td>0</td>\n",
       "      <td>172</td>\n",
       "      <td>0</td>\n",
       "      <td>1.4</td>\n",
       "      <td>...</td>\n",
       "      <td>0</td>\n",
       "      <td>0</td>\n",
       "      <td>1</td>\n",
       "      <td>0</td>\n",
       "      <td>0</td>\n",
       "      <td>0</td>\n",
       "      <td>1</td>\n",
       "      <td>1</td>\n",
       "      <td>0</td>\n",
       "      <td>0</td>\n",
       "    </tr>\n",
       "    <tr>\n",
       "      <th>3</th>\n",
       "      <td>56</td>\n",
       "      <td>1</td>\n",
       "      <td>1</td>\n",
       "      <td>120</td>\n",
       "      <td>236</td>\n",
       "      <td>0</td>\n",
       "      <td>1</td>\n",
       "      <td>178</td>\n",
       "      <td>0</td>\n",
       "      <td>0.8</td>\n",
       "      <td>...</td>\n",
       "      <td>0</td>\n",
       "      <td>0</td>\n",
       "      <td>1</td>\n",
       "      <td>0</td>\n",
       "      <td>0</td>\n",
       "      <td>0</td>\n",
       "      <td>1</td>\n",
       "      <td>0</td>\n",
       "      <td>1</td>\n",
       "      <td>0</td>\n",
       "    </tr>\n",
       "    <tr>\n",
       "      <th>4</th>\n",
       "      <td>57</td>\n",
       "      <td>0</td>\n",
       "      <td>0</td>\n",
       "      <td>120</td>\n",
       "      <td>354</td>\n",
       "      <td>0</td>\n",
       "      <td>1</td>\n",
       "      <td>163</td>\n",
       "      <td>1</td>\n",
       "      <td>0.6</td>\n",
       "      <td>...</td>\n",
       "      <td>0</td>\n",
       "      <td>0</td>\n",
       "      <td>1</td>\n",
       "      <td>0</td>\n",
       "      <td>0</td>\n",
       "      <td>0</td>\n",
       "      <td>1</td>\n",
       "      <td>0</td>\n",
       "      <td>1</td>\n",
       "      <td>0</td>\n",
       "    </tr>\n",
       "  </tbody>\n",
       "</table>\n",
       "<p>5 rows × 28 columns</p>\n",
       "</div>"
      ],
      "text/plain": [
       "   age  sex  cp  trestbps  chol  fbs  restecg  thalach  exang  oldpeak  ...  \\\n",
       "0   63    1   3       145   233    1        0      150      0      2.3  ...   \n",
       "1   37    1   2       130   250    0        1      187      0      3.5  ...   \n",
       "2   41    0   1       130   204    0        0      172      0      1.4  ...   \n",
       "3   56    1   1       120   236    0        1      178      0      0.8  ...   \n",
       "4   57    0   0       120   354    0        1      163      1      0.6  ...   \n",
       "\n",
       "   thal_0  thal_1  thal_2  thal_3  slope_0  slope_1  slope_2  restecg_0  \\\n",
       "0       0       1       0       0        1        0        0          1   \n",
       "1       0       0       1       0        1        0        0          0   \n",
       "2       0       0       1       0        0        0        1          1   \n",
       "3       0       0       1       0        0        0        1          0   \n",
       "4       0       0       1       0        0        0        1          0   \n",
       "\n",
       "   restecg_1  restecg_2  \n",
       "0          0          0  \n",
       "1          1          0  \n",
       "2          0          0  \n",
       "3          1          0  \n",
       "4          1          0  \n",
       "\n",
       "[5 rows x 28 columns]"
      ]
     },
     "execution_count": 363,
     "metadata": {},
     "output_type": "execute_result"
    }
   ],
   "source": [
    "frames = [df, a, b, c, d]\n",
    "df = pd.concat(frames, axis = 1)\n",
    "df.head()"
   ]
  },
  {
   "cell_type": "code",
   "execution_count": 364,
   "metadata": {
    "scrolled": false
   },
   "outputs": [
    {
     "data": {
      "text/html": [
       "<div>\n",
       "<style scoped>\n",
       "    .dataframe tbody tr th:only-of-type {\n",
       "        vertical-align: middle;\n",
       "    }\n",
       "\n",
       "    .dataframe tbody tr th {\n",
       "        vertical-align: top;\n",
       "    }\n",
       "\n",
       "    .dataframe thead th {\n",
       "        text-align: right;\n",
       "    }\n",
       "</style>\n",
       "<table border=\"1\" class=\"dataframe\">\n",
       "  <thead>\n",
       "    <tr style=\"text-align: right;\">\n",
       "      <th></th>\n",
       "      <th>age</th>\n",
       "      <th>sex</th>\n",
       "      <th>trestbps</th>\n",
       "      <th>chol</th>\n",
       "      <th>fbs</th>\n",
       "      <th>thalach</th>\n",
       "      <th>exang</th>\n",
       "      <th>oldpeak</th>\n",
       "      <th>ca</th>\n",
       "      <th>target</th>\n",
       "      <th>...</th>\n",
       "      <th>thal_0</th>\n",
       "      <th>thal_1</th>\n",
       "      <th>thal_2</th>\n",
       "      <th>thal_3</th>\n",
       "      <th>slope_0</th>\n",
       "      <th>slope_1</th>\n",
       "      <th>slope_2</th>\n",
       "      <th>restecg_0</th>\n",
       "      <th>restecg_1</th>\n",
       "      <th>restecg_2</th>\n",
       "    </tr>\n",
       "  </thead>\n",
       "  <tbody>\n",
       "    <tr>\n",
       "      <th>0</th>\n",
       "      <td>63</td>\n",
       "      <td>1</td>\n",
       "      <td>145</td>\n",
       "      <td>233</td>\n",
       "      <td>1</td>\n",
       "      <td>150</td>\n",
       "      <td>0</td>\n",
       "      <td>2.3</td>\n",
       "      <td>0</td>\n",
       "      <td>1</td>\n",
       "      <td>...</td>\n",
       "      <td>0</td>\n",
       "      <td>1</td>\n",
       "      <td>0</td>\n",
       "      <td>0</td>\n",
       "      <td>1</td>\n",
       "      <td>0</td>\n",
       "      <td>0</td>\n",
       "      <td>1</td>\n",
       "      <td>0</td>\n",
       "      <td>0</td>\n",
       "    </tr>\n",
       "    <tr>\n",
       "      <th>1</th>\n",
       "      <td>37</td>\n",
       "      <td>1</td>\n",
       "      <td>130</td>\n",
       "      <td>250</td>\n",
       "      <td>0</td>\n",
       "      <td>187</td>\n",
       "      <td>0</td>\n",
       "      <td>3.5</td>\n",
       "      <td>0</td>\n",
       "      <td>1</td>\n",
       "      <td>...</td>\n",
       "      <td>0</td>\n",
       "      <td>0</td>\n",
       "      <td>1</td>\n",
       "      <td>0</td>\n",
       "      <td>1</td>\n",
       "      <td>0</td>\n",
       "      <td>0</td>\n",
       "      <td>0</td>\n",
       "      <td>1</td>\n",
       "      <td>0</td>\n",
       "    </tr>\n",
       "    <tr>\n",
       "      <th>2</th>\n",
       "      <td>41</td>\n",
       "      <td>0</td>\n",
       "      <td>130</td>\n",
       "      <td>204</td>\n",
       "      <td>0</td>\n",
       "      <td>172</td>\n",
       "      <td>0</td>\n",
       "      <td>1.4</td>\n",
       "      <td>0</td>\n",
       "      <td>1</td>\n",
       "      <td>...</td>\n",
       "      <td>0</td>\n",
       "      <td>0</td>\n",
       "      <td>1</td>\n",
       "      <td>0</td>\n",
       "      <td>0</td>\n",
       "      <td>0</td>\n",
       "      <td>1</td>\n",
       "      <td>1</td>\n",
       "      <td>0</td>\n",
       "      <td>0</td>\n",
       "    </tr>\n",
       "    <tr>\n",
       "      <th>3</th>\n",
       "      <td>56</td>\n",
       "      <td>1</td>\n",
       "      <td>120</td>\n",
       "      <td>236</td>\n",
       "      <td>0</td>\n",
       "      <td>178</td>\n",
       "      <td>0</td>\n",
       "      <td>0.8</td>\n",
       "      <td>0</td>\n",
       "      <td>1</td>\n",
       "      <td>...</td>\n",
       "      <td>0</td>\n",
       "      <td>0</td>\n",
       "      <td>1</td>\n",
       "      <td>0</td>\n",
       "      <td>0</td>\n",
       "      <td>0</td>\n",
       "      <td>1</td>\n",
       "      <td>0</td>\n",
       "      <td>1</td>\n",
       "      <td>0</td>\n",
       "    </tr>\n",
       "    <tr>\n",
       "      <th>4</th>\n",
       "      <td>57</td>\n",
       "      <td>0</td>\n",
       "      <td>120</td>\n",
       "      <td>354</td>\n",
       "      <td>0</td>\n",
       "      <td>163</td>\n",
       "      <td>1</td>\n",
       "      <td>0.6</td>\n",
       "      <td>0</td>\n",
       "      <td>1</td>\n",
       "      <td>...</td>\n",
       "      <td>0</td>\n",
       "      <td>0</td>\n",
       "      <td>1</td>\n",
       "      <td>0</td>\n",
       "      <td>0</td>\n",
       "      <td>0</td>\n",
       "      <td>1</td>\n",
       "      <td>0</td>\n",
       "      <td>1</td>\n",
       "      <td>0</td>\n",
       "    </tr>\n",
       "  </tbody>\n",
       "</table>\n",
       "<p>5 rows × 24 columns</p>\n",
       "</div>"
      ],
      "text/plain": [
       "   age  sex  trestbps  chol  fbs  thalach  exang  oldpeak  ca  target  ...  \\\n",
       "0   63    1       145   233    1      150      0      2.3   0       1  ...   \n",
       "1   37    1       130   250    0      187      0      3.5   0       1  ...   \n",
       "2   41    0       130   204    0      172      0      1.4   0       1  ...   \n",
       "3   56    1       120   236    0      178      0      0.8   0       1  ...   \n",
       "4   57    0       120   354    0      163      1      0.6   0       1  ...   \n",
       "\n",
       "   thal_0  thal_1  thal_2  thal_3  slope_0  slope_1  slope_2  restecg_0  \\\n",
       "0       0       1       0       0        1        0        0          1   \n",
       "1       0       0       1       0        1        0        0          0   \n",
       "2       0       0       1       0        0        0        1          1   \n",
       "3       0       0       1       0        0        0        1          0   \n",
       "4       0       0       1       0        0        0        1          0   \n",
       "\n",
       "   restecg_1  restecg_2  \n",
       "0          0          0  \n",
       "1          1          0  \n",
       "2          0          0  \n",
       "3          1          0  \n",
       "4          1          0  \n",
       "\n",
       "[5 rows x 24 columns]"
      ]
     },
     "execution_count": 364,
     "metadata": {},
     "output_type": "execute_result"
    }
   ],
   "source": [
    "df = df.drop(columns = ['cp', 'thal', 'slope', 'restecg'])\n",
    "df.head()"
   ]
  },
  {
   "cell_type": "code",
   "execution_count": 365,
   "metadata": {
    "scrolled": true
   },
   "outputs": [
    {
     "data": {
      "text/plain": [
       "age            int64\n",
       "sex            int64\n",
       "trestbps       int64\n",
       "chol           int64\n",
       "fbs            int64\n",
       "thalach        int64\n",
       "exang          int64\n",
       "oldpeak      float64\n",
       "ca             int64\n",
       "target         int64\n",
       "cp_0           uint8\n",
       "cp_1           uint8\n",
       "cp_2           uint8\n",
       "cp_3           uint8\n",
       "thal_0         uint8\n",
       "thal_1         uint8\n",
       "thal_2         uint8\n",
       "thal_3         uint8\n",
       "slope_0        uint8\n",
       "slope_1        uint8\n",
       "slope_2        uint8\n",
       "restecg_0      uint8\n",
       "restecg_1      uint8\n",
       "restecg_2      uint8\n",
       "dtype: object"
      ]
     },
     "execution_count": 365,
     "metadata": {},
     "output_type": "execute_result"
    }
   ],
   "source": [
    "df.dtypes"
   ]
  },
  {
   "cell_type": "markdown",
   "metadata": {},
   "source": [
    "# Split x,y"
   ]
  },
  {
   "cell_type": "code",
   "execution_count": 366,
   "metadata": {
    "scrolled": true
   },
   "outputs": [
    {
     "data": {
      "text/plain": [
       "age            int64\n",
       "sex            int64\n",
       "trestbps       int64\n",
       "chol           int64\n",
       "fbs            int64\n",
       "thalach        int64\n",
       "exang          int64\n",
       "oldpeak      float64\n",
       "ca             int64\n",
       "cp_0           uint8\n",
       "cp_1           uint8\n",
       "cp_2           uint8\n",
       "cp_3           uint8\n",
       "thal_0         uint8\n",
       "thal_1         uint8\n",
       "thal_2         uint8\n",
       "thal_3         uint8\n",
       "slope_0        uint8\n",
       "slope_1        uint8\n",
       "slope_2        uint8\n",
       "restecg_0      uint8\n",
       "restecg_1      uint8\n",
       "restecg_2      uint8\n",
       "dtype: object"
      ]
     },
     "execution_count": 366,
     "metadata": {},
     "output_type": "execute_result"
    }
   ],
   "source": [
    "y = df.target.values\n",
    "x_data = df.drop(['target'], axis = 1)\n",
    "x_data.dtypes"
   ]
  },
  {
   "cell_type": "code",
   "execution_count": 367,
   "metadata": {},
   "outputs": [],
   "source": [
    "x = (x_data - np.min(x_data)) / (np.max(x_data) - np.min(x_data)).values"
   ]
  },
  {
   "cell_type": "code",
   "execution_count": 368,
   "metadata": {},
   "outputs": [],
   "source": [
    "x_train, x_test, y_train, y_test = train_test_split(x,y,test_size = 0.2,)"
   ]
  },
  {
   "cell_type": "markdown",
   "metadata": {},
   "source": [
    "# Apply Logistic Regression"
   ]
  },
  {
   "cell_type": "code",
   "execution_count": 369,
   "metadata": {},
   "outputs": [
    {
     "name": "stdout",
     "output_type": "stream",
     "text": [
      "Logistic Regression accuracy score with all the features: 0.8525\n"
     ]
    }
   ],
   "source": [
    "from sklearn.linear_model import LogisticRegression\n",
    "\n",
    "logreg = LogisticRegression(max_iter=5000)\n",
    "logreg.fit(x_train, y_train)\n",
    "y_pred = logreg.predict(x_test)\n",
    "\n",
    "acc=accuracy_score(y_test, y_pred) \n",
    "accuracies['Logistic Regression']=acc\n",
    "\n",
    "print('Logistic Regression accuracy score with all the features: {0:0.4f}'. format(acc))"
   ]
  },
  {
   "cell_type": "markdown",
   "metadata": {},
   "source": [
    "#### In logistic regression, based on Sigmoid Function, If ‘Z’ goes to infinity, Y(predicted) will become 1 and if ‘Z’ goes to negative infinity, Y(predicted) will become 0. We can select the middle parameter as 0.5. If value is bigger than 0.5, it will become 1; if value is smaller than 0.5, it will goes to 0. So it become a binaryclassification "
   ]
  },
  {
   "cell_type": "markdown",
   "metadata": {},
   "source": [
    "# Apply Random Forest Classification"
   ]
  },
  {
   "cell_type": "code",
   "execution_count": 370,
   "metadata": {},
   "outputs": [
    {
     "name": "stdout",
     "output_type": "stream",
     "text": [
      "Random Forest Algorithm Accuracy with all the features: 0.8197\n"
     ]
    }
   ],
   "source": [
    "from sklearn.ensemble import RandomForestClassifier\n",
    "\n",
    "rf = RandomForestClassifier(n_estimators = 1000, random_state = 1)\n",
    "rf.fit(x_train, y_train)\n",
    "y_pred = rf.predict(x_test)\n",
    "\n",
    "acc=accuracy_score(y_test, y_pred) \n",
    "accuracies['Random Forest Classification']=acc\n",
    "\n",
    "\n",
    "print('Random Forest Algorithm Accuracy with all the features: {0:0.4f}'. format(acc))"
   ]
  },
  {
   "cell_type": "markdown",
   "metadata": {},
   "source": []
  },
  {
   "cell_type": "markdown",
   "metadata": {},
   "source": [
    "# Apply Naive Bayes Classification"
   ]
  },
  {
   "cell_type": "code",
   "execution_count": 371,
   "metadata": {},
   "outputs": [
    {
     "name": "stdout",
     "output_type": "stream",
     "text": [
      "Naive Bayes Algorithm Accuracy with all the features: 0.8525\n"
     ]
    }
   ],
   "source": [
    "from sklearn.naive_bayes import GaussianNB\n",
    "\n",
    "nb = GaussianNB()\n",
    "nb.fit(x_train, y_train)\n",
    "y_pred = nb.predict(x_test)\n",
    "\n",
    "acc=accuracy_score(y_test, y_pred) \n",
    "accuracies['Naive Bayes']=acc\n",
    "\n",
    "print('Naive Bayes Algorithm Accuracy with all the features: {0:0.4f}'. format(acc))"
   ]
  },
  {
   "cell_type": "markdown",
   "metadata": {},
   "source": [
    "# Apply Support Vector Machine (SVM)"
   ]
  },
  {
   "cell_type": "code",
   "execution_count": 372,
   "metadata": {},
   "outputs": [
    {
     "name": "stdout",
     "output_type": "stream",
     "text": [
      "SVM Accuracy with all the features: 0.8361\n"
     ]
    }
   ],
   "source": [
    "from sklearn.svm import SVC\n",
    "\n",
    "svm = SVC(random_state = 1)\n",
    "svm.fit(x_train, y_train)\n",
    "y_pred = svm.predict(x_test)\n",
    "\n",
    "acc=accuracy_score(y_test, y_pred) \n",
    "accuracies['SVM']=acc\n",
    "print('SVM Accuracy with all the features: {0:0.4f}'. format(acc))"
   ]
  },
  {
   "cell_type": "markdown",
   "metadata": {},
   "source": [
    "# Comparing Models"
   ]
  },
  {
   "cell_type": "code",
   "execution_count": 373,
   "metadata": {},
   "outputs": [
    {
     "name": "stdout",
     "output_type": "stream",
     "text": [
      "Algorithms                      Accuracy\n",
      "----------------------------  ----------\n",
      "Decision Tree                   0.803279\n",
      "Logistic Regression             0.852459\n",
      "Random Forest Classification    0.819672\n",
      "Naive Bayes                     0.852459\n",
      "SVM                             0.836066\n"
     ]
    }
   ],
   "source": [
    "from tabulate import tabulate\n",
    "headers=[\"Algorithms\",\"Accuracy\"]\n",
    "print(tabulate(accuracies.items(), headers = headers))"
   ]
  },
  {
   "cell_type": "code",
   "execution_count": 374,
   "metadata": {},
   "outputs": [
    {
     "data": {
      "image/png": "[encoded data removed]",
      "text/plain": [
       "<Figure size 1152x360 with 1 Axes>"
      ]
     },
     "metadata": {},
     "output_type": "display_data"
    }
   ],
   "source": [
    "colors = [\"purple\", \"green\", \"orange\", \"magenta\",\"#CFC60E\"]\n",
    "\n",
    "sb.set_style(\"whitegrid\")\n",
    "plt.figure(figsize=(16,5))\n",
    "plt.yticks(np.arange(0,100,10))\n",
    "plt.ylabel(\"Accuracy %\")\n",
    "plt.xlabel(\"Algorithms\")\n",
    "sb.barplot(x=list(accuracies.keys()), y=list(accuracies.values()), palette=colors)\n",
    "plt.show()"
   ]
  },
  {
   "cell_type": "markdown",
   "metadata": {},
   "source": [
    "# Confusion Matrix"
   ]
  },
  {
   "cell_type": "code",
   "execution_count": 375,
   "metadata": {},
   "outputs": [],
   "source": [
    "# Predicted values\n",
    "y_head_dtc = dectree.predict(X_test)\n",
    "y_head_lr = logreg.predict(x_test)\n",
    "y_head_rf = rf.predict(x_test)\n",
    "y_head_nb = nb.predict(x_test)\n",
    "y_head_svm = svm.predict(x_test)"
   ]
  },
  {
   "cell_type": "code",
   "execution_count": 376,
   "metadata": {},
   "outputs": [],
   "source": [
    "from sklearn.metrics import confusion_matrix\n",
    "cm_dtc = confusion_matrix(Y_test,y_head_dtc)\n",
    "cm_lr = confusion_matrix(y_test,y_head_lr)\n",
    "cm_rf = confusion_matrix(y_test,y_head_rf)\n",
    "cm_nb = confusion_matrix(y_test,y_head_nb)\n",
    "cm_svm = confusion_matrix(y_test,y_head_svm)"
   ]
  },
  {
   "cell_type": "code",
   "execution_count": 377,
   "metadata": {},
   "outputs": [
    {
     "data": {
      "image/png": "[encoded data removed]",
      "text/plain": [
       "<Figure size 1728x864 with 5 Axes>"
      ]
     },
     "metadata": {},
     "output_type": "display_data"
    }
   ],
   "source": [
    "plt.figure(figsize=(24,12))\n",
    "\n",
    "plt.suptitle(\"Confusion Matrixes\",fontsize=24)\n",
    "plt.subplots_adjust(wspace = 0.4, hspace= 0.4)\n",
    "\n",
    "\n",
    "plt.subplot(2,3,1)\n",
    "plt.title(\"Decision Tree Classifier Confusion Matrix\")\n",
    "sb.heatmap(cm_dtc,annot=True,cmap=\"Blues\",fmt=\"d\",cbar=False, annot_kws={\"size\": 24})\n",
    "\n",
    "plt.subplot(2,3,2)\n",
    "plt.title(\"Logistic Regression Confusion Matrix\")\n",
    "sb.heatmap(cm_lr,annot=True,cmap=\"Blues\",fmt=\"d\",cbar=False, annot_kws={\"size\": 24})\n",
    "\n",
    "plt.subplot(2,3,3)\n",
    "plt.title(\"Random Forest Confusion Matrix\")\n",
    "sb.heatmap(cm_rf,annot=True,cmap=\"Blues\",fmt=\"d\",cbar=False, annot_kws={\"size\": 24})\n",
    "\n",
    "plt.subplot(2,3,4)\n",
    "plt.title(\"Support Vector Machine Confusion Matrix\")\n",
    "sb.heatmap(cm_svm,annot=True,cmap=\"Blues\",fmt=\"d\",cbar=False, annot_kws={\"size\": 24})\n",
    "\n",
    "plt.subplot(2,3,5)\n",
    "plt.title(\"Naive Bayes Confusion Matrix\")\n",
    "sb.heatmap(cm_nb,annot=True,cmap=\"Blues\",fmt=\"d\",cbar=False, annot_kws={\"size\": 24})\n",
    "\n",
    "\n",
    "\n",
    "\n",
    "plt.show()"
   ]
  },
  {
   "cell_type": "markdown",
   "metadata": {},
   "source": [
    "Sensitivity measures the proportion of positives that are correctly identified (e.g., the percentage of sick people who are correctly identified as having some illness).\n",
    "Specificity measures the proportion of negatives that are correctly identified (e.g., the percentage of healthy people who are correctly identified as not having some illness)."
   ]
  },
  {
   "cell_type": "code",
   "execution_count": 378,
   "metadata": {},
   "outputs": [
    {
     "name": "stdout",
     "output_type": "stream",
     "text": [
      "Sensitivity for Decision Tree:  0.71875\n",
      "Specificity for Decision Tree:  0.896551724137931 \n",
      "\n",
      "Sensitivity for Logestic Regression:  0.8461538461538461\n",
      "Specificity for Logestic Regression:  0.8571428571428571 \n",
      "\n",
      "Sensitivity for Random Forest:  0.8076923076923077\n",
      "Specificity for Random Forest:  0.8285714285714286 \n",
      "\n",
      "Sensitivity for Navie Bayes:  0.8214285714285714\n",
      "Specificity for Navie Bayes:  0.8787878787878788 \n",
      "\n",
      "Sensitivity for Support Vector Machine:  0.84\n",
      "Specificity for Support Vector Machine:  0.8333333333333334 \n",
      "\n"
     ]
    }
   ],
   "source": [
    "total=sum(sum(cm_dtc))\n",
    "\n",
    "sensitivityDC = cm_dtc[0,0]/(cm_dtc[0,0]+cm_dtc[1,0])\n",
    "print('Sensitivity for Decision Tree: ', sensitivityDC )\n",
    "\n",
    "specificityDC = cm_dtc[1,1]/(cm_dtc[1,1]+cm_dtc[0,1])\n",
    "print('Specificity for Decision Tree: ', specificityDC,\"\\n\")\n",
    "\n",
    "\n",
    "total=sum(sum(cm_lr))\n",
    "\n",
    "sensitivityLG = cm_lr[0,0]/(cm_lr[0,0]+cm_lr[1,0])\n",
    "print('Sensitivity for Logestic Regression: ', sensitivityLG )\n",
    "\n",
    "specificityLG = cm_lr[1,1]/(cm_lr[1,1]+cm_lr[0,1])\n",
    "print('Specificity for Logestic Regression: ', specificityLG ,\"\\n\")\n",
    "\n",
    "\n",
    "total=sum(sum(cm_rf))\n",
    "\n",
    "sensitivityRF = cm_rf[0,0]/(cm_rf[0,0]+cm_rf[1,0])\n",
    "print('Sensitivity for Random Forest: ', sensitivityRF)\n",
    "\n",
    "specificityRF = cm_rf[1,1]/(cm_rf[1,1]+cm_rf[0,1])\n",
    "print('Specificity for Random Forest: ', specificityRF,\"\\n\" )\n",
    "\n",
    "\n",
    "total=sum(sum(cm_nb))\n",
    "\n",
    "sensitivityNB = cm_nb[0,0]/(cm_nb [0,0]+cm_nb[1,0])\n",
    "print('Sensitivity for Navie Bayes: ', sensitivityNB)\n",
    "\n",
    "specificityNB = cm_nb[1,1]/(cm_nb[1,1]+cm_nb[0,1])\n",
    "print('Specificity for Navie Bayes: ', specificityNB,\"\\n\" )\n",
    "\n",
    "\n",
    "total=sum(sum(cm_svm))\n",
    "\n",
    "sensitivitySVM = cm_svm[0,0]/(cm_svm[0,0]+cm_svm[1,0])\n",
    "print('Sensitivity for Support Vector Machine: ', sensitivitySVM )\n",
    "\n",
    "specificitySVM = cm_svm[1,1]/(cm_svm[1,1]+cm_svm[0,1])\n",
    "print('Specificity for Support Vector Machine: ', specificitySVM,\"\\n\")"
   ]
  },
  {
   "cell_type": "code",
   "execution_count": null,
   "metadata": {},
   "outputs": [],
   "source": []
  }
 ],
 "metadata": {
  "kernelspec": {
   "display_name": "Python 3",
   "language": "python",
   "name": "python3"
  },
  "language_info": {
   "codemirror_mode": {
    "name": "ipython",
    "version": 3
   },
   "file_extension": ".py",
   "mimetype": "text/x-python",
   "name": "python",
   "nbconvert_exporter": "python",
   "pygments_lexer": "ipython3",
   "version": "3.8.3"
  }
 },
 "nbformat": 4,
 "nbformat_minor": 4
}
