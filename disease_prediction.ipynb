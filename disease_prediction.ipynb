{
 "cells": [
  {
   "cell_type": "code",
   "execution_count": 1,
   "metadata": {},
   "outputs": [],
   "source": [
    "import numpy as np\n",
    "import pandas as pd\n",
    "import seaborn as sb\n",
    "import matplotlib.pyplot as plt\n",
    "from sklearn.model_selection import train_test_split"
   ]
  },
  {
   "cell_type": "code",
   "execution_count": 2,
   "metadata": {},
   "outputs": [
    {
     "data": {
      "text/plain": [
       "age           int64\n",
       "sex           int64\n",
       "cp            int64\n",
       "trestbps      int64\n",
       "chol          int64\n",
       "fbs           int64\n",
       "restecg       int64\n",
       "thalach       int64\n",
       "exang         int64\n",
       "oldpeak     float64\n",
       "slope         int64\n",
       "ca            int64\n",
       "thal          int64\n",
       "target        int64\n",
       "dtype: object"
      ]
     },
     "execution_count": 2,
     "metadata": {},
     "output_type": "execute_result"
    }
   ],
   "source": [
    "data = pd.read_csv('heart.csv')\n",
    "df = pd.read_csv('heart.csv')\n",
    "data.head()\n",
    "df.dtypes"
   ]
  },
  {
   "cell_type": "markdown",
   "metadata": {},
   "source": [
    "# Data contains\n",
    "\n",
    "##### age - age in years\n",
    "##### sex - (1 = male; 0 = female)\n",
    "##### cp - chest pain type - (1 = typical angina, 2 = atypical angina, 3 = non-anginal pain, 4=asymptomatic)\n",
    "##### trestbps - resting blood pressure (in mm Hg on admission to the hospital)\n",
    "##### chol - serum cholestoral in mg/dl\n",
    "##### fbs - (fasting blood sugar > 120 mg/dl) (1 = true; 0 = false)\n",
    "##### restecg - resting electrocardiographic results - (0 = normal, 1 = ST-T wave abnormality, 2 = left ventricular hypertrophy)\n",
    "##### thalach - maximum heart rate achieved\n",
    "##### exang - exercise induced angina (1 = yes; 0 = no)\n",
    "##### oldpeak - ST depression induced by exercise relative to rest\n",
    "##### slope - the slope of the peak exercise ST segment - (1 = upsloping, 2 = flat, 3 = downsloping)\n",
    "##### ca - number of major vessels (0-3) colored by flourosopy\n",
    "##### thal - 1 = normal; 2 = fixed defect; 3 = reversable defect\n",
    "##### target - have disease or not (1=yes, 0=no)"
   ]
  },
  {
   "cell_type": "code",
   "execution_count": 3,
   "metadata": {},
   "outputs": [
    {
     "name": "stdout",
     "output_type": "stream",
     "text": [
      "<class 'pandas.core.frame.DataFrame'>\n",
      "RangeIndex: 303 entries, 0 to 302\n",
      "Data columns (total 14 columns):\n",
      " #   Column    Non-Null Count  Dtype  \n",
      "---  ------    --------------  -----  \n",
      " 0   age       303 non-null    int64  \n",
      " 1   sex       303 non-null    int64  \n",
      " 2   cp        303 non-null    int64  \n",
      " 3   trestbps  303 non-null    int64  \n",
      " 4   chol      303 non-null    int64  \n",
      " 5   fbs       303 non-null    int64  \n",
      " 6   restecg   303 non-null    int64  \n",
      " 7   thalach   303 non-null    int64  \n",
      " 8   exang     303 non-null    int64  \n",
      " 9   oldpeak   303 non-null    float64\n",
      " 10  slope     303 non-null    int64  \n",
      " 11  ca        303 non-null    int64  \n",
      " 12  thal      303 non-null    int64  \n",
      " 13  target    303 non-null    int64  \n",
      "dtypes: float64(1), int64(13)\n",
      "memory usage: 33.3 KB\n"
     ]
    }
   ],
   "source": [
    "data.info()"
   ]
  },
  {
   "cell_type": "code",
   "execution_count": 4,
   "metadata": {},
   "outputs": [],
   "source": [
    "data['sex'] = data['sex'].astype('object')\n",
    "data['cp'] = data['cp'].astype('object')\n",
    "data['fbs'] = data['fbs'].astype('object')\n",
    "data['restecg'] = data['restecg'].astype('object')\n",
    "data['exang'] = data['exang'].astype('object')\n",
    "data['slope'] = data['slope'].astype('object')\n",
    "data['ca'] = data['ca'].astype('object')\n",
    "data['thal'] = data['thal'].astype('object')\n",
    "data['target'] = data['target'].astype('object')\n",
    "\n",
    "sex1 = []\n",
    "target1 = []\n",
    "for sex_value in data['sex']:\n",
    "    if sex_value == 0:\n",
    "        sex1.append('F') \n",
    "    else:\n",
    "        sex1.append('M')\n",
    "for target_value in data['target']:\n",
    "    if target_value == 0:\n",
    "        target1.append('N')\n",
    "    else:\n",
    "        target1.append('Y')\n",
    "data['sex'] = sex1\n",
    "data['target'] = target1"
   ]
  },
  {
   "cell_type": "code",
   "execution_count": 5,
   "metadata": {},
   "outputs": [
    {
     "data": {
      "text/html": [
       "<div>\n",
       "<style scoped>\n",
       "    .dataframe tbody tr th:only-of-type {\n",
       "        vertical-align: middle;\n",
       "    }\n",
       "\n",
       "    .dataframe tbody tr th {\n",
       "        vertical-align: top;\n",
       "    }\n",
       "\n",
       "    .dataframe thead th {\n",
       "        text-align: right;\n",
       "    }\n",
       "</style>\n",
       "<table border=\"1\" class=\"dataframe\">\n",
       "  <thead>\n",
       "    <tr style=\"text-align: right;\">\n",
       "      <th></th>\n",
       "      <th>age</th>\n",
       "      <th>sex</th>\n",
       "      <th>cp</th>\n",
       "      <th>trestbps</th>\n",
       "      <th>chol</th>\n",
       "      <th>fbs</th>\n",
       "      <th>restecg</th>\n",
       "      <th>thalach</th>\n",
       "      <th>exang</th>\n",
       "      <th>oldpeak</th>\n",
       "      <th>slope</th>\n",
       "      <th>ca</th>\n",
       "      <th>thal</th>\n",
       "      <th>target</th>\n",
       "    </tr>\n",
       "  </thead>\n",
       "  <tbody>\n",
       "    <tr>\n",
       "      <th>237</th>\n",
       "      <td>60</td>\n",
       "      <td>M</td>\n",
       "      <td>0</td>\n",
       "      <td>140</td>\n",
       "      <td>293</td>\n",
       "      <td>0</td>\n",
       "      <td>0</td>\n",
       "      <td>170</td>\n",
       "      <td>0</td>\n",
       "      <td>1.2</td>\n",
       "      <td>1</td>\n",
       "      <td>2</td>\n",
       "      <td>3</td>\n",
       "      <td>N</td>\n",
       "    </tr>\n",
       "    <tr>\n",
       "      <th>130</th>\n",
       "      <td>54</td>\n",
       "      <td>F</td>\n",
       "      <td>2</td>\n",
       "      <td>160</td>\n",
       "      <td>201</td>\n",
       "      <td>0</td>\n",
       "      <td>1</td>\n",
       "      <td>163</td>\n",
       "      <td>0</td>\n",
       "      <td>0.0</td>\n",
       "      <td>2</td>\n",
       "      <td>1</td>\n",
       "      <td>2</td>\n",
       "      <td>Y</td>\n",
       "    </tr>\n",
       "    <tr>\n",
       "      <th>223</th>\n",
       "      <td>56</td>\n",
       "      <td>F</td>\n",
       "      <td>0</td>\n",
       "      <td>200</td>\n",
       "      <td>288</td>\n",
       "      <td>1</td>\n",
       "      <td>0</td>\n",
       "      <td>133</td>\n",
       "      <td>1</td>\n",
       "      <td>4.0</td>\n",
       "      <td>0</td>\n",
       "      <td>2</td>\n",
       "      <td>3</td>\n",
       "      <td>N</td>\n",
       "    </tr>\n",
       "    <tr>\n",
       "      <th>139</th>\n",
       "      <td>64</td>\n",
       "      <td>M</td>\n",
       "      <td>0</td>\n",
       "      <td>128</td>\n",
       "      <td>263</td>\n",
       "      <td>0</td>\n",
       "      <td>1</td>\n",
       "      <td>105</td>\n",
       "      <td>1</td>\n",
       "      <td>0.2</td>\n",
       "      <td>1</td>\n",
       "      <td>1</td>\n",
       "      <td>3</td>\n",
       "      <td>Y</td>\n",
       "    </tr>\n",
       "    <tr>\n",
       "      <th>69</th>\n",
       "      <td>62</td>\n",
       "      <td>F</td>\n",
       "      <td>0</td>\n",
       "      <td>124</td>\n",
       "      <td>209</td>\n",
       "      <td>0</td>\n",
       "      <td>1</td>\n",
       "      <td>163</td>\n",
       "      <td>0</td>\n",
       "      <td>0.0</td>\n",
       "      <td>2</td>\n",
       "      <td>0</td>\n",
       "      <td>2</td>\n",
       "      <td>Y</td>\n",
       "    </tr>\n",
       "  </tbody>\n",
       "</table>\n",
       "</div>"
      ],
      "text/plain": [
       "     age sex cp  trestbps  chol fbs restecg  thalach exang  oldpeak slope ca  \\\n",
       "237   60   M  0       140   293   0       0      170     0      1.2     1  2   \n",
       "130   54   F  2       160   201   0       1      163     0      0.0     2  1   \n",
       "223   56   F  0       200   288   1       0      133     1      4.0     0  2   \n",
       "139   64   M  0       128   263   0       1      105     1      0.2     1  1   \n",
       "69    62   F  0       124   209   0       1      163     0      0.0     2  0   \n",
       "\n",
       "    thal target  \n",
       "237    3      N  \n",
       "130    2      Y  \n",
       "223    3      N  \n",
       "139    3      Y  \n",
       "69     2      Y  "
      ]
     },
     "execution_count": 5,
     "metadata": {},
     "output_type": "execute_result"
    }
   ],
   "source": [
    "data.sample(5)"
   ]
  },
  {
   "cell_type": "code",
   "execution_count": 6,
   "metadata": {},
   "outputs": [
    {
     "data": {
      "text/plain": [
       "age           int64\n",
       "sex          object\n",
       "cp           object\n",
       "trestbps      int64\n",
       "chol          int64\n",
       "fbs          object\n",
       "restecg      object\n",
       "thalach       int64\n",
       "exang        object\n",
       "oldpeak     float64\n",
       "slope        object\n",
       "ca           object\n",
       "thal         object\n",
       "target       object\n",
       "dtype: object"
      ]
     },
     "execution_count": 6,
     "metadata": {},
     "output_type": "execute_result"
    }
   ],
   "source": [
    "data.dtypes"
   ]
  },
  {
   "cell_type": "code",
   "execution_count": 7,
   "metadata": {},
   "outputs": [
    {
     "data": {
      "text/html": [
       "<div>\n",
       "<style scoped>\n",
       "    .dataframe tbody tr th:only-of-type {\n",
       "        vertical-align: middle;\n",
       "    }\n",
       "\n",
       "    .dataframe tbody tr th {\n",
       "        vertical-align: top;\n",
       "    }\n",
       "\n",
       "    .dataframe thead th {\n",
       "        text-align: right;\n",
       "    }\n",
       "</style>\n",
       "<table border=\"1\" class=\"dataframe\">\n",
       "  <thead>\n",
       "    <tr style=\"text-align: right;\">\n",
       "      <th></th>\n",
       "      <th>age</th>\n",
       "      <th>trestbps</th>\n",
       "      <th>chol</th>\n",
       "      <th>thalach</th>\n",
       "      <th>oldpeak</th>\n",
       "    </tr>\n",
       "  </thead>\n",
       "  <tbody>\n",
       "    <tr>\n",
       "      <th>count</th>\n",
       "      <td>303.000000</td>\n",
       "      <td>303.000000</td>\n",
       "      <td>303.000000</td>\n",
       "      <td>303.000000</td>\n",
       "      <td>303.000000</td>\n",
       "    </tr>\n",
       "    <tr>\n",
       "      <th>mean</th>\n",
       "      <td>54.366337</td>\n",
       "      <td>131.623762</td>\n",
       "      <td>246.264026</td>\n",
       "      <td>149.646865</td>\n",
       "      <td>1.039604</td>\n",
       "    </tr>\n",
       "    <tr>\n",
       "      <th>std</th>\n",
       "      <td>9.082101</td>\n",
       "      <td>17.538143</td>\n",
       "      <td>51.830751</td>\n",
       "      <td>22.905161</td>\n",
       "      <td>1.161075</td>\n",
       "    </tr>\n",
       "    <tr>\n",
       "      <th>min</th>\n",
       "      <td>29.000000</td>\n",
       "      <td>94.000000</td>\n",
       "      <td>126.000000</td>\n",
       "      <td>71.000000</td>\n",
       "      <td>0.000000</td>\n",
       "    </tr>\n",
       "    <tr>\n",
       "      <th>25%</th>\n",
       "      <td>47.500000</td>\n",
       "      <td>120.000000</td>\n",
       "      <td>211.000000</td>\n",
       "      <td>133.500000</td>\n",
       "      <td>0.000000</td>\n",
       "    </tr>\n",
       "    <tr>\n",
       "      <th>50%</th>\n",
       "      <td>55.000000</td>\n",
       "      <td>130.000000</td>\n",
       "      <td>240.000000</td>\n",
       "      <td>153.000000</td>\n",
       "      <td>0.800000</td>\n",
       "    </tr>\n",
       "    <tr>\n",
       "      <th>75%</th>\n",
       "      <td>61.000000</td>\n",
       "      <td>140.000000</td>\n",
       "      <td>274.500000</td>\n",
       "      <td>166.000000</td>\n",
       "      <td>1.600000</td>\n",
       "    </tr>\n",
       "    <tr>\n",
       "      <th>max</th>\n",
       "      <td>77.000000</td>\n",
       "      <td>200.000000</td>\n",
       "      <td>564.000000</td>\n",
       "      <td>202.000000</td>\n",
       "      <td>6.200000</td>\n",
       "    </tr>\n",
       "  </tbody>\n",
       "</table>\n",
       "</div>"
      ],
      "text/plain": [
       "              age    trestbps        chol     thalach     oldpeak\n",
       "count  303.000000  303.000000  303.000000  303.000000  303.000000\n",
       "mean    54.366337  131.623762  246.264026  149.646865    1.039604\n",
       "std      9.082101   17.538143   51.830751   22.905161    1.161075\n",
       "min     29.000000   94.000000  126.000000   71.000000    0.000000\n",
       "25%     47.500000  120.000000  211.000000  133.500000    0.000000\n",
       "50%     55.000000  130.000000  240.000000  153.000000    0.800000\n",
       "75%     61.000000  140.000000  274.500000  166.000000    1.600000\n",
       "max     77.000000  200.000000  564.000000  202.000000    6.200000"
      ]
     },
     "execution_count": 7,
     "metadata": {},
     "output_type": "execute_result"
    }
   ],
   "source": [
    "data.describe()"
   ]
  },
  {
   "cell_type": "code",
   "execution_count": 8,
   "metadata": {},
   "outputs": [
    {
     "data": {
      "text/plain": [
       "<matplotlib.axes._subplots.AxesSubplot at 0x2156f6e07f0>"
      ]
     },
     "execution_count": 8,
     "metadata": {},
     "output_type": "execute_result"
    },
    {
     "data": {
      "image/png": "[encoded data removed]",
      "text/plain": [
       "<Figure size 864x432 with 2 Axes>"
      ]
     },
     "metadata": {
      "needs_background": "light"
     },
     "output_type": "display_data"
    }
   ],
   "source": [
    "f,axes = plt.subplots(1,2, figsize=(12,6))\n",
    "sb.countplot(data.sex, ax = axes[0])\n",
    "sb.countplot(data.target, ax = axes[1])"
   ]
  },
  {
   "cell_type": "code",
   "execution_count": 9,
   "metadata": {},
   "outputs": [
    {
     "data": {
      "image/png": "[encoded data removed]",
      "text/plain": [
       "<Figure size 432x432 with 1 Axes>"
      ]
     },
     "metadata": {
      "needs_background": "light"
     },
     "output_type": "display_data"
    }
   ],
   "source": [
    "pd.crosstab(data.sex,data.target).plot(kind=\"bar\",figsize=(6,6))\n",
    "plt.title('Heart Disease Frequency for Sex')\n",
    "plt.xlabel('Sex')\n",
    "plt.xticks(rotation=0)\n",
    "plt.legend([\"N\", \"Y\"])\n",
    "plt.ylabel('Frequency')\n",
    "plt.show()"
   ]
  },
  {
   "cell_type": "code",
   "execution_count": 10,
   "metadata": {},
   "outputs": [
    {
     "data": {
      "text/plain": [
       "<matplotlib.legend.Legend at 0x2156fb54640>"
      ]
     },
     "execution_count": 10,
     "metadata": {},
     "output_type": "execute_result"
    },
    {
     "data": {
      "image/png": "[encoded data removed]",
      "text/plain": [
       "<Figure size 864x432 with 2 Axes>"
      ]
     },
     "metadata": {
      "needs_background": "light"
     },
     "output_type": "display_data"
    }
   ],
   "source": [
    "f,axes = plt.subplots(1,2, figsize=(12,6))\n",
    "ax1=sb.distplot(data['age'],ax=axes[0])\n",
    "ax1.title.set_text('Overall age distribution')\n",
    "ax2=sb.distplot(data[data['target'] == 'N']['age'], ax = axes[1])\n",
    "sb.distplot(data[data['target'] == 'Y']['age'], ax = axes[1])\n",
    "plt.title('Respective age distribution ')\n",
    "plt.legend([\"N\", \"Y\"])"
   ]
  },
  {
   "cell_type": "code",
   "execution_count": 11,
   "metadata": {},
   "outputs": [
    {
     "data": {
      "image/png": "[encoded data removed]",
      "text/plain": [
       "<Figure size 864x432 with 1 Axes>"
      ]
     },
     "metadata": {
      "needs_background": "light"
     },
     "output_type": "display_data"
    }
   ],
   "source": [
    "pd.crosstab(data.cp,data.target).plot(kind=\"bar\",figsize=(12,6))\n",
    "plt.title('Heart Disease Frequency for chest pain type')\n",
    "plt.xlabel('chest pain type')\n",
    "plt.xticks(rotation=0)\n",
    "plt.legend([\"N\", \"Y\"])\n",
    "plt.ylabel('Frequency')\n",
    "plt.show()"
   ]
  },
  {
   "cell_type": "code",
   "execution_count": 12,
   "metadata": {},
   "outputs": [
    {
     "data": {
      "text/plain": [
       "<matplotlib.axes._subplots.AxesSubplot at 0x2156fd37070>"
      ]
     },
     "execution_count": 12,
     "metadata": {},
     "output_type": "execute_result"
    },
    {
     "data": {
      "image/png": "[encoded data removed]",
      "text/plain": [
       "<Figure size 1296x864 with 6 Axes>"
      ]
     },
     "metadata": {
      "needs_background": "light"
     },
     "output_type": "display_data"
    }
   ],
   "source": [
    "f,axes = plt.subplots(2,3, figsize=(18,12))\n",
    "pd.crosstab(data.fbs,data.target).plot(kind=\"bar\",ax=axes[0,0])\n",
    "pd.crosstab(data.restecg,data.target).plot(kind=\"bar\",ax=axes[0,1])\n",
    "pd.crosstab(data.exang,data.target).plot(kind=\"bar\",ax=axes[0,2])\n",
    "pd.crosstab(data.slope,data.target).plot(kind=\"bar\",ax=axes[1,0])\n",
    "pd.crosstab(data.ca,data.target).plot(kind=\"bar\",ax=axes[1,1])\n",
    "pd.crosstab(data.thal,data.target).plot(kind=\"bar\",ax=axes[1,2])"
   ]
  },
  {
   "cell_type": "code",
   "execution_count": 13,
   "metadata": {},
   "outputs": [
    {
     "data": {
      "image/png": "[encoded data removed]",
      "text/plain": [
       "<Figure size 864x864 with 4 Axes>"
      ]
     },
     "metadata": {
      "needs_background": "light"
     },
     "output_type": "display_data"
    }
   ],
   "source": [
    "f,axes = plt.subplots(2,2, figsize=(12,12))\n",
    "sb.distplot(data[data[\"target\"]=='Y']['trestbps'],ax=axes[0,0])\n",
    "sb.distplot(data[data[\"target\"]=='N']['trestbps'],ax=axes[0,0])\n",
    "sb.distplot(data[data[\"target\"]=='Y']['thalach'],ax=axes[0,1])\n",
    "sb.distplot(data[data[\"target\"]=='N']['thalach'],ax=axes[0,1])\n",
    "sb.distplot(data[data[\"target\"]=='Y']['chol'],ax=axes[1,0])\n",
    "sb.distplot(data[data[\"target\"]=='N']['chol'],ax=axes[1,0])\n",
    "sb.distplot(data[data[\"target\"]=='Y']['oldpeak'],ax=axes[1,1])\n",
    "sb.distplot(data[data[\"target\"]=='N']['oldpeak'],ax=axes[1,1])\n",
    "\n",
    "plt.legend([\"Disease\", \"No Disease\"])\n",
    "plt.show()"
   ]
  },
  {
   "cell_type": "code",
   "execution_count": 14,
   "metadata": {},
   "outputs": [],
   "source": [
    "accuracies={}"
   ]
  },
  {
   "cell_type": "markdown",
   "metadata": {},
   "source": [
    "# Decision Tree"
   ]
  },
  {
   "cell_type": "code",
   "execution_count": 15,
   "metadata": {},
   "outputs": [],
   "source": [
    "# Import Decision Tree Classifier model from Scikit-Learn\n",
    "from sklearn.tree import DecisionTreeClassifier\n",
    "\n",
    "from sklearn.tree import export_graphviz #plot tree\n",
    "import graphviz"
   ]
  },
  {
   "cell_type": "code",
   "execution_count": 16,
   "metadata": {},
   "outputs": [],
   "source": [
    "#split the data\n",
    "X_train, X_test, y_train, y_test = train_test_split(df.drop('target', 1), df['target'], test_size = .2)"
   ]
  },
  {
   "cell_type": "code",
   "execution_count": 17,
   "metadata": {},
   "outputs": [
    {
     "data": {
      "text/plain": [
       "DecisionTreeClassifier(max_depth=5)"
      ]
     },
     "execution_count": 17,
     "metadata": {},
     "output_type": "execute_result"
    }
   ],
   "source": [
    "# Create a Decision Tree Classifier object\n",
    "dectree = DecisionTreeClassifier(max_depth = 5)\n",
    "\n",
    "# Train the Decision Tree Classifier model\n",
    "dectree.fit(X_train, y_train)"
   ]
  },
  {
   "cell_type": "code",
   "execution_count": 18,
   "metadata": {},
   "outputs": [
    {
     "data": {
      "image/svg+xml": [
       "<?xml version=\"1.0\" encoding=\"UTF-8\" standalone=\"no\"?>\r\n",
       "<!DOCTYPE svg PUBLIC \"-//W3C//DTD SVG 1.1//EN\"\r\n",
       " \"http://www.w3.org/Graphics/SVG/1.1/DTD/svg11.dtd\">\r\n",
       "<!-- Generated by graphviz version 2.38.0 (20140413.2041)\r\n",
       " -->\r\n",
       "<!-- Title: Tree Pages: 1 -->\r\n",
       "<svg width=\"1548pt\" height=\"671pt\"\r\n",
       " viewBox=\"0.00 0.00 1548.00 671.00\" xmlns=\"http://www.w3.org/2000/svg\" xmlns:xlink=\"http://www.w3.org/1999/xlink\">\r\n",
       "<g id=\"graph0\" class=\"graph\" transform=\"scale(1 1) rotate(0) translate(4 667)\">\r\n",
       "<title>Tree</title>\r\n",
       "<polygon fill=\"white\" stroke=\"none\" points=\"-4,4 -4,-667 1544,-667 1544,4 -4,4\"/>\r\n",
       "<!-- 0 -->\r\n",
       "<g id=\"node1\" class=\"node\"><title>0</title>\r\n",
       "<path fill=\"#e4f1fb\" stroke=\"black\" d=\"M939.5,-663C939.5,-663 826.5,-663 826.5,-663 820.5,-663 814.5,-657 814.5,-651 814.5,-651 814.5,-592 814.5,-592 814.5,-586 820.5,-580 826.5,-580 826.5,-580 939.5,-580 939.5,-580 945.5,-580 951.5,-586 951.5,-592 951.5,-592 951.5,-651 951.5,-651 951.5,-657 945.5,-663 939.5,-663\"/>\r\n",
       "<text text-anchor=\"middle\" x=\"883\" y=\"-647.8\" font-family=\"Helvetica,sans-Serif\" font-size=\"14.00\">cp &lt;= 0.5</text>\r\n",
       "<text text-anchor=\"middle\" x=\"883\" y=\"-632.8\" font-family=\"Helvetica,sans-Serif\" font-size=\"14.00\">gini = 0.5</text>\r\n",
       "<text text-anchor=\"middle\" x=\"883\" y=\"-617.8\" font-family=\"Helvetica,sans-Serif\" font-size=\"14.00\">samples = 100.0%</text>\r\n",
       "<text text-anchor=\"middle\" x=\"883\" y=\"-602.8\" font-family=\"Helvetica,sans-Serif\" font-size=\"14.00\">value = [0.46, 0.54]</text>\r\n",
       "<text text-anchor=\"middle\" x=\"883\" y=\"-587.8\" font-family=\"Helvetica,sans-Serif\" font-size=\"14.00\">class = no disease</text>\r\n",
       "</g>\r\n",
       "<!-- 1 -->\r\n",
       "<g id=\"node2\" class=\"node\"><title>1</title>\r\n",
       "<path fill=\"#eead7e\" stroke=\"black\" d=\"M831.5,-544C831.5,-544 766.5,-544 766.5,-544 760.5,-544 754.5,-538 754.5,-532 754.5,-532 754.5,-473 754.5,-473 754.5,-467 760.5,-461 766.5,-461 766.5,-461 831.5,-461 831.5,-461 837.5,-461 843.5,-467 843.5,-473 843.5,-473 843.5,-532 843.5,-532 843.5,-538 837.5,-544 831.5,-544\"/>\r\n",
       "<text text-anchor=\"middle\" x=\"799\" y=\"-528.8\" font-family=\"Helvetica,sans-Serif\" font-size=\"14.00\">ca &lt;= 0.5</text>\r\n",
       "<text text-anchor=\"middle\" x=\"799\" y=\"-513.8\" font-family=\"Helvetica,sans-Serif\" font-size=\"14.00\">0.38</text>\r\n",
       "<text text-anchor=\"middle\" x=\"799\" y=\"-498.8\" font-family=\"Helvetica,sans-Serif\" font-size=\"14.00\">47.9%</text>\r\n",
       "<text text-anchor=\"middle\" x=\"799\" y=\"-483.8\" font-family=\"Helvetica,sans-Serif\" font-size=\"14.00\">[0.74, 0.26]</text>\r\n",
       "<text text-anchor=\"middle\" x=\"799\" y=\"-468.8\" font-family=\"Helvetica,sans-Serif\" font-size=\"14.00\">disease</text>\r\n",
       "</g>\r\n",
       "<!-- 0&#45;&gt;1 -->\r\n",
       "<g id=\"edge1\" class=\"edge\"><title>0&#45;&gt;1</title>\r\n",
       "<path fill=\"none\" stroke=\"black\" d=\"M853.857,-579.907C847.471,-571.014 840.648,-561.509 834.058,-552.331\"/>\r\n",
       "<polygon fill=\"black\" stroke=\"black\" points=\"836.767,-550.103 828.092,-544.021 831.081,-554.185 836.767,-550.103\"/>\r\n",
       "<text text-anchor=\"middle\" x=\"824.042\" y=\"-564.991\" font-family=\"Helvetica,sans-Serif\" font-size=\"14.00\">True</text>\r\n",
       "</g>\r\n",
       "<!-- 22 -->\r\n",
       "<g id=\"node23\" class=\"node\"><title>22</title>\r\n",
       "<path fill=\"#6cb6ec\" stroke=\"black\" d=\"M1015.5,-544C1015.5,-544 920.5,-544 920.5,-544 914.5,-544 908.5,-538 908.5,-532 908.5,-532 908.5,-473 908.5,-473 908.5,-467 914.5,-461 920.5,-461 920.5,-461 1015.5,-461 1015.5,-461 1021.5,-461 1027.5,-467 1027.5,-473 1027.5,-473 1027.5,-532 1027.5,-532 1027.5,-538 1021.5,-544 1015.5,-544\"/>\r\n",
       "<text text-anchor=\"middle\" x=\"968\" y=\"-528.8\" font-family=\"Helvetica,sans-Serif\" font-size=\"14.00\">oldpeak &lt;= 1.95</text>\r\n",
       "<text text-anchor=\"middle\" x=\"968\" y=\"-513.8\" font-family=\"Helvetica,sans-Serif\" font-size=\"14.00\">0.33</text>\r\n",
       "<text text-anchor=\"middle\" x=\"968\" y=\"-498.8\" font-family=\"Helvetica,sans-Serif\" font-size=\"14.00\">52.1%</text>\r\n",
       "<text text-anchor=\"middle\" x=\"968\" y=\"-483.8\" font-family=\"Helvetica,sans-Serif\" font-size=\"14.00\">[0.21, 0.79]</text>\r\n",
       "<text text-anchor=\"middle\" x=\"968\" y=\"-468.8\" font-family=\"Helvetica,sans-Serif\" font-size=\"14.00\">no disease</text>\r\n",
       "</g>\r\n",
       "<!-- 0&#45;&gt;22 -->\r\n",
       "<g id=\"edge22\" class=\"edge\"><title>0&#45;&gt;22</title>\r\n",
       "<path fill=\"none\" stroke=\"black\" d=\"M912.49,-579.907C918.951,-571.014 925.857,-561.509 932.524,-552.331\"/>\r\n",
       "<polygon fill=\"black\" stroke=\"black\" points=\"935.516,-554.168 938.562,-544.021 929.853,-550.054 935.516,-554.168\"/>\r\n",
       "<text text-anchor=\"middle\" x=\"942.473\" y=\"-565.013\" font-family=\"Helvetica,sans-Serif\" font-size=\"14.00\">False</text>\r\n",
       "</g>\r\n",
       "<!-- 2 -->\r\n",
       "<g id=\"node3\" class=\"node\"><title>2</title>\r\n",
       "<path fill=\"#f0f8fd\" stroke=\"black\" d=\"M539.5,-425C539.5,-425 474.5,-425 474.5,-425 468.5,-425 462.5,-419 462.5,-413 462.5,-413 462.5,-354 462.5,-354 462.5,-348 468.5,-342 474.5,-342 474.5,-342 539.5,-342 539.5,-342 545.5,-342 551.5,-348 551.5,-354 551.5,-354 551.5,-413 551.5,-413 551.5,-419 545.5,-425 539.5,-425\"/>\r\n",
       "<text text-anchor=\"middle\" x=\"507\" y=\"-409.8\" font-family=\"Helvetica,sans-Serif\" font-size=\"14.00\">thal &lt;= 2.5</text>\r\n",
       "<text text-anchor=\"middle\" x=\"507\" y=\"-394.8\" font-family=\"Helvetica,sans-Serif\" font-size=\"14.00\">0.5</text>\r\n",
       "<text text-anchor=\"middle\" x=\"507\" y=\"-379.8\" font-family=\"Helvetica,sans-Serif\" font-size=\"14.00\">21.5%</text>\r\n",
       "<text text-anchor=\"middle\" x=\"507\" y=\"-364.8\" font-family=\"Helvetica,sans-Serif\" font-size=\"14.00\">[0.48, 0.52]</text>\r\n",
       "<text text-anchor=\"middle\" x=\"507\" y=\"-349.8\" font-family=\"Helvetica,sans-Serif\" font-size=\"14.00\">no disease</text>\r\n",
       "</g>\r\n",
       "<!-- 1&#45;&gt;2 -->\r\n",
       "<g id=\"edge2\" class=\"edge\"><title>1&#45;&gt;2</title>\r\n",
       "<path fill=\"none\" stroke=\"black\" d=\"M754.334,-483.603C702.381,-462.786 616.65,-428.435 561.004,-406.139\"/>\r\n",
       "<polygon fill=\"black\" stroke=\"black\" points=\"562.246,-402.866 551.661,-402.395 559.642,-409.364 562.246,-402.866\"/>\r\n",
       "</g>\r\n",
       "<!-- 15 -->\r\n",
       "<g id=\"node16\" class=\"node\"><title>15</title>\r\n",
       "<path fill=\"#e68743\" stroke=\"black\" d=\"M842.5,-425C842.5,-425 755.5,-425 755.5,-425 749.5,-425 743.5,-419 743.5,-413 743.5,-413 743.5,-354 743.5,-354 743.5,-348 749.5,-342 755.5,-342 755.5,-342 842.5,-342 842.5,-342 848.5,-342 854.5,-348 854.5,-354 854.5,-354 854.5,-413 854.5,-413 854.5,-419 848.5,-425 842.5,-425\"/>\r\n",
       "<text text-anchor=\"middle\" x=\"799\" y=\"-409.8\" font-family=\"Helvetica,sans-Serif\" font-size=\"14.00\">oldpeak &lt;= 0.4</text>\r\n",
       "<text text-anchor=\"middle\" x=\"799\" y=\"-394.8\" font-family=\"Helvetica,sans-Serif\" font-size=\"14.00\">0.09</text>\r\n",
       "<text text-anchor=\"middle\" x=\"799\" y=\"-379.8\" font-family=\"Helvetica,sans-Serif\" font-size=\"14.00\">26.4%</text>\r\n",
       "<text text-anchor=\"middle\" x=\"799\" y=\"-364.8\" font-family=\"Helvetica,sans-Serif\" font-size=\"14.00\">[0.95, 0.05]</text>\r\n",
       "<text text-anchor=\"middle\" x=\"799\" y=\"-349.8\" font-family=\"Helvetica,sans-Serif\" font-size=\"14.00\">disease</text>\r\n",
       "</g>\r\n",
       "<!-- 1&#45;&gt;15 -->\r\n",
       "<g id=\"edge15\" class=\"edge\"><title>1&#45;&gt;15</title>\r\n",
       "<path fill=\"none\" stroke=\"black\" d=\"M799,-460.907C799,-452.649 799,-443.864 799,-435.302\"/>\r\n",
       "<polygon fill=\"black\" stroke=\"black\" points=\"802.5,-435.021 799,-425.021 795.5,-435.021 802.5,-435.021\"/>\r\n",
       "</g>\r\n",
       "<!-- 3 -->\r\n",
       "<g id=\"node4\" class=\"node\"><title>3</title>\r\n",
       "<path fill=\"#73baed\" stroke=\"black\" d=\"M352,-306C352,-306 254,-306 254,-306 248,-306 242,-300 242,-294 242,-294 242,-235 242,-235 242,-229 248,-223 254,-223 254,-223 352,-223 352,-223 358,-223 364,-229 364,-235 364,-235 364,-294 364,-294 364,-300 358,-306 352,-306\"/>\r\n",
       "<text text-anchor=\"middle\" x=\"303\" y=\"-290.8\" font-family=\"Helvetica,sans-Serif\" font-size=\"14.00\">thalach &lt;= 146.0</text>\r\n",
       "<text text-anchor=\"middle\" x=\"303\" y=\"-275.8\" font-family=\"Helvetica,sans-Serif\" font-size=\"14.00\">0.35</text>\r\n",
       "<text text-anchor=\"middle\" x=\"303\" y=\"-260.8\" font-family=\"Helvetica,sans-Serif\" font-size=\"14.00\">12.8%</text>\r\n",
       "<text text-anchor=\"middle\" x=\"303\" y=\"-245.8\" font-family=\"Helvetica,sans-Serif\" font-size=\"14.00\">[0.23, 0.77]</text>\r\n",
       "<text text-anchor=\"middle\" x=\"303\" y=\"-230.8\" font-family=\"Helvetica,sans-Serif\" font-size=\"14.00\">no disease</text>\r\n",
       "</g>\r\n",
       "<!-- 2&#45;&gt;3 -->\r\n",
       "<g id=\"edge3\" class=\"edge\"><title>2&#45;&gt;3</title>\r\n",
       "<path fill=\"none\" stroke=\"black\" d=\"M462.483,-356.968C436.347,-341.978 402.734,-322.701 373.111,-305.711\"/>\r\n",
       "<polygon fill=\"black\" stroke=\"black\" points=\"374.475,-302.458 364.059,-300.519 370.992,-308.53 374.475,-302.458\"/>\r\n",
       "</g>\r\n",
       "<!-- 10 -->\r\n",
       "<g id=\"node11\" class=\"node\"><title>10</title>\r\n",
       "<path fill=\"#e9965a\" stroke=\"black\" d=\"M554.5,-306C554.5,-306 459.5,-306 459.5,-306 453.5,-306 447.5,-300 447.5,-294 447.5,-294 447.5,-235 447.5,-235 447.5,-229 453.5,-223 459.5,-223 459.5,-223 554.5,-223 554.5,-223 560.5,-223 566.5,-229 566.5,-235 566.5,-235 566.5,-294 566.5,-294 566.5,-300 560.5,-306 554.5,-306\"/>\r\n",
       "<text text-anchor=\"middle\" x=\"507\" y=\"-290.8\" font-family=\"Helvetica,sans-Serif\" font-size=\"14.00\">oldpeak &lt;= 0.65</text>\r\n",
       "<text text-anchor=\"middle\" x=\"507\" y=\"-275.8\" font-family=\"Helvetica,sans-Serif\" font-size=\"14.00\">0.24</text>\r\n",
       "<text text-anchor=\"middle\" x=\"507\" y=\"-260.8\" font-family=\"Helvetica,sans-Serif\" font-size=\"14.00\">8.7%</text>\r\n",
       "<text text-anchor=\"middle\" x=\"507\" y=\"-245.8\" font-family=\"Helvetica,sans-Serif\" font-size=\"14.00\">[0.86, 0.14]</text>\r\n",
       "<text text-anchor=\"middle\" x=\"507\" y=\"-230.8\" font-family=\"Helvetica,sans-Serif\" font-size=\"14.00\">disease</text>\r\n",
       "</g>\r\n",
       "<!-- 2&#45;&gt;10 -->\r\n",
       "<g id=\"edge10\" class=\"edge\"><title>2&#45;&gt;10</title>\r\n",
       "<path fill=\"none\" stroke=\"black\" d=\"M507,-341.907C507,-333.649 507,-324.864 507,-316.302\"/>\r\n",
       "<polygon fill=\"black\" stroke=\"black\" points=\"510.5,-316.021 507,-306.021 503.5,-316.021 510.5,-316.021\"/>\r\n",
       "</g>\r\n",
       "<!-- 4 -->\r\n",
       "<g id=\"node5\" class=\"node\"><title>4</title>\r\n",
       "<path fill=\"#ffffff\" stroke=\"black\" d=\"M191.5,-187C191.5,-187 106.5,-187 106.5,-187 100.5,-187 94.5,-181 94.5,-175 94.5,-175 94.5,-116 94.5,-116 94.5,-110 100.5,-104 106.5,-104 106.5,-104 191.5,-104 191.5,-104 197.5,-104 203.5,-110 203.5,-116 203.5,-116 203.5,-175 203.5,-175 203.5,-181 197.5,-187 191.5,-187\"/>\r\n",
       "<text text-anchor=\"middle\" x=\"149\" y=\"-171.8\" font-family=\"Helvetica,sans-Serif\" font-size=\"14.00\">restecg &lt;= 0.5</text>\r\n",
       "<text text-anchor=\"middle\" x=\"149\" y=\"-156.8\" font-family=\"Helvetica,sans-Serif\" font-size=\"14.00\">0.5</text>\r\n",
       "<text text-anchor=\"middle\" x=\"149\" y=\"-141.8\" font-family=\"Helvetica,sans-Serif\" font-size=\"14.00\">4.1%</text>\r\n",
       "<text text-anchor=\"middle\" x=\"149\" y=\"-126.8\" font-family=\"Helvetica,sans-Serif\" font-size=\"14.00\">[0.5, 0.5]</text>\r\n",
       "<text text-anchor=\"middle\" x=\"149\" y=\"-111.8\" font-family=\"Helvetica,sans-Serif\" font-size=\"14.00\">disease</text>\r\n",
       "</g>\r\n",
       "<!-- 3&#45;&gt;4 -->\r\n",
       "<g id=\"edge4\" class=\"edge\"><title>3&#45;&gt;4</title>\r\n",
       "<path fill=\"none\" stroke=\"black\" d=\"M249.57,-222.907C236.909,-213.288 223.306,-202.953 210.324,-193.09\"/>\r\n",
       "<polygon fill=\"black\" stroke=\"black\" points=\"212.415,-190.283 202.335,-187.021 208.18,-195.857 212.415,-190.283\"/>\r\n",
       "</g>\r\n",
       "<!-- 7 -->\r\n",
       "<g id=\"node8\" class=\"node\"><title>7</title>\r\n",
       "<path fill=\"#4ea7e8\" stroke=\"black\" d=\"M334,-187C334,-187 272,-187 272,-187 266,-187 260,-181 260,-175 260,-175 260,-116 260,-116 260,-110 266,-104 272,-104 272,-104 334,-104 334,-104 340,-104 346,-110 346,-116 346,-116 346,-175 346,-175 346,-181 340,-187 334,-187\"/>\r\n",
       "<text text-anchor=\"middle\" x=\"303\" y=\"-171.8\" font-family=\"Helvetica,sans-Serif\" font-size=\"14.00\">thal &lt;= 0.5</text>\r\n",
       "<text text-anchor=\"middle\" x=\"303\" y=\"-156.8\" font-family=\"Helvetica,sans-Serif\" font-size=\"14.00\">0.17</text>\r\n",
       "<text text-anchor=\"middle\" x=\"303\" y=\"-141.8\" font-family=\"Helvetica,sans-Serif\" font-size=\"14.00\">8.7%</text>\r\n",
       "<text text-anchor=\"middle\" x=\"303\" y=\"-126.8\" font-family=\"Helvetica,sans-Serif\" font-size=\"14.00\">[0.1, 0.9]</text>\r\n",
       "<text text-anchor=\"middle\" x=\"303\" y=\"-111.8\" font-family=\"Helvetica,sans-Serif\" font-size=\"14.00\">no disease</text>\r\n",
       "</g>\r\n",
       "<!-- 3&#45;&gt;7 -->\r\n",
       "<g id=\"edge7\" class=\"edge\"><title>3&#45;&gt;7</title>\r\n",
       "<path fill=\"none\" stroke=\"black\" d=\"M303,-222.907C303,-214.649 303,-205.864 303,-197.302\"/>\r\n",
       "<polygon fill=\"black\" stroke=\"black\" points=\"306.5,-197.021 303,-187.021 299.5,-197.021 306.5,-197.021\"/>\r\n",
       "</g>\r\n",
       "<!-- 5 -->\r\n",
       "<g id=\"node6\" class=\"node\"><title>5</title>\r\n",
       "<path fill=\"#399de5\" stroke=\"black\" d=\"M74,-68C74,-68 12,-68 12,-68 6,-68 0,-62 0,-56 0,-56 0,-12 0,-12 0,-6 6,-0 12,-0 12,-0 74,-0 74,-0 80,-0 86,-6 86,-12 86,-12 86,-56 86,-56 86,-62 80,-68 74,-68\"/>\r\n",
       "<text text-anchor=\"middle\" x=\"43\" y=\"-52.8\" font-family=\"Helvetica,sans-Serif\" font-size=\"14.00\">0.0</text>\r\n",
       "<text text-anchor=\"middle\" x=\"43\" y=\"-37.8\" font-family=\"Helvetica,sans-Serif\" font-size=\"14.00\">1.2%</text>\r\n",
       "<text text-anchor=\"middle\" x=\"43\" y=\"-22.8\" font-family=\"Helvetica,sans-Serif\" font-size=\"14.00\">[0.0, 1.0]</text>\r\n",
       "<text text-anchor=\"middle\" x=\"43\" y=\"-7.8\" font-family=\"Helvetica,sans-Serif\" font-size=\"14.00\">no disease</text>\r\n",
       "</g>\r\n",
       "<!-- 4&#45;&gt;5 -->\r\n",
       "<g id=\"edge5\" class=\"edge\"><title>4&#45;&gt;5</title>\r\n",
       "<path fill=\"none\" stroke=\"black\" d=\"M109.53,-103.726C100.612,-94.5142 91.1467,-84.7364 82.2387,-75.5343\"/>\r\n",
       "<polygon fill=\"black\" stroke=\"black\" points=\"84.7053,-73.0502 75.2352,-68.2996 79.6758,-77.919 84.7053,-73.0502\"/>\r\n",
       "</g>\r\n",
       "<!-- 6 -->\r\n",
       "<g id=\"node7\" class=\"node\"><title>6</title>\r\n",
       "<path fill=\"#efb388\" stroke=\"black\" d=\"M181.5,-68C181.5,-68 116.5,-68 116.5,-68 110.5,-68 104.5,-62 104.5,-56 104.5,-56 104.5,-12 104.5,-12 104.5,-6 110.5,-0 116.5,-0 116.5,-0 181.5,-0 181.5,-0 187.5,-0 193.5,-6 193.5,-12 193.5,-12 193.5,-56 193.5,-56 193.5,-62 187.5,-68 181.5,-68\"/>\r\n",
       "<text text-anchor=\"middle\" x=\"149\" y=\"-52.8\" font-family=\"Helvetica,sans-Serif\" font-size=\"14.00\">0.41</text>\r\n",
       "<text text-anchor=\"middle\" x=\"149\" y=\"-37.8\" font-family=\"Helvetica,sans-Serif\" font-size=\"14.00\">2.9%</text>\r\n",
       "<text text-anchor=\"middle\" x=\"149\" y=\"-22.8\" font-family=\"Helvetica,sans-Serif\" font-size=\"14.00\">[0.71, 0.29]</text>\r\n",
       "<text text-anchor=\"middle\" x=\"149\" y=\"-7.8\" font-family=\"Helvetica,sans-Serif\" font-size=\"14.00\">disease</text>\r\n",
       "</g>\r\n",
       "<!-- 4&#45;&gt;6 -->\r\n",
       "<g id=\"edge6\" class=\"edge\"><title>4&#45;&gt;6</title>\r\n",
       "<path fill=\"none\" stroke=\"black\" d=\"M149,-103.726C149,-95.5175 149,-86.8595 149,-78.56\"/>\r\n",
       "<polygon fill=\"black\" stroke=\"black\" points=\"152.5,-78.2996 149,-68.2996 145.5,-78.2996 152.5,-78.2996\"/>\r\n",
       "</g>\r\n",
       "<!-- 8 -->\r\n",
       "<g id=\"node9\" class=\"node\"><title>8</title>\r\n",
       "<path fill=\"#e58139\" stroke=\"black\" d=\"M272,-68C272,-68 224,-68 224,-68 218,-68 212,-62 212,-56 212,-56 212,-12 212,-12 212,-6 218,-0 224,-0 224,-0 272,-0 272,-0 278,-0 284,-6 284,-12 284,-12 284,-56 284,-56 284,-62 278,-68 272,-68\"/>\r\n",
       "<text text-anchor=\"middle\" x=\"248\" y=\"-52.8\" font-family=\"Helvetica,sans-Serif\" font-size=\"14.00\">0.0</text>\r\n",
       "<text text-anchor=\"middle\" x=\"248\" y=\"-37.8\" font-family=\"Helvetica,sans-Serif\" font-size=\"14.00\">0.4%</text>\r\n",
       "<text text-anchor=\"middle\" x=\"248\" y=\"-22.8\" font-family=\"Helvetica,sans-Serif\" font-size=\"14.00\">[1.0, 0.0]</text>\r\n",
       "<text text-anchor=\"middle\" x=\"248\" y=\"-7.8\" font-family=\"Helvetica,sans-Serif\" font-size=\"14.00\">disease</text>\r\n",
       "</g>\r\n",
       "<!-- 7&#45;&gt;8 -->\r\n",
       "<g id=\"edge8\" class=\"edge\"><title>7&#45;&gt;8</title>\r\n",
       "<path fill=\"none\" stroke=\"black\" d=\"M282.52,-103.726C278.214,-95.1527 273.661,-86.0891 269.325,-77.4555\"/>\r\n",
       "<polygon fill=\"black\" stroke=\"black\" points=\"272.342,-75.6647 264.726,-68.2996 266.087,-78.8067 272.342,-75.6647\"/>\r\n",
       "</g>\r\n",
       "<!-- 9 -->\r\n",
       "<g id=\"node10\" class=\"node\"><title>9</title>\r\n",
       "<path fill=\"#43a2e6\" stroke=\"black\" d=\"M379.5,-68C379.5,-68 314.5,-68 314.5,-68 308.5,-68 302.5,-62 302.5,-56 302.5,-56 302.5,-12 302.5,-12 302.5,-6 308.5,-0 314.5,-0 314.5,-0 379.5,-0 379.5,-0 385.5,-0 391.5,-6 391.5,-12 391.5,-12 391.5,-56 391.5,-56 391.5,-62 385.5,-68 379.5,-68\"/>\r\n",
       "<text text-anchor=\"middle\" x=\"347\" y=\"-52.8\" font-family=\"Helvetica,sans-Serif\" font-size=\"14.00\">0.09</text>\r\n",
       "<text text-anchor=\"middle\" x=\"347\" y=\"-37.8\" font-family=\"Helvetica,sans-Serif\" font-size=\"14.00\">8.3%</text>\r\n",
       "<text text-anchor=\"middle\" x=\"347\" y=\"-22.8\" font-family=\"Helvetica,sans-Serif\" font-size=\"14.00\">[0.05, 0.95]</text>\r\n",
       "<text text-anchor=\"middle\" x=\"347\" y=\"-7.8\" font-family=\"Helvetica,sans-Serif\" font-size=\"14.00\">no disease</text>\r\n",
       "</g>\r\n",
       "<!-- 7&#45;&gt;9 -->\r\n",
       "<g id=\"edge9\" class=\"edge\"><title>7&#45;&gt;9</title>\r\n",
       "<path fill=\"none\" stroke=\"black\" d=\"M319.384,-103.726C322.792,-95.2439 326.394,-86.2819 329.829,-77.7312\"/>\r\n",
       "<polygon fill=\"black\" stroke=\"black\" points=\"333.138,-78.8835 333.619,-68.2996 326.643,-76.2735 333.138,-78.8835\"/>\r\n",
       "</g>\r\n",
       "<!-- 11 -->\r\n",
       "<g id=\"node12\" class=\"node\"><title>11</title>\r\n",
       "<path fill=\"#ffffff\" stroke=\"black\" d=\"M494,-187C494,-187 414,-187 414,-187 408,-187 402,-181 402,-175 402,-175 402,-116 402,-116 402,-110 408,-104 414,-104 414,-104 494,-104 494,-104 500,-104 506,-110 506,-116 506,-116 506,-175 506,-175 506,-181 500,-187 494,-187\"/>\r\n",
       "<text text-anchor=\"middle\" x=\"454\" y=\"-171.8\" font-family=\"Helvetica,sans-Serif\" font-size=\"14.00\">chol &lt;= 237.5</text>\r\n",
       "<text text-anchor=\"middle\" x=\"454\" y=\"-156.8\" font-family=\"Helvetica,sans-Serif\" font-size=\"14.00\">0.5</text>\r\n",
       "<text text-anchor=\"middle\" x=\"454\" y=\"-141.8\" font-family=\"Helvetica,sans-Serif\" font-size=\"14.00\">2.5%</text>\r\n",
       "<text text-anchor=\"middle\" x=\"454\" y=\"-126.8\" font-family=\"Helvetica,sans-Serif\" font-size=\"14.00\">[0.5, 0.5]</text>\r\n",
       "<text text-anchor=\"middle\" x=\"454\" y=\"-111.8\" font-family=\"Helvetica,sans-Serif\" font-size=\"14.00\">disease</text>\r\n",
       "</g>\r\n",
       "<!-- 10&#45;&gt;11 -->\r\n",
       "<g id=\"edge11\" class=\"edge\"><title>10&#45;&gt;11</title>\r\n",
       "<path fill=\"none\" stroke=\"black\" d=\"M488.612,-222.907C484.707,-214.286 480.541,-205.09 476.502,-196.175\"/>\r\n",
       "<polygon fill=\"black\" stroke=\"black\" points=\"479.67,-194.686 472.356,-187.021 473.294,-197.574 479.67,-194.686\"/>\r\n",
       "</g>\r\n",
       "<!-- 14 -->\r\n",
       "<g id=\"node15\" class=\"node\"><title>14</title>\r\n",
       "<path fill=\"#e58139\" stroke=\"black\" d=\"M584,-179.5C584,-179.5 536,-179.5 536,-179.5 530,-179.5 524,-173.5 524,-167.5 524,-167.5 524,-123.5 524,-123.5 524,-117.5 530,-111.5 536,-111.5 536,-111.5 584,-111.5 584,-111.5 590,-111.5 596,-117.5 596,-123.5 596,-123.5 596,-167.5 596,-167.5 596,-173.5 590,-179.5 584,-179.5\"/>\r\n",
       "<text text-anchor=\"middle\" x=\"560\" y=\"-164.3\" font-family=\"Helvetica,sans-Serif\" font-size=\"14.00\">0.0</text>\r\n",
       "<text text-anchor=\"middle\" x=\"560\" y=\"-149.3\" font-family=\"Helvetica,sans-Serif\" font-size=\"14.00\">6.2%</text>\r\n",
       "<text text-anchor=\"middle\" x=\"560\" y=\"-134.3\" font-family=\"Helvetica,sans-Serif\" font-size=\"14.00\">[1.0, 0.0]</text>\r\n",
       "<text text-anchor=\"middle\" x=\"560\" y=\"-119.3\" font-family=\"Helvetica,sans-Serif\" font-size=\"14.00\">disease</text>\r\n",
       "</g>\r\n",
       "<!-- 10&#45;&gt;14 -->\r\n",
       "<g id=\"edge14\" class=\"edge\"><title>10&#45;&gt;14</title>\r\n",
       "<path fill=\"none\" stroke=\"black\" d=\"M525.388,-222.907C530.337,-211.983 535.703,-200.137 540.7,-189.107\"/>\r\n",
       "<polygon fill=\"black\" stroke=\"black\" points=\"544.037,-190.22 544.976,-179.667 537.661,-187.332 544.037,-190.22\"/>\r\n",
       "</g>\r\n",
       "<!-- 12 -->\r\n",
       "<g id=\"node13\" class=\"node\"><title>12</title>\r\n",
       "<path fill=\"#7bbeee\" stroke=\"black\" d=\"M486.5,-68C486.5,-68 421.5,-68 421.5,-68 415.5,-68 409.5,-62 409.5,-56 409.5,-56 409.5,-12 409.5,-12 409.5,-6 415.5,-0 421.5,-0 421.5,-0 486.5,-0 486.5,-0 492.5,-0 498.5,-6 498.5,-12 498.5,-12 498.5,-56 498.5,-56 498.5,-62 492.5,-68 486.5,-68\"/>\r\n",
       "<text text-anchor=\"middle\" x=\"454\" y=\"-52.8\" font-family=\"Helvetica,sans-Serif\" font-size=\"14.00\">0.38</text>\r\n",
       "<text text-anchor=\"middle\" x=\"454\" y=\"-37.8\" font-family=\"Helvetica,sans-Serif\" font-size=\"14.00\">1.7%</text>\r\n",
       "<text text-anchor=\"middle\" x=\"454\" y=\"-22.8\" font-family=\"Helvetica,sans-Serif\" font-size=\"14.00\">[0.25, 0.75]</text>\r\n",
       "<text text-anchor=\"middle\" x=\"454\" y=\"-7.8\" font-family=\"Helvetica,sans-Serif\" font-size=\"14.00\">no disease</text>\r\n",
       "</g>\r\n",
       "<!-- 11&#45;&gt;12 -->\r\n",
       "<g id=\"edge12\" class=\"edge\"><title>11&#45;&gt;12</title>\r\n",
       "<path fill=\"none\" stroke=\"black\" d=\"M454,-103.726C454,-95.5175 454,-86.8595 454,-78.56\"/>\r\n",
       "<polygon fill=\"black\" stroke=\"black\" points=\"457.5,-78.2996 454,-68.2996 450.5,-78.2996 457.5,-78.2996\"/>\r\n",
       "</g>\r\n",
       "<!-- 13 -->\r\n",
       "<g id=\"node14\" class=\"node\"><title>13</title>\r\n",
       "<path fill=\"#e58139\" stroke=\"black\" d=\"M577,-68C577,-68 529,-68 529,-68 523,-68 517,-62 517,-56 517,-56 517,-12 517,-12 517,-6 523,-0 529,-0 529,-0 577,-0 577,-0 583,-0 589,-6 589,-12 589,-12 589,-56 589,-56 589,-62 583,-68 577,-68\"/>\r\n",
       "<text text-anchor=\"middle\" x=\"553\" y=\"-52.8\" font-family=\"Helvetica,sans-Serif\" font-size=\"14.00\">0.0</text>\r\n",
       "<text text-anchor=\"middle\" x=\"553\" y=\"-37.8\" font-family=\"Helvetica,sans-Serif\" font-size=\"14.00\">0.8%</text>\r\n",
       "<text text-anchor=\"middle\" x=\"553\" y=\"-22.8\" font-family=\"Helvetica,sans-Serif\" font-size=\"14.00\">[1.0, 0.0]</text>\r\n",
       "<text text-anchor=\"middle\" x=\"553\" y=\"-7.8\" font-family=\"Helvetica,sans-Serif\" font-size=\"14.00\">disease</text>\r\n",
       "</g>\r\n",
       "<!-- 11&#45;&gt;13 -->\r\n",
       "<g id=\"edge13\" class=\"edge\"><title>11&#45;&gt;13</title>\r\n",
       "<path fill=\"none\" stroke=\"black\" d=\"M490.864,-103.726C499.11,-94.6054 507.858,-84.93 516.105,-75.8078\"/>\r\n",
       "<polygon fill=\"black\" stroke=\"black\" points=\"518.783,-78.0647 522.894,-68.2996 513.591,-73.3701 518.783,-78.0647\"/>\r\n",
       "</g>\r\n",
       "<!-- 16 -->\r\n",
       "<g id=\"node17\" class=\"node\"><title>16</title>\r\n",
       "<path fill=\"#eca06a\" stroke=\"black\" d=\"M780.5,-306C780.5,-306 721.5,-306 721.5,-306 715.5,-306 709.5,-300 709.5,-294 709.5,-294 709.5,-235 709.5,-235 709.5,-229 715.5,-223 721.5,-223 721.5,-223 780.5,-223 780.5,-223 786.5,-223 792.5,-229 792.5,-235 792.5,-235 792.5,-294 792.5,-294 792.5,-300 786.5,-306 780.5,-306\"/>\r\n",
       "<text text-anchor=\"middle\" x=\"751\" y=\"-290.8\" font-family=\"Helvetica,sans-Serif\" font-size=\"14.00\">sex &lt;= 0.5</text>\r\n",
       "<text text-anchor=\"middle\" x=\"751\" y=\"-275.8\" font-family=\"Helvetica,sans-Serif\" font-size=\"14.00\">0.32</text>\r\n",
       "<text text-anchor=\"middle\" x=\"751\" y=\"-260.8\" font-family=\"Helvetica,sans-Serif\" font-size=\"14.00\">6.2%</text>\r\n",
       "<text text-anchor=\"middle\" x=\"751\" y=\"-245.8\" font-family=\"Helvetica,sans-Serif\" font-size=\"14.00\">[0.8, 0.2]</text>\r\n",
       "<text text-anchor=\"middle\" x=\"751\" y=\"-230.8\" font-family=\"Helvetica,sans-Serif\" font-size=\"14.00\">disease</text>\r\n",
       "</g>\r\n",
       "<!-- 15&#45;&gt;16 -->\r\n",
       "<g id=\"edge16\" class=\"edge\"><title>15&#45;&gt;16</title>\r\n",
       "<path fill=\"none\" stroke=\"black\" d=\"M782.347,-341.907C778.847,-333.377 775.117,-324.284 771.495,-315.456\"/>\r\n",
       "<polygon fill=\"black\" stroke=\"black\" points=\"774.658,-313.944 767.624,-306.021 768.181,-316.601 774.658,-313.944\"/>\r\n",
       "</g>\r\n",
       "<!-- 21 -->\r\n",
       "<g id=\"node22\" class=\"node\"><title>21</title>\r\n",
       "<path fill=\"#e58139\" stroke=\"black\" d=\"M871,-298.5C871,-298.5 823,-298.5 823,-298.5 817,-298.5 811,-292.5 811,-286.5 811,-286.5 811,-242.5 811,-242.5 811,-236.5 817,-230.5 823,-230.5 823,-230.5 871,-230.5 871,-230.5 877,-230.5 883,-236.5 883,-242.5 883,-242.5 883,-286.5 883,-286.5 883,-292.5 877,-298.5 871,-298.5\"/>\r\n",
       "<text text-anchor=\"middle\" x=\"847\" y=\"-283.3\" font-family=\"Helvetica,sans-Serif\" font-size=\"14.00\">0.0</text>\r\n",
       "<text text-anchor=\"middle\" x=\"847\" y=\"-268.3\" font-family=\"Helvetica,sans-Serif\" font-size=\"14.00\">20.2%</text>\r\n",
       "<text text-anchor=\"middle\" x=\"847\" y=\"-253.3\" font-family=\"Helvetica,sans-Serif\" font-size=\"14.00\">[1.0, 0.0]</text>\r\n",
       "<text text-anchor=\"middle\" x=\"847\" y=\"-238.3\" font-family=\"Helvetica,sans-Serif\" font-size=\"14.00\">disease</text>\r\n",
       "</g>\r\n",
       "<!-- 15&#45;&gt;21 -->\r\n",
       "<g id=\"edge21\" class=\"edge\"><title>15&#45;&gt;21</title>\r\n",
       "<path fill=\"none\" stroke=\"black\" d=\"M815.653,-341.907C820.135,-330.983 824.995,-319.137 829.52,-308.107\"/>\r\n",
       "<polygon fill=\"black\" stroke=\"black\" points=\"832.836,-309.247 833.393,-298.667 826.359,-306.59 832.836,-309.247\"/>\r\n",
       "</g>\r\n",
       "<!-- 17 -->\r\n",
       "<g id=\"node18\" class=\"node\"><title>17</title>\r\n",
       "<path fill=\"#399de5\" stroke=\"black\" d=\"M688,-179.5C688,-179.5 626,-179.5 626,-179.5 620,-179.5 614,-173.5 614,-167.5 614,-167.5 614,-123.5 614,-123.5 614,-117.5 620,-111.5 626,-111.5 626,-111.5 688,-111.5 688,-111.5 694,-111.5 700,-117.5 700,-123.5 700,-123.5 700,-167.5 700,-167.5 700,-173.5 694,-179.5 688,-179.5\"/>\r\n",
       "<text text-anchor=\"middle\" x=\"657\" y=\"-164.3\" font-family=\"Helvetica,sans-Serif\" font-size=\"14.00\">0.0</text>\r\n",
       "<text text-anchor=\"middle\" x=\"657\" y=\"-149.3\" font-family=\"Helvetica,sans-Serif\" font-size=\"14.00\">0.4%</text>\r\n",
       "<text text-anchor=\"middle\" x=\"657\" y=\"-134.3\" font-family=\"Helvetica,sans-Serif\" font-size=\"14.00\">[0.0, 1.0]</text>\r\n",
       "<text text-anchor=\"middle\" x=\"657\" y=\"-119.3\" font-family=\"Helvetica,sans-Serif\" font-size=\"14.00\">no disease</text>\r\n",
       "</g>\r\n",
       "<!-- 16&#45;&gt;17 -->\r\n",
       "<g id=\"edge17\" class=\"edge\"><title>16&#45;&gt;17</title>\r\n",
       "<path fill=\"none\" stroke=\"black\" d=\"M718.387,-222.907C709.256,-211.542 699.323,-199.178 690.16,-187.774\"/>\r\n",
       "<polygon fill=\"black\" stroke=\"black\" points=\"692.639,-185.271 683.647,-179.667 687.182,-189.655 692.639,-185.271\"/>\r\n",
       "</g>\r\n",
       "<!-- 18 -->\r\n",
       "<g id=\"node19\" class=\"node\"><title>18</title>\r\n",
       "<path fill=\"#e9965a\" stroke=\"black\" d=\"M828,-187C828,-187 730,-187 730,-187 724,-187 718,-181 718,-175 718,-175 718,-116 718,-116 718,-110 724,-104 730,-104 730,-104 828,-104 828,-104 834,-104 840,-110 840,-116 840,-116 840,-175 840,-175 840,-181 834,-187 828,-187\"/>\r\n",
       "<text text-anchor=\"middle\" x=\"779\" y=\"-171.8\" font-family=\"Helvetica,sans-Serif\" font-size=\"14.00\">thalach &lt;= 118.5</text>\r\n",
       "<text text-anchor=\"middle\" x=\"779\" y=\"-156.8\" font-family=\"Helvetica,sans-Serif\" font-size=\"14.00\">0.24</text>\r\n",
       "<text text-anchor=\"middle\" x=\"779\" y=\"-141.8\" font-family=\"Helvetica,sans-Serif\" font-size=\"14.00\">5.8%</text>\r\n",
       "<text text-anchor=\"middle\" x=\"779\" y=\"-126.8\" font-family=\"Helvetica,sans-Serif\" font-size=\"14.00\">[0.86, 0.14]</text>\r\n",
       "<text text-anchor=\"middle\" x=\"779\" y=\"-111.8\" font-family=\"Helvetica,sans-Serif\" font-size=\"14.00\">disease</text>\r\n",
       "</g>\r\n",
       "<!-- 16&#45;&gt;18 -->\r\n",
       "<g id=\"edge18\" class=\"edge\"><title>16&#45;&gt;18</title>\r\n",
       "<path fill=\"none\" stroke=\"black\" d=\"M760.714,-222.907C762.713,-214.558 764.839,-205.671 766.91,-197.02\"/>\r\n",
       "<polygon fill=\"black\" stroke=\"black\" points=\"770.379,-197.561 769.303,-187.021 763.571,-195.932 770.379,-197.561\"/>\r\n",
       "</g>\r\n",
       "<!-- 19 -->\r\n",
       "<g id=\"node20\" class=\"node\"><title>19</title>\r\n",
       "<path fill=\"#399de5\" stroke=\"black\" d=\"M709,-68C709,-68 647,-68 647,-68 641,-68 635,-62 635,-56 635,-56 635,-12 635,-12 635,-6 641,-0 647,-0 647,-0 709,-0 709,-0 715,-0 721,-6 721,-12 721,-12 721,-56 721,-56 721,-62 715,-68 709,-68\"/>\r\n",
       "<text text-anchor=\"middle\" x=\"678\" y=\"-52.8\" font-family=\"Helvetica,sans-Serif\" font-size=\"14.00\">0.0</text>\r\n",
       "<text text-anchor=\"middle\" x=\"678\" y=\"-37.8\" font-family=\"Helvetica,sans-Serif\" font-size=\"14.00\">0.4%</text>\r\n",
       "<text text-anchor=\"middle\" x=\"678\" y=\"-22.8\" font-family=\"Helvetica,sans-Serif\" font-size=\"14.00\">[0.0, 1.0]</text>\r\n",
       "<text text-anchor=\"middle\" x=\"678\" y=\"-7.8\" font-family=\"Helvetica,sans-Serif\" font-size=\"14.00\">no disease</text>\r\n",
       "</g>\r\n",
       "<!-- 18&#45;&gt;19 -->\r\n",
       "<g id=\"edge19\" class=\"edge\"><title>18&#45;&gt;19</title>\r\n",
       "<path fill=\"none\" stroke=\"black\" d=\"M741.391,-103.726C732.979,-94.6054 724.054,-84.93 715.64,-75.8078\"/>\r\n",
       "<polygon fill=\"black\" stroke=\"black\" points=\"718.067,-73.2772 708.715,-68.2996 712.922,-78.0232 718.067,-73.2772\"/>\r\n",
       "</g>\r\n",
       "<!-- 20 -->\r\n",
       "<g id=\"node21\" class=\"node\"><title>20</title>\r\n",
       "<path fill=\"#e78c49\" stroke=\"black\" d=\"M816.5,-68C816.5,-68 751.5,-68 751.5,-68 745.5,-68 739.5,-62 739.5,-56 739.5,-56 739.5,-12 739.5,-12 739.5,-6 745.5,-0 751.5,-0 751.5,-0 816.5,-0 816.5,-0 822.5,-0 828.5,-6 828.5,-12 828.5,-12 828.5,-56 828.5,-56 828.5,-62 822.5,-68 816.5,-68\"/>\r\n",
       "<text text-anchor=\"middle\" x=\"784\" y=\"-52.8\" font-family=\"Helvetica,sans-Serif\" font-size=\"14.00\">0.14</text>\r\n",
       "<text text-anchor=\"middle\" x=\"784\" y=\"-37.8\" font-family=\"Helvetica,sans-Serif\" font-size=\"14.00\">5.4%</text>\r\n",
       "<text text-anchor=\"middle\" x=\"784\" y=\"-22.8\" font-family=\"Helvetica,sans-Serif\" font-size=\"14.00\">[0.92, 0.08]</text>\r\n",
       "<text text-anchor=\"middle\" x=\"784\" y=\"-7.8\" font-family=\"Helvetica,sans-Serif\" font-size=\"14.00\">disease</text>\r\n",
       "</g>\r\n",
       "<!-- 18&#45;&gt;20 -->\r\n",
       "<g id=\"edge20\" class=\"edge\"><title>18&#45;&gt;20</title>\r\n",
       "<path fill=\"none\" stroke=\"black\" d=\"M780.862,-103.726C781.237,-95.5175 781.632,-86.8595 782.011,-78.56\"/>\r\n",
       "<polygon fill=\"black\" stroke=\"black\" points=\"785.52,-78.4489 782.479,-68.2996 778.527,-78.1295 785.52,-78.4489\"/>\r\n",
       "</g>\r\n",
       "<!-- 23 -->\r\n",
       "<g id=\"node24\" class=\"node\"><title>23</title>\r\n",
       "<path fill=\"#5aaee9\" stroke=\"black\" d=\"M1002.5,-425C1002.5,-425 933.5,-425 933.5,-425 927.5,-425 921.5,-419 921.5,-413 921.5,-413 921.5,-354 921.5,-354 921.5,-348 927.5,-342 933.5,-342 933.5,-342 1002.5,-342 1002.5,-342 1008.5,-342 1014.5,-348 1014.5,-354 1014.5,-354 1014.5,-413 1014.5,-413 1014.5,-419 1008.5,-425 1002.5,-425\"/>\r\n",
       "<text text-anchor=\"middle\" x=\"968\" y=\"-409.8\" font-family=\"Helvetica,sans-Serif\" font-size=\"14.00\">age &lt;= 55.5</text>\r\n",
       "<text text-anchor=\"middle\" x=\"968\" y=\"-394.8\" font-family=\"Helvetica,sans-Serif\" font-size=\"14.00\">0.25</text>\r\n",
       "<text text-anchor=\"middle\" x=\"968\" y=\"-379.8\" font-family=\"Helvetica,sans-Serif\" font-size=\"14.00\">45.9%</text>\r\n",
       "<text text-anchor=\"middle\" x=\"968\" y=\"-364.8\" font-family=\"Helvetica,sans-Serif\" font-size=\"14.00\">[0.14, 0.86]</text>\r\n",
       "<text text-anchor=\"middle\" x=\"968\" y=\"-349.8\" font-family=\"Helvetica,sans-Serif\" font-size=\"14.00\">no disease</text>\r\n",
       "</g>\r\n",
       "<!-- 22&#45;&gt;23 -->\r\n",
       "<g id=\"edge23\" class=\"edge\"><title>22&#45;&gt;23</title>\r\n",
       "<path fill=\"none\" stroke=\"black\" d=\"M968,-460.907C968,-452.649 968,-443.864 968,-435.302\"/>\r\n",
       "<polygon fill=\"black\" stroke=\"black\" points=\"971.5,-435.021 968,-425.021 964.5,-435.021 971.5,-435.021\"/>\r\n",
       "</g>\r\n",
       "<!-- 34 -->\r\n",
       "<g id=\"node35\" class=\"node\"><title>34</title>\r\n",
       "<path fill=\"#f2c09c\" stroke=\"black\" d=\"M1241,-425C1241,-425 1169,-425 1169,-425 1163,-425 1157,-419 1157,-413 1157,-413 1157,-354 1157,-354 1157,-348 1163,-342 1169,-342 1169,-342 1241,-342 1241,-342 1247,-342 1253,-348 1253,-354 1253,-354 1253,-413 1253,-413 1253,-419 1247,-425 1241,-425\"/>\r\n",
       "<text text-anchor=\"middle\" x=\"1205\" y=\"-409.8\" font-family=\"Helvetica,sans-Serif\" font-size=\"14.00\">slope &lt;= 0.5</text>\r\n",
       "<text text-anchor=\"middle\" x=\"1205\" y=\"-394.8\" font-family=\"Helvetica,sans-Serif\" font-size=\"14.00\">0.44</text>\r\n",
       "<text text-anchor=\"middle\" x=\"1205\" y=\"-379.8\" font-family=\"Helvetica,sans-Serif\" font-size=\"14.00\">6.2%</text>\r\n",
       "<text text-anchor=\"middle\" x=\"1205\" y=\"-364.8\" font-family=\"Helvetica,sans-Serif\" font-size=\"14.00\">[0.67, 0.33]</text>\r\n",
       "<text text-anchor=\"middle\" x=\"1205\" y=\"-349.8\" font-family=\"Helvetica,sans-Serif\" font-size=\"14.00\">disease</text>\r\n",
       "</g>\r\n",
       "<!-- 22&#45;&gt;34 -->\r\n",
       "<g id=\"edge34\" class=\"edge\"><title>22&#45;&gt;34</title>\r\n",
       "<path fill=\"none\" stroke=\"black\" d=\"M1027.81,-471.976C1064.59,-453.815 1111.47,-430.671 1147.77,-412.751\"/>\r\n",
       "<polygon fill=\"black\" stroke=\"black\" points=\"1149.35,-415.878 1156.76,-408.313 1146.25,-409.602 1149.35,-415.878\"/>\r\n",
       "</g>\r\n",
       "<!-- 24 -->\r\n",
       "<g id=\"node25\" class=\"node\"><title>24</title>\r\n",
       "<path fill=\"#45a3e7\" stroke=\"black\" d=\"M1019.5,-306C1019.5,-306 914.5,-306 914.5,-306 908.5,-306 902.5,-300 902.5,-294 902.5,-294 902.5,-235 902.5,-235 902.5,-229 908.5,-223 914.5,-223 914.5,-223 1019.5,-223 1019.5,-223 1025.5,-223 1031.5,-229 1031.5,-235 1031.5,-235 1031.5,-294 1031.5,-294 1031.5,-300 1025.5,-306 1019.5,-306\"/>\r\n",
       "<text text-anchor=\"middle\" x=\"967\" y=\"-290.8\" font-family=\"Helvetica,sans-Serif\" font-size=\"14.00\">trestbps &lt;= 182.0</text>\r\n",
       "<text text-anchor=\"middle\" x=\"967\" y=\"-275.8\" font-family=\"Helvetica,sans-Serif\" font-size=\"14.00\">0.11</text>\r\n",
       "<text text-anchor=\"middle\" x=\"967\" y=\"-260.8\" font-family=\"Helvetica,sans-Serif\" font-size=\"14.00\">28.1%</text>\r\n",
       "<text text-anchor=\"middle\" x=\"967\" y=\"-245.8\" font-family=\"Helvetica,sans-Serif\" font-size=\"14.00\">[0.06, 0.94]</text>\r\n",
       "<text text-anchor=\"middle\" x=\"967\" y=\"-230.8\" font-family=\"Helvetica,sans-Serif\" font-size=\"14.00\">no disease</text>\r\n",
       "</g>\r\n",
       "<!-- 23&#45;&gt;24 -->\r\n",
       "<g id=\"edge24\" class=\"edge\"><title>23&#45;&gt;24</title>\r\n",
       "<path fill=\"none\" stroke=\"black\" d=\"M967.653,-341.907C967.582,-333.649 967.507,-324.864 967.434,-316.302\"/>\r\n",
       "<polygon fill=\"black\" stroke=\"black\" points=\"970.932,-315.99 967.346,-306.021 963.932,-316.05 970.932,-315.99\"/>\r\n",
       "</g>\r\n",
       "<!-- 29 -->\r\n",
       "<g id=\"node30\" class=\"node\"><title>29</title>\r\n",
       "<path fill=\"#86c3ef\" stroke=\"black\" d=\"M1126.5,-306C1126.5,-306 1061.5,-306 1061.5,-306 1055.5,-306 1049.5,-300 1049.5,-294 1049.5,-294 1049.5,-235 1049.5,-235 1049.5,-229 1055.5,-223 1061.5,-223 1061.5,-223 1126.5,-223 1126.5,-223 1132.5,-223 1138.5,-229 1138.5,-235 1138.5,-235 1138.5,-294 1138.5,-294 1138.5,-300 1132.5,-306 1126.5,-306\"/>\r\n",
       "<text text-anchor=\"middle\" x=\"1094\" y=\"-290.8\" font-family=\"Helvetica,sans-Serif\" font-size=\"14.00\">thal &lt;= 1.5</text>\r\n",
       "<text text-anchor=\"middle\" x=\"1094\" y=\"-275.8\" font-family=\"Helvetica,sans-Serif\" font-size=\"14.00\">0.4</text>\r\n",
       "<text text-anchor=\"middle\" x=\"1094\" y=\"-260.8\" font-family=\"Helvetica,sans-Serif\" font-size=\"14.00\">17.8%</text>\r\n",
       "<text text-anchor=\"middle\" x=\"1094\" y=\"-245.8\" font-family=\"Helvetica,sans-Serif\" font-size=\"14.00\">[0.28, 0.72]</text>\r\n",
       "<text text-anchor=\"middle\" x=\"1094\" y=\"-230.8\" font-family=\"Helvetica,sans-Serif\" font-size=\"14.00\">no disease</text>\r\n",
       "</g>\r\n",
       "<!-- 23&#45;&gt;29 -->\r\n",
       "<g id=\"edge29\" class=\"edge\"><title>23&#45;&gt;29</title>\r\n",
       "<path fill=\"none\" stroke=\"black\" d=\"M1011.72,-341.907C1021.78,-332.56 1032.57,-322.538 1042.92,-312.929\"/>\r\n",
       "<polygon fill=\"black\" stroke=\"black\" points=\"1045.42,-315.39 1050.36,-306.021 1040.65,-310.261 1045.42,-315.39\"/>\r\n",
       "</g>\r\n",
       "<!-- 25 -->\r\n",
       "<g id=\"node26\" class=\"node\"><title>25</title>\r\n",
       "<path fill=\"#42a2e6\" stroke=\"black\" d=\"M935.5,-187C935.5,-187 870.5,-187 870.5,-187 864.5,-187 858.5,-181 858.5,-175 858.5,-175 858.5,-116 858.5,-116 858.5,-110 864.5,-104 870.5,-104 870.5,-104 935.5,-104 935.5,-104 941.5,-104 947.5,-110 947.5,-116 947.5,-116 947.5,-175 947.5,-175 947.5,-181 941.5,-187 935.5,-187\"/>\r\n",
       "<text text-anchor=\"middle\" x=\"903\" y=\"-171.8\" font-family=\"Helvetica,sans-Serif\" font-size=\"14.00\">thal &lt;= 2.5</text>\r\n",
       "<text text-anchor=\"middle\" x=\"903\" y=\"-156.8\" font-family=\"Helvetica,sans-Serif\" font-size=\"14.00\">0.09</text>\r\n",
       "<text text-anchor=\"middle\" x=\"903\" y=\"-141.8\" font-family=\"Helvetica,sans-Serif\" font-size=\"14.00\">27.7%</text>\r\n",
       "<text text-anchor=\"middle\" x=\"903\" y=\"-126.8\" font-family=\"Helvetica,sans-Serif\" font-size=\"14.00\">[0.04, 0.96]</text>\r\n",
       "<text text-anchor=\"middle\" x=\"903\" y=\"-111.8\" font-family=\"Helvetica,sans-Serif\" font-size=\"14.00\">no disease</text>\r\n",
       "</g>\r\n",
       "<!-- 24&#45;&gt;25 -->\r\n",
       "<g id=\"edge25\" class=\"edge\"><title>24&#45;&gt;25</title>\r\n",
       "<path fill=\"none\" stroke=\"black\" d=\"M944.796,-222.907C940.03,-214.195 934.944,-204.897 930.019,-195.893\"/>\r\n",
       "<polygon fill=\"black\" stroke=\"black\" points=\"933.035,-194.114 925.165,-187.021 926.894,-197.474 933.035,-194.114\"/>\r\n",
       "</g>\r\n",
       "<!-- 28 -->\r\n",
       "<g id=\"node29\" class=\"node\"><title>28</title>\r\n",
       "<path fill=\"#e58139\" stroke=\"black\" d=\"M1026,-179.5C1026,-179.5 978,-179.5 978,-179.5 972,-179.5 966,-173.5 966,-167.5 966,-167.5 966,-123.5 966,-123.5 966,-117.5 972,-111.5 978,-111.5 978,-111.5 1026,-111.5 1026,-111.5 1032,-111.5 1038,-117.5 1038,-123.5 1038,-123.5 1038,-167.5 1038,-167.5 1038,-173.5 1032,-179.5 1026,-179.5\"/>\r\n",
       "<text text-anchor=\"middle\" x=\"1002\" y=\"-164.3\" font-family=\"Helvetica,sans-Serif\" font-size=\"14.00\">0.0</text>\r\n",
       "<text text-anchor=\"middle\" x=\"1002\" y=\"-149.3\" font-family=\"Helvetica,sans-Serif\" font-size=\"14.00\">0.4%</text>\r\n",
       "<text text-anchor=\"middle\" x=\"1002\" y=\"-134.3\" font-family=\"Helvetica,sans-Serif\" font-size=\"14.00\">[1.0, 0.0]</text>\r\n",
       "<text text-anchor=\"middle\" x=\"1002\" y=\"-119.3\" font-family=\"Helvetica,sans-Serif\" font-size=\"14.00\">disease</text>\r\n",
       "</g>\r\n",
       "<!-- 24&#45;&gt;28 -->\r\n",
       "<g id=\"edge28\" class=\"edge\"><title>24&#45;&gt;28</title>\r\n",
       "<path fill=\"none\" stroke=\"black\" d=\"M979.143,-222.907C982.378,-212.094 985.883,-200.376 989.154,-189.441\"/>\r\n",
       "<polygon fill=\"black\" stroke=\"black\" points=\"992.565,-190.251 992.078,-179.667 985.859,-188.244 992.565,-190.251\"/>\r\n",
       "</g>\r\n",
       "<!-- 26 -->\r\n",
       "<g id=\"node27\" class=\"node\"><title>26</title>\r\n",
       "<path fill=\"#3d9fe5\" stroke=\"black\" d=\"M931.5,-68C931.5,-68 866.5,-68 866.5,-68 860.5,-68 854.5,-62 854.5,-56 854.5,-56 854.5,-12 854.5,-12 854.5,-6 860.5,-0 866.5,-0 866.5,-0 931.5,-0 931.5,-0 937.5,-0 943.5,-6 943.5,-12 943.5,-12 943.5,-56 943.5,-56 943.5,-62 937.5,-68 931.5,-68\"/>\r\n",
       "<text text-anchor=\"middle\" x=\"899\" y=\"-52.8\" font-family=\"Helvetica,sans-Serif\" font-size=\"14.00\">0.03</text>\r\n",
       "<text text-anchor=\"middle\" x=\"899\" y=\"-37.8\" font-family=\"Helvetica,sans-Serif\" font-size=\"14.00\">23.6%</text>\r\n",
       "<text text-anchor=\"middle\" x=\"899\" y=\"-22.8\" font-family=\"Helvetica,sans-Serif\" font-size=\"14.00\">[0.02, 0.98]</text>\r\n",
       "<text text-anchor=\"middle\" x=\"899\" y=\"-7.8\" font-family=\"Helvetica,sans-Serif\" font-size=\"14.00\">no disease</text>\r\n",
       "</g>\r\n",
       "<!-- 25&#45;&gt;26 -->\r\n",
       "<g id=\"edge26\" class=\"edge\"><title>25&#45;&gt;26</title>\r\n",
       "<path fill=\"none\" stroke=\"black\" d=\"M901.511,-103.726C901.211,-95.5175 900.894,-86.8595 900.591,-78.56\"/>\r\n",
       "<polygon fill=\"black\" stroke=\"black\" points=\"904.079,-78.1651 900.216,-68.2996 897.084,-78.4207 904.079,-78.1651\"/>\r\n",
       "</g>\r\n",
       "<!-- 27 -->\r\n",
       "<g id=\"node28\" class=\"node\"><title>27</title>\r\n",
       "<path fill=\"#6ab6ec\" stroke=\"black\" d=\"M1036,-68C1036,-68 974,-68 974,-68 968,-68 962,-62 962,-56 962,-56 962,-12 962,-12 962,-6 968,-0 974,-0 974,-0 1036,-0 1036,-0 1042,-0 1048,-6 1048,-12 1048,-12 1048,-56 1048,-56 1048,-62 1042,-68 1036,-68\"/>\r\n",
       "<text text-anchor=\"middle\" x=\"1005\" y=\"-52.8\" font-family=\"Helvetica,sans-Serif\" font-size=\"14.00\">0.32</text>\r\n",
       "<text text-anchor=\"middle\" x=\"1005\" y=\"-37.8\" font-family=\"Helvetica,sans-Serif\" font-size=\"14.00\">4.1%</text>\r\n",
       "<text text-anchor=\"middle\" x=\"1005\" y=\"-22.8\" font-family=\"Helvetica,sans-Serif\" font-size=\"14.00\">[0.2, 0.8]</text>\r\n",
       "<text text-anchor=\"middle\" x=\"1005\" y=\"-7.8\" font-family=\"Helvetica,sans-Serif\" font-size=\"14.00\">no disease</text>\r\n",
       "</g>\r\n",
       "<!-- 25&#45;&gt;27 -->\r\n",
       "<g id=\"edge27\" class=\"edge\"><title>25&#45;&gt;27</title>\r\n",
       "<path fill=\"none\" stroke=\"black\" d=\"M940.981,-103.726C949.477,-94.6054 958.49,-84.93 966.987,-75.8078\"/>\r\n",
       "<polygon fill=\"black\" stroke=\"black\" points=\"969.726,-78.0025 973.981,-68.2996 964.604,-73.2312 969.726,-78.0025\"/>\r\n",
       "</g>\r\n",
       "<!-- 30 -->\r\n",
       "<g id=\"node31\" class=\"node\"><title>30</title>\r\n",
       "<path fill=\"#e58139\" stroke=\"black\" d=\"M1116,-179.5C1116,-179.5 1068,-179.5 1068,-179.5 1062,-179.5 1056,-173.5 1056,-167.5 1056,-167.5 1056,-123.5 1056,-123.5 1056,-117.5 1062,-111.5 1068,-111.5 1068,-111.5 1116,-111.5 1116,-111.5 1122,-111.5 1128,-117.5 1128,-123.5 1128,-123.5 1128,-167.5 1128,-167.5 1128,-173.5 1122,-179.5 1116,-179.5\"/>\r\n",
       "<text text-anchor=\"middle\" x=\"1092\" y=\"-164.3\" font-family=\"Helvetica,sans-Serif\" font-size=\"14.00\">0.0</text>\r\n",
       "<text text-anchor=\"middle\" x=\"1092\" y=\"-149.3\" font-family=\"Helvetica,sans-Serif\" font-size=\"14.00\">0.8%</text>\r\n",
       "<text text-anchor=\"middle\" x=\"1092\" y=\"-134.3\" font-family=\"Helvetica,sans-Serif\" font-size=\"14.00\">[1.0, 0.0]</text>\r\n",
       "<text text-anchor=\"middle\" x=\"1092\" y=\"-119.3\" font-family=\"Helvetica,sans-Serif\" font-size=\"14.00\">disease</text>\r\n",
       "</g>\r\n",
       "<!-- 29&#45;&gt;30 -->\r\n",
       "<g id=\"edge30\" class=\"edge\"><title>29&#45;&gt;30</title>\r\n",
       "<path fill=\"none\" stroke=\"black\" d=\"M1093.31,-222.907C1093.12,-212.204 1092.93,-200.615 1092.74,-189.776\"/>\r\n",
       "<polygon fill=\"black\" stroke=\"black\" points=\"1096.24,-189.606 1092.57,-179.667 1089.24,-189.725 1096.24,-189.606\"/>\r\n",
       "</g>\r\n",
       "<!-- 31 -->\r\n",
       "<g id=\"node32\" class=\"node\"><title>31</title>\r\n",
       "<path fill=\"#79bded\" stroke=\"black\" d=\"M1263.5,-187C1263.5,-187 1158.5,-187 1158.5,-187 1152.5,-187 1146.5,-181 1146.5,-175 1146.5,-175 1146.5,-116 1146.5,-116 1146.5,-110 1152.5,-104 1158.5,-104 1158.5,-104 1263.5,-104 1263.5,-104 1269.5,-104 1275.5,-110 1275.5,-116 1275.5,-116 1275.5,-175 1275.5,-175 1275.5,-181 1269.5,-187 1263.5,-187\"/>\r\n",
       "<text text-anchor=\"middle\" x=\"1211\" y=\"-171.8\" font-family=\"Helvetica,sans-Serif\" font-size=\"14.00\">trestbps &lt;= 122.0</text>\r\n",
       "<text text-anchor=\"middle\" x=\"1211\" y=\"-156.8\" font-family=\"Helvetica,sans-Serif\" font-size=\"14.00\">0.37</text>\r\n",
       "<text text-anchor=\"middle\" x=\"1211\" y=\"-141.8\" font-family=\"Helvetica,sans-Serif\" font-size=\"14.00\">16.9%</text>\r\n",
       "<text text-anchor=\"middle\" x=\"1211\" y=\"-126.8\" font-family=\"Helvetica,sans-Serif\" font-size=\"14.00\">[0.24, 0.76]</text>\r\n",
       "<text text-anchor=\"middle\" x=\"1211\" y=\"-111.8\" font-family=\"Helvetica,sans-Serif\" font-size=\"14.00\">no disease</text>\r\n",
       "</g>\r\n",
       "<!-- 29&#45;&gt;31 -->\r\n",
       "<g id=\"edge31\" class=\"edge\"><title>29&#45;&gt;31</title>\r\n",
       "<path fill=\"none\" stroke=\"black\" d=\"M1134.59,-222.907C1143.85,-213.651 1153.77,-203.732 1163.29,-194.209\"/>\r\n",
       "<polygon fill=\"black\" stroke=\"black\" points=\"1165.88,-196.567 1170.48,-187.021 1160.93,-191.617 1165.88,-196.567\"/>\r\n",
       "</g>\r\n",
       "<!-- 32 -->\r\n",
       "<g id=\"node33\" class=\"node\"><title>32</title>\r\n",
       "<path fill=\"#48a5e7\" stroke=\"black\" d=\"M1193.5,-68C1193.5,-68 1128.5,-68 1128.5,-68 1122.5,-68 1116.5,-62 1116.5,-56 1116.5,-56 1116.5,-12 1116.5,-12 1116.5,-6 1122.5,-0 1128.5,-0 1128.5,-0 1193.5,-0 1193.5,-0 1199.5,-0 1205.5,-6 1205.5,-12 1205.5,-12 1205.5,-56 1205.5,-56 1205.5,-62 1199.5,-68 1193.5,-68\"/>\r\n",
       "<text text-anchor=\"middle\" x=\"1161\" y=\"-52.8\" font-family=\"Helvetica,sans-Serif\" font-size=\"14.00\">0.13</text>\r\n",
       "<text text-anchor=\"middle\" x=\"1161\" y=\"-37.8\" font-family=\"Helvetica,sans-Serif\" font-size=\"14.00\">5.8%</text>\r\n",
       "<text text-anchor=\"middle\" x=\"1161\" y=\"-22.8\" font-family=\"Helvetica,sans-Serif\" font-size=\"14.00\">[0.07, 0.93]</text>\r\n",
       "<text text-anchor=\"middle\" x=\"1161\" y=\"-7.8\" font-family=\"Helvetica,sans-Serif\" font-size=\"14.00\">no disease</text>\r\n",
       "</g>\r\n",
       "<!-- 31&#45;&gt;32 -->\r\n",
       "<g id=\"edge32\" class=\"edge\"><title>31&#45;&gt;32</title>\r\n",
       "<path fill=\"none\" stroke=\"black\" d=\"M1192.38,-103.726C1188.47,-95.1527 1184.33,-86.0891 1180.39,-77.4555\"/>\r\n",
       "<polygon fill=\"black\" stroke=\"black\" points=\"1183.54,-75.9423 1176.21,-68.2996 1177.18,-78.85 1183.54,-75.9423\"/>\r\n",
       "</g>\r\n",
       "<!-- 33 -->\r\n",
       "<g id=\"node34\" class=\"node\"><title>33</title>\r\n",
       "<path fill=\"#9ccef2\" stroke=\"black\" d=\"M1300.5,-68C1300.5,-68 1235.5,-68 1235.5,-68 1229.5,-68 1223.5,-62 1223.5,-56 1223.5,-56 1223.5,-12 1223.5,-12 1223.5,-6 1229.5,-0 1235.5,-0 1235.5,-0 1300.5,-0 1300.5,-0 1306.5,-0 1312.5,-6 1312.5,-12 1312.5,-12 1312.5,-56 1312.5,-56 1312.5,-62 1306.5,-68 1300.5,-68\"/>\r\n",
       "<text text-anchor=\"middle\" x=\"1268\" y=\"-52.8\" font-family=\"Helvetica,sans-Serif\" font-size=\"14.00\">0.44</text>\r\n",
       "<text text-anchor=\"middle\" x=\"1268\" y=\"-37.8\" font-family=\"Helvetica,sans-Serif\" font-size=\"14.00\">11.2%</text>\r\n",
       "<text text-anchor=\"middle\" x=\"1268\" y=\"-22.8\" font-family=\"Helvetica,sans-Serif\" font-size=\"14.00\">[0.33, 0.67]</text>\r\n",
       "<text text-anchor=\"middle\" x=\"1268\" y=\"-7.8\" font-family=\"Helvetica,sans-Serif\" font-size=\"14.00\">no disease</text>\r\n",
       "</g>\r\n",
       "<!-- 31&#45;&gt;33 -->\r\n",
       "<g id=\"edge33\" class=\"edge\"><title>31&#45;&gt;33</title>\r\n",
       "<path fill=\"none\" stroke=\"black\" d=\"M1232.22,-103.726C1236.74,-95.0615 1241.51,-85.8962 1246.04,-77.1802\"/>\r\n",
       "<polygon fill=\"black\" stroke=\"black\" points=\"1249.15,-78.7859 1250.67,-68.2996 1242.94,-75.5537 1249.15,-78.7859\"/>\r\n",
       "</g>\r\n",
       "<!-- 35 -->\r\n",
       "<g id=\"node36\" class=\"node\"><title>35</title>\r\n",
       "<path fill=\"#399de5\" stroke=\"black\" d=\"M1236,-298.5C1236,-298.5 1174,-298.5 1174,-298.5 1168,-298.5 1162,-292.5 1162,-286.5 1162,-286.5 1162,-242.5 1162,-242.5 1162,-236.5 1168,-230.5 1174,-230.5 1174,-230.5 1236,-230.5 1236,-230.5 1242,-230.5 1248,-236.5 1248,-242.5 1248,-242.5 1248,-286.5 1248,-286.5 1248,-292.5 1242,-298.5 1236,-298.5\"/>\r\n",
       "<text text-anchor=\"middle\" x=\"1205\" y=\"-283.3\" font-family=\"Helvetica,sans-Serif\" font-size=\"14.00\">0.0</text>\r\n",
       "<text text-anchor=\"middle\" x=\"1205\" y=\"-268.3\" font-family=\"Helvetica,sans-Serif\" font-size=\"14.00\">1.2%</text>\r\n",
       "<text text-anchor=\"middle\" x=\"1205\" y=\"-253.3\" font-family=\"Helvetica,sans-Serif\" font-size=\"14.00\">[0.0, 1.0]</text>\r\n",
       "<text text-anchor=\"middle\" x=\"1205\" y=\"-238.3\" font-family=\"Helvetica,sans-Serif\" font-size=\"14.00\">no disease</text>\r\n",
       "</g>\r\n",
       "<!-- 34&#45;&gt;35 -->\r\n",
       "<g id=\"edge35\" class=\"edge\"><title>34&#45;&gt;35</title>\r\n",
       "<path fill=\"none\" stroke=\"black\" d=\"M1205,-341.907C1205,-331.204 1205,-319.615 1205,-308.776\"/>\r\n",
       "<polygon fill=\"black\" stroke=\"black\" points=\"1208.5,-308.667 1205,-298.667 1201.5,-308.667 1208.5,-308.667\"/>\r\n",
       "</g>\r\n",
       "<!-- 36 -->\r\n",
       "<g id=\"node37\" class=\"node\"><title>36</title>\r\n",
       "<path fill=\"#ea9a61\" stroke=\"black\" d=\"M1379,-306C1379,-306 1281,-306 1281,-306 1275,-306 1269,-300 1269,-294 1269,-294 1269,-235 1269,-235 1269,-229 1275,-223 1281,-223 1281,-223 1379,-223 1379,-223 1385,-223 1391,-229 1391,-235 1391,-235 1391,-294 1391,-294 1391,-300 1385,-306 1379,-306\"/>\r\n",
       "<text text-anchor=\"middle\" x=\"1330\" y=\"-290.8\" font-family=\"Helvetica,sans-Serif\" font-size=\"14.00\">thalach &lt;= 165.5</text>\r\n",
       "<text text-anchor=\"middle\" x=\"1330\" y=\"-275.8\" font-family=\"Helvetica,sans-Serif\" font-size=\"14.00\">0.28</text>\r\n",
       "<text text-anchor=\"middle\" x=\"1330\" y=\"-260.8\" font-family=\"Helvetica,sans-Serif\" font-size=\"14.00\">5.0%</text>\r\n",
       "<text text-anchor=\"middle\" x=\"1330\" y=\"-245.8\" font-family=\"Helvetica,sans-Serif\" font-size=\"14.00\">[0.83, 0.17]</text>\r\n",
       "<text text-anchor=\"middle\" x=\"1330\" y=\"-230.8\" font-family=\"Helvetica,sans-Serif\" font-size=\"14.00\">disease</text>\r\n",
       "</g>\r\n",
       "<!-- 34&#45;&gt;36 -->\r\n",
       "<g id=\"edge36\" class=\"edge\"><title>34&#45;&gt;36</title>\r\n",
       "<path fill=\"none\" stroke=\"black\" d=\"M1248.37,-341.907C1258.35,-332.56 1269.06,-322.538 1279.33,-312.929\"/>\r\n",
       "<polygon fill=\"black\" stroke=\"black\" points=\"1281.8,-315.41 1286.71,-306.021 1277.02,-310.299 1281.8,-315.41\"/>\r\n",
       "</g>\r\n",
       "<!-- 37 -->\r\n",
       "<g id=\"node38\" class=\"node\"><title>37</title>\r\n",
       "<path fill=\"#e58139\" stroke=\"black\" d=\"M1354,-179.5C1354,-179.5 1306,-179.5 1306,-179.5 1300,-179.5 1294,-173.5 1294,-167.5 1294,-167.5 1294,-123.5 1294,-123.5 1294,-117.5 1300,-111.5 1306,-111.5 1306,-111.5 1354,-111.5 1354,-111.5 1360,-111.5 1366,-117.5 1366,-123.5 1366,-123.5 1366,-167.5 1366,-167.5 1366,-173.5 1360,-179.5 1354,-179.5\"/>\r\n",
       "<text text-anchor=\"middle\" x=\"1330\" y=\"-164.3\" font-family=\"Helvetica,sans-Serif\" font-size=\"14.00\">0.0</text>\r\n",
       "<text text-anchor=\"middle\" x=\"1330\" y=\"-149.3\" font-family=\"Helvetica,sans-Serif\" font-size=\"14.00\">3.3%</text>\r\n",
       "<text text-anchor=\"middle\" x=\"1330\" y=\"-134.3\" font-family=\"Helvetica,sans-Serif\" font-size=\"14.00\">[1.0, 0.0]</text>\r\n",
       "<text text-anchor=\"middle\" x=\"1330\" y=\"-119.3\" font-family=\"Helvetica,sans-Serif\" font-size=\"14.00\">disease</text>\r\n",
       "</g>\r\n",
       "<!-- 36&#45;&gt;37 -->\r\n",
       "<g id=\"edge37\" class=\"edge\"><title>36&#45;&gt;37</title>\r\n",
       "<path fill=\"none\" stroke=\"black\" d=\"M1330,-222.907C1330,-212.204 1330,-200.615 1330,-189.776\"/>\r\n",
       "<polygon fill=\"black\" stroke=\"black\" points=\"1333.5,-189.667 1330,-179.667 1326.5,-189.667 1333.5,-189.667\"/>\r\n",
       "</g>\r\n",
       "<!-- 38 -->\r\n",
       "<g id=\"node39\" class=\"node\"><title>38</title>\r\n",
       "<path fill=\"#ffffff\" stroke=\"black\" d=\"M1483.5,-187C1483.5,-187 1396.5,-187 1396.5,-187 1390.5,-187 1384.5,-181 1384.5,-175 1384.5,-175 1384.5,-116 1384.5,-116 1384.5,-110 1390.5,-104 1396.5,-104 1396.5,-104 1483.5,-104 1483.5,-104 1489.5,-104 1495.5,-110 1495.5,-116 1495.5,-116 1495.5,-175 1495.5,-175 1495.5,-181 1489.5,-187 1483.5,-187\"/>\r\n",
       "<text text-anchor=\"middle\" x=\"1440\" y=\"-171.8\" font-family=\"Helvetica,sans-Serif\" font-size=\"14.00\">oldpeak &lt;= 2.8</text>\r\n",
       "<text text-anchor=\"middle\" x=\"1440\" y=\"-156.8\" font-family=\"Helvetica,sans-Serif\" font-size=\"14.00\">0.5</text>\r\n",
       "<text text-anchor=\"middle\" x=\"1440\" y=\"-141.8\" font-family=\"Helvetica,sans-Serif\" font-size=\"14.00\">1.7%</text>\r\n",
       "<text text-anchor=\"middle\" x=\"1440\" y=\"-126.8\" font-family=\"Helvetica,sans-Serif\" font-size=\"14.00\">[0.5, 0.5]</text>\r\n",
       "<text text-anchor=\"middle\" x=\"1440\" y=\"-111.8\" font-family=\"Helvetica,sans-Serif\" font-size=\"14.00\">disease</text>\r\n",
       "</g>\r\n",
       "<!-- 36&#45;&gt;38 -->\r\n",
       "<g id=\"edge38\" class=\"edge\"><title>36&#45;&gt;38</title>\r\n",
       "<path fill=\"none\" stroke=\"black\" d=\"M1368.16,-222.907C1376.78,-213.742 1386.01,-203.927 1394.88,-194.489\"/>\r\n",
       "<polygon fill=\"black\" stroke=\"black\" points=\"1397.6,-196.704 1401.9,-187.021 1392.5,-191.909 1397.6,-196.704\"/>\r\n",
       "</g>\r\n",
       "<!-- 39 -->\r\n",
       "<g id=\"node40\" class=\"node\"><title>39</title>\r\n",
       "<path fill=\"#399de5\" stroke=\"black\" d=\"M1438,-68C1438,-68 1376,-68 1376,-68 1370,-68 1364,-62 1364,-56 1364,-56 1364,-12 1364,-12 1364,-6 1370,-0 1376,-0 1376,-0 1438,-0 1438,-0 1444,-0 1450,-6 1450,-12 1450,-12 1450,-56 1450,-56 1450,-62 1444,-68 1438,-68\"/>\r\n",
       "<text text-anchor=\"middle\" x=\"1407\" y=\"-52.8\" font-family=\"Helvetica,sans-Serif\" font-size=\"14.00\">0.0</text>\r\n",
       "<text text-anchor=\"middle\" x=\"1407\" y=\"-37.8\" font-family=\"Helvetica,sans-Serif\" font-size=\"14.00\">0.8%</text>\r\n",
       "<text text-anchor=\"middle\" x=\"1407\" y=\"-22.8\" font-family=\"Helvetica,sans-Serif\" font-size=\"14.00\">[0.0, 1.0]</text>\r\n",
       "<text text-anchor=\"middle\" x=\"1407\" y=\"-7.8\" font-family=\"Helvetica,sans-Serif\" font-size=\"14.00\">no disease</text>\r\n",
       "</g>\r\n",
       "<!-- 38&#45;&gt;39 -->\r\n",
       "<g id=\"edge39\" class=\"edge\"><title>38&#45;&gt;39</title>\r\n",
       "<path fill=\"none\" stroke=\"black\" d=\"M1427.71,-103.726C1425.18,-95.3351 1422.51,-86.4745 1419.96,-78.0072\"/>\r\n",
       "<polygon fill=\"black\" stroke=\"black\" points=\"1423.27,-76.8643 1417.04,-68.2996 1416.57,-78.8842 1423.27,-76.8643\"/>\r\n",
       "</g>\r\n",
       "<!-- 40 -->\r\n",
       "<g id=\"node41\" class=\"node\"><title>40</title>\r\n",
       "<path fill=\"#e58139\" stroke=\"black\" d=\"M1528,-68C1528,-68 1480,-68 1480,-68 1474,-68 1468,-62 1468,-56 1468,-56 1468,-12 1468,-12 1468,-6 1474,-0 1480,-0 1480,-0 1528,-0 1528,-0 1534,-0 1540,-6 1540,-12 1540,-12 1540,-56 1540,-56 1540,-62 1534,-68 1528,-68\"/>\r\n",
       "<text text-anchor=\"middle\" x=\"1504\" y=\"-52.8\" font-family=\"Helvetica,sans-Serif\" font-size=\"14.00\">0.0</text>\r\n",
       "<text text-anchor=\"middle\" x=\"1504\" y=\"-37.8\" font-family=\"Helvetica,sans-Serif\" font-size=\"14.00\">0.8%</text>\r\n",
       "<text text-anchor=\"middle\" x=\"1504\" y=\"-22.8\" font-family=\"Helvetica,sans-Serif\" font-size=\"14.00\">[1.0, 0.0]</text>\r\n",
       "<text text-anchor=\"middle\" x=\"1504\" y=\"-7.8\" font-family=\"Helvetica,sans-Serif\" font-size=\"14.00\">disease</text>\r\n",
       "</g>\r\n",
       "<!-- 38&#45;&gt;40 -->\r\n",
       "<g id=\"edge40\" class=\"edge\"><title>38&#45;&gt;40</title>\r\n",
       "<path fill=\"none\" stroke=\"black\" d=\"M1463.83,-103.726C1468.9,-95.0615 1474.25,-85.8962 1479.35,-77.1802\"/>\r\n",
       "<polygon fill=\"black\" stroke=\"black\" points=\"1482.51,-78.6992 1484.54,-68.2996 1476.47,-75.167 1482.51,-78.6992\"/>\r\n",
       "</g>\r\n",
       "</g>\r\n",
       "</svg>\r\n"
      ],
      "text/plain": [
       "<graphviz.files.Source at 0x2156fffa610>"
      ]
     },
     "execution_count": 18,
     "metadata": {},
     "output_type": "execute_result"
    }
   ],
   "source": [
    "feature_names = [i for i in X_train.columns]\n",
    "\n",
    "y_train_str = y_train.astype('str')\n",
    "y_train_str[y_train_str == '0'] = 'no disease'\n",
    "y_train_str[y_train_str == '1'] = 'disease'\n",
    "y_train_str = y_train_str.values\n",
    "\n",
    "tree=export_graphviz(dectree, out_file=None, \n",
    "                feature_names = feature_names,\n",
    "                class_names = y_train_str,\n",
    "                rounded = True, proportion = True, \n",
    "                label='root',\n",
    "                precision = 2, filled = True)\n",
    "graphviz.Source(tree)"
   ]
  },
  {
   "cell_type": "code",
   "execution_count": 19,
   "metadata": {},
   "outputs": [],
   "source": [
    "from sklearn.metrics import roc_curve, auc #for model evaluation\n",
    "from sklearn.metrics import classification_report #for model evaluation\n",
    "from sklearn.metrics import confusion_matrix"
   ]
  },
  {
   "cell_type": "code",
   "execution_count": 20,
   "metadata": {},
   "outputs": [],
   "source": [
    "y_predict = dectree.predict(X_test)\n",
    "y_pred_quant = dectree.predict_proba(X_test)[:, 1]\n",
    "y_pred_bin = dectree.predict(X_test)"
   ]
  },
  {
   "cell_type": "code",
   "execution_count": 21,
   "metadata": {},
   "outputs": [
    {
     "data": {
      "text/plain": [
       "array([[15, 11],\n",
       "       [ 3, 32]], dtype=int64)"
      ]
     },
     "execution_count": 21,
     "metadata": {},
     "output_type": "execute_result"
    }
   ],
   "source": [
    "confusion_matrix = confusion_matrix(y_test, y_pred_bin)\n",
    "confusion_matrix"
   ]
  },
  {
   "cell_type": "code",
   "execution_count": 22,
   "metadata": {},
   "outputs": [
    {
     "name": "stdout",
     "output_type": "stream",
     "text": [
      "Sensitivity :  0.8333333333333334\n",
      "Specificity :  0.7441860465116279\n"
     ]
    }
   ],
   "source": [
    "total=sum(sum(confusion_matrix))\n",
    "\n",
    "sensitivity = confusion_matrix[0,0]/(confusion_matrix[0,0]+confusion_matrix[1,0])\n",
    "print('Sensitivity : ', sensitivity )\n",
    "\n",
    "specificity = confusion_matrix[1,1]/(confusion_matrix[1,1]+confusion_matrix[0,1])\n",
    "print('Specificity : ', specificity)"
   ]
  },
  {
   "cell_type": "code",
   "execution_count": 23,
   "metadata": {},
   "outputs": [
    {
     "data": {
      "image/png": "[encoded data removed]",
      "text/plain": [
       "<Figure size 432x288 with 1 Axes>"
      ]
     },
     "metadata": {
      "needs_background": "light"
     },
     "output_type": "display_data"
    }
   ],
   "source": [
    "fpr, tpr, thresholds = roc_curve(y_test, y_pred_quant)\n",
    "\n",
    "fig, ax = plt.subplots()\n",
    "ax.plot(fpr, tpr)\n",
    "ax.plot([0, 1], [0, 1], transform=ax.transAxes, ls=\"--\", c=\".3\")\n",
    "plt.xlim([0.0, 1.0])\n",
    "plt.ylim([0.0, 1.0])\n",
    "plt.rcParams['font.size'] = 12\n",
    "plt.title('ROC curve for heart diseases classifier')\n",
    "plt.xlabel('False Positive Rate (1 - Specificity)')\n",
    "plt.ylabel('True Positive Rate (Sensitivity)')\n",
    "plt.grid(True)"
   ]
  },
  {
   "cell_type": "code",
   "execution_count": 24,
   "metadata": {},
   "outputs": [
    {
     "name": "stdout",
     "output_type": "stream",
     "text": [
      "Decision Tree Accuracy with all the features: 0.8165\n"
     ]
    }
   ],
   "source": [
    "acc=auc(fpr, tpr)\n",
    "print('Decision Tree Accuracy with all the features: {0:0.4f}'. format(acc))"
   ]
  },
  {
   "cell_type": "code",
   "execution_count": 25,
   "metadata": {},
   "outputs": [],
   "source": [
    "accuracies['Decision Tree']=acc"
   ]
  },
  {
   "cell_type": "markdown",
   "metadata": {},
   "source": [
    "# Create Dummy Variables"
   ]
  },
  {
   "cell_type": "code",
   "execution_count": 26,
   "metadata": {},
   "outputs": [],
   "source": [
    "a = pd.get_dummies(df['cp'], prefix = \"cp\")\n",
    "b = pd.get_dummies(df['thal'], prefix = \"thal\")\n",
    "c = pd.get_dummies(df['slope'], prefix = \"slope\")\n",
    "d = pd.get_dummies(df['restecg'], prefix = \"restecg\")"
   ]
  },
  {
   "cell_type": "code",
   "execution_count": 27,
   "metadata": {
    "scrolled": true
   },
   "outputs": [
    {
     "data": {
      "text/html": [
       "<div>\n",
       "<style scoped>\n",
       "    .dataframe tbody tr th:only-of-type {\n",
       "        vertical-align: middle;\n",
       "    }\n",
       "\n",
       "    .dataframe tbody tr th {\n",
       "        vertical-align: top;\n",
       "    }\n",
       "\n",
       "    .dataframe thead th {\n",
       "        text-align: right;\n",
       "    }\n",
       "</style>\n",
       "<table border=\"1\" class=\"dataframe\">\n",
       "  <thead>\n",
       "    <tr style=\"text-align: right;\">\n",
       "      <th></th>\n",
       "      <th>age</th>\n",
       "      <th>sex</th>\n",
       "      <th>cp</th>\n",
       "      <th>trestbps</th>\n",
       "      <th>chol</th>\n",
       "      <th>fbs</th>\n",
       "      <th>restecg</th>\n",
       "      <th>thalach</th>\n",
       "      <th>exang</th>\n",
       "      <th>oldpeak</th>\n",
       "      <th>...</th>\n",
       "      <th>thal_0</th>\n",
       "      <th>thal_1</th>\n",
       "      <th>thal_2</th>\n",
       "      <th>thal_3</th>\n",
       "      <th>slope_0</th>\n",
       "      <th>slope_1</th>\n",
       "      <th>slope_2</th>\n",
       "      <th>restecg_0</th>\n",
       "      <th>restecg_1</th>\n",
       "      <th>restecg_2</th>\n",
       "    </tr>\n",
       "  </thead>\n",
       "  <tbody>\n",
       "    <tr>\n",
       "      <th>0</th>\n",
       "      <td>63</td>\n",
       "      <td>1</td>\n",
       "      <td>3</td>\n",
       "      <td>145</td>\n",
       "      <td>233</td>\n",
       "      <td>1</td>\n",
       "      <td>0</td>\n",
       "      <td>150</td>\n",
       "      <td>0</td>\n",
       "      <td>2.3</td>\n",
       "      <td>...</td>\n",
       "      <td>0</td>\n",
       "      <td>1</td>\n",
       "      <td>0</td>\n",
       "      <td>0</td>\n",
       "      <td>1</td>\n",
       "      <td>0</td>\n",
       "      <td>0</td>\n",
       "      <td>1</td>\n",
       "      <td>0</td>\n",
       "      <td>0</td>\n",
       "    </tr>\n",
       "    <tr>\n",
       "      <th>1</th>\n",
       "      <td>37</td>\n",
       "      <td>1</td>\n",
       "      <td>2</td>\n",
       "      <td>130</td>\n",
       "      <td>250</td>\n",
       "      <td>0</td>\n",
       "      <td>1</td>\n",
       "      <td>187</td>\n",
       "      <td>0</td>\n",
       "      <td>3.5</td>\n",
       "      <td>...</td>\n",
       "      <td>0</td>\n",
       "      <td>0</td>\n",
       "      <td>1</td>\n",
       "      <td>0</td>\n",
       "      <td>1</td>\n",
       "      <td>0</td>\n",
       "      <td>0</td>\n",
       "      <td>0</td>\n",
       "      <td>1</td>\n",
       "      <td>0</td>\n",
       "    </tr>\n",
       "    <tr>\n",
       "      <th>2</th>\n",
       "      <td>41</td>\n",
       "      <td>0</td>\n",
       "      <td>1</td>\n",
       "      <td>130</td>\n",
       "      <td>204</td>\n",
       "      <td>0</td>\n",
       "      <td>0</td>\n",
       "      <td>172</td>\n",
       "      <td>0</td>\n",
       "      <td>1.4</td>\n",
       "      <td>...</td>\n",
       "      <td>0</td>\n",
       "      <td>0</td>\n",
       "      <td>1</td>\n",
       "      <td>0</td>\n",
       "      <td>0</td>\n",
       "      <td>0</td>\n",
       "      <td>1</td>\n",
       "      <td>1</td>\n",
       "      <td>0</td>\n",
       "      <td>0</td>\n",
       "    </tr>\n",
       "    <tr>\n",
       "      <th>3</th>\n",
       "      <td>56</td>\n",
       "      <td>1</td>\n",
       "      <td>1</td>\n",
       "      <td>120</td>\n",
       "      <td>236</td>\n",
       "      <td>0</td>\n",
       "      <td>1</td>\n",
       "      <td>178</td>\n",
       "      <td>0</td>\n",
       "      <td>0.8</td>\n",
       "      <td>...</td>\n",
       "      <td>0</td>\n",
       "      <td>0</td>\n",
       "      <td>1</td>\n",
       "      <td>0</td>\n",
       "      <td>0</td>\n",
       "      <td>0</td>\n",
       "      <td>1</td>\n",
       "      <td>0</td>\n",
       "      <td>1</td>\n",
       "      <td>0</td>\n",
       "    </tr>\n",
       "    <tr>\n",
       "      <th>4</th>\n",
       "      <td>57</td>\n",
       "      <td>0</td>\n",
       "      <td>0</td>\n",
       "      <td>120</td>\n",
       "      <td>354</td>\n",
       "      <td>0</td>\n",
       "      <td>1</td>\n",
       "      <td>163</td>\n",
       "      <td>1</td>\n",
       "      <td>0.6</td>\n",
       "      <td>...</td>\n",
       "      <td>0</td>\n",
       "      <td>0</td>\n",
       "      <td>1</td>\n",
       "      <td>0</td>\n",
       "      <td>0</td>\n",
       "      <td>0</td>\n",
       "      <td>1</td>\n",
       "      <td>0</td>\n",
       "      <td>1</td>\n",
       "      <td>0</td>\n",
       "    </tr>\n",
       "  </tbody>\n",
       "</table>\n",
       "<p>5 rows × 28 columns</p>\n",
       "</div>"
      ],
      "text/plain": [
       "   age  sex  cp  trestbps  chol  fbs  restecg  thalach  exang  oldpeak  ...  \\\n",
       "0   63    1   3       145   233    1        0      150      0      2.3  ...   \n",
       "1   37    1   2       130   250    0        1      187      0      3.5  ...   \n",
       "2   41    0   1       130   204    0        0      172      0      1.4  ...   \n",
       "3   56    1   1       120   236    0        1      178      0      0.8  ...   \n",
       "4   57    0   0       120   354    0        1      163      1      0.6  ...   \n",
       "\n",
       "   thal_0  thal_1  thal_2  thal_3  slope_0  slope_1  slope_2  restecg_0  \\\n",
       "0       0       1       0       0        1        0        0          1   \n",
       "1       0       0       1       0        1        0        0          0   \n",
       "2       0       0       1       0        0        0        1          1   \n",
       "3       0       0       1       0        0        0        1          0   \n",
       "4       0       0       1       0        0        0        1          0   \n",
       "\n",
       "   restecg_1  restecg_2  \n",
       "0          0          0  \n",
       "1          1          0  \n",
       "2          0          0  \n",
       "3          1          0  \n",
       "4          1          0  \n",
       "\n",
       "[5 rows x 28 columns]"
      ]
     },
     "execution_count": 27,
     "metadata": {},
     "output_type": "execute_result"
    }
   ],
   "source": [
    "frames = [df, a, b, c, d]\n",
    "df = pd.concat(frames, axis = 1)\n",
    "df.head()"
   ]
  },
  {
   "cell_type": "code",
   "execution_count": 28,
   "metadata": {
    "scrolled": false
   },
   "outputs": [
    {
     "data": {
      "text/html": [
       "<div>\n",
       "<style scoped>\n",
       "    .dataframe tbody tr th:only-of-type {\n",
       "        vertical-align: middle;\n",
       "    }\n",
       "\n",
       "    .dataframe tbody tr th {\n",
       "        vertical-align: top;\n",
       "    }\n",
       "\n",
       "    .dataframe thead th {\n",
       "        text-align: right;\n",
       "    }\n",
       "</style>\n",
       "<table border=\"1\" class=\"dataframe\">\n",
       "  <thead>\n",
       "    <tr style=\"text-align: right;\">\n",
       "      <th></th>\n",
       "      <th>age</th>\n",
       "      <th>sex</th>\n",
       "      <th>trestbps</th>\n",
       "      <th>chol</th>\n",
       "      <th>fbs</th>\n",
       "      <th>thalach</th>\n",
       "      <th>exang</th>\n",
       "      <th>oldpeak</th>\n",
       "      <th>ca</th>\n",
       "      <th>target</th>\n",
       "      <th>...</th>\n",
       "      <th>thal_0</th>\n",
       "      <th>thal_1</th>\n",
       "      <th>thal_2</th>\n",
       "      <th>thal_3</th>\n",
       "      <th>slope_0</th>\n",
       "      <th>slope_1</th>\n",
       "      <th>slope_2</th>\n",
       "      <th>restecg_0</th>\n",
       "      <th>restecg_1</th>\n",
       "      <th>restecg_2</th>\n",
       "    </tr>\n",
       "  </thead>\n",
       "  <tbody>\n",
       "    <tr>\n",
       "      <th>0</th>\n",
       "      <td>63</td>\n",
       "      <td>1</td>\n",
       "      <td>145</td>\n",
       "      <td>233</td>\n",
       "      <td>1</td>\n",
       "      <td>150</td>\n",
       "      <td>0</td>\n",
       "      <td>2.3</td>\n",
       "      <td>0</td>\n",
       "      <td>1</td>\n",
       "      <td>...</td>\n",
       "      <td>0</td>\n",
       "      <td>1</td>\n",
       "      <td>0</td>\n",
       "      <td>0</td>\n",
       "      <td>1</td>\n",
       "      <td>0</td>\n",
       "      <td>0</td>\n",
       "      <td>1</td>\n",
       "      <td>0</td>\n",
       "      <td>0</td>\n",
       "    </tr>\n",
       "    <tr>\n",
       "      <th>1</th>\n",
       "      <td>37</td>\n",
       "      <td>1</td>\n",
       "      <td>130</td>\n",
       "      <td>250</td>\n",
       "      <td>0</td>\n",
       "      <td>187</td>\n",
       "      <td>0</td>\n",
       "      <td>3.5</td>\n",
       "      <td>0</td>\n",
       "      <td>1</td>\n",
       "      <td>...</td>\n",
       "      <td>0</td>\n",
       "      <td>0</td>\n",
       "      <td>1</td>\n",
       "      <td>0</td>\n",
       "      <td>1</td>\n",
       "      <td>0</td>\n",
       "      <td>0</td>\n",
       "      <td>0</td>\n",
       "      <td>1</td>\n",
       "      <td>0</td>\n",
       "    </tr>\n",
       "    <tr>\n",
       "      <th>2</th>\n",
       "      <td>41</td>\n",
       "      <td>0</td>\n",
       "      <td>130</td>\n",
       "      <td>204</td>\n",
       "      <td>0</td>\n",
       "      <td>172</td>\n",
       "      <td>0</td>\n",
       "      <td>1.4</td>\n",
       "      <td>0</td>\n",
       "      <td>1</td>\n",
       "      <td>...</td>\n",
       "      <td>0</td>\n",
       "      <td>0</td>\n",
       "      <td>1</td>\n",
       "      <td>0</td>\n",
       "      <td>0</td>\n",
       "      <td>0</td>\n",
       "      <td>1</td>\n",
       "      <td>1</td>\n",
       "      <td>0</td>\n",
       "      <td>0</td>\n",
       "    </tr>\n",
       "    <tr>\n",
       "      <th>3</th>\n",
       "      <td>56</td>\n",
       "      <td>1</td>\n",
       "      <td>120</td>\n",
       "      <td>236</td>\n",
       "      <td>0</td>\n",
       "      <td>178</td>\n",
       "      <td>0</td>\n",
       "      <td>0.8</td>\n",
       "      <td>0</td>\n",
       "      <td>1</td>\n",
       "      <td>...</td>\n",
       "      <td>0</td>\n",
       "      <td>0</td>\n",
       "      <td>1</td>\n",
       "      <td>0</td>\n",
       "      <td>0</td>\n",
       "      <td>0</td>\n",
       "      <td>1</td>\n",
       "      <td>0</td>\n",
       "      <td>1</td>\n",
       "      <td>0</td>\n",
       "    </tr>\n",
       "    <tr>\n",
       "      <th>4</th>\n",
       "      <td>57</td>\n",
       "      <td>0</td>\n",
       "      <td>120</td>\n",
       "      <td>354</td>\n",
       "      <td>0</td>\n",
       "      <td>163</td>\n",
       "      <td>1</td>\n",
       "      <td>0.6</td>\n",
       "      <td>0</td>\n",
       "      <td>1</td>\n",
       "      <td>...</td>\n",
       "      <td>0</td>\n",
       "      <td>0</td>\n",
       "      <td>1</td>\n",
       "      <td>0</td>\n",
       "      <td>0</td>\n",
       "      <td>0</td>\n",
       "      <td>1</td>\n",
       "      <td>0</td>\n",
       "      <td>1</td>\n",
       "      <td>0</td>\n",
       "    </tr>\n",
       "  </tbody>\n",
       "</table>\n",
       "<p>5 rows × 24 columns</p>\n",
       "</div>"
      ],
      "text/plain": [
       "   age  sex  trestbps  chol  fbs  thalach  exang  oldpeak  ca  target  ...  \\\n",
       "0   63    1       145   233    1      150      0      2.3   0       1  ...   \n",
       "1   37    1       130   250    0      187      0      3.5   0       1  ...   \n",
       "2   41    0       130   204    0      172      0      1.4   0       1  ...   \n",
       "3   56    1       120   236    0      178      0      0.8   0       1  ...   \n",
       "4   57    0       120   354    0      163      1      0.6   0       1  ...   \n",
       "\n",
       "   thal_0  thal_1  thal_2  thal_3  slope_0  slope_1  slope_2  restecg_0  \\\n",
       "0       0       1       0       0        1        0        0          1   \n",
       "1       0       0       1       0        1        0        0          0   \n",
       "2       0       0       1       0        0        0        1          1   \n",
       "3       0       0       1       0        0        0        1          0   \n",
       "4       0       0       1       0        0        0        1          0   \n",
       "\n",
       "   restecg_1  restecg_2  \n",
       "0          0          0  \n",
       "1          1          0  \n",
       "2          0          0  \n",
       "3          1          0  \n",
       "4          1          0  \n",
       "\n",
       "[5 rows x 24 columns]"
      ]
     },
     "execution_count": 28,
     "metadata": {},
     "output_type": "execute_result"
    }
   ],
   "source": [
    "df = df.drop(columns = ['cp', 'thal', 'slope', 'restecg'])\n",
    "df.head()"
   ]
  },
  {
   "cell_type": "code",
   "execution_count": 29,
   "metadata": {
    "scrolled": true
   },
   "outputs": [
    {
     "data": {
      "text/plain": [
       "age            int64\n",
       "sex            int64\n",
       "trestbps       int64\n",
       "chol           int64\n",
       "fbs            int64\n",
       "thalach        int64\n",
       "exang          int64\n",
       "oldpeak      float64\n",
       "ca             int64\n",
       "target         int64\n",
       "cp_0           uint8\n",
       "cp_1           uint8\n",
       "cp_2           uint8\n",
       "cp_3           uint8\n",
       "thal_0         uint8\n",
       "thal_1         uint8\n",
       "thal_2         uint8\n",
       "thal_3         uint8\n",
       "slope_0        uint8\n",
       "slope_1        uint8\n",
       "slope_2        uint8\n",
       "restecg_0      uint8\n",
       "restecg_1      uint8\n",
       "restecg_2      uint8\n",
       "dtype: object"
      ]
     },
     "execution_count": 29,
     "metadata": {},
     "output_type": "execute_result"
    }
   ],
   "source": [
    "df.dtypes"
   ]
  },
  {
   "cell_type": "markdown",
   "metadata": {},
   "source": [
    "# Splite x,y"
   ]
  },
  {
   "cell_type": "code",
   "execution_count": 30,
   "metadata": {
    "scrolled": true
   },
   "outputs": [
    {
     "data": {
      "text/plain": [
       "age            int64\n",
       "sex            int64\n",
       "trestbps       int64\n",
       "chol           int64\n",
       "fbs            int64\n",
       "thalach        int64\n",
       "exang          int64\n",
       "oldpeak      float64\n",
       "ca             int64\n",
       "cp_0           uint8\n",
       "cp_1           uint8\n",
       "cp_2           uint8\n",
       "cp_3           uint8\n",
       "thal_0         uint8\n",
       "thal_1         uint8\n",
       "thal_2         uint8\n",
       "thal_3         uint8\n",
       "slope_0        uint8\n",
       "slope_1        uint8\n",
       "slope_2        uint8\n",
       "restecg_0      uint8\n",
       "restecg_1      uint8\n",
       "restecg_2      uint8\n",
       "dtype: object"
      ]
     },
     "execution_count": 30,
     "metadata": {},
     "output_type": "execute_result"
    }
   ],
   "source": [
    "y = df.target.values\n",
    "x_data = df.drop(['target'], axis = 1)\n",
    "x_data.dtypes"
   ]
  },
  {
   "cell_type": "code",
   "execution_count": 31,
   "metadata": {},
   "outputs": [],
   "source": [
    "# Normalize\n",
    "x = (x_data - np.min(x_data)) / (np.max(x_data) - np.min(x_data)).values"
   ]
  },
  {
   "cell_type": "code",
   "execution_count": 32,
   "metadata": {},
   "outputs": [],
   "source": [
    "x_train, x_test, y_train, y_test = train_test_split(x,y,test_size = 0.2,)"
   ]
  },
  {
   "cell_type": "markdown",
   "metadata": {},
   "source": [
    "# Apply Logistic Regression"
   ]
  },
  {
   "cell_type": "code",
   "execution_count": 33,
   "metadata": {},
   "outputs": [
    {
     "name": "stdout",
     "output_type": "stream",
     "text": [
      "Logistic Regression accuracy score with all the features: 0.8033\n"
     ]
    }
   ],
   "source": [
    "from sklearn.linear_model import LogisticRegression\n",
    "from sklearn.metrics import accuracy_score\n",
    "\n",
    "logreg = LogisticRegression(max_iter=5000)\n",
    "logreg.fit(x_train, y_train)\n",
    "y_pred = logreg.predict(x_test)\n",
    "\n",
    "acc=accuracy_score(y_test, y_pred) \n",
    "accuracies['Logistic Regression']=acc\n",
    "\n",
    "print('Logistic Regression accuracy score with all the features: {0:0.4f}'. format(acc))"
   ]
  },
  {
   "cell_type": "markdown",
   "metadata": {},
   "source": [
    "# Apply Random Forest Classification"
   ]
  },
  {
   "cell_type": "code",
   "execution_count": 34,
   "metadata": {},
   "outputs": [
    {
     "name": "stdout",
     "output_type": "stream",
     "text": [
      "Random Forest Algorithm Accuracy with all the features: 0.7705\n"
     ]
    }
   ],
   "source": [
    "from sklearn.ensemble import RandomForestClassifier\n",
    "rf = RandomForestClassifier(n_estimators = 1000, random_state = 1)\n",
    "rf.fit(x_train, y_train)\n",
    "y_pred = rf.predict(x_test)\n",
    "\n",
    "acc=accuracy_score(y_test, y_pred) \n",
    "accuracies['Random Forest Classification']=acc\n",
    "\n",
    "\n",
    "print('Random Forest Algorithm Accuracy with all the features: {0:0.4f}'. format(acc))"
   ]
  },
  {
   "cell_type": "markdown",
   "metadata": {},
   "source": []
  },
  {
   "cell_type": "markdown",
   "metadata": {},
   "source": [
    "# Apply Naive Bayes Classification"
   ]
  },
  {
   "cell_type": "code",
   "execution_count": 35,
   "metadata": {},
   "outputs": [
    {
     "name": "stdout",
     "output_type": "stream",
     "text": [
      "Naive Bayes Algorithm Accuracy with all the features: 0.7869\n"
     ]
    }
   ],
   "source": [
    "from sklearn.naive_bayes import GaussianNB\n",
    "nb = GaussianNB()\n",
    "nb.fit(x_train, y_train)\n",
    "y_pred = nb.predict(x_test)\n",
    "\n",
    "acc=accuracy_score(y_test, y_pred) \n",
    "accuracies['Naive Bayes']=acc\n",
    "\n",
    "print('Naive Bayes Algorithm Accuracy with all the features: {0:0.4f}'. format(acc))"
   ]
  },
  {
   "cell_type": "markdown",
   "metadata": {},
   "source": [
    "# Apply Support Vector Machine (SVM)"
   ]
  },
  {
   "cell_type": "code",
   "execution_count": 36,
   "metadata": {},
   "outputs": [
    {
     "name": "stdout",
     "output_type": "stream",
     "text": [
      "SVM Accuracy with all the features: 0.7869\n"
     ]
    }
   ],
   "source": [
    "from sklearn.svm import SVC\n",
    "svm = SVC(random_state = 1)\n",
    "svm.fit(x_train, y_train)\n",
    "y_pred = svm.predict(x_test)\n",
    "\n",
    "acc=accuracy_score(y_test, y_pred) \n",
    "accuracies['SVM']=acc\n",
    "print('SVM Accuracy with all the features: {0:0.4f}'. format(acc))"
   ]
  },
  {
   "cell_type": "markdown",
   "metadata": {},
   "source": [
    "# Comparing Models"
   ]
  },
  {
   "cell_type": "code",
   "execution_count": 37,
   "metadata": {},
   "outputs": [
    {
     "data": {
      "image/png": "[encoded data removed]",
      "text/plain": [
       "<Figure size 936x360 with 1 Axes>"
      ]
     },
     "metadata": {},
     "output_type": "display_data"
    }
   ],
   "source": [
    "colors = [\"purple\", \"green\", \"orange\", \"magenta\",\"#CFC60E\"]\n",
    "\n",
    "sb.set_style(\"whitegrid\")\n",
    "plt.figure(figsize=(13,5))\n",
    "plt.yticks(np.arange(0,100,10))\n",
    "plt.ylabel(\"Accuracy %\")\n",
    "plt.xlabel(\"Algorithms\")\n",
    "sb.barplot(x=list(accuracies.keys()), y=list(accuracies.values()), palette=colors)\n",
    "plt.show()"
   ]
  },
  {
   "cell_type": "markdown",
   "metadata": {},
   "source": [
    "# Confusion Matrix"
   ]
  },
  {
   "cell_type": "code",
   "execution_count": 39,
   "metadata": {},
   "outputs": [],
   "source": [
    "# Predicted values\n",
    "y_head_dtc = dectree.predict(X_test)\n",
    "y_head_lr = logreg.predict(x_test)\n",
    "y_head_rf = rf.predict(x_test)\n",
    "y_head_svm = svm.predict(x_test)\n",
    "y_head_nb = nb.predict(x_test)"
   ]
  },
  {
   "cell_type": "code",
   "execution_count": 40,
   "metadata": {},
   "outputs": [],
   "source": [
    "from sklearn.metrics import confusion_matrix\n",
    "cm_dtc = confusion_matrix(y_test,y_head_dtc)\n",
    "cm_lr = confusion_matrix(y_test,y_head_lr)\n",
    "cm_rf = confusion_matrix(y_test,y_head_rf)\n",
    "cm_svm = confusion_matrix(y_test,y_head_svm)\n",
    "cm_nb = confusion_matrix(y_test,y_head_nb)"
   ]
  },
  {
   "cell_type": "code",
   "execution_count": 42,
   "metadata": {},
   "outputs": [
    {
     "data": {
      "image/png": "[encoded data removed]",
      "text/plain": [
       "<Figure size 1728x864 with 5 Axes>"
      ]
     },
     "metadata": {},
     "output_type": "display_data"
    }
   ],
   "source": [
    "plt.figure(figsize=(24,12))\n",
    "\n",
    "plt.suptitle(\"Confusion Matrixes\",fontsize=24)\n",
    "plt.subplots_adjust(wspace = 0.4, hspace= 0.4)\n",
    "\n",
    "\n",
    "plt.subplot(2,3,1)\n",
    "plt.title(\"Decision Tree Classifier Confusion Matrix\")\n",
    "sb.heatmap(cm_dtc,annot=True,cmap=\"Blues\",fmt=\"d\",cbar=False, annot_kws={\"size\": 24})\n",
    "\n",
    "plt.subplot(2,3,2)\n",
    "plt.title(\"Logistic Regression Confusion Matrix\")\n",
    "sb.heatmap(cm_lr,annot=True,cmap=\"Blues\",fmt=\"d\",cbar=False, annot_kws={\"size\": 24})\n",
    "\n",
    "plt.subplot(2,3,3)\n",
    "plt.title(\"Random Forest Confusion Matrix\")\n",
    "sb.heatmap(cm_rf,annot=True,cmap=\"Blues\",fmt=\"d\",cbar=False, annot_kws={\"size\": 24})\n",
    "\n",
    "plt.subplot(2,3,4)\n",
    "plt.title(\"Support Vector Machine Confusion Matrix\")\n",
    "sb.heatmap(cm_svm,annot=True,cmap=\"Blues\",fmt=\"d\",cbar=False, annot_kws={\"size\": 24})\n",
    "\n",
    "plt.subplot(2,3,5)\n",
    "plt.title(\"Naive Bayes Confusion Matrix\")\n",
    "sb.heatmap(cm_nb,annot=True,cmap=\"Blues\",fmt=\"d\",cbar=False, annot_kws={\"size\": 24})\n",
    "\n",
    "\n",
    "\n",
    "\n",
    "plt.show()"
   ]
  }
 ],
 "metadata": {
  "kernelspec": {
   "display_name": "Python 3",
   "language": "python",
   "name": "python3"
  },
  "language_info": {
   "codemirror_mode": {
    "name": "ipython",
    "version": 3
   },
   "file_extension": ".py",
   "mimetype": "text/x-python",
   "name": "python",
   "nbconvert_exporter": "python",
   "pygments_lexer": "ipython3",
   "version": "3.8.3"
  }
 },
 "nbformat": 4,
 "nbformat_minor": 4
}
